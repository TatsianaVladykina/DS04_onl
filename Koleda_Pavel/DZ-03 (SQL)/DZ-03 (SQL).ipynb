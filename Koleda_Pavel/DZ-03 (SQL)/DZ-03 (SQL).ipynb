{
 "cells": [
  {
   "cell_type": "markdown",
   "metadata": {},
   "source": [
    "# Построение модели с обработкой данных SQL запросами"
   ]
  },
  {
   "cell_type": "markdown",
   "metadata": {},
   "source": [
    "В данной задаче нам представлены данные в которых ключевое поле — это то, просрочит ли клиент микро-финансовой организации выплату более чем на 60 дней или нет. \n",
    "Нам нужно построить модель, которая по входным данным предсказывала бы с максимальной точностью ключе-вой параметр. \n",
    "Основной параметр это delinq60plus. Остальные парамет-ры интуитивно понятны из таблиц.\n",
    "# Цель\n",
    "\n",
    "Построить модель машинного обучения для предсказания вероятности того, что клиент уйдет в просрочку более 60 дней.\n",
    "\n",
    "# Задача\n",
    "осуществить корректную загрузку данных\n",
    "осуществить разведывательный анализ данных:\n",
    "- разбить выборку на обучающую и тестовую\n",
    "- проанализировать пропуски и решить, что с ними делать\n",
    "- проанализировать выбросы\n",
    "- создать/ удалить переменные\n",
    "- закодировать категориальные переменные\n",
    "- нормализовать числовые переменные (при необходимости)\n",
    "\n",
    "построить модель и оценить ее качество\n",
    "при необходимости вернуться к предыдущим шагам, чтобы улучшить качество модели\n",
    "\n",
    "\n",
    "# Высокая цель. Использовать (не везде, а где мы работаем с данными напрямую) SQL запросы. \n",
    "\n",
    "Ожидаемый результат:\n",
    "AUC на обучающей выборке: 0.865\n",
    "AUC на контрольной выборке: 0.854\n",
    "Рекомендую построить Confusion matrix что бы понять как ваша модель ошибаеться. \n",
    "\n",
    "ПС: В реальных задачах могут быть требования что бы мы например угадывали 99% плохих транзакций. Попробуйте поиграться с весами. ПСС - нейронные сети не дадут тут результат сильно лучше классических методов. \n"
   ]
  },
  {
   "cell_type": "markdown",
   "metadata": {},
   "source": [
    "## Подгрузим необходимые библиотеки и данные"
   ]
  },
  {
   "cell_type": "code",
   "execution_count": 1,
   "metadata": {
    "scrolled": false
   },
   "outputs": [],
   "source": [
    "import pandas as pd\n",
    "import numpy as np \n",
    "import matplotlib.pyplot as plt\n",
    "import seaborn as sns\n",
    "import re\n",
    "import sqlite3\n",
    "\n",
    "import catboost as cat\n",
    "from sklearn.ensemble import GradientBoostingClassifier\n",
    "\n",
    "from sklearn.model_selection import train_test_split\n",
    "\n",
    "from sklearn.metrics import confusion_matrix, precision_score, \\\n",
    "              recall_score, f1_score, precision_recall_curve, roc_curve, roc_auc_score, \\\n",
    "              auc, mean_squared_error, accuracy_score"
   ]
  },
  {
   "cell_type": "code",
   "execution_count": 4,
   "metadata": {
    "scrolled": true
   },
   "outputs": [
    {
     "data": {
      "text/html": [
       "<div>\n",
       "<style scoped>\n",
       "    .dataframe tbody tr th:only-of-type {\n",
       "        vertical-align: middle;\n",
       "    }\n",
       "\n",
       "    .dataframe tbody tr th {\n",
       "        vertical-align: top;\n",
       "    }\n",
       "\n",
       "    .dataframe thead th {\n",
       "        text-align: right;\n",
       "    }\n",
       "</style>\n",
       "<table border=\"1\" class=\"dataframe\">\n",
       "  <thead>\n",
       "    <tr style=\"text-align: right;\">\n",
       "      <th></th>\n",
       "      <th>date_start</th>\n",
       "      <th>date_end</th>\n",
       "      <th>gender</th>\n",
       "      <th>age</th>\n",
       "      <th>auto</th>\n",
       "      <th>housing</th>\n",
       "      <th>marstatus</th>\n",
       "      <th>regclient</th>\n",
       "      <th>jobtype</th>\n",
       "      <th>region</th>\n",
       "      <th>credits</th>\n",
       "      <th>children</th>\n",
       "      <th>delinq60plus</th>\n",
       "    </tr>\n",
       "    <tr>\n",
       "      <th>id</th>\n",
       "      <th></th>\n",
       "      <th></th>\n",
       "      <th></th>\n",
       "      <th></th>\n",
       "      <th></th>\n",
       "      <th></th>\n",
       "      <th></th>\n",
       "      <th></th>\n",
       "      <th></th>\n",
       "      <th></th>\n",
       "      <th></th>\n",
       "      <th></th>\n",
       "      <th></th>\n",
       "    </tr>\n",
       "  </thead>\n",
       "  <tbody>\n",
       "    <tr>\n",
       "      <th>1</th>\n",
       "      <td>03-Jan-2013</td>\n",
       "      <td>12-Jan-2013</td>\n",
       "      <td>Мужской</td>\n",
       "      <td>44</td>\n",
       "      <td>Нет</td>\n",
       "      <td>Собственное</td>\n",
       "      <td>Гражданский брак/женат/замужем</td>\n",
       "      <td>Нет</td>\n",
       "      <td>Официальное</td>\n",
       "      <td>Новосибирская область</td>\n",
       "      <td>Нет</td>\n",
       "      <td>Да</td>\n",
       "      <td>Нет</td>\n",
       "    </tr>\n",
       "    <tr>\n",
       "      <th>2</th>\n",
       "      <td>03-Jan-2013</td>\n",
       "      <td>17-Jan-2013</td>\n",
       "      <td>Мужской</td>\n",
       "      <td>21</td>\n",
       "      <td>Пропуск поля</td>\n",
       "      <td>Живут с родителями</td>\n",
       "      <td>Холост</td>\n",
       "      <td>Нет</td>\n",
       "      <td>Официальное</td>\n",
       "      <td>Кемеровская область юг</td>\n",
       "      <td>Да</td>\n",
       "      <td>Нет</td>\n",
       "      <td>Нет</td>\n",
       "    </tr>\n",
       "    <tr>\n",
       "      <th>3</th>\n",
       "      <td>03-Jan-2013</td>\n",
       "      <td>17-Jan-2013</td>\n",
       "      <td>Мужской</td>\n",
       "      <td>25</td>\n",
       "      <td>Пропуск поля</td>\n",
       "      <td>Собственное</td>\n",
       "      <td>Холост</td>\n",
       "      <td>Да</td>\n",
       "      <td>Официальное</td>\n",
       "      <td>Кемеровская область север</td>\n",
       "      <td>Пропуск поля</td>\n",
       "      <td>Нет</td>\n",
       "      <td>Нет</td>\n",
       "    </tr>\n",
       "    <tr>\n",
       "      <th>4</th>\n",
       "      <td>03-Jan-2013</td>\n",
       "      <td>17-Jan-2013</td>\n",
       "      <td>Женский</td>\n",
       "      <td>47</td>\n",
       "      <td>Пропуск поля</td>\n",
       "      <td>Собственное</td>\n",
       "      <td>Гражданский брак/женат/замужем</td>\n",
       "      <td>Да</td>\n",
       "      <td>Официальное</td>\n",
       "      <td>Кемеровская область север</td>\n",
       "      <td>Нет</td>\n",
       "      <td>Нет</td>\n",
       "      <td>Нет</td>\n",
       "    </tr>\n",
       "    <tr>\n",
       "      <th>5</th>\n",
       "      <td>03-Jan-2013</td>\n",
       "      <td>17-Jan-2013</td>\n",
       "      <td>Мужской</td>\n",
       "      <td>22</td>\n",
       "      <td>Нет</td>\n",
       "      <td>Арендуемое</td>\n",
       "      <td>Гражданский брак/женат/замужем</td>\n",
       "      <td>Нет</td>\n",
       "      <td>Официальное</td>\n",
       "      <td>Кемеровская область север</td>\n",
       "      <td>Да</td>\n",
       "      <td>Да</td>\n",
       "      <td>Нет</td>\n",
       "    </tr>\n",
       "  </tbody>\n",
       "</table>\n",
       "</div>"
      ],
      "text/plain": [
       "     date_start     date_end   gender  age          auto             housing  \\\n",
       "id                                                                             \n",
       "1   03-Jan-2013  12-Jan-2013  Мужской   44           Нет         Собственное   \n",
       "2   03-Jan-2013  17-Jan-2013  Мужской   21  Пропуск поля  Живут с родителями   \n",
       "3   03-Jan-2013  17-Jan-2013  Мужской   25  Пропуск поля         Собственное   \n",
       "4   03-Jan-2013  17-Jan-2013  Женский   47  Пропуск поля         Собственное   \n",
       "5   03-Jan-2013  17-Jan-2013  Мужской   22           Нет          Арендуемое   \n",
       "\n",
       "                         marstatus regclient      jobtype  \\\n",
       "id                                                          \n",
       "1   Гражданский брак/женат/замужем       Нет  Официальное   \n",
       "2                           Холост       Нет  Официальное   \n",
       "3                           Холост        Да  Официальное   \n",
       "4   Гражданский брак/женат/замужем        Да  Официальное   \n",
       "5   Гражданский брак/женат/замужем       Нет  Официальное   \n",
       "\n",
       "                       region       credits children delinq60plus  \n",
       "id                                                                 \n",
       "1       Новосибирская область           Нет       Да          Нет  \n",
       "2      Кемеровская область юг            Да      Нет          Нет  \n",
       "3   Кемеровская область север  Пропуск поля      Нет          Нет  \n",
       "4   Кемеровская область север           Нет      Нет          Нет  \n",
       "5   Кемеровская область север            Да       Да          Нет  "
      ]
     },
     "metadata": {},
     "output_type": "display_data"
    }
   ],
   "source": [
    "df = pd.read_csv(\"MFOcredit.csv\", encoding='cp1251', sep=';', index_col='id')\n",
    "display(df.head(5))"
   ]
  },
  {
   "cell_type": "markdown",
   "metadata": {},
   "source": [
    "### Преобразуем даты в формат datetime"
   ]
  },
  {
   "cell_type": "code",
   "execution_count": 5,
   "metadata": {},
   "outputs": [],
   "source": [
    "df['date_start'] = pd.to_datetime(df['date_start'],format='%d-%b-%Y')\n",
    "df['date_end'] = pd.to_datetime(df['date_end'],format='%d-%b-%Y')"
   ]
  },
  {
   "cell_type": "code",
   "execution_count": 6,
   "metadata": {
    "scrolled": false
   },
   "outputs": [
    {
     "name": "stdout",
     "output_type": "stream",
     "text": [
      "<class 'pandas.core.frame.DataFrame'>\n",
      "Int64Index: 35212 entries, 1 to 35212\n",
      "Data columns (total 13 columns):\n",
      " #   Column        Non-Null Count  Dtype         \n",
      "---  ------        --------------  -----         \n",
      " 0   date_start    35212 non-null  datetime64[ns]\n",
      " 1   date_end      35212 non-null  datetime64[ns]\n",
      " 2   gender        35212 non-null  object        \n",
      " 3   age           35212 non-null  int64         \n",
      " 4   auto          35212 non-null  object        \n",
      " 5   housing       35212 non-null  object        \n",
      " 6   marstatus     35212 non-null  object        \n",
      " 7   regclient     35212 non-null  object        \n",
      " 8   jobtype       35212 non-null  object        \n",
      " 9   region        35212 non-null  object        \n",
      " 10  credits       35212 non-null  object        \n",
      " 11  children      35212 non-null  object        \n",
      " 12  delinq60plus  35212 non-null  object        \n",
      "dtypes: datetime64[ns](2), int64(1), object(10)\n",
      "memory usage: 3.8+ MB\n"
     ]
    }
   ],
   "source": [
    "df.info()"
   ]
  },
  {
   "cell_type": "code",
   "execution_count": 7,
   "metadata": {
    "scrolled": true
   },
   "outputs": [
    {
     "data": {
      "text/plain": [
       "count    35212.000000\n",
       "mean        37.243525\n",
       "std         13.183961\n",
       "min         18.000000\n",
       "25%         26.000000\n",
       "50%         34.000000\n",
       "75%         48.000000\n",
       "max         75.000000\n",
       "Name: age, dtype: float64"
      ]
     },
     "execution_count": 7,
     "metadata": {},
     "output_type": "execute_result"
    }
   ],
   "source": [
    "df['age'].describe()"
   ]
  },
  {
   "cell_type": "markdown",
   "metadata": {},
   "source": [
    "Из числовых значений только возраст, в нем выбросов нет"
   ]
  },
  {
   "cell_type": "markdown",
   "metadata": {},
   "source": [
    "### Посмотрим на остальные значения"
   ]
  },
  {
   "cell_type": "code",
   "execution_count": 8,
   "metadata": {},
   "outputs": [
    {
     "data": {
      "text/plain": [
       "Женский    18275\n",
       "Мужской    16937\n",
       "Name: gender, dtype: int64"
      ]
     },
     "execution_count": 8,
     "metadata": {},
     "output_type": "execute_result"
    }
   ],
   "source": [
    "df['gender'].value_counts()"
   ]
  },
  {
   "cell_type": "code",
   "execution_count": 9,
   "metadata": {},
   "outputs": [
    {
     "data": {
      "text/plain": [
       "Нет             17465\n",
       "Пропуск поля    14077\n",
       "Да               3670\n",
       "Name: auto, dtype: int64"
      ]
     },
     "execution_count": 9,
     "metadata": {},
     "output_type": "execute_result"
    }
   ],
   "source": [
    "df['auto'].value_counts()"
   ]
  },
  {
   "cell_type": "code",
   "execution_count": 10,
   "metadata": {},
   "outputs": [
    {
     "data": {
      "text/plain": [
       "Собственное              18099\n",
       "Пропуск поля              7603\n",
       "Живут с родителями        3177\n",
       "Долевая собственность     2955\n",
       "Арендуемое                2020\n",
       "Муниципальное             1358\n",
       "Name: housing, dtype: int64"
      ]
     },
     "execution_count": 10,
     "metadata": {},
     "output_type": "execute_result"
    }
   ],
   "source": [
    "df['housing'].value_counts()"
   ]
  },
  {
   "cell_type": "code",
   "execution_count": 11,
   "metadata": {},
   "outputs": [
    {
     "data": {
      "text/plain": [
       "Гражданский брак/женат/замужем    14099\n",
       "Холост                             8833\n",
       "Пропуск поля                       7564\n",
       "Разведен                           2871\n",
       "Вдова/вдовец                       1845\n",
       "Name: marstatus, dtype: int64"
      ]
     },
     "execution_count": 11,
     "metadata": {},
     "output_type": "execute_result"
    }
   ],
   "source": [
    "df['marstatus'].value_counts()"
   ]
  },
  {
   "cell_type": "code",
   "execution_count": 12,
   "metadata": {
    "scrolled": true
   },
   "outputs": [
    {
     "data": {
      "text/plain": [
       "Да     19733\n",
       "Нет    15479\n",
       "Name: regclient, dtype: int64"
      ]
     },
     "execution_count": 12,
     "metadata": {},
     "output_type": "execute_result"
    }
   ],
   "source": [
    "df['regclient'].value_counts()"
   ]
  },
  {
   "cell_type": "code",
   "execution_count": 13,
   "metadata": {},
   "outputs": [
    {
     "data": {
      "text/plain": [
       "Официальное      19588\n",
       "Пропуск поля     14457\n",
       "Неофициальное     1167\n",
       "Name: jobtype, dtype: int64"
      ]
     },
     "execution_count": 13,
     "metadata": {},
     "output_type": "execute_result"
    }
   ],
   "source": [
    "df['jobtype'].value_counts()"
   ]
  },
  {
   "cell_type": "code",
   "execution_count": 14,
   "metadata": {},
   "outputs": [
    {
     "data": {
      "text/plain": [
       "Кемеровская область север    12447\n",
       "Кемеровская область юг       11022\n",
       "Алтайский край                5172\n",
       "Новосибирская область         4327\n",
       "Красноярский край             2244\n",
       "Name: region, dtype: int64"
      ]
     },
     "execution_count": 14,
     "metadata": {},
     "output_type": "execute_result"
    }
   ],
   "source": [
    "df['region'].value_counts()"
   ]
  },
  {
   "cell_type": "code",
   "execution_count": 15,
   "metadata": {},
   "outputs": [
    {
     "data": {
      "text/plain": [
       "Нет             18126\n",
       "Да              16140\n",
       "Пропуск поля      946\n",
       "Name: credits, dtype: int64"
      ]
     },
     "execution_count": 15,
     "metadata": {},
     "output_type": "execute_result"
    }
   ],
   "source": [
    "df['credits'].value_counts()"
   ]
  },
  {
   "cell_type": "code",
   "execution_count": 16,
   "metadata": {},
   "outputs": [
    {
     "data": {
      "text/plain": [
       "Нет             21141\n",
       "Да              13326\n",
       "Пропуск поля      745\n",
       "Name: children, dtype: int64"
      ]
     },
     "execution_count": 16,
     "metadata": {},
     "output_type": "execute_result"
    }
   ],
   "source": [
    "df['children'].value_counts()"
   ]
  },
  {
   "cell_type": "code",
   "execution_count": 17,
   "metadata": {},
   "outputs": [
    {
     "data": {
      "text/plain": [
       "Нет    21705\n",
       "Да     13507\n",
       "Name: delinq60plus, dtype: int64"
      ]
     },
     "execution_count": 17,
     "metadata": {},
     "output_type": "execute_result"
    }
   ],
   "source": [
    "df['delinq60plus'].value_counts()"
   ]
  },
  {
   "cell_type": "markdown",
   "metadata": {},
   "source": [
    "Можно заметить что очень много пропусков полей, однако в целевой переменной нет пропущенных полей. Видимо при заполнении таблицы, если информация отсутствовала - поле оставляли пустым. Думаю лучше не выбрасывать пропущенные значения."
   ]
  },
  {
   "cell_type": "code",
   "execution_count": null,
   "metadata": {},
   "outputs": [],
   "source": []
  },
  {
   "cell_type": "markdown",
   "metadata": {},
   "source": [
    "### Создадим базу данных и достанем оттуда данные параллельно их преобразовав"
   ]
  },
  {
   "cell_type": "code",
   "execution_count": 18,
   "metadata": {},
   "outputs": [],
   "source": [
    "con = sqlite3.connect('HW_db')"
   ]
  },
  {
   "cell_type": "code",
   "execution_count": 19,
   "metadata": {
    "scrolled": true
   },
   "outputs": [
    {
     "data": {
      "text/plain": [
       "35212"
      ]
     },
     "execution_count": 19,
     "metadata": {},
     "output_type": "execute_result"
    }
   ],
   "source": [
    "df.to_sql('MFOcredit',con,index=False,if_exists='replace')"
   ]
  },
  {
   "cell_type": "code",
   "execution_count": 20,
   "metadata": {},
   "outputs": [],
   "source": [
    "sql = '''SELECT\n",
    "CAST(julianday(t.date_end) - julianday(t.date_start) AS INTEGER) AS using_days,\n",
    "\n",
    "CASE WHEN gender = 'Мужской' THEN 1 ELSE 0 END AS gender,\n",
    "\n",
    "t.age,\n",
    "\n",
    "CASE WHEN auto = 'Да' THEN 1 ELSE 0 END AS a_y,\n",
    "       CASE WHEN auto = 'Нет' THEN 1 ELSE 0 END AS a_n,\n",
    "       CASE WHEN auto = 'Пропуск поля' THEN 1 ELSE 0 END AS a_miss,\n",
    "\n",
    "CASE WHEN housing = 'Собственное' THEN 1 ELSE 0 END AS h_oun,\n",
    "       CASE WHEN housing = 'Живут с родителями' THEN 1 ELSE 0 END AS h_par,\n",
    "       CASE WHEN housing = 'Долевая собственность' THEN 1 ELSE 0 END AS h_ap,\n",
    "       CASE WHEN housing = 'Арендуемое' THEN 1 ELSE 0 END AS h_ren,\n",
    "       CASE WHEN housing = 'Муниципальное' THEN 1 ELSE 0 END AS h_mun,       \n",
    "       CASE WHEN housing = 'Пропуск поля' THEN 1 ELSE 0 END AS h_miss,\n",
    "\n",
    "CASE WHEN marstatus = 'Гражданский брак/женат/замужем' THEN 1 ELSE 0 END AS m_m,\n",
    "       CASE WHEN marstatus = 'Холост' THEN 1 ELSE 0 END AS m_s,\n",
    "       CASE WHEN marstatus = 'Разведен' THEN 1 ELSE 0 END AS m_d,\n",
    "       CASE WHEN marstatus = 'Вдова/вдовец' THEN 1 ELSE 0 END AS m_ren,\n",
    "       CASE WHEN marstatus = 'Пропуск поля' THEN 1 ELSE 0 END AS m_miss,\n",
    "       \n",
    "CASE WHEN regclient = 'Да' THEN 1 ELSE 0 END AS regclient,\n",
    "\n",
    "CASE WHEN jobtype = 'Официальное' THEN 1 ELSE 0 END AS j_of,\n",
    "       CASE WHEN jobtype = 'Неофициальное' THEN 1 ELSE 0 END AS j_un,\n",
    "       CASE WHEN jobtype = 'Пропуск поля' THEN 1 ELSE 0 END AS j_miss,\n",
    "       \n",
    "CASE WHEN region = 'Кемеровская область север' THEN 1 ELSE 0 END AS r_kn,\n",
    "       CASE WHEN region = 'Кемеровская область юг' THEN 1 ELSE 0 END AS r_ks,\n",
    "       CASE WHEN region = 'Алтайский край' THEN 1 ELSE 0 END AS r_al,\n",
    "       CASE WHEN region = 'Новосибирская область' THEN 1 ELSE 0 END AS r_no,\n",
    "       CASE WHEN region = 'Красноярский край' THEN 1 ELSE 0 END AS r_kr,\n",
    "\n",
    "CASE WHEN credits = 'Да' THEN 1 ELSE 0 END AS c_y,\n",
    "       CASE WHEN credits = 'Нет' THEN 1 ELSE 0 END AS c_n,\n",
    "       CASE WHEN credits = 'Пропуск поля' THEN 1 ELSE 0 END AS c_miss,\n",
    "       \n",
    "CASE WHEN children = 'Да' THEN 1 ELSE 0 END AS ch_y,\n",
    "       CASE WHEN children = 'Нет' THEN 1 ELSE 0 END AS ch_n,\n",
    "       CASE WHEN children = 'Пропуск поля' THEN 1 ELSE 0 END AS ch_miss,\n",
    "\n",
    "CASE WHEN delinq60plus = 'Да' THEN 1 ELSE 0 END AS delinq60plus\n",
    "\n",
    "FROM MFOcredit AS t'''"
   ]
  },
  {
   "cell_type": "code",
   "execution_count": 21,
   "metadata": {},
   "outputs": [],
   "source": [
    "def select(sql, con):\n",
    "    return pd.read_sql(sql, con)"
   ]
  },
  {
   "cell_type": "code",
   "execution_count": 22,
   "metadata": {},
   "outputs": [],
   "source": [
    "f = select(sql, con)"
   ]
  },
  {
   "cell_type": "code",
   "execution_count": 23,
   "metadata": {},
   "outputs": [
    {
     "data": {
      "text/html": [
       "<div>\n",
       "<style scoped>\n",
       "    .dataframe tbody tr th:only-of-type {\n",
       "        vertical-align: middle;\n",
       "    }\n",
       "\n",
       "    .dataframe tbody tr th {\n",
       "        vertical-align: top;\n",
       "    }\n",
       "\n",
       "    .dataframe thead th {\n",
       "        text-align: right;\n",
       "    }\n",
       "</style>\n",
       "<table border=\"1\" class=\"dataframe\">\n",
       "  <thead>\n",
       "    <tr style=\"text-align: right;\">\n",
       "      <th></th>\n",
       "      <th>using_days</th>\n",
       "      <th>gender</th>\n",
       "      <th>age</th>\n",
       "      <th>a_y</th>\n",
       "      <th>a_n</th>\n",
       "      <th>a_miss</th>\n",
       "      <th>h_oun</th>\n",
       "      <th>h_par</th>\n",
       "      <th>h_ap</th>\n",
       "      <th>h_ren</th>\n",
       "      <th>...</th>\n",
       "      <th>r_al</th>\n",
       "      <th>r_no</th>\n",
       "      <th>r_kr</th>\n",
       "      <th>c_y</th>\n",
       "      <th>c_n</th>\n",
       "      <th>c_miss</th>\n",
       "      <th>ch_y</th>\n",
       "      <th>ch_n</th>\n",
       "      <th>ch_miss</th>\n",
       "      <th>delinq60plus</th>\n",
       "    </tr>\n",
       "  </thead>\n",
       "  <tbody>\n",
       "    <tr>\n",
       "      <th>0</th>\n",
       "      <td>9</td>\n",
       "      <td>1</td>\n",
       "      <td>44</td>\n",
       "      <td>0</td>\n",
       "      <td>1</td>\n",
       "      <td>0</td>\n",
       "      <td>1</td>\n",
       "      <td>0</td>\n",
       "      <td>0</td>\n",
       "      <td>0</td>\n",
       "      <td>...</td>\n",
       "      <td>0</td>\n",
       "      <td>1</td>\n",
       "      <td>0</td>\n",
       "      <td>0</td>\n",
       "      <td>1</td>\n",
       "      <td>0</td>\n",
       "      <td>1</td>\n",
       "      <td>0</td>\n",
       "      <td>0</td>\n",
       "      <td>0</td>\n",
       "    </tr>\n",
       "    <tr>\n",
       "      <th>1</th>\n",
       "      <td>14</td>\n",
       "      <td>1</td>\n",
       "      <td>21</td>\n",
       "      <td>0</td>\n",
       "      <td>0</td>\n",
       "      <td>1</td>\n",
       "      <td>0</td>\n",
       "      <td>1</td>\n",
       "      <td>0</td>\n",
       "      <td>0</td>\n",
       "      <td>...</td>\n",
       "      <td>0</td>\n",
       "      <td>0</td>\n",
       "      <td>0</td>\n",
       "      <td>1</td>\n",
       "      <td>0</td>\n",
       "      <td>0</td>\n",
       "      <td>0</td>\n",
       "      <td>1</td>\n",
       "      <td>0</td>\n",
       "      <td>0</td>\n",
       "    </tr>\n",
       "    <tr>\n",
       "      <th>2</th>\n",
       "      <td>14</td>\n",
       "      <td>1</td>\n",
       "      <td>25</td>\n",
       "      <td>0</td>\n",
       "      <td>0</td>\n",
       "      <td>1</td>\n",
       "      <td>1</td>\n",
       "      <td>0</td>\n",
       "      <td>0</td>\n",
       "      <td>0</td>\n",
       "      <td>...</td>\n",
       "      <td>0</td>\n",
       "      <td>0</td>\n",
       "      <td>0</td>\n",
       "      <td>0</td>\n",
       "      <td>0</td>\n",
       "      <td>1</td>\n",
       "      <td>0</td>\n",
       "      <td>1</td>\n",
       "      <td>0</td>\n",
       "      <td>0</td>\n",
       "    </tr>\n",
       "    <tr>\n",
       "      <th>3</th>\n",
       "      <td>14</td>\n",
       "      <td>0</td>\n",
       "      <td>47</td>\n",
       "      <td>0</td>\n",
       "      <td>0</td>\n",
       "      <td>1</td>\n",
       "      <td>1</td>\n",
       "      <td>0</td>\n",
       "      <td>0</td>\n",
       "      <td>0</td>\n",
       "      <td>...</td>\n",
       "      <td>0</td>\n",
       "      <td>0</td>\n",
       "      <td>0</td>\n",
       "      <td>0</td>\n",
       "      <td>1</td>\n",
       "      <td>0</td>\n",
       "      <td>0</td>\n",
       "      <td>1</td>\n",
       "      <td>0</td>\n",
       "      <td>0</td>\n",
       "    </tr>\n",
       "    <tr>\n",
       "      <th>4</th>\n",
       "      <td>14</td>\n",
       "      <td>1</td>\n",
       "      <td>22</td>\n",
       "      <td>0</td>\n",
       "      <td>1</td>\n",
       "      <td>0</td>\n",
       "      <td>0</td>\n",
       "      <td>0</td>\n",
       "      <td>0</td>\n",
       "      <td>1</td>\n",
       "      <td>...</td>\n",
       "      <td>0</td>\n",
       "      <td>0</td>\n",
       "      <td>0</td>\n",
       "      <td>1</td>\n",
       "      <td>0</td>\n",
       "      <td>0</td>\n",
       "      <td>1</td>\n",
       "      <td>0</td>\n",
       "      <td>0</td>\n",
       "      <td>0</td>\n",
       "    </tr>\n",
       "    <tr>\n",
       "      <th>...</th>\n",
       "      <td>...</td>\n",
       "      <td>...</td>\n",
       "      <td>...</td>\n",
       "      <td>...</td>\n",
       "      <td>...</td>\n",
       "      <td>...</td>\n",
       "      <td>...</td>\n",
       "      <td>...</td>\n",
       "      <td>...</td>\n",
       "      <td>...</td>\n",
       "      <td>...</td>\n",
       "      <td>...</td>\n",
       "      <td>...</td>\n",
       "      <td>...</td>\n",
       "      <td>...</td>\n",
       "      <td>...</td>\n",
       "      <td>...</td>\n",
       "      <td>...</td>\n",
       "      <td>...</td>\n",
       "      <td>...</td>\n",
       "      <td>...</td>\n",
       "    </tr>\n",
       "    <tr>\n",
       "      <th>35207</th>\n",
       "      <td>14</td>\n",
       "      <td>1</td>\n",
       "      <td>30</td>\n",
       "      <td>1</td>\n",
       "      <td>0</td>\n",
       "      <td>0</td>\n",
       "      <td>0</td>\n",
       "      <td>0</td>\n",
       "      <td>1</td>\n",
       "      <td>0</td>\n",
       "      <td>...</td>\n",
       "      <td>1</td>\n",
       "      <td>0</td>\n",
       "      <td>0</td>\n",
       "      <td>1</td>\n",
       "      <td>0</td>\n",
       "      <td>0</td>\n",
       "      <td>1</td>\n",
       "      <td>0</td>\n",
       "      <td>0</td>\n",
       "      <td>0</td>\n",
       "    </tr>\n",
       "    <tr>\n",
       "      <th>35208</th>\n",
       "      <td>14</td>\n",
       "      <td>0</td>\n",
       "      <td>57</td>\n",
       "      <td>0</td>\n",
       "      <td>1</td>\n",
       "      <td>0</td>\n",
       "      <td>1</td>\n",
       "      <td>0</td>\n",
       "      <td>0</td>\n",
       "      <td>0</td>\n",
       "      <td>...</td>\n",
       "      <td>1</td>\n",
       "      <td>0</td>\n",
       "      <td>0</td>\n",
       "      <td>1</td>\n",
       "      <td>0</td>\n",
       "      <td>0</td>\n",
       "      <td>0</td>\n",
       "      <td>1</td>\n",
       "      <td>0</td>\n",
       "      <td>0</td>\n",
       "    </tr>\n",
       "    <tr>\n",
       "      <th>35209</th>\n",
       "      <td>14</td>\n",
       "      <td>0</td>\n",
       "      <td>38</td>\n",
       "      <td>0</td>\n",
       "      <td>0</td>\n",
       "      <td>1</td>\n",
       "      <td>0</td>\n",
       "      <td>0</td>\n",
       "      <td>0</td>\n",
       "      <td>0</td>\n",
       "      <td>...</td>\n",
       "      <td>0</td>\n",
       "      <td>1</td>\n",
       "      <td>0</td>\n",
       "      <td>0</td>\n",
       "      <td>1</td>\n",
       "      <td>0</td>\n",
       "      <td>1</td>\n",
       "      <td>0</td>\n",
       "      <td>0</td>\n",
       "      <td>0</td>\n",
       "    </tr>\n",
       "    <tr>\n",
       "      <th>35210</th>\n",
       "      <td>14</td>\n",
       "      <td>0</td>\n",
       "      <td>19</td>\n",
       "      <td>0</td>\n",
       "      <td>0</td>\n",
       "      <td>1</td>\n",
       "      <td>0</td>\n",
       "      <td>0</td>\n",
       "      <td>0</td>\n",
       "      <td>0</td>\n",
       "      <td>...</td>\n",
       "      <td>0</td>\n",
       "      <td>0</td>\n",
       "      <td>0</td>\n",
       "      <td>0</td>\n",
       "      <td>1</td>\n",
       "      <td>0</td>\n",
       "      <td>0</td>\n",
       "      <td>1</td>\n",
       "      <td>0</td>\n",
       "      <td>0</td>\n",
       "    </tr>\n",
       "    <tr>\n",
       "      <th>35211</th>\n",
       "      <td>14</td>\n",
       "      <td>1</td>\n",
       "      <td>25</td>\n",
       "      <td>0</td>\n",
       "      <td>0</td>\n",
       "      <td>1</td>\n",
       "      <td>0</td>\n",
       "      <td>0</td>\n",
       "      <td>0</td>\n",
       "      <td>0</td>\n",
       "      <td>...</td>\n",
       "      <td>0</td>\n",
       "      <td>0</td>\n",
       "      <td>0</td>\n",
       "      <td>0</td>\n",
       "      <td>1</td>\n",
       "      <td>0</td>\n",
       "      <td>0</td>\n",
       "      <td>1</td>\n",
       "      <td>0</td>\n",
       "      <td>0</td>\n",
       "    </tr>\n",
       "  </tbody>\n",
       "</table>\n",
       "<p>35212 rows × 33 columns</p>\n",
       "</div>"
      ],
      "text/plain": [
       "       using_days  gender  age  a_y  a_n  a_miss  h_oun  h_par  h_ap  h_ren  \\\n",
       "0               9       1   44    0    1       0      1      0     0      0   \n",
       "1              14       1   21    0    0       1      0      1     0      0   \n",
       "2              14       1   25    0    0       1      1      0     0      0   \n",
       "3              14       0   47    0    0       1      1      0     0      0   \n",
       "4              14       1   22    0    1       0      0      0     0      1   \n",
       "...           ...     ...  ...  ...  ...     ...    ...    ...   ...    ...   \n",
       "35207          14       1   30    1    0       0      0      0     1      0   \n",
       "35208          14       0   57    0    1       0      1      0     0      0   \n",
       "35209          14       0   38    0    0       1      0      0     0      0   \n",
       "35210          14       0   19    0    0       1      0      0     0      0   \n",
       "35211          14       1   25    0    0       1      0      0     0      0   \n",
       "\n",
       "       ...  r_al  r_no  r_kr  c_y  c_n  c_miss  ch_y  ch_n  ch_miss  \\\n",
       "0      ...     0     1     0    0    1       0     1     0        0   \n",
       "1      ...     0     0     0    1    0       0     0     1        0   \n",
       "2      ...     0     0     0    0    0       1     0     1        0   \n",
       "3      ...     0     0     0    0    1       0     0     1        0   \n",
       "4      ...     0     0     0    1    0       0     1     0        0   \n",
       "...    ...   ...   ...   ...  ...  ...     ...   ...   ...      ...   \n",
       "35207  ...     1     0     0    1    0       0     1     0        0   \n",
       "35208  ...     1     0     0    1    0       0     0     1        0   \n",
       "35209  ...     0     1     0    0    1       0     1     0        0   \n",
       "35210  ...     0     0     0    0    1       0     0     1        0   \n",
       "35211  ...     0     0     0    0    1       0     0     1        0   \n",
       "\n",
       "       delinq60plus  \n",
       "0                 0  \n",
       "1                 0  \n",
       "2                 0  \n",
       "3                 0  \n",
       "4                 0  \n",
       "...             ...  \n",
       "35207             0  \n",
       "35208             0  \n",
       "35209             0  \n",
       "35210             0  \n",
       "35211             0  \n",
       "\n",
       "[35212 rows x 33 columns]"
      ]
     },
     "execution_count": 23,
     "metadata": {},
     "output_type": "execute_result"
    }
   ],
   "source": [
    "f"
   ]
  },
  {
   "cell_type": "code",
   "execution_count": null,
   "metadata": {},
   "outputs": [],
   "source": []
  },
  {
   "cell_type": "code",
   "execution_count": null,
   "metadata": {},
   "outputs": [],
   "source": []
  },
  {
   "cell_type": "code",
   "execution_count": 24,
   "metadata": {},
   "outputs": [
    {
     "data": {
      "text/plain": [
       "<AxesSubplot:>"
      ]
     },
     "execution_count": 24,
     "metadata": {},
     "output_type": "execute_result"
    },
    {
     "data": {
      "image/png": "[encoded data removed]",
      "text/plain": [
       "<Figure size 640x480 with 2 Axes>"
      ]
     },
     "metadata": {},
     "output_type": "display_data"
    }
   ],
   "source": [
    "sns.heatmap(f.corr())"
   ]
  },
  {
   "cell_type": "code",
   "execution_count": null,
   "metadata": {},
   "outputs": [],
   "source": []
  },
  {
   "cell_type": "code",
   "execution_count": 25,
   "metadata": {},
   "outputs": [],
   "source": [
    "X = f.drop([\"delinq60plus\"], axis=1)\n",
    "y = f[\"delinq60plus\"]"
   ]
  },
  {
   "cell_type": "code",
   "execution_count": null,
   "metadata": {},
   "outputs": [],
   "source": []
  },
  {
   "cell_type": "code",
   "execution_count": 26,
   "metadata": {},
   "outputs": [],
   "source": [
    "X_train, X_test, y_train, y_test = train_test_split(X, y, random_state=42)"
   ]
  },
  {
   "cell_type": "code",
   "execution_count": null,
   "metadata": {},
   "outputs": [],
   "source": []
  },
  {
   "cell_type": "markdown",
   "metadata": {},
   "source": [
    "## GradientBoostingClassifier "
   ]
  },
  {
   "cell_type": "code",
   "execution_count": 27,
   "metadata": {},
   "outputs": [
    {
     "data": {
      "text/plain": [
       "GradientBoostingClassifier(max_depth=4, n_estimators=200, random_state=42)"
      ]
     },
     "execution_count": 27,
     "metadata": {},
     "output_type": "execute_result"
    }
   ],
   "source": [
    "gbc = GradientBoostingClassifier(n_estimators = 200,\n",
    "                                max_depth = 4,\n",
    "                                random_state = 42)\n",
    "gbc.fit(X_train, y_train)"
   ]
  },
  {
   "cell_type": "code",
   "execution_count": 28,
   "metadata": {},
   "outputs": [],
   "source": [
    "y_pred_gbc = gbc.predict(X_test)"
   ]
  },
  {
   "cell_type": "code",
   "execution_count": 29,
   "metadata": {},
   "outputs": [
    {
     "data": {
      "text/plain": [
       "(0.6542274054501075,\n",
       " 0.6671589230943996,\n",
       " 0.46139705882352944,\n",
       " 0.6104936803022887)"
      ]
     },
     "execution_count": 29,
     "metadata": {},
     "output_type": "execute_result"
    }
   ],
   "source": [
    "(precision_score(y_test, y_pred_gbc, average='weighted'), \n",
    "recall_score(y_test, y_pred_gbc, average='weighted'), \n",
    "f1_score(y_test, y_pred_gbc), \n",
    "roc_auc_score(y_test, y_pred_gbc))"
   ]
  },
  {
   "cell_type": "code",
   "execution_count": 30,
   "metadata": {},
   "outputs": [
    {
     "data": {
      "text/plain": [
       "array([[4618,  847],\n",
       "       [2083, 1255]], dtype=int64)"
      ]
     },
     "execution_count": 30,
     "metadata": {},
     "output_type": "execute_result"
    }
   ],
   "source": [
    "confusion_matrix(y_test, y_pred_gbc)"
   ]
  },
  {
   "cell_type": "code",
   "execution_count": 31,
   "metadata": {},
   "outputs": [
    {
     "data": {
      "text/plain": [
       "Text(0, 0.5, 'Точность')"
      ]
     },
     "execution_count": 31,
     "metadata": {},
     "output_type": "execute_result"
    },
    {
     "data": {
      "image/png": "[encoded data removed]",
      "text/plain": [
       "<Figure size 640x480 with 1 Axes>"
      ]
     },
     "metadata": {},
     "output_type": "display_data"
    }
   ],
   "source": [
    "pre, rec, tr = precision_recall_curve(y_test, y_pred_gbc)\n",
    "plt.plot(pre, rec, linewidth = 2)\n",
    "plt.plot([0,1], [1,0], 'g--')\n",
    "plt.axis([0,1,0,1])\n",
    "plt.xlabel('Полнота')\n",
    "plt.ylabel('Точность')"
   ]
  },
  {
   "cell_type": "code",
   "execution_count": null,
   "metadata": {},
   "outputs": [],
   "source": []
  },
  {
   "cell_type": "markdown",
   "metadata": {},
   "source": [
    "## CatBoostClassifier"
   ]
  },
  {
   "cell_type": "code",
   "execution_count": 32,
   "metadata": {},
   "outputs": [],
   "source": [
    "cb = cat.CatBoostClassifier()"
   ]
  },
  {
   "cell_type": "code",
   "execution_count": 33,
   "metadata": {},
   "outputs": [
    {
     "data": {
      "text/plain": [
       "<catboost.core.CatBoostClassifier at 0x22dd6b7de50>"
      ]
     },
     "execution_count": 33,
     "metadata": {},
     "output_type": "execute_result"
    }
   ],
   "source": [
    "cb.fit(X_train, y_train, verbose=False)"
   ]
  },
  {
   "cell_type": "code",
   "execution_count": 34,
   "metadata": {},
   "outputs": [],
   "source": [
    "y_pred_cb = cb.predict(X_test)"
   ]
  },
  {
   "cell_type": "code",
   "execution_count": 35,
   "metadata": {
    "scrolled": false
   },
   "outputs": [
    {
     "data": {
      "text/plain": [
       "(0.6556044074949056,\n",
       " 0.6682948994660911,\n",
       " 0.46831755280407866,\n",
       " 0.6132158619287069)"
      ]
     },
     "execution_count": 35,
     "metadata": {},
     "output_type": "execute_result"
    }
   ],
   "source": [
    "(precision_score(y_test, y_pred_cb, average='weighted'), \n",
    "recall_score(y_test, y_pred_cb, average='weighted'), \n",
    "f1_score(y_test, y_pred_cb), \n",
    "roc_auc_score(y_test, y_pred_cb))"
   ]
  },
  {
   "cell_type": "code",
   "execution_count": 36,
   "metadata": {},
   "outputs": [
    {
     "data": {
      "text/plain": [
       "Text(0, 0.5, 'Точность')"
      ]
     },
     "execution_count": 36,
     "metadata": {},
     "output_type": "execute_result"
    },
    {
     "data": {
      "image/png": "[encoded data removed]",
      "text/plain": [
       "<Figure size 640x480 with 1 Axes>"
      ]
     },
     "metadata": {},
     "output_type": "display_data"
    }
   ],
   "source": [
    "pre, rec, tr = precision_recall_curve(y_test, y_pred_cb)\n",
    "plt.plot(pre, rec, linewidth = 2)\n",
    "plt.plot([0,1], [1,0], 'g--')\n",
    "plt.axis([0,1,0,1])\n",
    "plt.xlabel('Полнота')\n",
    "plt.ylabel('Точность')"
   ]
  },
  {
   "cell_type": "code",
   "execution_count": null,
   "metadata": {},
   "outputs": [],
   "source": []
  },
  {
   "cell_type": "markdown",
   "metadata": {},
   "source": [
    "## LogisticRegression"
   ]
  },
  {
   "cell_type": "code",
   "execution_count": 37,
   "metadata": {},
   "outputs": [],
   "source": [
    "from sklearn.linear_model import LogisticRegression"
   ]
  },
  {
   "cell_type": "code",
   "execution_count": 38,
   "metadata": {},
   "outputs": [],
   "source": [
    "model = LogisticRegression()"
   ]
  },
  {
   "cell_type": "code",
   "execution_count": 39,
   "metadata": {},
   "outputs": [
    {
     "name": "stderr",
     "output_type": "stream",
     "text": [
      "D:\\anaconda3\\lib\\site-packages\\sklearn\\linear_model\\_logistic.py:814: ConvergenceWarning: lbfgs failed to converge (status=1):\n",
      "STOP: TOTAL NO. of ITERATIONS REACHED LIMIT.\n",
      "\n",
      "Increase the number of iterations (max_iter) or scale the data as shown in:\n",
      "    https://scikit-learn.org/stable/modules/preprocessing.html\n",
      "Please also refer to the documentation for alternative solver options:\n",
      "    https://scikit-learn.org/stable/modules/linear_model.html#logistic-regression\n",
      "  n_iter_i = _check_optimize_result(\n"
     ]
    },
    {
     "data": {
      "text/plain": [
       "LogisticRegression()"
      ]
     },
     "execution_count": 39,
     "metadata": {},
     "output_type": "execute_result"
    }
   ],
   "source": [
    "model.fit(X_train, y_train)"
   ]
  },
  {
   "cell_type": "code",
   "execution_count": 40,
   "metadata": {},
   "outputs": [],
   "source": [
    "y_pred_model = model.predict(X_test)"
   ]
  },
  {
   "cell_type": "code",
   "execution_count": 41,
   "metadata": {
    "scrolled": true
   },
   "outputs": [
    {
     "data": {
      "text/plain": [
       "(0.6526378889654499,\n",
       " 0.6657957514483699,\n",
       " 0.4641165755919854,\n",
       " 0.6105034653223822)"
      ]
     },
     "execution_count": 41,
     "metadata": {},
     "output_type": "execute_result"
    }
   ],
   "source": [
    "(precision_score(y_test, y_pred_model, average='weighted'), \n",
    "recall_score(y_test, y_pred_model, average='weighted'), \n",
    "f1_score(y_test, y_pred_model), \n",
    "roc_auc_score(y_test, y_pred_model))"
   ]
  },
  {
   "cell_type": "code",
   "execution_count": 42,
   "metadata": {},
   "outputs": [
    {
     "data": {
      "text/plain": [
       "Text(0, 0.5, 'Точность')"
      ]
     },
     "execution_count": 42,
     "metadata": {},
     "output_type": "execute_result"
    },
    {
     "data": {
      "image/png": "[encoded data removed]",
      "text/plain": [
       "<Figure size 640x480 with 1 Axes>"
      ]
     },
     "metadata": {},
     "output_type": "display_data"
    }
   ],
   "source": [
    "pre, rec, tr = precision_recall_curve(y_test, y_pred_model)\n",
    "plt.plot(pre, rec, linewidth = 2)\n",
    "plt.plot([0,1], [1,0], 'g--')\n",
    "plt.axis([0,1,0,1])\n",
    "plt.xlabel('Полнота')\n",
    "plt.ylabel('Точность')"
   ]
  },
  {
   "cell_type": "code",
   "execution_count": null,
   "metadata": {},
   "outputs": [],
   "source": []
  },
  {
   "cell_type": "code",
   "execution_count": null,
   "metadata": {},
   "outputs": [],
   "source": []
  }
 ],
 "metadata": {
  "kernelspec": {
   "display_name": "Python 3 (ipykernel)",
   "language": "python",
   "name": "python3"
  },
  "language_info": {
   "codemirror_mode": {
    "name": "ipython",
    "version": 3
   },
   "file_extension": ".py",
   "mimetype": "text/x-python",
   "name": "python",
   "nbconvert_exporter": "python",
   "pygments_lexer": "ipython3",
   "version": "3.9.13"
  },
  "vscode": {
   "interpreter": {
    "hash": "cceda5113f07d4047741cabbb211c044d7f16bbd82324456effbfb8d7e8a3a9e"
   }
  }
 },
 "nbformat": 4,
 "nbformat_minor": 2
}
