{
 "cells": [
  {
   "cell_type": "markdown",
   "id": "a09a77b7",
   "metadata": {},
   "source": [
    "Берем датасет из урока 14\n",
    "\n",
    "для столбцов Age и Balance определите:\n",
    "\n",
    "1.размах вариации\n",
    "\n",
    "2.среднее по выборке\n",
    "\n",
    "3.медиану\n",
    "\n",
    "4.стандартное отклонение\n",
    "\n",
    "Отфильтруйте данные - выберите для анализа записи о клиентах из Германии и расчитайте те же показатели.\n",
    "\n",
    "Сделайте выводы/предположения о содержимом датасета на основе полученных характеристик.\n"
   ]
  },
  {
   "cell_type": "code",
   "execution_count": 141,
   "id": "b2620d22",
   "metadata": {},
   "outputs": [],
   "source": [
    "import pandas as pd\n",
    "import numpy as np\n",
    "import seaborn as sns\n",
    "import matplotlib.pyplot as plt"
   ]
  },
  {
   "cell_type": "code",
   "execution_count": 142,
   "id": "6530c167",
   "metadata": {},
   "outputs": [],
   "source": [
    "df = pd.read_csv(\"Churn_Modelling1.csv\", index_col=\"RowNumber\")"
   ]
  },
  {
   "cell_type": "code",
   "execution_count": 143,
   "id": "065ca93d",
   "metadata": {},
   "outputs": [
    {
     "data": {
      "text/html": [
       "<div>\n",
       "<style scoped>\n",
       "    .dataframe tbody tr th:only-of-type {\n",
       "        vertical-align: middle;\n",
       "    }\n",
       "\n",
       "    .dataframe tbody tr th {\n",
       "        vertical-align: top;\n",
       "    }\n",
       "\n",
       "    .dataframe thead th {\n",
       "        text-align: right;\n",
       "    }\n",
       "</style>\n",
       "<table border=\"1\" class=\"dataframe\">\n",
       "  <thead>\n",
       "    <tr style=\"text-align: right;\">\n",
       "      <th></th>\n",
       "      <th>CustomerId</th>\n",
       "      <th>Surname</th>\n",
       "      <th>CreditScore</th>\n",
       "      <th>Geography</th>\n",
       "      <th>Gender</th>\n",
       "      <th>Age</th>\n",
       "      <th>Tenure</th>\n",
       "      <th>Balance</th>\n",
       "      <th>NumOfProducts</th>\n",
       "      <th>HasCrCard</th>\n",
       "      <th>IsActiveMember</th>\n",
       "      <th>EstimatedSalary</th>\n",
       "      <th>Exited</th>\n",
       "    </tr>\n",
       "    <tr>\n",
       "      <th>RowNumber</th>\n",
       "      <th></th>\n",
       "      <th></th>\n",
       "      <th></th>\n",
       "      <th></th>\n",
       "      <th></th>\n",
       "      <th></th>\n",
       "      <th></th>\n",
       "      <th></th>\n",
       "      <th></th>\n",
       "      <th></th>\n",
       "      <th></th>\n",
       "      <th></th>\n",
       "      <th></th>\n",
       "    </tr>\n",
       "  </thead>\n",
       "  <tbody>\n",
       "    <tr>\n",
       "      <th>1</th>\n",
       "      <td>15634602</td>\n",
       "      <td>Hargrave</td>\n",
       "      <td>619</td>\n",
       "      <td>France</td>\n",
       "      <td>Female</td>\n",
       "      <td>42</td>\n",
       "      <td>2</td>\n",
       "      <td>0.00</td>\n",
       "      <td>1</td>\n",
       "      <td>1</td>\n",
       "      <td>1</td>\n",
       "      <td>101348.88</td>\n",
       "      <td>1</td>\n",
       "    </tr>\n",
       "    <tr>\n",
       "      <th>2</th>\n",
       "      <td>15647311</td>\n",
       "      <td>Hill</td>\n",
       "      <td>608</td>\n",
       "      <td>Spain</td>\n",
       "      <td>Female</td>\n",
       "      <td>41</td>\n",
       "      <td>1</td>\n",
       "      <td>83807.86</td>\n",
       "      <td>1</td>\n",
       "      <td>0</td>\n",
       "      <td>1</td>\n",
       "      <td>112542.58</td>\n",
       "      <td>0</td>\n",
       "    </tr>\n",
       "    <tr>\n",
       "      <th>3</th>\n",
       "      <td>15619304</td>\n",
       "      <td>Onio</td>\n",
       "      <td>502</td>\n",
       "      <td>France</td>\n",
       "      <td>Female</td>\n",
       "      <td>42</td>\n",
       "      <td>8</td>\n",
       "      <td>159660.80</td>\n",
       "      <td>3</td>\n",
       "      <td>1</td>\n",
       "      <td>0</td>\n",
       "      <td>113931.57</td>\n",
       "      <td>1</td>\n",
       "    </tr>\n",
       "    <tr>\n",
       "      <th>4</th>\n",
       "      <td>15701354</td>\n",
       "      <td>Boni</td>\n",
       "      <td>699</td>\n",
       "      <td>France</td>\n",
       "      <td>Female</td>\n",
       "      <td>39</td>\n",
       "      <td>1</td>\n",
       "      <td>0.00</td>\n",
       "      <td>2</td>\n",
       "      <td>0</td>\n",
       "      <td>0</td>\n",
       "      <td>93826.63</td>\n",
       "      <td>0</td>\n",
       "    </tr>\n",
       "    <tr>\n",
       "      <th>5</th>\n",
       "      <td>15737888</td>\n",
       "      <td>Mitchell</td>\n",
       "      <td>850</td>\n",
       "      <td>Spain</td>\n",
       "      <td>Female</td>\n",
       "      <td>43</td>\n",
       "      <td>2</td>\n",
       "      <td>125510.82</td>\n",
       "      <td>1</td>\n",
       "      <td>1</td>\n",
       "      <td>1</td>\n",
       "      <td>79084.10</td>\n",
       "      <td>0</td>\n",
       "    </tr>\n",
       "  </tbody>\n",
       "</table>\n",
       "</div>"
      ],
      "text/plain": [
       "           CustomerId   Surname  CreditScore Geography  Gender  Age  Tenure  \\\n",
       "RowNumber                                                                     \n",
       "1            15634602  Hargrave          619    France  Female   42       2   \n",
       "2            15647311      Hill          608     Spain  Female   41       1   \n",
       "3            15619304      Onio          502    France  Female   42       8   \n",
       "4            15701354      Boni          699    France  Female   39       1   \n",
       "5            15737888  Mitchell          850     Spain  Female   43       2   \n",
       "\n",
       "             Balance  NumOfProducts  HasCrCard  IsActiveMember  \\\n",
       "RowNumber                                                        \n",
       "1               0.00              1          1               1   \n",
       "2           83807.86              1          0               1   \n",
       "3          159660.80              3          1               0   \n",
       "4               0.00              2          0               0   \n",
       "5          125510.82              1          1               1   \n",
       "\n",
       "           EstimatedSalary  Exited  \n",
       "RowNumber                           \n",
       "1                101348.88       1  \n",
       "2                112542.58       0  \n",
       "3                113931.57       1  \n",
       "4                 93826.63       0  \n",
       "5                 79084.10       0  "
      ]
     },
     "execution_count": 143,
     "metadata": {},
     "output_type": "execute_result"
    }
   ],
   "source": [
    "df.head()"
   ]
  },
  {
   "attachments": {},
   "cell_type": "markdown",
   "id": "d177dbeb",
   "metadata": {},
   "source": [
    "Определим некоторые агрегационные функции"
   ]
  },
  {
   "cell_type": "code",
   "execution_count": 144,
   "id": "fce1571e",
   "metadata": {},
   "outputs": [],
   "source": [
    "def range_of_variations(x):\n",
    "    return x.max() - x.min()\n",
    "\n",
    "def median(x):\n",
    "    return x.quantile(0.5)"
   ]
  },
  {
   "attachments": {},
   "cell_type": "markdown",
   "id": "cd39c754",
   "metadata": {},
   "source": [
    "Рассчитаем:\n",
    "- Размах вариации (наибольшее минус наименьшее)\n",
    "- Среднее\n",
    "- Медиану\n",
    "- Стандартное отклонение (корень из диспресии) \n",
    "\n",
    "для возраста и текущего баланса всех клиентов банка из данного датафарейма"
   ]
  },
  {
   "cell_type": "code",
   "execution_count": 145,
   "id": "7357d298",
   "metadata": {},
   "outputs": [
    {
     "name": "stdout",
     "output_type": "stream",
     "text": [
      "range_of_variations    74.000000\n",
      "mean                   38.921800\n",
      "median                 37.000000\n",
      "std                    10.487806\n",
      "Name: Age, dtype: float64\n",
      "range_of_variations    250898.090000\n",
      "mean                    76485.889288\n",
      "median                  97198.540000\n",
      "std                     62397.405202\n",
      "Name: Balance, dtype: float64\n"
     ]
    }
   ],
   "source": [
    "for col in df[\"Age\"], df[\"Balance\"]:\n",
    "    print(col.agg([range_of_variations, \"mean\", median, \"std\"]))"
   ]
  },
  {
   "attachments": {},
   "cell_type": "markdown",
   "id": "69a5ec27",
   "metadata": {},
   "source": [
    "Получим список всех уникальных стран."
   ]
  },
  {
   "cell_type": "code",
   "execution_count": 146,
   "id": "677fa618",
   "metadata": {},
   "outputs": [
    {
     "data": {
      "text/plain": [
       "array(['France', 'Spain', 'Germany'], dtype=object)"
      ]
     },
     "execution_count": 146,
     "metadata": {},
     "output_type": "execute_result"
    }
   ],
   "source": [
    "df[\"Geography\"].unique()"
   ]
  },
  {
   "attachments": {},
   "cell_type": "markdown",
   "id": "c1855f64",
   "metadata": {},
   "source": [
    "Отделим только клиентов из Германии."
   ]
  },
  {
   "cell_type": "code",
   "execution_count": 147,
   "id": "79a59e42",
   "metadata": {},
   "outputs": [],
   "source": [
    "df_german_only = df[df[\"Geography\"] == \"Germany\"]"
   ]
  },
  {
   "cell_type": "code",
   "execution_count": 148,
   "id": "7864b59e",
   "metadata": {},
   "outputs": [
    {
     "data": {
      "text/html": [
       "<div>\n",
       "<style scoped>\n",
       "    .dataframe tbody tr th:only-of-type {\n",
       "        vertical-align: middle;\n",
       "    }\n",
       "\n",
       "    .dataframe tbody tr th {\n",
       "        vertical-align: top;\n",
       "    }\n",
       "\n",
       "    .dataframe thead th {\n",
       "        text-align: right;\n",
       "    }\n",
       "</style>\n",
       "<table border=\"1\" class=\"dataframe\">\n",
       "  <thead>\n",
       "    <tr style=\"text-align: right;\">\n",
       "      <th></th>\n",
       "      <th>CustomerId</th>\n",
       "      <th>Surname</th>\n",
       "      <th>CreditScore</th>\n",
       "      <th>Geography</th>\n",
       "      <th>Gender</th>\n",
       "      <th>Age</th>\n",
       "      <th>Tenure</th>\n",
       "      <th>Balance</th>\n",
       "      <th>NumOfProducts</th>\n",
       "      <th>HasCrCard</th>\n",
       "      <th>IsActiveMember</th>\n",
       "      <th>EstimatedSalary</th>\n",
       "      <th>Exited</th>\n",
       "    </tr>\n",
       "    <tr>\n",
       "      <th>RowNumber</th>\n",
       "      <th></th>\n",
       "      <th></th>\n",
       "      <th></th>\n",
       "      <th></th>\n",
       "      <th></th>\n",
       "      <th></th>\n",
       "      <th></th>\n",
       "      <th></th>\n",
       "      <th></th>\n",
       "      <th></th>\n",
       "      <th></th>\n",
       "      <th></th>\n",
       "      <th></th>\n",
       "    </tr>\n",
       "  </thead>\n",
       "  <tbody>\n",
       "    <tr>\n",
       "      <th>8</th>\n",
       "      <td>15656148</td>\n",
       "      <td>Obinna</td>\n",
       "      <td>376</td>\n",
       "      <td>Germany</td>\n",
       "      <td>Female</td>\n",
       "      <td>29</td>\n",
       "      <td>4</td>\n",
       "      <td>115046.74</td>\n",
       "      <td>4</td>\n",
       "      <td>1</td>\n",
       "      <td>0</td>\n",
       "      <td>119346.88</td>\n",
       "      <td>1</td>\n",
       "    </tr>\n",
       "    <tr>\n",
       "      <th>16</th>\n",
       "      <td>15643966</td>\n",
       "      <td>Goforth</td>\n",
       "      <td>616</td>\n",
       "      <td>Germany</td>\n",
       "      <td>Male</td>\n",
       "      <td>45</td>\n",
       "      <td>3</td>\n",
       "      <td>143129.41</td>\n",
       "      <td>2</td>\n",
       "      <td>0</td>\n",
       "      <td>1</td>\n",
       "      <td>64327.26</td>\n",
       "      <td>0</td>\n",
       "    </tr>\n",
       "    <tr>\n",
       "      <th>17</th>\n",
       "      <td>15737452</td>\n",
       "      <td>Romeo</td>\n",
       "      <td>653</td>\n",
       "      <td>Germany</td>\n",
       "      <td>Male</td>\n",
       "      <td>58</td>\n",
       "      <td>1</td>\n",
       "      <td>132602.88</td>\n",
       "      <td>1</td>\n",
       "      <td>1</td>\n",
       "      <td>0</td>\n",
       "      <td>5097.67</td>\n",
       "      <td>1</td>\n",
       "    </tr>\n",
       "    <tr>\n",
       "      <th>27</th>\n",
       "      <td>15736816</td>\n",
       "      <td>Young</td>\n",
       "      <td>756</td>\n",
       "      <td>Germany</td>\n",
       "      <td>Male</td>\n",
       "      <td>36</td>\n",
       "      <td>2</td>\n",
       "      <td>136815.64</td>\n",
       "      <td>1</td>\n",
       "      <td>1</td>\n",
       "      <td>1</td>\n",
       "      <td>170041.95</td>\n",
       "      <td>0</td>\n",
       "    </tr>\n",
       "    <tr>\n",
       "      <th>29</th>\n",
       "      <td>15728693</td>\n",
       "      <td>McWilliams</td>\n",
       "      <td>574</td>\n",
       "      <td>Germany</td>\n",
       "      <td>Female</td>\n",
       "      <td>43</td>\n",
       "      <td>3</td>\n",
       "      <td>141349.43</td>\n",
       "      <td>1</td>\n",
       "      <td>1</td>\n",
       "      <td>1</td>\n",
       "      <td>100187.43</td>\n",
       "      <td>0</td>\n",
       "    </tr>\n",
       "  </tbody>\n",
       "</table>\n",
       "</div>"
      ],
      "text/plain": [
       "           CustomerId     Surname  CreditScore Geography  Gender  Age  Tenure  \\\n",
       "RowNumber                                                                       \n",
       "8            15656148      Obinna          376   Germany  Female   29       4   \n",
       "16           15643966     Goforth          616   Germany    Male   45       3   \n",
       "17           15737452       Romeo          653   Germany    Male   58       1   \n",
       "27           15736816       Young          756   Germany    Male   36       2   \n",
       "29           15728693  McWilliams          574   Germany  Female   43       3   \n",
       "\n",
       "             Balance  NumOfProducts  HasCrCard  IsActiveMember  \\\n",
       "RowNumber                                                        \n",
       "8          115046.74              4          1               0   \n",
       "16         143129.41              2          0               1   \n",
       "17         132602.88              1          1               0   \n",
       "27         136815.64              1          1               1   \n",
       "29         141349.43              1          1               1   \n",
       "\n",
       "           EstimatedSalary  Exited  \n",
       "RowNumber                           \n",
       "8                119346.88       1  \n",
       "16                64327.26       0  \n",
       "17                 5097.67       1  \n",
       "27               170041.95       0  \n",
       "29               100187.43       0  "
      ]
     },
     "execution_count": 148,
     "metadata": {},
     "output_type": "execute_result"
    }
   ],
   "source": [
    "df_german_only.head()"
   ]
  },
  {
   "attachments": {},
   "cell_type": "markdown",
   "id": "217edd84",
   "metadata": {},
   "source": [
    "Рассчитаем те же показтели для немецких клиентов."
   ]
  },
  {
   "cell_type": "code",
   "execution_count": 149,
   "id": "c11fdc93",
   "metadata": {},
   "outputs": [
    {
     "name": "stdout",
     "output_type": "stream",
     "text": [
      "range_of_variations    66.000000\n",
      "mean                   39.771622\n",
      "median                 38.000000\n",
      "std                    10.519143\n",
      "Name: Age, dtype: float64\n",
      "range_of_variations    187058.530000\n",
      "mean                   119730.116134\n",
      "median                 119703.100000\n",
      "std                     27022.006157\n",
      "Name: Balance, dtype: float64\n"
     ]
    }
   ],
   "source": [
    "for col in df_german_only[\"Age\"], df_german_only[\"Balance\"]:\n",
    "    print(col.agg([range_of_variations, \"mean\", median, \"std\"]))"
   ]
  },
  {
   "attachments": {},
   "cell_type": "markdown",
   "id": "f2bea1a4",
   "metadata": {},
   "source": [
    "\"Посморим\" на эти признаки с разделение по странам"
   ]
  },
  {
   "cell_type": "code",
   "execution_count": 150,
   "id": "b18df58c",
   "metadata": {},
   "outputs": [
    {
     "data": {
      "text/plain": [
       "Geography\n",
       "France     5014\n",
       "Germany    2509\n",
       "Spain      2477\n",
       "Name: CustomerId, dtype: int64"
      ]
     },
     "execution_count": 150,
     "metadata": {},
     "output_type": "execute_result"
    }
   ],
   "source": [
    "df.groupby(by=\"Geography\")[\"CustomerId\"].count()"
   ]
  },
  {
   "attachments": {},
   "cell_type": "markdown",
   "id": "d2ff9aca",
   "metadata": {},
   "source": [
    "Отметим, что в датасете преобладают клиенты из Франции."
   ]
  },
  {
   "cell_type": "code",
   "execution_count": 151,
   "id": "0480273e",
   "metadata": {},
   "outputs": [
    {
     "data": {
      "image/png": "[encoded data removed]",
      "text/plain": [
       "<Figure size 640x480 with 1 Axes>"
      ]
     },
     "metadata": {},
     "output_type": "display_data"
    }
   ],
   "source": [
    "sns.histplot(data=df, x=\"Age\", hue=\"Geography\");"
   ]
  },
  {
   "cell_type": "code",
   "execution_count": 152,
   "id": "bfe41fc2",
   "metadata": {},
   "outputs": [
    {
     "data": {
      "image/png": "[encoded data removed]",
      "text/plain": [
       "<Figure size 640x480 with 1 Axes>"
      ]
     },
     "metadata": {},
     "output_type": "display_data"
    }
   ],
   "source": [
    "sns.histplot(data=df, x=\"Balance\", hue=\"Geography\");"
   ]
  },
  {
   "attachments": {},
   "cell_type": "markdown",
   "id": "af5606f5",
   "metadata": {},
   "source": [
    "Кроме того, что число клиентов по странам различно, распределения схожи по форме. Заметим, что распределение баланса (не нулевого) возможно будет нормальным, однако имеется большая группа клиентов, с нулевым балансом. Целесообразно выделить их в другую страту."
   ]
  },
  {
   "cell_type": "code",
   "execution_count": 153,
   "id": "c232d9a4",
   "metadata": {},
   "outputs": [
    {
     "data": {
      "text/plain": [
       "Geography\n",
       "France     0.161548\n",
       "Germany    0.324432\n",
       "Spain      0.166734\n",
       "Name: Exited, dtype: float64"
      ]
     },
     "execution_count": 153,
     "metadata": {},
     "output_type": "execute_result"
    }
   ],
   "source": [
    "df.groupby(by=\"Geography\")[\"Exited\"].mean()"
   ]
  },
  {
   "attachments": {},
   "cell_type": "markdown",
   "id": "594e32e7",
   "metadata": {},
   "source": [
    "Если единица в целевой колонке означает, что клиент разорвал отношения с банком, то это произойдет гораздно вероятнее, если клиент из Германии"
   ]
  },
  {
   "attachments": {},
   "cell_type": "markdown",
   "id": "f7c47893",
   "metadata": {},
   "source": [
    "Разделим на диапазоны возраст и баланс клиентов и также высчитаем процент покинувших"
   ]
  },
  {
   "cell_type": "code",
   "execution_count": 154,
   "id": "d2af17bf",
   "metadata": {},
   "outputs": [],
   "source": [
    "df[\"Age_bin\"] = pd.cut(df[\"Age\"], 10)\n",
    "df[\"Balance_bin\"] = pd.cut(df[\"Balance\"], 10)"
   ]
  },
  {
   "cell_type": "code",
   "execution_count": 155,
   "id": "222eb98e",
   "metadata": {},
   "outputs": [
    {
     "data": {
      "image/png": "[encoded data removed]",
      "text/plain": [
       "<Figure size 640x480 with 1 Axes>"
      ]
     },
     "metadata": {},
     "output_type": "display_data"
    }
   ],
   "source": [
    "plt.xticks(rotation=90)\n",
    "sns.barplot(data=df, x=\"Age_bin\", y=\"Exited\");"
   ]
  },
  {
   "attachments": {},
   "cell_type": "markdown",
   "id": "d423e988",
   "metadata": {},
   "source": [
    "Наибольший процент ушедших приходится на людей в возрасте 48 - 62 года."
   ]
  },
  {
   "cell_type": "code",
   "execution_count": 156,
   "id": "ecd851b7",
   "metadata": {},
   "outputs": [
    {
     "data": {
      "image/png": "[encoded data removed]",
      "text/plain": [
       "<Figure size 640x480 with 1 Axes>"
      ]
     },
     "metadata": {},
     "output_type": "display_data"
    }
   ],
   "source": [
    "plt.xticks(rotation=90)\n",
    "sns.barplot(data=df, x=\"Balance_bin\", y=\"Exited\");"
   ]
  },
  {
   "attachments": {},
   "cell_type": "markdown",
   "id": "26116123",
   "metadata": {},
   "source": [
    "Самый большой процент ушедших приходится на людей с самыми большими балансами, однако таких клиентов очень мало (см. ниже). Самая многочисленная группа клиентов является самой \"преданной\""
   ]
  },
  {
   "cell_type": "code",
   "execution_count": 157,
   "id": "16420cf6",
   "metadata": {},
   "outputs": [
    {
     "data": {
      "text/plain": [
       "Balance_bin\n",
       "(-250.898, 25089.809]       3623\n",
       "(25089.809, 50179.618]        69\n",
       "(50179.618, 75269.427]       360\n",
       "(75269.427, 100359.236]     1173\n",
       "(100359.236, 125449.045]    2081\n",
       "(125449.045, 150538.854]    1747\n",
       "(150538.854, 175628.663]     729\n",
       "(175628.663, 200718.472]     186\n",
       "(200718.472, 225808.281]      30\n",
       "(225808.281, 250898.09]        2\n",
       "Name: Exited, dtype: int64"
      ]
     },
     "execution_count": 157,
     "metadata": {},
     "output_type": "execute_result"
    }
   ],
   "source": [
    "df.groupby(by=\"Balance_bin\")[\"Exited\"].count()"
   ]
  }
 ],
 "metadata": {
  "kernelspec": {
   "display_name": "Python 3",
   "language": "python",
   "name": "python3"
  },
  "language_info": {
   "codemirror_mode": {
    "name": "ipython",
    "version": 3
   },
   "file_extension": ".py",
   "mimetype": "text/x-python",
   "name": "python",
   "nbconvert_exporter": "python",
   "pygments_lexer": "ipython3",
   "version": "3.10.7"
  },
  "vscode": {
   "interpreter": {
    "hash": "44d05011f940373d2be57d9e1d8060407e025635cb893b36738390f7a5646cad"
   }
  }
 },
 "nbformat": 4,
 "nbformat_minor": 5
}
