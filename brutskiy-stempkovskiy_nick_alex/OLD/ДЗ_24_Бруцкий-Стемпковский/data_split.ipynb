{
 "cells": [
  {
   "cell_type": "code",
   "execution_count": 11,
   "metadata": {},
   "outputs": [],
   "source": [
    "import os\n",
    "import shutil\n",
    "\n",
    "from pathlib import Path\n",
    "from PIL import Image, UnidentifiedImageError\n",
    "from tqdm import tqdm"
   ]
  },
  {
   "cell_type": "code",
   "execution_count": 12,
   "metadata": {},
   "outputs": [],
   "source": [
    "FILE_NAME = 'pics.zip'\n",
    "FILE_PATH = os.getcwd()\n",
    "\n",
    "n_folders = 12"
   ]
  },
  {
   "cell_type": "code",
   "execution_count": 13,
   "metadata": {},
   "outputs": [],
   "source": [
    "if not os.path.exists(FILE_PATH + '/pics'):\n",
    "    shutil.unpack_archive(FILE_NAME, FILE_PATH)\n",
    "\n",
    "if not os.path.exists(FILE_PATH + '/pics_splitted'):\n",
    "    os.makedirs(FILE_PATH + '/pics_splitted')"
   ]
  },
  {
   "cell_type": "code",
   "execution_count": 14,
   "metadata": {},
   "outputs": [],
   "source": [
    "if not os.path.exists(FILE_PATH + '/pics_non_condition'):\n",
    "    os.makedirs(FILE_PATH + '/pics_non_condition')"
   ]
  },
  {
   "cell_type": "code",
   "execution_count": 15,
   "metadata": {},
   "outputs": [
    {
     "name": "stderr",
     "output_type": "stream",
     "text": [
      "3875it [00:38, 101.02it/s]"
     ]
    },
    {
     "name": "stdout",
     "output_type": "stream",
     "text": [
      "Удалено 0 битых избражений\n",
      "Ширина изображений лежит в диапазоне от 1280 до 1920\n",
      "Высота изображений лежит в диапазоне от 720 до 1080\n"
     ]
    },
    {
     "name": "stderr",
     "output_type": "stream",
     "text": [
      "\n"
     ]
    }
   ],
   "source": [
    "# почистим картинки от битых файлов\n",
    "# вместе с тем узнаем размер изображений\n",
    "counter = 0\n",
    "min_width = float('inf')\n",
    "max_width = 0\n",
    "min_height = float('inf')\n",
    "max_height = 0\n",
    "\n",
    "files = Path(FILE_PATH + '/pics').rglob(\"*.jpg\")\n",
    "for file in tqdm(files):\n",
    "    try:\n",
    "        img = Image.open(file)\n",
    "    except UnidentifiedImageError:\n",
    "        counter += 1\n",
    "        os.remove(file)\n",
    "    \n",
    "    width, height = img.size\n",
    "    min_width = min(min_width, width)\n",
    "    max_width = max(max_width, width)\n",
    "    min_height = min(min_height, height)\n",
    "    max_height = max(max_height, height)\n",
    "\n",
    "print(f'Удалено {counter} битых избражений')\n",
    "print(f'Ширина изображений лежит в диапазоне от {min_width} до {max_width}')\n",
    "print(f'Высота изображений лежит в диапазоне от {min_height} до {max_height}')\n",
    "\n",
    "img = None"
   ]
  },
  {
   "cell_type": "code",
   "execution_count": 16,
   "metadata": {},
   "outputs": [],
   "source": [
    "images_list = []\n",
    "images_list_non_condition = []\n",
    "for root, dirs, files in os.walk('pics'):\n",
    "    for file in files:\n",
    "        if file.endswith(\".jpg\"):\n",
    "            images_list.append(os.path.join(root, file))"
   ]
  },
  {
   "cell_type": "code",
   "execution_count": 17,
   "metadata": {},
   "outputs": [],
   "source": [
    "query = \"(2)\"\n",
    "\n",
    "for item in images_list:\n",
    "    if query in item:\n",
    "        images_list_non_condition.append(item)\n",
    "        images_list.remove(item)"
   ]
  },
  {
   "cell_type": "code",
   "execution_count": 18,
   "metadata": {},
   "outputs": [],
   "source": [
    "files_count_in_one_dir = len(images_list) // 12\n",
    "\n",
    "for i in range(n_folders):\n",
    "\n",
    "    folder_name = f\"folder_{i+1}\"\n",
    "    os.makedirs(FILE_PATH + '/pics_splitted/' + folder_name, exist_ok=True)\n",
    "\n",
    "    l_bound = i*files_count_in_one_dir\n",
    "    u_bound = min(i*files_count_in_one_dir + files_count_in_one_dir, len(images_list))\n",
    "    files_to_copy = images_list[l_bound:u_bound]\n",
    "\n",
    "    for file in files_to_copy:\n",
    "\n",
    "        file_name = file.split('\\\\')[-1]\n",
    "\n",
    "        copy_from = FILE_PATH + f'/{file}'\n",
    "        copy_to = FILE_PATH + f'/pics_splitted/folder_{i+1}/{file_name}'\n",
    "\n",
    "        try:\n",
    "            shutil.copyfile(copy_from, copy_to)\n",
    "        except FileNotFoundError:\n",
    "            pass\n",
    "\n",
    "i += 1\n",
    "\n",
    "l_bound = i*files_count_in_one_dir\n",
    "u_bound = min(i*files_count_in_one_dir + files_count_in_one_dir, len(images_list))\n",
    "files_to_copy = images_list[l_bound:u_bound] + images_list_non_condition\n",
    "\n",
    "for file in files_to_copy:\n",
    "\n",
    "    file_name = file.split('\\\\')[-1]\n",
    "\n",
    "    copy_from = FILE_PATH + f'/{file}'\n",
    "    copy_to = FILE_PATH + f'/pics_non_condition/{file_name}'\n",
    "\n",
    "    try:\n",
    "        shutil.copyfile(copy_from, copy_to)\n",
    "    except FileNotFoundError:\n",
    "        pass"
   ]
  },
  {
   "cell_type": "code",
   "execution_count": 22,
   "metadata": {},
   "outputs": [],
   "source": [
    "if os.path.exists(FILE_PATH + '/pics'):\n",
    "    shutil.rmtree(FILE_PATH + '/pics')"
   ]
  },
  {
   "cell_type": "code",
   "execution_count": 23,
   "metadata": {},
   "outputs": [],
   "source": [
    "if os.path.exists(FILE_PATH + '/pics_splitted'):\n",
    "    shutil.rmtree(FILE_PATH + '/pics_splitted')\n",
    "\n",
    "if os.path.exists(FILE_PATH + '/pics_non_condition'):\n",
    "    shutil.rmtree(FILE_PATH + '/pics_non_condition')"
   ]
  }
 ],
 "metadata": {
  "kernelspec": {
   "display_name": "Python 3",
   "language": "python",
   "name": "python3"
  },
  "language_info": {
   "codemirror_mode": {
    "name": "ipython",
    "version": 3
   },
   "file_extension": ".py",
   "mimetype": "text/x-python",
   "name": "python",
   "nbconvert_exporter": "python",
   "pygments_lexer": "ipython3",
   "version": "3.10.7"
  },
  "orig_nbformat": 4
 },
 "nbformat": 4,
 "nbformat_minor": 2
}
