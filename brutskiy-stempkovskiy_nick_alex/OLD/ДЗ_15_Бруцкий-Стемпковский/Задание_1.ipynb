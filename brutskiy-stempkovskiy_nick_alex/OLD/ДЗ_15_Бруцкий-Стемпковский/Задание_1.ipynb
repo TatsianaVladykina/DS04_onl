{
 "cells": [
  {
   "cell_type": "markdown",
   "id": "8b272147",
   "metadata": {},
   "source": [
    "1. Загрузите данные из файла churn-bigml-80.csv\n",
    "Проведите базовый осмотр данных.\n",
    "сколько строк, сколько столбцов, есть ли пустые значения?\n",
    "\n",
    "определите общее количество абонентов отказавшихся от обслуживания (переменная Churn)\n",
    "\n",
    "Исследуйте зависимость целевой переменной Churn \n",
    "от переменных \n",
    "Voice mail plan\n",
    "International plan\n",
    "Customer service calls\n",
    "\n",
    "\n",
    "\n",
    "Сформулируйте гипотезы о зависимости."
   ]
  },
  {
   "cell_type": "code",
   "execution_count": 151,
   "id": "165b03bd",
   "metadata": {},
   "outputs": [],
   "source": [
    "import pandas as pd\n",
    "import numpy as np\n",
    "import seaborn as sns"
   ]
  },
  {
   "attachments": {},
   "cell_type": "markdown",
   "id": "db9464ce",
   "metadata": {},
   "source": [
    "Загрузим датасет"
   ]
  },
  {
   "cell_type": "code",
   "execution_count": 152,
   "id": "5fe8bccb",
   "metadata": {},
   "outputs": [],
   "source": [
    "df = pd.read_csv(\"churn-bigml-80.csv\")"
   ]
  },
  {
   "cell_type": "code",
   "execution_count": 153,
   "id": "94d8b347",
   "metadata": {},
   "outputs": [
    {
     "data": {
      "text/html": [
       "<div>\n",
       "<style scoped>\n",
       "    .dataframe tbody tr th:only-of-type {\n",
       "        vertical-align: middle;\n",
       "    }\n",
       "\n",
       "    .dataframe tbody tr th {\n",
       "        vertical-align: top;\n",
       "    }\n",
       "\n",
       "    .dataframe thead th {\n",
       "        text-align: right;\n",
       "    }\n",
       "</style>\n",
       "<table border=\"1\" class=\"dataframe\">\n",
       "  <thead>\n",
       "    <tr style=\"text-align: right;\">\n",
       "      <th></th>\n",
       "      <th>State</th>\n",
       "      <th>Account length</th>\n",
       "      <th>Area code</th>\n",
       "      <th>International plan</th>\n",
       "      <th>Voice mail plan</th>\n",
       "      <th>Number vmail messages</th>\n",
       "      <th>Total day minutes</th>\n",
       "      <th>Total day calls</th>\n",
       "      <th>Total day charge</th>\n",
       "      <th>Total eve minutes</th>\n",
       "      <th>Total eve calls</th>\n",
       "      <th>Total eve charge</th>\n",
       "      <th>Total night minutes</th>\n",
       "      <th>Total night calls</th>\n",
       "      <th>Total night charge</th>\n",
       "      <th>Total intl minutes</th>\n",
       "      <th>Total intl calls</th>\n",
       "      <th>Total intl charge</th>\n",
       "      <th>Customer service calls</th>\n",
       "      <th>Churn</th>\n",
       "    </tr>\n",
       "  </thead>\n",
       "  <tbody>\n",
       "    <tr>\n",
       "      <th>0</th>\n",
       "      <td>KS</td>\n",
       "      <td>128</td>\n",
       "      <td>415</td>\n",
       "      <td>No</td>\n",
       "      <td>Yes</td>\n",
       "      <td>25</td>\n",
       "      <td>265.1</td>\n",
       "      <td>110</td>\n",
       "      <td>45.07</td>\n",
       "      <td>197.4</td>\n",
       "      <td>99</td>\n",
       "      <td>16.78</td>\n",
       "      <td>244.7</td>\n",
       "      <td>91</td>\n",
       "      <td>11.01</td>\n",
       "      <td>10.0</td>\n",
       "      <td>3</td>\n",
       "      <td>2.70</td>\n",
       "      <td>1</td>\n",
       "      <td>False</td>\n",
       "    </tr>\n",
       "    <tr>\n",
       "      <th>1</th>\n",
       "      <td>OH</td>\n",
       "      <td>107</td>\n",
       "      <td>415</td>\n",
       "      <td>No</td>\n",
       "      <td>Yes</td>\n",
       "      <td>26</td>\n",
       "      <td>161.6</td>\n",
       "      <td>123</td>\n",
       "      <td>27.47</td>\n",
       "      <td>195.5</td>\n",
       "      <td>103</td>\n",
       "      <td>16.62</td>\n",
       "      <td>254.4</td>\n",
       "      <td>103</td>\n",
       "      <td>11.45</td>\n",
       "      <td>13.7</td>\n",
       "      <td>3</td>\n",
       "      <td>3.70</td>\n",
       "      <td>1</td>\n",
       "      <td>False</td>\n",
       "    </tr>\n",
       "    <tr>\n",
       "      <th>2</th>\n",
       "      <td>NJ</td>\n",
       "      <td>137</td>\n",
       "      <td>415</td>\n",
       "      <td>No</td>\n",
       "      <td>No</td>\n",
       "      <td>0</td>\n",
       "      <td>243.4</td>\n",
       "      <td>114</td>\n",
       "      <td>41.38</td>\n",
       "      <td>121.2</td>\n",
       "      <td>110</td>\n",
       "      <td>10.30</td>\n",
       "      <td>162.6</td>\n",
       "      <td>104</td>\n",
       "      <td>7.32</td>\n",
       "      <td>12.2</td>\n",
       "      <td>5</td>\n",
       "      <td>3.29</td>\n",
       "      <td>0</td>\n",
       "      <td>False</td>\n",
       "    </tr>\n",
       "    <tr>\n",
       "      <th>3</th>\n",
       "      <td>OH</td>\n",
       "      <td>84</td>\n",
       "      <td>408</td>\n",
       "      <td>Yes</td>\n",
       "      <td>No</td>\n",
       "      <td>0</td>\n",
       "      <td>299.4</td>\n",
       "      <td>71</td>\n",
       "      <td>50.90</td>\n",
       "      <td>61.9</td>\n",
       "      <td>88</td>\n",
       "      <td>5.26</td>\n",
       "      <td>196.9</td>\n",
       "      <td>89</td>\n",
       "      <td>8.86</td>\n",
       "      <td>6.6</td>\n",
       "      <td>7</td>\n",
       "      <td>1.78</td>\n",
       "      <td>2</td>\n",
       "      <td>False</td>\n",
       "    </tr>\n",
       "    <tr>\n",
       "      <th>4</th>\n",
       "      <td>OK</td>\n",
       "      <td>75</td>\n",
       "      <td>415</td>\n",
       "      <td>Yes</td>\n",
       "      <td>No</td>\n",
       "      <td>0</td>\n",
       "      <td>166.7</td>\n",
       "      <td>113</td>\n",
       "      <td>28.34</td>\n",
       "      <td>148.3</td>\n",
       "      <td>122</td>\n",
       "      <td>12.61</td>\n",
       "      <td>186.9</td>\n",
       "      <td>121</td>\n",
       "      <td>8.41</td>\n",
       "      <td>10.1</td>\n",
       "      <td>3</td>\n",
       "      <td>2.73</td>\n",
       "      <td>3</td>\n",
       "      <td>False</td>\n",
       "    </tr>\n",
       "  </tbody>\n",
       "</table>\n",
       "</div>"
      ],
      "text/plain": [
       "  State  Account length  Area code International plan Voice mail plan  \\\n",
       "0    KS             128        415                 No             Yes   \n",
       "1    OH             107        415                 No             Yes   \n",
       "2    NJ             137        415                 No              No   \n",
       "3    OH              84        408                Yes              No   \n",
       "4    OK              75        415                Yes              No   \n",
       "\n",
       "   Number vmail messages  Total day minutes  Total day calls  \\\n",
       "0                     25              265.1              110   \n",
       "1                     26              161.6              123   \n",
       "2                      0              243.4              114   \n",
       "3                      0              299.4               71   \n",
       "4                      0              166.7              113   \n",
       "\n",
       "   Total day charge  Total eve minutes  Total eve calls  Total eve charge  \\\n",
       "0             45.07              197.4               99             16.78   \n",
       "1             27.47              195.5              103             16.62   \n",
       "2             41.38              121.2              110             10.30   \n",
       "3             50.90               61.9               88              5.26   \n",
       "4             28.34              148.3              122             12.61   \n",
       "\n",
       "   Total night minutes  Total night calls  Total night charge  \\\n",
       "0                244.7                 91               11.01   \n",
       "1                254.4                103               11.45   \n",
       "2                162.6                104                7.32   \n",
       "3                196.9                 89                8.86   \n",
       "4                186.9                121                8.41   \n",
       "\n",
       "   Total intl minutes  Total intl calls  Total intl charge  \\\n",
       "0                10.0                 3               2.70   \n",
       "1                13.7                 3               3.70   \n",
       "2                12.2                 5               3.29   \n",
       "3                 6.6                 7               1.78   \n",
       "4                10.1                 3               2.73   \n",
       "\n",
       "   Customer service calls  Churn  \n",
       "0                       1  False  \n",
       "1                       1  False  \n",
       "2                       0  False  \n",
       "3                       2  False  \n",
       "4                       3  False  "
      ]
     },
     "execution_count": 153,
     "metadata": {},
     "output_type": "execute_result"
    }
   ],
   "source": [
    "df.head()"
   ]
  },
  {
   "cell_type": "code",
   "execution_count": 154,
   "id": "664e5984",
   "metadata": {},
   "outputs": [
    {
     "name": "stdout",
     "output_type": "stream",
     "text": [
      "<class 'pandas.core.frame.DataFrame'>\n",
      "RangeIndex: 2666 entries, 0 to 2665\n",
      "Data columns (total 20 columns):\n",
      " #   Column                  Non-Null Count  Dtype  \n",
      "---  ------                  --------------  -----  \n",
      " 0   State                   2666 non-null   object \n",
      " 1   Account length          2666 non-null   int64  \n",
      " 2   Area code               2666 non-null   int64  \n",
      " 3   International plan      2666 non-null   object \n",
      " 4   Voice mail plan         2666 non-null   object \n",
      " 5   Number vmail messages   2666 non-null   int64  \n",
      " 6   Total day minutes       2666 non-null   float64\n",
      " 7   Total day calls         2666 non-null   int64  \n",
      " 8   Total day charge        2666 non-null   float64\n",
      " 9   Total eve minutes       2666 non-null   float64\n",
      " 10  Total eve calls         2666 non-null   int64  \n",
      " 11  Total eve charge        2666 non-null   float64\n",
      " 12  Total night minutes     2666 non-null   float64\n",
      " 13  Total night calls       2666 non-null   int64  \n",
      " 14  Total night charge      2666 non-null   float64\n",
      " 15  Total intl minutes      2666 non-null   float64\n",
      " 16  Total intl calls        2666 non-null   int64  \n",
      " 17  Total intl charge       2666 non-null   float64\n",
      " 18  Customer service calls  2666 non-null   int64  \n",
      " 19  Churn                   2666 non-null   bool   \n",
      "dtypes: bool(1), float64(8), int64(8), object(3)\n",
      "memory usage: 398.5+ KB\n"
     ]
    }
   ],
   "source": [
    "df.info()"
   ]
  },
  {
   "attachments": {},
   "cell_type": "markdown",
   "id": "0d387211",
   "metadata": {},
   "source": [
    "Датафрейм содержит 19 признаков и один целевой показатель (бинарный). Всего у нас 2666 наблюдений. Пропусков нет."
   ]
  },
  {
   "attachments": {},
   "cell_type": "markdown",
   "id": "47ad99f8",
   "metadata": {},
   "source": [
    "Сразу заменим некоторые типы данных на числовые. Понизим разрядность чисел для уменьшения объема памяти"
   ]
  },
  {
   "cell_type": "code",
   "execution_count": 155,
   "id": "25c3f555",
   "metadata": {},
   "outputs": [],
   "source": [
    "df[\"International plan\"] = df[\"International plan\"].map({\"Yes\": 1, \"No\": 0})\n",
    "df[\"Voice mail plan\"] = df[\"Voice mail plan\"].map({\"Yes\": 1, \"No\": 0})\n",
    "df[\"Churn\"] = df[\"Churn\"].map({True: 1, False: 0})"
   ]
  },
  {
   "cell_type": "code",
   "execution_count": 156,
   "id": "cde7d26b",
   "metadata": {},
   "outputs": [],
   "source": [
    "for col in (['Account length', 'Area code', 'International plan',\n",
    "             'Voice mail plan', 'Number vmail messages',\n",
    "             'Total day calls', 'Total eve calls', 'Total night calls', \n",
    "             'Total intl calls', 'Customer service calls', \n",
    "             'Customer service calls', 'Churn']):\n",
    "    df[col] = df[col].astype(\"int32\", copy=False)\n",
    "\n",
    "for col in (['Total day minutes', 'Total day charge', \n",
    "             'Total eve minutes', 'Total eve charge', \n",
    "             'Total night minutes', 'Total night charge', \n",
    "             'Total intl minutes', 'Total intl charge']):\n",
    "    df[col] = df[col].astype(\"float32\", copy=False)\n"
   ]
  },
  {
   "cell_type": "code",
   "execution_count": 157,
   "id": "6e4e19bb",
   "metadata": {},
   "outputs": [
    {
     "name": "stdout",
     "output_type": "stream",
     "text": [
      "<class 'pandas.core.frame.DataFrame'>\n",
      "RangeIndex: 2666 entries, 0 to 2665\n",
      "Data columns (total 20 columns):\n",
      " #   Column                  Non-Null Count  Dtype  \n",
      "---  ------                  --------------  -----  \n",
      " 0   State                   2666 non-null   object \n",
      " 1   Account length          2666 non-null   int32  \n",
      " 2   Area code               2666 non-null   int32  \n",
      " 3   International plan      2666 non-null   int32  \n",
      " 4   Voice mail plan         2666 non-null   int32  \n",
      " 5   Number vmail messages   2666 non-null   int32  \n",
      " 6   Total day minutes       2666 non-null   float32\n",
      " 7   Total day calls         2666 non-null   int32  \n",
      " 8   Total day charge        2666 non-null   float32\n",
      " 9   Total eve minutes       2666 non-null   float32\n",
      " 10  Total eve calls         2666 non-null   int32  \n",
      " 11  Total eve charge        2666 non-null   float32\n",
      " 12  Total night minutes     2666 non-null   float32\n",
      " 13  Total night calls       2666 non-null   int32  \n",
      " 14  Total night charge      2666 non-null   float32\n",
      " 15  Total intl minutes      2666 non-null   float32\n",
      " 16  Total intl calls        2666 non-null   int32  \n",
      " 17  Total intl charge       2666 non-null   float32\n",
      " 18  Customer service calls  2666 non-null   int32  \n",
      " 19  Churn                   2666 non-null   int32  \n",
      "dtypes: float32(8), int32(11), object(1)\n",
      "memory usage: 218.8+ KB\n"
     ]
    }
   ],
   "source": [
    "df.info()"
   ]
  },
  {
   "attachments": {},
   "cell_type": "markdown",
   "id": "2ce7163e",
   "metadata": {},
   "source": [
    "Определим число ушедших абонентов"
   ]
  },
  {
   "cell_type": "code",
   "execution_count": 158,
   "id": "5f7c032a",
   "metadata": {},
   "outputs": [
    {
     "data": {
      "text/plain": [
       "sum     388.000000\n",
       "mean      0.145536\n",
       "Name: Churn, dtype: float64"
      ]
     },
     "execution_count": 158,
     "metadata": {},
     "output_type": "execute_result"
    }
   ],
   "source": [
    "df['Churn'].agg(['sum', 'mean'])"
   ]
  },
  {
   "attachments": {},
   "cell_type": "markdown",
   "id": "98c2482d",
   "metadata": {},
   "source": [
    "Ушедших абонетов не более 15 %"
   ]
  },
  {
   "cell_type": "code",
   "execution_count": 159,
   "id": "44431f1c",
   "metadata": {},
   "outputs": [
    {
     "data": {
      "text/plain": [
       "Churn\n",
       "0    0.066725\n",
       "1    0.304124\n",
       "Name: International plan, dtype: float64"
      ]
     },
     "execution_count": 159,
     "metadata": {},
     "output_type": "execute_result"
    }
   ],
   "source": [
    "df.groupby('Churn')['International plan'].mean()"
   ]
  },
  {
   "attachments": {},
   "cell_type": "markdown",
   "id": "dc49309a",
   "metadata": {},
   "source": [
    "Из оставшихся абонентов почти никто не использовал услугу International plan"
   ]
  },
  {
   "cell_type": "code",
   "execution_count": 160,
   "id": "981745d4",
   "metadata": {},
   "outputs": [
    {
     "data": {
      "text/plain": [
       "Churn\n",
       "0    0.293240\n",
       "1    0.167526\n",
       "Name: Voice mail plan, dtype: float64"
      ]
     },
     "execution_count": 160,
     "metadata": {},
     "output_type": "execute_result"
    }
   ],
   "source": [
    "df.groupby('Churn')['Voice mail plan'].mean()"
   ]
  },
  {
   "attachments": {},
   "cell_type": "markdown",
   "id": "52b45787",
   "metadata": {},
   "source": [
    "Услугой Voice mail plan пользовалось в среднем в 2 раза больше среди оставшихся абонентов"
   ]
  },
  {
   "cell_type": "code",
   "execution_count": 161,
   "id": "7e91ed2b",
   "metadata": {},
   "outputs": [
    {
     "data": {
      "text/plain": [
       "Churn\n",
       "0    1.453029\n",
       "1    2.206186\n",
       "Name: Customer service calls, dtype: float64"
      ]
     },
     "execution_count": 161,
     "metadata": {},
     "output_type": "execute_result"
    }
   ],
   "source": [
    "df.groupby('Churn')['Customer service calls'].mean()"
   ]
  },
  {
   "attachments": {},
   "cell_type": "markdown",
   "id": "e0254303",
   "metadata": {},
   "source": [
    "Ушедшие клиенты в среднем примерно в 1.5 раза чаще свонили в службу поддержки"
   ]
  }
 ],
 "metadata": {
  "kernelspec": {
   "display_name": "Python 3 (ipykernel)",
   "language": "python",
   "name": "python3"
  },
  "language_info": {
   "codemirror_mode": {
    "name": "ipython",
    "version": 3
   },
   "file_extension": ".py",
   "mimetype": "text/x-python",
   "name": "python",
   "nbconvert_exporter": "python",
   "pygments_lexer": "ipython3",
   "version": "3.10.7"
  }
 },
 "nbformat": 4,
 "nbformat_minor": 5
}
