{
 "cells": [
  {
   "attachments": {},
   "cell_type": "markdown",
   "metadata": {},
   "source": [
    "Всем привет!\n",
    "\n",
    "Перед вами задача классификации космических объектов.\n",
    "\n",
    "Целевая переменная называется class.\n",
    "\n",
    "Решите задачу методами случайного леса, и рассмотренными на уроке бустингами.  \n",
    "Оцените результаты с помощью метрик presicion и recall.\n"
   ]
  },
  {
   "cell_type": "code",
   "execution_count": 1,
   "metadata": {},
   "outputs": [],
   "source": [
    "import pandas as pd\n",
    "import numpy as np\n",
    "import seaborn as sns\n",
    "import matplotlib.pyplot as plt\n",
    "\n",
    "from sklearn.preprocessing import StandardScaler\n",
    "from sklearn.model_selection import train_test_split, \\\n",
    "                                    RandomizedSearchCV\n",
    "from sklearn.metrics import confusion_matrix, precision_score, \\\n",
    "                            recall_score\n",
    "from sklearn.ensemble import RandomForestClassifier, GradientBoostingClassifier, \\\n",
    "                             AdaBoostClassifier\n",
    "from sklearn.svm import SVC\n",
    "from sklearn.tree import DecisionTreeClassifier\n",
    "from scipy.stats import randint"
   ]
  },
  {
   "attachments": {},
   "cell_type": "markdown",
   "metadata": {},
   "source": [
    "Прочитаем датасет."
   ]
  },
  {
   "cell_type": "code",
   "execution_count": 2,
   "metadata": {},
   "outputs": [],
   "source": [
    "df = pd.read_csv(\"star_classification.csv\")"
   ]
  },
  {
   "attachments": {},
   "cell_type": "markdown",
   "metadata": {},
   "source": [
    "Он содержит довольно много колонок и многие из них являются служебными - описывают расположение объекта в библиотеке, дату снимка, инфу по камерам и прочее. Некоторые данные я не понял, но в коде на kaggle (https://www.kaggle.com/code/psycon/stars-galaxies-eda-and-classification) автор выбросил еще и несколько дполнительных колонок. Вроде бы это имеет смысл."
   ]
  },
  {
   "cell_type": "code",
   "execution_count": 3,
   "metadata": {},
   "outputs": [],
   "source": [
    "df = df.drop(['obj_ID','alpha','delta','run_ID','rerun_ID','cam_col', 'spec_obj_ID','field_ID','fiber_ID'], axis = 1)"
   ]
  },
  {
   "cell_type": "code",
   "execution_count": 4,
   "metadata": {},
   "outputs": [
    {
     "data": {
      "text/html": [
       "<div>\n",
       "<style scoped>\n",
       "    .dataframe tbody tr th:only-of-type {\n",
       "        vertical-align: middle;\n",
       "    }\n",
       "\n",
       "    .dataframe tbody tr th {\n",
       "        vertical-align: top;\n",
       "    }\n",
       "\n",
       "    .dataframe thead th {\n",
       "        text-align: right;\n",
       "    }\n",
       "</style>\n",
       "<table border=\"1\" class=\"dataframe\">\n",
       "  <thead>\n",
       "    <tr style=\"text-align: right;\">\n",
       "      <th></th>\n",
       "      <th>u</th>\n",
       "      <th>g</th>\n",
       "      <th>r</th>\n",
       "      <th>i</th>\n",
       "      <th>z</th>\n",
       "      <th>class</th>\n",
       "      <th>redshift</th>\n",
       "      <th>plate</th>\n",
       "      <th>MJD</th>\n",
       "    </tr>\n",
       "  </thead>\n",
       "  <tbody>\n",
       "    <tr>\n",
       "      <th>0</th>\n",
       "      <td>23.87882</td>\n",
       "      <td>22.27530</td>\n",
       "      <td>20.39501</td>\n",
       "      <td>19.16573</td>\n",
       "      <td>18.79371</td>\n",
       "      <td>GALAXY</td>\n",
       "      <td>0.634794</td>\n",
       "      <td>5812</td>\n",
       "      <td>56354</td>\n",
       "    </tr>\n",
       "    <tr>\n",
       "      <th>1</th>\n",
       "      <td>24.77759</td>\n",
       "      <td>22.83188</td>\n",
       "      <td>22.58444</td>\n",
       "      <td>21.16812</td>\n",
       "      <td>21.61427</td>\n",
       "      <td>GALAXY</td>\n",
       "      <td>0.779136</td>\n",
       "      <td>10445</td>\n",
       "      <td>58158</td>\n",
       "    </tr>\n",
       "    <tr>\n",
       "      <th>2</th>\n",
       "      <td>25.26307</td>\n",
       "      <td>22.66389</td>\n",
       "      <td>20.60976</td>\n",
       "      <td>19.34857</td>\n",
       "      <td>18.94827</td>\n",
       "      <td>GALAXY</td>\n",
       "      <td>0.644195</td>\n",
       "      <td>4576</td>\n",
       "      <td>55592</td>\n",
       "    </tr>\n",
       "    <tr>\n",
       "      <th>3</th>\n",
       "      <td>22.13682</td>\n",
       "      <td>23.77656</td>\n",
       "      <td>21.61162</td>\n",
       "      <td>20.50454</td>\n",
       "      <td>19.25010</td>\n",
       "      <td>GALAXY</td>\n",
       "      <td>0.932346</td>\n",
       "      <td>9149</td>\n",
       "      <td>58039</td>\n",
       "    </tr>\n",
       "    <tr>\n",
       "      <th>4</th>\n",
       "      <td>19.43718</td>\n",
       "      <td>17.58028</td>\n",
       "      <td>16.49747</td>\n",
       "      <td>15.97711</td>\n",
       "      <td>15.54461</td>\n",
       "      <td>GALAXY</td>\n",
       "      <td>0.116123</td>\n",
       "      <td>6121</td>\n",
       "      <td>56187</td>\n",
       "    </tr>\n",
       "  </tbody>\n",
       "</table>\n",
       "</div>"
      ],
      "text/plain": [
       "          u         g         r         i         z   class  redshift  plate  \\\n",
       "0  23.87882  22.27530  20.39501  19.16573  18.79371  GALAXY  0.634794   5812   \n",
       "1  24.77759  22.83188  22.58444  21.16812  21.61427  GALAXY  0.779136  10445   \n",
       "2  25.26307  22.66389  20.60976  19.34857  18.94827  GALAXY  0.644195   4576   \n",
       "3  22.13682  23.77656  21.61162  20.50454  19.25010  GALAXY  0.932346   9149   \n",
       "4  19.43718  17.58028  16.49747  15.97711  15.54461  GALAXY  0.116123   6121   \n",
       "\n",
       "     MJD  \n",
       "0  56354  \n",
       "1  58158  \n",
       "2  55592  \n",
       "3  58039  \n",
       "4  56187  "
      ]
     },
     "execution_count": 4,
     "metadata": {},
     "output_type": "execute_result"
    }
   ],
   "source": [
    "df.head()"
   ]
  },
  {
   "cell_type": "code",
   "execution_count": 5,
   "metadata": {},
   "outputs": [
    {
     "data": {
      "text/html": [
       "<div>\n",
       "<style scoped>\n",
       "    .dataframe tbody tr th:only-of-type {\n",
       "        vertical-align: middle;\n",
       "    }\n",
       "\n",
       "    .dataframe tbody tr th {\n",
       "        vertical-align: top;\n",
       "    }\n",
       "\n",
       "    .dataframe thead th {\n",
       "        text-align: right;\n",
       "    }\n",
       "</style>\n",
       "<table border=\"1\" class=\"dataframe\">\n",
       "  <thead>\n",
       "    <tr style=\"text-align: right;\">\n",
       "      <th></th>\n",
       "      <th>count</th>\n",
       "      <th>mean</th>\n",
       "      <th>std</th>\n",
       "      <th>min</th>\n",
       "      <th>25%</th>\n",
       "      <th>50%</th>\n",
       "      <th>75%</th>\n",
       "      <th>max</th>\n",
       "    </tr>\n",
       "  </thead>\n",
       "  <tbody>\n",
       "    <tr>\n",
       "      <th>u</th>\n",
       "      <td>100000.0</td>\n",
       "      <td>21.980468</td>\n",
       "      <td>31.769291</td>\n",
       "      <td>-9999.000000</td>\n",
       "      <td>20.352353</td>\n",
       "      <td>22.179135</td>\n",
       "      <td>23.687440</td>\n",
       "      <td>32.781390</td>\n",
       "    </tr>\n",
       "    <tr>\n",
       "      <th>g</th>\n",
       "      <td>100000.0</td>\n",
       "      <td>20.531387</td>\n",
       "      <td>31.750292</td>\n",
       "      <td>-9999.000000</td>\n",
       "      <td>18.965230</td>\n",
       "      <td>21.099835</td>\n",
       "      <td>22.123767</td>\n",
       "      <td>31.602240</td>\n",
       "    </tr>\n",
       "    <tr>\n",
       "      <th>r</th>\n",
       "      <td>100000.0</td>\n",
       "      <td>19.645762</td>\n",
       "      <td>1.854760</td>\n",
       "      <td>9.822070</td>\n",
       "      <td>18.135828</td>\n",
       "      <td>20.125290</td>\n",
       "      <td>21.044785</td>\n",
       "      <td>29.571860</td>\n",
       "    </tr>\n",
       "    <tr>\n",
       "      <th>i</th>\n",
       "      <td>100000.0</td>\n",
       "      <td>19.084854</td>\n",
       "      <td>1.757895</td>\n",
       "      <td>9.469903</td>\n",
       "      <td>17.732285</td>\n",
       "      <td>19.405145</td>\n",
       "      <td>20.396495</td>\n",
       "      <td>32.141470</td>\n",
       "    </tr>\n",
       "    <tr>\n",
       "      <th>z</th>\n",
       "      <td>100000.0</td>\n",
       "      <td>18.668810</td>\n",
       "      <td>31.728152</td>\n",
       "      <td>-9999.000000</td>\n",
       "      <td>17.460677</td>\n",
       "      <td>19.004595</td>\n",
       "      <td>19.921120</td>\n",
       "      <td>29.383740</td>\n",
       "    </tr>\n",
       "    <tr>\n",
       "      <th>redshift</th>\n",
       "      <td>100000.0</td>\n",
       "      <td>0.576661</td>\n",
       "      <td>0.730707</td>\n",
       "      <td>-0.009971</td>\n",
       "      <td>0.054517</td>\n",
       "      <td>0.424173</td>\n",
       "      <td>0.704154</td>\n",
       "      <td>7.011245</td>\n",
       "    </tr>\n",
       "    <tr>\n",
       "      <th>plate</th>\n",
       "      <td>100000.0</td>\n",
       "      <td>5137.009660</td>\n",
       "      <td>2952.303351</td>\n",
       "      <td>266.000000</td>\n",
       "      <td>2526.000000</td>\n",
       "      <td>4987.000000</td>\n",
       "      <td>7400.250000</td>\n",
       "      <td>12547.000000</td>\n",
       "    </tr>\n",
       "    <tr>\n",
       "      <th>MJD</th>\n",
       "      <td>100000.0</td>\n",
       "      <td>55588.647500</td>\n",
       "      <td>1808.484233</td>\n",
       "      <td>51608.000000</td>\n",
       "      <td>54234.000000</td>\n",
       "      <td>55868.500000</td>\n",
       "      <td>56777.000000</td>\n",
       "      <td>58932.000000</td>\n",
       "    </tr>\n",
       "  </tbody>\n",
       "</table>\n",
       "</div>"
      ],
      "text/plain": [
       "             count          mean          std           min           25%  \\\n",
       "u         100000.0     21.980468    31.769291  -9999.000000     20.352353   \n",
       "g         100000.0     20.531387    31.750292  -9999.000000     18.965230   \n",
       "r         100000.0     19.645762     1.854760      9.822070     18.135828   \n",
       "i         100000.0     19.084854     1.757895      9.469903     17.732285   \n",
       "z         100000.0     18.668810    31.728152  -9999.000000     17.460677   \n",
       "redshift  100000.0      0.576661     0.730707     -0.009971      0.054517   \n",
       "plate     100000.0   5137.009660  2952.303351    266.000000   2526.000000   \n",
       "MJD       100000.0  55588.647500  1808.484233  51608.000000  54234.000000   \n",
       "\n",
       "                   50%           75%           max  \n",
       "u            22.179135     23.687440     32.781390  \n",
       "g            21.099835     22.123767     31.602240  \n",
       "r            20.125290     21.044785     29.571860  \n",
       "i            19.405145     20.396495     32.141470  \n",
       "z            19.004595     19.921120     29.383740  \n",
       "redshift      0.424173      0.704154      7.011245  \n",
       "plate      4987.000000   7400.250000  12547.000000  \n",
       "MJD       55868.500000  56777.000000  58932.000000  "
      ]
     },
     "execution_count": 5,
     "metadata": {},
     "output_type": "execute_result"
    }
   ],
   "source": [
    "df.describe().transpose()"
   ]
  },
  {
   "attachments": {},
   "cell_type": "markdown",
   "metadata": {},
   "source": [
    "Перенесем целевую переменную в конец датафрейма."
   ]
  },
  {
   "cell_type": "code",
   "execution_count": 6,
   "metadata": {},
   "outputs": [
    {
     "data": {
      "text/plain": [
       "Index(['u', 'g', 'r', 'i', 'z', 'class', 'redshift', 'plate', 'MJD'], dtype='object')"
      ]
     },
     "execution_count": 6,
     "metadata": {},
     "output_type": "execute_result"
    }
   ],
   "source": [
    "df.columns"
   ]
  },
  {
   "cell_type": "code",
   "execution_count": 7,
   "metadata": {},
   "outputs": [],
   "source": [
    "df = df[['u', 'g', 'r', 'i', 'z', 'redshift', 'plate', 'MJD', 'class']]"
   ]
  },
  {
   "cell_type": "code",
   "execution_count": 8,
   "metadata": {},
   "outputs": [
    {
     "name": "stdout",
     "output_type": "stream",
     "text": [
      "<class 'pandas.core.frame.DataFrame'>\n",
      "RangeIndex: 100000 entries, 0 to 99999\n",
      "Data columns (total 9 columns):\n",
      " #   Column    Non-Null Count   Dtype  \n",
      "---  ------    --------------   -----  \n",
      " 0   u         100000 non-null  float64\n",
      " 1   g         100000 non-null  float64\n",
      " 2   r         100000 non-null  float64\n",
      " 3   i         100000 non-null  float64\n",
      " 4   z         100000 non-null  float64\n",
      " 5   redshift  100000 non-null  float64\n",
      " 6   plate     100000 non-null  int64  \n",
      " 7   MJD       100000 non-null  int64  \n",
      " 8   class     100000 non-null  object \n",
      "dtypes: float64(6), int64(2), object(1)\n",
      "memory usage: 6.9+ MB\n"
     ]
    }
   ],
   "source": [
    "df.info()"
   ]
  },
  {
   "attachments": {},
   "cell_type": "markdown",
   "metadata": {},
   "source": [
    "Пропусков нет, это хорошо. Разобъем колонки по категориям"
   ]
  },
  {
   "cell_type": "code",
   "execution_count": 9,
   "metadata": {},
   "outputs": [],
   "source": [
    "numeric_features = df.select_dtypes(include=['int', 'float']).columns\n",
    "categorical_features = df.select_dtypes(include=['object']).columns\n",
    "target = df.columns[-1]"
   ]
  },
  {
   "cell_type": "code",
   "execution_count": 10,
   "metadata": {},
   "outputs": [
    {
     "data": {
      "text/plain": [
       "Index(['u', 'g', 'r', 'i', 'z', 'redshift', 'plate', 'MJD'], dtype='object')"
      ]
     },
     "execution_count": 10,
     "metadata": {},
     "output_type": "execute_result"
    }
   ],
   "source": [
    "numeric_features"
   ]
  },
  {
   "cell_type": "code",
   "execution_count": 11,
   "metadata": {},
   "outputs": [
    {
     "data": {
      "text/plain": [
       "Index(['class'], dtype='object')"
      ]
     },
     "execution_count": 11,
     "metadata": {},
     "output_type": "execute_result"
    }
   ],
   "source": [
    "categorical_features"
   ]
  },
  {
   "cell_type": "code",
   "execution_count": 12,
   "metadata": {},
   "outputs": [
    {
     "data": {
      "text/plain": [
       "'class'"
      ]
     },
     "execution_count": 12,
     "metadata": {},
     "output_type": "execute_result"
    }
   ],
   "source": [
    "target"
   ]
  },
  {
   "attachments": {},
   "cell_type": "markdown",
   "metadata": {},
   "source": [
    "Взглянем на распредения переменных в зависимости от целевого значения. Однако датасет довольно большой. Положимся на удачу и вместо всего датасета посмотрим на его сэмпл."
   ]
  },
  {
   "cell_type": "code",
   "execution_count": 13,
   "metadata": {},
   "outputs": [
    {
     "data": {
      "text/plain": [
       "GALAXY    59445\n",
       "STAR      21594\n",
       "QSO       18961\n",
       "Name: class, dtype: int64"
      ]
     },
     "execution_count": 13,
     "metadata": {},
     "output_type": "execute_result"
    }
   ],
   "source": [
    "df[\"class\"].value_counts()"
   ]
  },
  {
   "cell_type": "code",
   "execution_count": 14,
   "metadata": {},
   "outputs": [
    {
     "data": {
      "image/png": "[encoded data removed]",
      "text/plain": [
       "<Figure size 640x480 with 1 Axes>"
      ]
     },
     "metadata": {},
     "output_type": "display_data"
    },
    {
     "data": {
      "image/png": "[encoded data removed]",
      "text/plain": [
       "<Figure size 640x480 with 1 Axes>"
      ]
     },
     "metadata": {},
     "output_type": "display_data"
    },
    {
     "data": {
      "image/png": "[encoded data removed]",
      "text/plain": [
       "<Figure size 640x480 with 1 Axes>"
      ]
     },
     "metadata": {},
     "output_type": "display_data"
    },
    {
     "data": {
      "image/png": "[encoded data removed]",
      "text/plain": [
       "<Figure size 640x480 with 1 Axes>"
      ]
     },
     "metadata": {},
     "output_type": "display_data"
    },
    {
     "data": {
      "image/png": "[encoded data removed]",
      "text/plain": [
       "<Figure size 640x480 with 1 Axes>"
      ]
     },
     "metadata": {},
     "output_type": "display_data"
    },
    {
     "data": {
      "image/png": "[encoded data removed]",
      "text/plain": [
       "<Figure size 640x480 with 1 Axes>"
      ]
     },
     "metadata": {},
     "output_type": "display_data"
    },
    {
     "data": {
      "image/png": "[encoded data removed]",
      "text/plain": [
       "<Figure size 640x480 with 1 Axes>"
      ]
     },
     "metadata": {},
     "output_type": "display_data"
    },
    {
     "data": {
      "image/png": "[encoded data removed]",
      "text/plain": [
       "<Figure size 640x480 with 1 Axes>"
      ]
     },
     "metadata": {},
     "output_type": "display_data"
    }
   ],
   "source": [
    "for feature in numeric_features:\n",
    "    if feature != target:\n",
    "        sns.histplot(data=df.sample(n=2000, random_state=0), x=feature, hue=target)\n",
    "        plt.show()"
   ]
  },
  {
   "attachments": {},
   "cell_type": "markdown",
   "metadata": {},
   "source": [
    "Распределения самые разные."
   ]
  },
  {
   "attachments": {},
   "cell_type": "markdown",
   "metadata": {},
   "source": [
    "Перекодируем категориальную переменную."
   ]
  },
  {
   "cell_type": "code",
   "execution_count": 15,
   "metadata": {},
   "outputs": [],
   "source": [
    "df[\"class\"] = df[\"class\"].map({\"GALAXY\": 0, \"STAR\": 1, \"QSO\": 2})"
   ]
  },
  {
   "attachments": {},
   "cell_type": "markdown",
   "metadata": {},
   "source": [
    "Поделимся на параметры и таргет, а потом на трейн и тест."
   ]
  },
  {
   "cell_type": "code",
   "execution_count": 16,
   "metadata": {},
   "outputs": [],
   "source": [
    "x, y = df.iloc[:, :-1], df.iloc[:, -1:]"
   ]
  },
  {
   "cell_type": "code",
   "execution_count": 17,
   "metadata": {},
   "outputs": [],
   "source": [
    "x_train, x_test, y_train, y_test = train_test_split(x, y, test_size=0.3, random_state=0)"
   ]
  },
  {
   "attachments": {},
   "cell_type": "markdown",
   "metadata": {},
   "source": [
    "Обучим и применим скеллер."
   ]
  },
  {
   "cell_type": "code",
   "execution_count": 18,
   "metadata": {},
   "outputs": [],
   "source": [
    "st_scaller = StandardScaler()"
   ]
  },
  {
   "cell_type": "code",
   "execution_count": 19,
   "metadata": {},
   "outputs": [],
   "source": [
    "x_train = st_scaller.fit_transform(x_train)\n",
    "x_test = st_scaller.transform(x_test)"
   ]
  },
  {
   "attachments": {},
   "cell_type": "markdown",
   "metadata": {},
   "source": [
    "Обучим ансамблевые модели и сравним их результаты."
   ]
  },
  {
   "attachments": {},
   "cell_type": "markdown",
   "metadata": {},
   "source": [
    "* Случайный лес"
   ]
  },
  {
   "cell_type": "code",
   "execution_count": 20,
   "metadata": {},
   "outputs": [],
   "source": [
    "rnd_tree_clf = RandomForestClassifier(random_state=0,\n",
    "                                      n_estimators=100,\n",
    "                                      n_jobs=-1)\n",
    "\n",
    "rnd_tree_clf.fit(x_train, y_train.values.ravel())\n",
    "y_pred = rnd_tree_clf.predict(x_test)"
   ]
  },
  {
   "cell_type": "code",
   "execution_count": 21,
   "metadata": {},
   "outputs": [
    {
     "data": {
      "text/plain": [
       "(0.978614116196333, 0.9718825687049657)"
      ]
     },
     "execution_count": 21,
     "metadata": {},
     "output_type": "execute_result"
    }
   ],
   "source": [
    "precision_score(y_test, y_pred, average='macro'), recall_score(y_test, y_pred, average='macro')"
   ]
  },
  {
   "cell_type": "code",
   "execution_count": 22,
   "metadata": {},
   "outputs": [
    {
     "data": {
      "text/plain": [
       "array([[17576,    37,   196],\n",
       "       [    7,  6543,     0],\n",
       "       [  395,     1,  5245]], dtype=int64)"
      ]
     },
     "execution_count": 22,
     "metadata": {},
     "output_type": "execute_result"
    }
   ],
   "source": [
    "confusion_matrix(y_test, y_pred)"
   ]
  },
  {
   "attachments": {},
   "cell_type": "markdown",
   "metadata": {},
   "source": [
    "* Градиентный бустинг"
   ]
  },
  {
   "cell_type": "code",
   "execution_count": 23,
   "metadata": {},
   "outputs": [],
   "source": [
    "grad_boost_clf = GradientBoostingClassifier(random_state=0,\n",
    "                                            max_depth = 4,\n",
    "                                            n_estimators=100)\n",
    "\n",
    "grad_boost_clf.fit(x_train, y_train.values.ravel())\n",
    "y_pred = grad_boost_clf.predict(x_test)"
   ]
  },
  {
   "cell_type": "code",
   "execution_count": 24,
   "metadata": {},
   "outputs": [
    {
     "data": {
      "text/plain": [
       "(0.9774551311044672, 0.9700385335683145)"
      ]
     },
     "execution_count": 24,
     "metadata": {},
     "output_type": "execute_result"
    }
   ],
   "source": [
    "precision_score(y_test, y_pred, average='macro'), recall_score(y_test, y_pred, average='macro')"
   ]
  },
  {
   "cell_type": "code",
   "execution_count": 25,
   "metadata": {},
   "outputs": [
    {
     "data": {
      "text/plain": [
       "array([[17570,    18,   221],\n",
       "       [   11,  6538,     1],\n",
       "       [  420,     1,  5220]], dtype=int64)"
      ]
     },
     "execution_count": 25,
     "metadata": {},
     "output_type": "execute_result"
    }
   ],
   "source": [
    "confusion_matrix(y_test, y_pred)"
   ]
  },
  {
   "attachments": {},
   "cell_type": "markdown",
   "metadata": {},
   "source": [
    "* Адаптивный бустинг"
   ]
  },
  {
   "cell_type": "code",
   "execution_count": 26,
   "metadata": {},
   "outputs": [],
   "source": [
    "# ada_boost_clf = AdaBoostClassifier(SVC(kernel='rbf', C=1, random_state=0),\n",
    "#                                    n_estimators=50,\n",
    "#                                    algorithm=\"SAMME\",\n",
    "#                                    random_state=0)\n",
    "# ada_boost_clf.fit(x_train, y_train.values.ravel())\n",
    "# y_pred = ada_boost_clf.predict(x_test)"
   ]
  },
  {
   "cell_type": "code",
   "execution_count": 27,
   "metadata": {},
   "outputs": [],
   "source": [
    "# precision_score(y_test, y_pred, average='macro'), recall_score(y_test, y_pred, average='macro')"
   ]
  },
  {
   "cell_type": "code",
   "execution_count": 28,
   "metadata": {},
   "outputs": [],
   "source": [
    "# confusion_matrix(y_test, y_pred)"
   ]
  },
  {
   "cell_type": "code",
   "execution_count": 29,
   "metadata": {},
   "outputs": [],
   "source": [
    "ada_boost_clf = AdaBoostClassifier(DecisionTreeClassifier(random_state=0),\n",
    "                                   n_estimators=50,\n",
    "                                   algorithm=\"SAMME\",\n",
    "                                   random_state=0)\n",
    "ada_boost_clf.fit(x_train, y_train.values.ravel())\n",
    "y_pred = ada_boost_clf.predict(x_test)"
   ]
  },
  {
   "cell_type": "code",
   "execution_count": 30,
   "metadata": {},
   "outputs": [
    {
     "data": {
      "text/plain": [
       "(0.9595281004358712, 0.9602094142428648)"
      ]
     },
     "execution_count": 30,
     "metadata": {},
     "output_type": "execute_result"
    }
   ],
   "source": [
    "precision_score(y_test, y_pred, average='macro'), recall_score(y_test, y_pred, average='macro')"
   ]
  },
  {
   "cell_type": "code",
   "execution_count": 31,
   "metadata": {},
   "outputs": [
    {
     "data": {
      "text/plain": [
       "array([[17282,    14,   513],\n",
       "       [   38,  6510,     2],\n",
       "       [  472,     0,  5169]], dtype=int64)"
      ]
     },
     "execution_count": 31,
     "metadata": {},
     "output_type": "execute_result"
    }
   ],
   "source": [
    "confusion_matrix(y_test, y_pred)"
   ]
  },
  {
   "attachments": {},
   "cell_type": "markdown",
   "metadata": {},
   "source": [
    "Сравним полученные данные с обычным деревом и SVC-классификатором, но уже с подбором параметров."
   ]
  },
  {
   "attachments": {},
   "cell_type": "markdown",
   "metadata": {},
   "source": [
    "* SVC"
   ]
  },
  {
   "cell_type": "code",
   "execution_count": 32,
   "metadata": {},
   "outputs": [
    {
     "name": "stderr",
     "output_type": "stream",
     "text": [
      "c:\\Users\\Николай\\AppData\\Local\\Programs\\Python\\Python310\\lib\\site-packages\\sklearn\\model_selection\\_search.py:306: UserWarning: The total space of parameters 8 is smaller than n_iter=50. Running 8 iterations. For exhaustive searches, use GridSearchCV.\n",
      "  warnings.warn(\n"
     ]
    },
    {
     "data": {
      "text/plain": [
       "{'C': 1000}"
      ]
     },
     "execution_count": 32,
     "metadata": {},
     "output_type": "execute_result"
    }
   ],
   "source": [
    "param_distributions = {\"C\": [0.001, 0.01, 0.1, 1, 5, 10, 100, 1000]}\n",
    "\n",
    "svm_search = RandomizedSearchCV(estimator=SVC(random_state=0, kernel=\"rbf\"),\n",
    "                             param_distributions=param_distributions,\n",
    "                             n_iter=50,\n",
    "                             random_state=0)\n",
    "\n",
    "svm_search.fit(x_train, y_train.values.ravel())\n",
    "svm_search.best_params_"
   ]
  },
  {
   "cell_type": "code",
   "execution_count": 33,
   "metadata": {},
   "outputs": [],
   "source": [
    "svm_clf = svm_search.best_estimator_\n",
    "y_pred = svm_clf.predict(x_test)"
   ]
  },
  {
   "cell_type": "code",
   "execution_count": 34,
   "metadata": {},
   "outputs": [
    {
     "data": {
      "text/plain": [
       "(0.971543147418763, 0.968475907377793)"
      ]
     },
     "execution_count": 34,
     "metadata": {},
     "output_type": "execute_result"
    }
   ],
   "source": [
    "precision_score(y_test, y_pred, average='macro'), recall_score(y_test, y_pred, average='macro')"
   ]
  },
  {
   "cell_type": "code",
   "execution_count": 35,
   "metadata": {},
   "outputs": [
    {
     "data": {
      "text/plain": [
       "array([[17446,   170,   193],\n",
       "       [   18,  6532,     0],\n",
       "       [  393,    10,  5238]], dtype=int64)"
      ]
     },
     "execution_count": 35,
     "metadata": {},
     "output_type": "execute_result"
    }
   ],
   "source": [
    "confusion_matrix(y_test, y_pred)"
   ]
  },
  {
   "attachments": {},
   "cell_type": "markdown",
   "metadata": {},
   "source": [
    "* Дерево решений"
   ]
  },
  {
   "cell_type": "code",
   "execution_count": 36,
   "metadata": {},
   "outputs": [
    {
     "data": {
      "text/plain": [
       "{'criterion': 'gini',\n",
       " 'max_depth': 19,\n",
       " 'max_features': 'log2',\n",
       " 'max_leaf_nodes': 9,\n",
       " 'min_samples_leaf': 5,\n",
       " 'min_samples_split': 4,\n",
       " 'splitter': 'best'}"
      ]
     },
     "execution_count": 36,
     "metadata": {},
     "output_type": "execute_result"
    }
   ],
   "source": [
    "param_distributions = {\"criterion\": [\"gini\", \"entropy\", \"log_loss\"],\n",
    "                       \"splitter\": [\"best\", \"random\"],\n",
    "                       \"max_depth\": randint(2, 20),\n",
    "                       \"min_samples_split\": randint(2, 10),\n",
    "                       \"min_samples_leaf\": randint(2, 10),\n",
    "                       \"max_leaf_nodes\": randint(2, 10),\n",
    "                       \"max_features\": [\"sqrt\", \"log2\"]}\n",
    "\n",
    "tree_search = RandomizedSearchCV(estimator=DecisionTreeClassifier(random_state=0),\n",
    "                             param_distributions=param_distributions,\n",
    "                             n_iter=500,\n",
    "                             random_state=0)\n",
    "\n",
    "tree_search.fit(x_train, y_train.values.ravel())\n",
    "tree_search.best_params_"
   ]
  },
  {
   "cell_type": "code",
   "execution_count": 37,
   "metadata": {},
   "outputs": [],
   "source": [
    "tree_clf = tree_search.best_estimator_\n",
    "y_pred = tree_clf.predict(x_test)"
   ]
  },
  {
   "cell_type": "code",
   "execution_count": 38,
   "metadata": {},
   "outputs": [
    {
     "data": {
      "text/plain": [
       "(0.9548789205634153, 0.9302118758558203)"
      ]
     },
     "execution_count": 38,
     "metadata": {},
     "output_type": "execute_result"
    }
   ],
   "source": [
    "precision_score(y_test, y_pred, average='macro'), recall_score(y_test, y_pred, average='macro')"
   ]
  },
  {
   "cell_type": "code",
   "execution_count": 39,
   "metadata": {},
   "outputs": [
    {
     "data": {
      "text/plain": [
       "array([[17385,   154,   270],\n",
       "       [    2,  6548,     0],\n",
       "       [ 1044,     1,  4596]], dtype=int64)"
      ]
     },
     "execution_count": 39,
     "metadata": {},
     "output_type": "execute_result"
    }
   ],
   "source": [
    "confusion_matrix(y_test, y_pred)"
   ]
  },
  {
   "attachments": {},
   "cell_type": "markdown",
   "metadata": {},
   "source": [
    "Выводы:\n",
    "* Лучше всех себя показал Случайный лес, затем Гридиентный бустинг, затем SVC.\n",
    "* Ансамблевые методы прямо из коробки (в основном) лучше, чем Дерево решений или SVC с подбором параметров.\n",
    "* Подследний кстати на данных такого размера очень долго обучался... Адаптивный бустинг на основе SVC и подавно..."
   ]
  }
 ],
 "metadata": {
  "kernelspec": {
   "display_name": "Python 3",
   "language": "python",
   "name": "python3"
  },
  "language_info": {
   "codemirror_mode": {
    "name": "ipython",
    "version": 3
   },
   "file_extension": ".py",
   "mimetype": "text/x-python",
   "name": "python",
   "nbconvert_exporter": "python",
   "pygments_lexer": "ipython3",
   "version": "3.10.7"
  },
  "orig_nbformat": 4
 },
 "nbformat": 4,
 "nbformat_minor": 2
}
