{
 "cells": [
  {
   "attachments": {},
   "cell_type": "markdown",
   "metadata": {},
   "source": [
    "Сделаем преобработку файлов, выделив валидационную выборку. Оценим количество изображений по классам и их размер."
   ]
  },
  {
   "cell_type": "code",
   "execution_count": 1,
   "metadata": {},
   "outputs": [],
   "source": [
    "import os\n",
    "import shutil\n",
    "import random\n",
    "\n",
    "import pandas as pd\n",
    "import seaborn as sns\n",
    "\n",
    "from pathlib import Path\n",
    "from PIL import Image, UnidentifiedImageError\n",
    "from tqdm import tqdm"
   ]
  },
  {
   "cell_type": "code",
   "execution_count": 2,
   "metadata": {},
   "outputs": [],
   "source": [
    "random.seed(0)\n",
    "\n",
    "FILE_NAME = 'FORLEARNFULL022022.zip'\n",
    "FILE_PATH = os.getcwd()"
   ]
  },
  {
   "cell_type": "code",
   "execution_count": 3,
   "metadata": {},
   "outputs": [
    {
     "name": "stderr",
     "output_type": "stream",
     "text": [
      "108593it [16:05, 112.44it/s]"
     ]
    },
    {
     "name": "stdout",
     "output_type": "stream",
     "text": [
      "Удалено 0 битых избражений\n",
      "Ширина изображений лежит в диапазоне от 224 до 224\n",
      "Высота изображений лежит в диапазоне от 126 до 126\n"
     ]
    },
    {
     "name": "stderr",
     "output_type": "stream",
     "text": [
      "\n"
     ]
    }
   ],
   "source": [
    "if not os.path.exists(FILE_PATH + '/dataset'):\n",
    "    # распаковываем архив\n",
    "    shutil.unpack_archive(FILE_NAME, FILE_PATH)\n",
    "\n",
    "    # переименовываем папку\n",
    "    os.rename('FORLEARNFULL', 'dataset')\n",
    "\n",
    "    # создаем папку для валидационной выборки\n",
    "    os.makedirs(FILE_PATH + '/dataset/to_val')\n",
    "\n",
    "    # перемещаем до 10% изображений из тренировочного сета в валидацонный\n",
    "    for dir in os.listdir(FILE_PATH + '/dataset/to_train'):\n",
    "        os.makedirs(FILE_PATH + '/dataset/to_val/' + dir)\n",
    "\n",
    "        files = os.listdir(FILE_PATH + f'/dataset/to_train/{dir}')\n",
    "        files_to_copy_count = len(files)//10\n",
    "        files_to_copy = []\n",
    "\n",
    "        for _ in range(files_to_copy_count):\n",
    "            files_to_copy.append(random.choice(files))\n",
    "        \n",
    "        # удаляем битые файлы, которые выкидывают ошибку при открытии\n",
    "        for file in files_to_copy:\n",
    "            copy_from = FILE_PATH + f'/dataset/to_train/{dir}/{file}'\n",
    "            copy_to = FILE_PATH + f'/dataset/to_val/{dir}/{file}'\n",
    "            try:\n",
    "                shutil.copyfile(copy_from, copy_to)\n",
    "            except FileNotFoundError:\n",
    "                pass\n",
    "\n",
    "            try:\n",
    "                os.remove(copy_from)\n",
    "            except FileNotFoundError:\n",
    "                pass\n",
    "\n",
    "# почистим картинки от битых файлов\n",
    "# вместе с тем узнаем размер изображений\n",
    "counter = 0\n",
    "min_width = float('inf')\n",
    "max_width = 0\n",
    "min_height = float('inf')\n",
    "max_height = 0\n",
    "\n",
    "files = Path(FILE_PATH + '/dataset').rglob(\"*.jpg\")\n",
    "for file in tqdm(files):\n",
    "    try:\n",
    "        img = Image.open(file)\n",
    "    except UnidentifiedImageError:\n",
    "        counter += 1\n",
    "        os.remove(file)\n",
    "    \n",
    "    width, height = img.size\n",
    "    min_width = min(min_width, width)\n",
    "    max_width = max(max_width, width)\n",
    "    min_height = min(min_height, height)\n",
    "    max_height = max(max_height, height)\n",
    "\n",
    "print(f'Удалено {counter} битых избражений')\n",
    "print(f'Ширина изображений лежит в диапазоне от {min_width} до {max_width}')\n",
    "print(f'Высота изображений лежит в диапазоне от {min_height} до {max_height}')"
   ]
  },
  {
   "attachments": {},
   "cell_type": "markdown",
   "metadata": {},
   "source": [
    "Создадим датафрейм с именами изоражений."
   ]
  },
  {
   "cell_type": "code",
   "execution_count": 4,
   "metadata": {},
   "outputs": [],
   "source": [
    "files = Path(FILE_PATH + '/dataset').rglob(\"*.jpg\")\n",
    "df = pd.DataFrame(data={'path': list(files)})"
   ]
  },
  {
   "cell_type": "code",
   "execution_count": 5,
   "metadata": {},
   "outputs": [],
   "source": [
    "df['filename'] = df['path'].apply(lambda x: os.path.basename(x))\n",
    "df['category'] = df['path'].apply(lambda x: os.path.basename(os.path.dirname(x)))\n",
    "df['set'] = df['path'].apply(lambda x: os.path.basename(os.path.dirname(os.path.dirname(x))))\n",
    "df.drop('path', axis=1, inplace=True)"
   ]
  },
  {
   "cell_type": "code",
   "execution_count": 6,
   "metadata": {},
   "outputs": [
    {
     "data": {
      "text/html": [
       "<div>\n",
       "<style scoped>\n",
       "    .dataframe tbody tr th:only-of-type {\n",
       "        vertical-align: middle;\n",
       "    }\n",
       "\n",
       "    .dataframe tbody tr th {\n",
       "        vertical-align: top;\n",
       "    }\n",
       "\n",
       "    .dataframe thead th {\n",
       "        text-align: right;\n",
       "    }\n",
       "</style>\n",
       "<table border=\"1\" class=\"dataframe\">\n",
       "  <thead>\n",
       "    <tr style=\"text-align: right;\">\n",
       "      <th></th>\n",
       "      <th>filename</th>\n",
       "      <th>category</th>\n",
       "      <th>set</th>\n",
       "    </tr>\n",
       "  </thead>\n",
       "  <tbody>\n",
       "    <tr>\n",
       "      <th>0</th>\n",
       "      <td>12496175_b29025_c1757_user_652_T.jpg</td>\n",
       "      <td>01</td>\n",
       "      <td>to_test</td>\n",
       "    </tr>\n",
       "    <tr>\n",
       "      <th>1</th>\n",
       "      <td>13690341_b235_c1781_user_1_T.jpg</td>\n",
       "      <td>01</td>\n",
       "      <td>to_test</td>\n",
       "    </tr>\n",
       "    <tr>\n",
       "      <th>2</th>\n",
       "      <td>17874100_b245_c347_user_649_T.jpg</td>\n",
       "      <td>01</td>\n",
       "      <td>to_test</td>\n",
       "    </tr>\n",
       "    <tr>\n",
       "      <th>3</th>\n",
       "      <td>18685576_b66316_c2361_user_652_T.jpg</td>\n",
       "      <td>01</td>\n",
       "      <td>to_test</td>\n",
       "    </tr>\n",
       "    <tr>\n",
       "      <th>4</th>\n",
       "      <td>20490681_b15835_c1453_user_652_T.jpg</td>\n",
       "      <td>01</td>\n",
       "      <td>to_test</td>\n",
       "    </tr>\n",
       "  </tbody>\n",
       "</table>\n",
       "</div>"
      ],
      "text/plain": [
       "                               filename category      set\n",
       "0  12496175_b29025_c1757_user_652_T.jpg       01  to_test\n",
       "1      13690341_b235_c1781_user_1_T.jpg       01  to_test\n",
       "2     17874100_b245_c347_user_649_T.jpg       01  to_test\n",
       "3  18685576_b66316_c2361_user_652_T.jpg       01  to_test\n",
       "4  20490681_b15835_c1453_user_652_T.jpg       01  to_test"
      ]
     },
     "execution_count": 6,
     "metadata": {},
     "output_type": "execute_result"
    }
   ],
   "source": [
    "df.head()"
   ]
  },
  {
   "cell_type": "code",
   "execution_count": 7,
   "metadata": {},
   "outputs": [
    {
     "data": {
      "image/png": "[encoded data removed]",
      "text/plain": [
       "<Figure size 640x480 with 1 Axes>"
      ]
     },
     "metadata": {},
     "output_type": "display_data"
    }
   ],
   "source": [
    "sns.histplot(data=df, x='category', hue='set');"
   ]
  },
  {
   "cell_type": "code",
   "execution_count": 8,
   "metadata": {},
   "outputs": [
    {
     "data": {
      "text/html": [
       "<div>\n",
       "<style scoped>\n",
       "    .dataframe tbody tr th:only-of-type {\n",
       "        vertical-align: middle;\n",
       "    }\n",
       "\n",
       "    .dataframe tbody tr th {\n",
       "        vertical-align: top;\n",
       "    }\n",
       "\n",
       "    .dataframe thead th {\n",
       "        text-align: right;\n",
       "    }\n",
       "</style>\n",
       "<table border=\"1\" class=\"dataframe\">\n",
       "  <thead>\n",
       "    <tr style=\"text-align: right;\">\n",
       "      <th></th>\n",
       "      <th>filename</th>\n",
       "    </tr>\n",
       "    <tr>\n",
       "      <th>category</th>\n",
       "      <th></th>\n",
       "    </tr>\n",
       "  </thead>\n",
       "  <tbody>\n",
       "    <tr>\n",
       "      <th>01</th>\n",
       "      <td>0.008978</td>\n",
       "    </tr>\n",
       "    <tr>\n",
       "      <th>02</th>\n",
       "      <td>0.120846</td>\n",
       "    </tr>\n",
       "    <tr>\n",
       "      <th>03</th>\n",
       "      <td>0.125726</td>\n",
       "    </tr>\n",
       "    <tr>\n",
       "      <th>Avar</th>\n",
       "      <td>0.140562</td>\n",
       "    </tr>\n",
       "    <tr>\n",
       "      <th>Medical</th>\n",
       "      <td>0.122144</td>\n",
       "    </tr>\n",
       "    <tr>\n",
       "      <th>Nothing</th>\n",
       "      <td>0.215741</td>\n",
       "    </tr>\n",
       "    <tr>\n",
       "      <th>Post</th>\n",
       "      <td>0.055924</td>\n",
       "    </tr>\n",
       "    <tr>\n",
       "      <th>Tractor</th>\n",
       "      <td>0.104694</td>\n",
       "    </tr>\n",
       "    <tr>\n",
       "      <th>Truck</th>\n",
       "      <td>0.105384</td>\n",
       "    </tr>\n",
       "  </tbody>\n",
       "</table>\n",
       "</div>"
      ],
      "text/plain": [
       "          filename\n",
       "category          \n",
       "01        0.008978\n",
       "02        0.120846\n",
       "03        0.125726\n",
       "Avar      0.140562\n",
       "Medical   0.122144\n",
       "Nothing   0.215741\n",
       "Post      0.055924\n",
       "Tractor   0.104694\n",
       "Truck     0.105384"
      ]
     },
     "execution_count": 8,
     "metadata": {},
     "output_type": "execute_result"
    }
   ],
   "source": [
    "df.groupby(['category']).aggregate({'filename': 'count'}) / len(df)"
   ]
  },
  {
   "cell_type": "code",
   "execution_count": 9,
   "metadata": {},
   "outputs": [
    {
     "data": {
      "text/html": [
       "<div>\n",
       "<style scoped>\n",
       "    .dataframe tbody tr th:only-of-type {\n",
       "        vertical-align: middle;\n",
       "    }\n",
       "\n",
       "    .dataframe tbody tr th {\n",
       "        vertical-align: top;\n",
       "    }\n",
       "\n",
       "    .dataframe thead th {\n",
       "        text-align: right;\n",
       "    }\n",
       "</style>\n",
       "<table border=\"1\" class=\"dataframe\">\n",
       "  <thead>\n",
       "    <tr style=\"text-align: right;\">\n",
       "      <th></th>\n",
       "      <th>filename</th>\n",
       "    </tr>\n",
       "    <tr>\n",
       "      <th>set</th>\n",
       "      <th></th>\n",
       "    </tr>\n",
       "  </thead>\n",
       "  <tbody>\n",
       "    <tr>\n",
       "      <th>to_test</th>\n",
       "      <td>0.172111</td>\n",
       "    </tr>\n",
       "    <tr>\n",
       "      <th>to_train</th>\n",
       "      <td>0.749045</td>\n",
       "    </tr>\n",
       "    <tr>\n",
       "      <th>to_val</th>\n",
       "      <td>0.078845</td>\n",
       "    </tr>\n",
       "  </tbody>\n",
       "</table>\n",
       "</div>"
      ],
      "text/plain": [
       "          filename\n",
       "set               \n",
       "to_test   0.172111\n",
       "to_train  0.749045\n",
       "to_val    0.078845"
      ]
     },
     "execution_count": 9,
     "metadata": {},
     "output_type": "execute_result"
    }
   ],
   "source": [
    "df.groupby(['set']).aggregate({'filename': 'count'}) / len(df)"
   ]
  },
  {
   "cell_type": "code",
   "execution_count": 13,
   "metadata": {},
   "outputs": [],
   "source": [
    "img = None\n",
    "\n",
    "# Упакуем новый архив и удалим папку.\n",
    "if not os.path.exists(FILE_PATH + '/dataset.zip'):\n",
    "    shutil.make_archive(FILE_PATH + '/dataset', 'zip', FILE_PATH + '/dataset')\n",
    "\n",
    "if os.path.exists(FILE_PATH + '/dataset'):\n",
    "    shutil.rmtree(FILE_PATH + '/dataset')"
   ]
  }
 ],
 "metadata": {
  "kernelspec": {
   "display_name": "Python 3",
   "language": "python",
   "name": "python3"
  },
  "language_info": {
   "codemirror_mode": {
    "name": "ipython",
    "version": 3
   },
   "file_extension": ".py",
   "mimetype": "text/x-python",
   "name": "python",
   "nbconvert_exporter": "python",
   "pygments_lexer": "ipython3",
   "version": "3.10.7"
  },
  "orig_nbformat": 4
 },
 "nbformat": 4,
 "nbformat_minor": 2
}
