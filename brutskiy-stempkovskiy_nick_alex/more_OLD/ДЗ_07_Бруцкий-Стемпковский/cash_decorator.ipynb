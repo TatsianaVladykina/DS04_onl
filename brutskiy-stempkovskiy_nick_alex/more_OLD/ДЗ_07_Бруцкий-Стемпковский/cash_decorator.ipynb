{
 "cells": [
  {
   "cell_type": "markdown",
   "metadata": {},
   "source": [
    "29092022\n",
    "Бруцкий-Стемпковский\n",
    "v. 01\n",
    "\n",
    "Декораторы\n",
    "\n",
    "Реализуем декоратор, который кэширует результат функции при одинаковых входных данных на ближайшие три запуска, после чего вновь переопределяет ее значение заново."
   ]
  },
  {
   "cell_type": "markdown",
   "metadata": {},
   "source": [
    "Напишем декоратор с вложенной кэширующей функцией. Для проверки корректной работы будем выводить время, затраченное на выполнение операции."
   ]
  },
  {
   "cell_type": "code",
   "execution_count": 1,
   "metadata": {},
   "outputs": [],
   "source": [
    "def global_decorator(count = 3):\n",
    "    def decorator(func):\n",
    "        import time\n",
    "        #кэширующая функция с логикой\n",
    "        def cash(arg):\n",
    "            start = time.time()\n",
    "            if not (func, arg) in dict_of_values:\n",
    "                #если функция ещё не вызывалась, или вызывается в 4-й раз\n",
    "                #кэшируем её со счётчиком оставшихся использований\n",
    "                res = func(arg)\n",
    "                dict_of_values[(func, arg)] = [res, count]\n",
    "                print(\"Кэшируем значение\")\n",
    "            else:\n",
    "                #если результат функции есть в памяти, вытащим ее оттуда\n",
    "                #проверим, может нужно память уже и очищать...\n",
    "                res = dict_of_values[(func, arg)][0]\n",
    "                dict_of_values[(func, arg)][1] -= 1\n",
    "                if dict_of_values[(func, arg)][1] == 0:\n",
    "                    dict_of_values.pop((func, arg))\n",
    "                print(\"Извлекаем значение из памяти\")\n",
    "            end = time.time()\n",
    "            time_ = round(end - start, 2)\n",
    "            print(f\"Затраченное время {time_} с\")\n",
    "            return res\n",
    "        dict_of_values = {}\n",
    "        return cash\n",
    "    return decorator\n",
    "    "
   ]
  },
  {
   "cell_type": "markdown",
   "metadata": {},
   "source": [
    "Напишем функцию, которую собираемся кэшировать"
   ]
  },
  {
   "cell_type": "code",
   "execution_count": 2,
   "metadata": {},
   "outputs": [],
   "source": [
    "@global_decorator(count=3)\n",
    "def fibonacci(n):\n",
    "    if (n == 0):\n",
    "        return (0)\n",
    "    elif (n == 1) or (n == 2):\n",
    "        return (1)\n",
    "    else:\n",
    "        i = 0\n",
    "        fib1 = 1\n",
    "        fib2 = 1\n",
    "        while i < n-2:\n",
    "            fib_sum = fib1 + fib2\n",
    "            fib1 = fib2\n",
    "            fib2 = fib_sum\n",
    "            i += 1\n",
    "        return(fib2)"
   ]
  },
  {
   "cell_type": "code",
   "execution_count": 3,
   "metadata": {},
   "outputs": [],
   "source": [
    "@global_decorator(count=3)\n",
    "def factorial(n):\n",
    "    fact = 1\n",
    "    for num in range(2, n + 1):\n",
    "        fact *= num\n",
    "    return fact"
   ]
  },
  {
   "cell_type": "code",
   "execution_count": 4,
   "metadata": {},
   "outputs": [
    {
     "name": "stdout",
     "output_type": "stream",
     "text": [
      "Кэшируем значение\n",
      "Затраченное время 0.8 с\n"
     ]
    }
   ],
   "source": [
    "a = fibonacci(123456)"
   ]
  },
  {
   "cell_type": "code",
   "execution_count": 5,
   "metadata": {},
   "outputs": [
    {
     "name": "stdout",
     "output_type": "stream",
     "text": [
      "Извлекаем значение из памяти\n",
      "Затраченное время 0.0 с\n"
     ]
    }
   ],
   "source": [
    "b = fibonacci(123456)"
   ]
  },
  {
   "cell_type": "code",
   "execution_count": 6,
   "metadata": {},
   "outputs": [
    {
     "name": "stdout",
     "output_type": "stream",
     "text": [
      "Извлекаем значение из памяти\n",
      "Затраченное время 0.0 с\n"
     ]
    }
   ],
   "source": [
    "c = fibonacci(123456)"
   ]
  },
  {
   "cell_type": "code",
   "execution_count": 7,
   "metadata": {},
   "outputs": [
    {
     "name": "stdout",
     "output_type": "stream",
     "text": [
      "Извлекаем значение из памяти\n",
      "Затраченное время 0.0 с\n"
     ]
    }
   ],
   "source": [
    "d = fibonacci(123456)"
   ]
  },
  {
   "cell_type": "code",
   "execution_count": 8,
   "metadata": {},
   "outputs": [
    {
     "name": "stdout",
     "output_type": "stream",
     "text": [
      "Кэшируем значение\n",
      "Затраченное время 0.73 с\n"
     ]
    }
   ],
   "source": [
    "e = fibonacci(123456)"
   ]
  },
  {
   "cell_type": "code",
   "execution_count": 9,
   "metadata": {},
   "outputs": [
    {
     "data": {
      "text/plain": [
       "True"
      ]
     },
     "execution_count": 9,
     "metadata": {},
     "output_type": "execute_result"
    }
   ],
   "source": [
    "a == b == c == d == e"
   ]
  },
  {
   "cell_type": "code",
   "execution_count": 10,
   "metadata": {},
   "outputs": [
    {
     "name": "stdout",
     "output_type": "stream",
     "text": [
      "Кэшируем значение\n",
      "Затраченное время 1.99 с\n"
     ]
    }
   ],
   "source": [
    "a = factorial(50000)"
   ]
  },
  {
   "cell_type": "code",
   "execution_count": 11,
   "metadata": {},
   "outputs": [
    {
     "name": "stdout",
     "output_type": "stream",
     "text": [
      "Извлекаем значение из памяти\n",
      "Затраченное время 0.0 с\n"
     ]
    }
   ],
   "source": [
    "b = factorial(50000)"
   ]
  },
  {
   "cell_type": "code",
   "execution_count": 12,
   "metadata": {},
   "outputs": [
    {
     "name": "stdout",
     "output_type": "stream",
     "text": [
      "Извлекаем значение из памяти\n",
      "Затраченное время 0.0 с\n"
     ]
    }
   ],
   "source": [
    "c = factorial(50000)"
   ]
  },
  {
   "cell_type": "code",
   "execution_count": 13,
   "metadata": {},
   "outputs": [
    {
     "name": "stdout",
     "output_type": "stream",
     "text": [
      "Извлекаем значение из памяти\n",
      "Затраченное время 0.0 с\n"
     ]
    }
   ],
   "source": [
    "d = factorial(50000)"
   ]
  },
  {
   "cell_type": "code",
   "execution_count": 14,
   "metadata": {},
   "outputs": [
    {
     "name": "stdout",
     "output_type": "stream",
     "text": [
      "Кэшируем значение\n",
      "Затраченное время 0.1 с\n"
     ]
    }
   ],
   "source": [
    "dd = fibonacci(50000)"
   ]
  },
  {
   "cell_type": "code",
   "execution_count": 15,
   "metadata": {},
   "outputs": [
    {
     "name": "stdout",
     "output_type": "stream",
     "text": [
      "Кэшируем значение\n",
      "Затраченное время 1.85 с\n"
     ]
    }
   ],
   "source": [
    "e = factorial(50000)"
   ]
  }
 ],
 "metadata": {
  "kernelspec": {
   "display_name": "Python 3.10.7 64-bit",
   "language": "python",
   "name": "python3"
  },
  "language_info": {
   "codemirror_mode": {
    "name": "ipython",
    "version": 3
   },
   "file_extension": ".py",
   "mimetype": "text/x-python",
   "name": "python",
   "nbconvert_exporter": "python",
   "pygments_lexer": "ipython3",
   "version": "3.10.7"
  },
  "orig_nbformat": 4,
  "vscode": {
   "interpreter": {
    "hash": "44d05011f940373d2be57d9e1d8060407e025635cb893b36738390f7a5646cad"
   }
  }
 },
 "nbformat": 4,
 "nbformat_minor": 2
}
