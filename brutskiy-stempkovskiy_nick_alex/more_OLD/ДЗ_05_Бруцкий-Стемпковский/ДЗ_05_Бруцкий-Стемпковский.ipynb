{
 "cells": [
  {
   "cell_type": "markdown",
   "metadata": {},
   "source": [
    "22092022\n",
    "Бруцкий-Стемпковский\n",
    "v. 01\n",
    "\n",
    "ДЗ_05 (Классы и ООП)"
   ]
  },
  {
   "cell_type": "markdown",
   "metadata": {},
   "source": [
    "Определим родительский класс Alhabet()"
   ]
  },
  {
   "cell_type": "code",
   "execution_count": 1,
   "metadata": {},
   "outputs": [],
   "source": [
    "class Alphabet():\n",
    "\n",
    "    def __init__(self, lang, list_of_letters):\n",
    "        self.lang = lang\n",
    "        self.letters = list_of_letters\n",
    "    \n",
    "    def __str__(self):\n",
    "        return self.letters\n",
    "    \n",
    "    #реализация через функцию len()\n",
    "    def __len__(self):\n",
    "        return len(self.letters)\n",
    "\n",
    "    def letters_num(self):\n",
    "        return len(self.letters)"
   ]
  },
  {
   "cell_type": "markdown",
   "metadata": {},
   "source": [
    "Определим класс EngAlhabet() путём наследования от класса Alhabet()"
   ]
  },
  {
   "cell_type": "code",
   "execution_count": 2,
   "metadata": {},
   "outputs": [],
   "source": [
    "class EngAlphabet(Alphabet):\n",
    "    \n",
    "    #LETTERS_COUNTER = 26\n",
    "\n",
    "    def __init__(self):\n",
    "        super().__init__(\"en\", \"ABCDEFGHIJKLMNOPQRSTUVWXYZ\")\n",
    "    \n",
    "    __letter_num = 26\n",
    "\n",
    "    def is_en_letter(self, letter):\n",
    "        if letter in self.letters:\n",
    "            return True\n",
    "        else:\n",
    "            return False\n",
    "\n",
    "    def letters_num(cls):\n",
    "        return cls.__letter_num\n",
    "\n",
    "    @staticmethod\n",
    "    def example():\n",
    "        return (\"Hello, world!\")"
   ]
  },
  {
   "cell_type": "markdown",
   "metadata": {},
   "source": [
    "1. Создайте объект класса EngAlphabet"
   ]
  },
  {
   "cell_type": "code",
   "execution_count": 3,
   "metadata": {},
   "outputs": [],
   "source": [
    "en = EngAlphabet()"
   ]
  },
  {
   "cell_type": "markdown",
   "metadata": {},
   "source": [
    "2. Напечатайте буквы алфавита для этого объекта"
   ]
  },
  {
   "cell_type": "code",
   "execution_count": 4,
   "metadata": {},
   "outputs": [
    {
     "name": "stdout",
     "output_type": "stream",
     "text": [
      "ABCDEFGHIJKLMNOPQRSTUVWXYZ\n"
     ]
    }
   ],
   "source": [
    "print(en)"
   ]
  },
  {
   "cell_type": "markdown",
   "metadata": {},
   "source": [
    "3. Выведите количество букв в алфавите"
   ]
  },
  {
   "cell_type": "code",
   "execution_count": 5,
   "metadata": {},
   "outputs": [
    {
     "data": {
      "text/plain": [
       "26"
      ]
     },
     "execution_count": 5,
     "metadata": {},
     "output_type": "execute_result"
    }
   ],
   "source": [
    "EngAlphabet.letters_num(EngAlphabet)"
   ]
  },
  {
   "cell_type": "markdown",
   "metadata": {},
   "source": [
    "Либо..."
   ]
  },
  {
   "cell_type": "code",
   "execution_count": 6,
   "metadata": {},
   "outputs": [
    {
     "data": {
      "text/plain": [
       "26"
      ]
     },
     "execution_count": 6,
     "metadata": {},
     "output_type": "execute_result"
    }
   ],
   "source": [
    "EngAlphabet.letters_num(en)"
   ]
  },
  {
   "cell_type": "markdown",
   "metadata": {},
   "source": [
    "4. Проверьте, относится ли буква F к английскому алфавиту"
   ]
  },
  {
   "cell_type": "code",
   "execution_count": 7,
   "metadata": {},
   "outputs": [
    {
     "data": {
      "text/plain": [
       "True"
      ]
     },
     "execution_count": 7,
     "metadata": {},
     "output_type": "execute_result"
    }
   ],
   "source": [
    "en.is_en_letter(\"F\")"
   ]
  },
  {
   "cell_type": "markdown",
   "metadata": {},
   "source": [
    "5. Проверьте, относится ли буква Щ к английскому алфавиту"
   ]
  },
  {
   "cell_type": "code",
   "execution_count": 8,
   "metadata": {},
   "outputs": [
    {
     "data": {
      "text/plain": [
       "False"
      ]
     },
     "execution_count": 8,
     "metadata": {},
     "output_type": "execute_result"
    }
   ],
   "source": [
    "en.is_en_letter(\"Щ\")"
   ]
  },
  {
   "cell_type": "markdown",
   "metadata": {},
   "source": [
    "6. Выведите пример текста на английском языке"
   ]
  },
  {
   "cell_type": "code",
   "execution_count": 9,
   "metadata": {},
   "outputs": [
    {
     "data": {
      "text/plain": [
       "'Hello, world!'"
      ]
     },
     "execution_count": 9,
     "metadata": {},
     "output_type": "execute_result"
    }
   ],
   "source": [
    "en.example()"
   ]
  },
  {
   "cell_type": "markdown",
   "metadata": {},
   "source": [
    "Ещё один тест..."
   ]
  },
  {
   "cell_type": "code",
   "execution_count": 10,
   "metadata": {},
   "outputs": [
    {
     "ename": "AttributeError",
     "evalue": "'EngAlphabet' object has no attribute '__letter_num'",
     "output_type": "error",
     "traceback": [
      "\u001b[1;31m---------------------------------------------------------------------------\u001b[0m",
      "\u001b[1;31mAttributeError\u001b[0m                            Traceback (most recent call last)",
      "Cell \u001b[1;32mIn [10], line 1\u001b[0m\n\u001b[1;32m----> 1\u001b[0m en\u001b[39m.\u001b[39;49m__letter_num\n",
      "\u001b[1;31mAttributeError\u001b[0m: 'EngAlphabet' object has no attribute '__letter_num'"
     ]
    }
   ],
   "source": [
    "en.__letter_num"
   ]
  },
  {
   "cell_type": "markdown",
   "metadata": {},
   "source": [
    "Хехе))"
   ]
  },
  {
   "cell_type": "code",
   "execution_count": null,
   "metadata": {},
   "outputs": [
    {
     "data": {
      "text/plain": [
       "26"
      ]
     },
     "execution_count": 11,
     "metadata": {},
     "output_type": "execute_result"
    }
   ],
   "source": [
    "en._EngAlphabet__letter_num"
   ]
  }
 ],
 "metadata": {
  "kernelspec": {
   "display_name": "Python 3.10.7 64-bit",
   "language": "python",
   "name": "python3"
  },
  "language_info": {
   "codemirror_mode": {
    "name": "ipython",
    "version": 3
   },
   "file_extension": ".py",
   "mimetype": "text/x-python",
   "name": "python",
   "nbconvert_exporter": "python",
   "pygments_lexer": "ipython3",
   "version": "3.10.7"
  },
  "orig_nbformat": 4,
  "vscode": {
   "interpreter": {
    "hash": "44d05011f940373d2be57d9e1d8060407e025635cb893b36738390f7a5646cad"
   }
  }
 },
 "nbformat": 4,
 "nbformat_minor": 2
}
