{
 "cells": [
  {
   "cell_type": "markdown",
   "id": "a09a77b7",
   "metadata": {},
   "source": [
    "Берем датасет из урока 14\n",
    "\n",
    "для столбцов Age и Balance определите:\n",
    "\n",
    "1.размах вариации\n",
    "\n",
    "2.среднее по выборке\n",
    "\n",
    "3.медиану\n",
    "\n",
    "4.стандартное отклонение\n",
    "\n",
    "Отфильтруйте данные - выберите для анализа записи о клиентах из Германии и расчитайте те же показатели.\n",
    "\n",
    "Сделайте выводы/предположения о содержимом датасета на основе полученных характеристик.\n"
   ]
  },
  {
   "cell_type": "code",
   "execution_count": 1,
   "id": "b2620d22",
   "metadata": {},
   "outputs": [],
   "source": [
    "import pandas as pd\n",
    "from matplotlib import pyplot as plt\n",
    "import seaborn as sns\n",
    "%matplotlib inline\n",
    "import numpy as np"
   ]
  },
  {
   "cell_type": "code",
   "execution_count": 2,
   "id": "6530c167",
   "metadata": {},
   "outputs": [],
   "source": [
    "df = pd.read_csv('Churn_Modelling1.csv')"
   ]
  },
  {
   "cell_type": "code",
   "execution_count": 3,
   "id": "065ca93d",
   "metadata": {},
   "outputs": [
    {
     "data": {
      "text/html": [
       "<div>\n",
       "<style scoped>\n",
       "    .dataframe tbody tr th:only-of-type {\n",
       "        vertical-align: middle;\n",
       "    }\n",
       "\n",
       "    .dataframe tbody tr th {\n",
       "        vertical-align: top;\n",
       "    }\n",
       "\n",
       "    .dataframe thead th {\n",
       "        text-align: right;\n",
       "    }\n",
       "</style>\n",
       "<table border=\"1\" class=\"dataframe\">\n",
       "  <thead>\n",
       "    <tr style=\"text-align: right;\">\n",
       "      <th></th>\n",
       "      <th>RowNumber</th>\n",
       "      <th>CustomerId</th>\n",
       "      <th>Surname</th>\n",
       "      <th>CreditScore</th>\n",
       "      <th>Geography</th>\n",
       "      <th>Gender</th>\n",
       "      <th>Age</th>\n",
       "      <th>Tenure</th>\n",
       "      <th>Balance</th>\n",
       "      <th>NumOfProducts</th>\n",
       "      <th>HasCrCard</th>\n",
       "      <th>IsActiveMember</th>\n",
       "      <th>EstimatedSalary</th>\n",
       "      <th>Exited</th>\n",
       "    </tr>\n",
       "  </thead>\n",
       "  <tbody>\n",
       "    <tr>\n",
       "      <th>0</th>\n",
       "      <td>1</td>\n",
       "      <td>15634602</td>\n",
       "      <td>Hargrave</td>\n",
       "      <td>619</td>\n",
       "      <td>France</td>\n",
       "      <td>Female</td>\n",
       "      <td>42</td>\n",
       "      <td>2</td>\n",
       "      <td>0.00</td>\n",
       "      <td>1</td>\n",
       "      <td>1</td>\n",
       "      <td>1</td>\n",
       "      <td>101348.88</td>\n",
       "      <td>1</td>\n",
       "    </tr>\n",
       "    <tr>\n",
       "      <th>1</th>\n",
       "      <td>2</td>\n",
       "      <td>15647311</td>\n",
       "      <td>Hill</td>\n",
       "      <td>608</td>\n",
       "      <td>Spain</td>\n",
       "      <td>Female</td>\n",
       "      <td>41</td>\n",
       "      <td>1</td>\n",
       "      <td>83807.86</td>\n",
       "      <td>1</td>\n",
       "      <td>0</td>\n",
       "      <td>1</td>\n",
       "      <td>112542.58</td>\n",
       "      <td>0</td>\n",
       "    </tr>\n",
       "    <tr>\n",
       "      <th>2</th>\n",
       "      <td>3</td>\n",
       "      <td>15619304</td>\n",
       "      <td>Onio</td>\n",
       "      <td>502</td>\n",
       "      <td>France</td>\n",
       "      <td>Female</td>\n",
       "      <td>42</td>\n",
       "      <td>8</td>\n",
       "      <td>159660.80</td>\n",
       "      <td>3</td>\n",
       "      <td>1</td>\n",
       "      <td>0</td>\n",
       "      <td>113931.57</td>\n",
       "      <td>1</td>\n",
       "    </tr>\n",
       "    <tr>\n",
       "      <th>3</th>\n",
       "      <td>4</td>\n",
       "      <td>15701354</td>\n",
       "      <td>Boni</td>\n",
       "      <td>699</td>\n",
       "      <td>France</td>\n",
       "      <td>Female</td>\n",
       "      <td>39</td>\n",
       "      <td>1</td>\n",
       "      <td>0.00</td>\n",
       "      <td>2</td>\n",
       "      <td>0</td>\n",
       "      <td>0</td>\n",
       "      <td>93826.63</td>\n",
       "      <td>0</td>\n",
       "    </tr>\n",
       "    <tr>\n",
       "      <th>4</th>\n",
       "      <td>5</td>\n",
       "      <td>15737888</td>\n",
       "      <td>Mitchell</td>\n",
       "      <td>850</td>\n",
       "      <td>Spain</td>\n",
       "      <td>Female</td>\n",
       "      <td>43</td>\n",
       "      <td>2</td>\n",
       "      <td>125510.82</td>\n",
       "      <td>1</td>\n",
       "      <td>1</td>\n",
       "      <td>1</td>\n",
       "      <td>79084.10</td>\n",
       "      <td>0</td>\n",
       "    </tr>\n",
       "  </tbody>\n",
       "</table>\n",
       "</div>"
      ],
      "text/plain": [
       "   RowNumber  CustomerId   Surname  CreditScore Geography  Gender  Age  \\\n",
       "0          1    15634602  Hargrave          619    France  Female   42   \n",
       "1          2    15647311      Hill          608     Spain  Female   41   \n",
       "2          3    15619304      Onio          502    France  Female   42   \n",
       "3          4    15701354      Boni          699    France  Female   39   \n",
       "4          5    15737888  Mitchell          850     Spain  Female   43   \n",
       "\n",
       "   Tenure    Balance  NumOfProducts  HasCrCard  IsActiveMember  \\\n",
       "0       2       0.00              1          1               1   \n",
       "1       1   83807.86              1          0               1   \n",
       "2       8  159660.80              3          1               0   \n",
       "3       1       0.00              2          0               0   \n",
       "4       2  125510.82              1          1               1   \n",
       "\n",
       "   EstimatedSalary  Exited  \n",
       "0        101348.88       1  \n",
       "1        112542.58       0  \n",
       "2        113931.57       1  \n",
       "3         93826.63       0  \n",
       "4         79084.10       0  "
      ]
     },
     "execution_count": 3,
     "metadata": {},
     "output_type": "execute_result"
    }
   ],
   "source": [
    "df.head()"
   ]
  },
  {
   "cell_type": "code",
   "execution_count": 4,
   "id": "fce1571e",
   "metadata": {},
   "outputs": [
    {
     "name": "stdout",
     "output_type": "stream",
     "text": [
      "<class 'pandas.core.frame.DataFrame'>\n",
      "RangeIndex: 10000 entries, 0 to 9999\n",
      "Data columns (total 14 columns):\n",
      " #   Column           Non-Null Count  Dtype  \n",
      "---  ------           --------------  -----  \n",
      " 0   RowNumber        10000 non-null  int64  \n",
      " 1   CustomerId       10000 non-null  int64  \n",
      " 2   Surname          10000 non-null  object \n",
      " 3   CreditScore      10000 non-null  int64  \n",
      " 4   Geography        10000 non-null  object \n",
      " 5   Gender           10000 non-null  object \n",
      " 6   Age              10000 non-null  int64  \n",
      " 7   Tenure           10000 non-null  int64  \n",
      " 8   Balance          10000 non-null  float64\n",
      " 9   NumOfProducts    10000 non-null  int64  \n",
      " 10  HasCrCard        10000 non-null  int64  \n",
      " 11  IsActiveMember   10000 non-null  int64  \n",
      " 12  EstimatedSalary  10000 non-null  float64\n",
      " 13  Exited           10000 non-null  int64  \n",
      "dtypes: float64(2), int64(9), object(3)\n",
      "memory usage: 1.1+ MB\n"
     ]
    }
   ],
   "source": [
    "df.info()\n"
   ]
  },
  {
   "cell_type": "code",
   "execution_count": null,
   "id": "86db6693",
   "metadata": {},
   "outputs": [],
   "source": [
    "#размах вариации"
   ]
  },
  {
   "cell_type": "code",
   "execution_count": 9,
   "id": "092215fb",
   "metadata": {},
   "outputs": [
    {
     "data": {
      "text/plain": [
       "74"
      ]
     },
     "execution_count": 9,
     "metadata": {},
     "output_type": "execute_result"
    }
   ],
   "source": [
    "df['Age'].max()-df['Age'].min()"
   ]
  },
  {
   "cell_type": "code",
   "execution_count": 10,
   "id": "c4b166f1",
   "metadata": {},
   "outputs": [
    {
     "data": {
      "text/plain": [
       "250898.09"
      ]
     },
     "execution_count": 10,
     "metadata": {},
     "output_type": "execute_result"
    }
   ],
   "source": [
    "df['Balance'].max()-df['Balance'].min()"
   ]
  },
  {
   "cell_type": "code",
   "execution_count": null,
   "id": "7a752ec2",
   "metadata": {},
   "outputs": [],
   "source": [
    "#среднее по выборке"
   ]
  },
  {
   "cell_type": "code",
   "execution_count": 11,
   "id": "dacfb0d9",
   "metadata": {},
   "outputs": [
    {
     "data": {
      "text/plain": [
       "38.9218"
      ]
     },
     "execution_count": 11,
     "metadata": {},
     "output_type": "execute_result"
    }
   ],
   "source": [
    "df['Age'].mean()"
   ]
  },
  {
   "cell_type": "code",
   "execution_count": 12,
   "id": "d3682615",
   "metadata": {},
   "outputs": [
    {
     "data": {
      "text/plain": [
       "76485.88928799961"
      ]
     },
     "execution_count": 12,
     "metadata": {},
     "output_type": "execute_result"
    }
   ],
   "source": [
    "df['Balance'].mean()"
   ]
  },
  {
   "cell_type": "code",
   "execution_count": 13,
   "id": "467bb28c",
   "metadata": {},
   "outputs": [],
   "source": [
    "#медиану"
   ]
  },
  {
   "cell_type": "code",
   "execution_count": 14,
   "id": "c4231fa8",
   "metadata": {},
   "outputs": [
    {
     "data": {
      "text/plain": [
       "37.0"
      ]
     },
     "execution_count": 14,
     "metadata": {},
     "output_type": "execute_result"
    }
   ],
   "source": [
    "df['Age'].median()"
   ]
  },
  {
   "cell_type": "code",
   "execution_count": 15,
   "id": "4becf192",
   "metadata": {},
   "outputs": [
    {
     "data": {
      "text/plain": [
       "97198.54000000001"
      ]
     },
     "execution_count": 15,
     "metadata": {},
     "output_type": "execute_result"
    }
   ],
   "source": [
    "df['Balance'].median()"
   ]
  },
  {
   "cell_type": "code",
   "execution_count": 16,
   "id": "990d3bfd",
   "metadata": {},
   "outputs": [],
   "source": [
    "#стандартное отклонение"
   ]
  },
  {
   "cell_type": "code",
   "execution_count": 17,
   "id": "e32b7580",
   "metadata": {},
   "outputs": [
    {
     "data": {
      "text/plain": [
       "10.487806451704591"
      ]
     },
     "execution_count": 17,
     "metadata": {},
     "output_type": "execute_result"
    }
   ],
   "source": [
    "df['Age'].std()"
   ]
  },
  {
   "cell_type": "code",
   "execution_count": 18,
   "id": "48b94a00",
   "metadata": {},
   "outputs": [
    {
     "data": {
      "text/plain": [
       "62397.40520238623"
      ]
     },
     "execution_count": 18,
     "metadata": {},
     "output_type": "execute_result"
    }
   ],
   "source": [
    "df['Balance'].std()"
   ]
  },
  {
   "cell_type": "code",
   "execution_count": null,
   "id": "8e5d9fc2",
   "metadata": {},
   "outputs": [],
   "source": []
  },
  {
   "cell_type": "code",
   "execution_count": null,
   "id": "80f4ea7c",
   "metadata": {},
   "outputs": [],
   "source": [
    "Отфильтруйте данные - выберите для анализа записи о клиентах \n",
    "из Германии и расчитайте те же показатели.\n",
    "Age:"
   ]
  },
  {
   "cell_type": "code",
   "execution_count": 19,
   "id": "8073f3b1",
   "metadata": {},
   "outputs": [
    {
     "data": {
      "text/plain": [
       "66"
      ]
     },
     "execution_count": 19,
     "metadata": {},
     "output_type": "execute_result"
    }
   ],
   "source": [
    "df[df['Geography'] == 'Germany']['Age'].max()-df[df['Geography'] == 'Germany']['Age'].min()"
   ]
  },
  {
   "cell_type": "code",
   "execution_count": 21,
   "id": "5ab84453",
   "metadata": {},
   "outputs": [
    {
     "data": {
      "text/plain": [
       "39.771622160223195"
      ]
     },
     "execution_count": 21,
     "metadata": {},
     "output_type": "execute_result"
    }
   ],
   "source": [
    "df[df['Geography'] == 'Germany']['Age'].mean()"
   ]
  },
  {
   "cell_type": "code",
   "execution_count": 24,
   "id": "0645ad52",
   "metadata": {},
   "outputs": [
    {
     "data": {
      "text/plain": [
       "38.0"
      ]
     },
     "execution_count": 24,
     "metadata": {},
     "output_type": "execute_result"
    }
   ],
   "source": [
    "df[df['Geography'] == 'Germany']['Age'].median()"
   ]
  },
  {
   "cell_type": "code",
   "execution_count": 25,
   "id": "dd5bc4ec",
   "metadata": {},
   "outputs": [
    {
     "data": {
      "text/plain": [
       "10.51914294136249"
      ]
     },
     "execution_count": 25,
     "metadata": {},
     "output_type": "execute_result"
    }
   ],
   "source": [
    "df[df['Geography'] == 'Germany']['Age'].std()"
   ]
  },
  {
   "cell_type": "code",
   "execution_count": null,
   "id": "36f22d38",
   "metadata": {},
   "outputs": [],
   "source": [
    "Отфильтруйте данные - выберите для анализа записи о клиентах \n",
    "из Германии и расчитайте те же показатели.\n",
    "Balance:"
   ]
  },
  {
   "cell_type": "code",
   "execution_count": 26,
   "id": "7cb2e2fa",
   "metadata": {},
   "outputs": [
    {
     "data": {
      "text/plain": [
       "187058.53"
      ]
     },
     "execution_count": 26,
     "metadata": {},
     "output_type": "execute_result"
    }
   ],
   "source": [
    "df[df['Geography'] == 'Germany']['Balance'].max()-df[df['Geography'] == 'Germany']['Balance'].min()"
   ]
  },
  {
   "cell_type": "code",
   "execution_count": 27,
   "id": "c1c1f1d4",
   "metadata": {},
   "outputs": [
    {
     "data": {
      "text/plain": [
       "119730.11613391782"
      ]
     },
     "execution_count": 27,
     "metadata": {},
     "output_type": "execute_result"
    }
   ],
   "source": [
    "df[df['Geography'] == 'Germany']['Balance'].mean()"
   ]
  },
  {
   "cell_type": "code",
   "execution_count": 28,
   "id": "7e3ca1e8",
   "metadata": {},
   "outputs": [
    {
     "data": {
      "text/plain": [
       "119703.1"
      ]
     },
     "execution_count": 28,
     "metadata": {},
     "output_type": "execute_result"
    }
   ],
   "source": [
    "df[df['Geography'] == 'Germany']['Balance'].median()"
   ]
  },
  {
   "cell_type": "code",
   "execution_count": 29,
   "id": "ff4a413b",
   "metadata": {},
   "outputs": [
    {
     "data": {
      "text/plain": [
       "27022.0061566565"
      ]
     },
     "execution_count": 29,
     "metadata": {},
     "output_type": "execute_result"
    }
   ],
   "source": [
    "df[df['Geography'] == 'Germany']['Balance'].std()"
   ]
  },
  {
   "cell_type": "code",
   "execution_count": null,
   "id": "c23b6eb7",
   "metadata": {},
   "outputs": [],
   "source": []
  }
 ],
 "metadata": {
  "kernelspec": {
   "display_name": "Python 3 (ipykernel)",
   "language": "python",
   "name": "python3"
  },
  "language_info": {
   "codemirror_mode": {
    "name": "ipython",
    "version": 3
   },
   "file_extension": ".py",
   "mimetype": "text/x-python",
   "name": "python",
   "nbconvert_exporter": "python",
   "pygments_lexer": "ipython3",
   "version": "3.9.13"
  }
 },
 "nbformat": 4,
 "nbformat_minor": 5
}
