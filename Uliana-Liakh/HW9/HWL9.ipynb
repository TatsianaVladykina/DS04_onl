{
  "nbformat": 4,
  "nbformat_minor": 0,
  "metadata": {
    "colab": {
      "provenance": [],
      "authorship_tag": "ABX9TyOvVISe2EJrZ/KpY/AosIgL",
      "include_colab_link": true
    },
    "kernelspec": {
      "name": "python3",
      "display_name": "Python 3"
    },
    "language_info": {
      "name": "python"
    }
  },
  "cells": [
    {
      "cell_type": "markdown",
      "metadata": {
        "id": "view-in-github",
        "colab_type": "text"
      },
      "source": [
        "<a href=\"https://colab.research.google.com/github/Uliana-Liakh/DS04_onl/blob/main/HWL9.ipynb\" target=\"_parent\"><img src=\"https://colab.research.google.com/assets/colab-badge.svg\" alt=\"Open In Colab\"/></a>"
      ]
    },
    {
      "cell_type": "markdown",
      "source": [
        "1. Создайте массивы \n",
        "a = [1., 2., 3., 4., 5., 6., 7., 8., 9.]\n",
        "b = [9., 8., 7., 6., 5., 4., 3., 2., 1.]\n",
        "с помощью конструктора np.linspace\n",
        "\n",
        "2. Сравните массивы между собой (выполните операции <, =, >)\n",
        "\n",
        "3. Выполните поэлементное умножение массивов \n",
        "\n",
        "4. Найдите среднее значение массива полученного на шаге 3\n",
        "\n",
        "5. вычтите полученное среднее на шаге 4 из массива, полученного на шаге 3\n",
        "\n",
        "6. найдите скалярное произведение массивов/векторов a и b\n",
        "\n",
        "подсказка - скалярное произведение можно посчитать так np.dot(a,b)\n",
        "\n",
        "7. преобразуйте массивы a и b в двумерные массивы размером 3х3\n",
        "\n",
        "8. примените к полученным на шаге 7 массивам функцию dot. Как вы думаете - что вы получили в результате?\n",
        "\n"
      ],
      "metadata": {
        "id": "j82VcAzYiDVu"
      }
    },
    {
      "cell_type": "code",
      "source": [
        "import numpy as np"
      ],
      "metadata": {
        "id": "fzJAEKvRjRys"
      },
      "execution_count": null,
      "outputs": []
    },
    {
      "cell_type": "code",
      "source": [
        "a = np.linspace(1, 9, 9)\n",
        "a"
      ],
      "metadata": {
        "colab": {
          "base_uri": "https://localhost:8080/"
        },
        "id": "H-L2qSXxiJbG",
        "outputId": "adcb9e10-3995-495f-d092-2b2492a3ccff"
      },
      "execution_count": null,
      "outputs": [
        {
          "output_type": "execute_result",
          "data": {
            "text/plain": [
              "array([1., 2., 3., 4., 5., 6., 7., 8., 9.])"
            ]
          },
          "metadata": {},
          "execution_count": 3
        }
      ]
    },
    {
      "cell_type": "code",
      "source": [
        "b = np.linspace(9, 1, 9)\n",
        "b"
      ],
      "metadata": {
        "colab": {
          "base_uri": "https://localhost:8080/"
        },
        "id": "6UeT15PUiNwu",
        "outputId": "64e44ddc-cf48-48dc-f0da-fd02e0b6e543"
      },
      "execution_count": null,
      "outputs": [
        {
          "output_type": "execute_result",
          "data": {
            "text/plain": [
              "array([9., 8., 7., 6., 5., 4., 3., 2., 1.])"
            ]
          },
          "metadata": {},
          "execution_count": 4
        }
      ]
    },
    {
      "cell_type": "code",
      "source": [
        "a < b"
      ],
      "metadata": {
        "colab": {
          "base_uri": "https://localhost:8080/"
        },
        "id": "95W57_C2iT1p",
        "outputId": "da62672d-0d1e-464c-e43b-969dc6081c30"
      },
      "execution_count": null,
      "outputs": [
        {
          "output_type": "execute_result",
          "data": {
            "text/plain": [
              "array([ True,  True,  True,  True, False, False, False, False, False])"
            ]
          },
          "metadata": {},
          "execution_count": 5
        }
      ]
    },
    {
      "cell_type": "code",
      "source": [
        "a == b"
      ],
      "metadata": {
        "colab": {
          "base_uri": "https://localhost:8080/"
        },
        "id": "n5nDxvJtiTxK",
        "outputId": "7cde1d1b-0eb9-4b9b-ca6c-7c7270debd8b"
      },
      "execution_count": null,
      "outputs": [
        {
          "output_type": "execute_result",
          "data": {
            "text/plain": [
              "array([False, False, False, False,  True, False, False, False, False])"
            ]
          },
          "metadata": {},
          "execution_count": 6
        }
      ]
    },
    {
      "cell_type": "code",
      "source": [
        "a > b"
      ],
      "metadata": {
        "colab": {
          "base_uri": "https://localhost:8080/"
        },
        "id": "VOXU5T7TiTtD",
        "outputId": "2db3e8ff-cb0d-48a0-b176-0deacd91635a"
      },
      "execution_count": null,
      "outputs": [
        {
          "output_type": "execute_result",
          "data": {
            "text/plain": [
              "array([False, False, False, False, False,  True,  True,  True,  True])"
            ]
          },
          "metadata": {},
          "execution_count": 7
        }
      ]
    },
    {
      "cell_type": "code",
      "source": [
        "a*b"
      ],
      "metadata": {
        "colab": {
          "base_uri": "https://localhost:8080/"
        },
        "id": "QiUqDH6LiTo5",
        "outputId": "b649f8bf-9f49-4d7f-8964-13204b2fa7f6"
      },
      "execution_count": null,
      "outputs": [
        {
          "output_type": "execute_result",
          "data": {
            "text/plain": [
              "array([ 9., 16., 21., 24., 25., 24., 21., 16.,  9.])"
            ]
          },
          "metadata": {},
          "execution_count": 8
        }
      ]
    },
    {
      "cell_type": "code",
      "source": [
        "c = a*b\n",
        "d = c.mean()\n",
        "d"
      ],
      "metadata": {
        "colab": {
          "base_uri": "https://localhost:8080/"
        },
        "id": "aRpo4mcNiTkk",
        "outputId": "09d4dbfa-f4ef-40f2-d04e-648ac5e6eba5"
      },
      "execution_count": null,
      "outputs": [
        {
          "output_type": "execute_result",
          "data": {
            "text/plain": [
              "18.333333333333332"
            ]
          },
          "metadata": {},
          "execution_count": 9
        }
      ]
    },
    {
      "cell_type": "code",
      "source": [
        "c-d"
      ],
      "metadata": {
        "colab": {
          "base_uri": "https://localhost:8080/"
        },
        "id": "mO1x8-LYiTe2",
        "outputId": "d9e90f1a-108c-4bf9-db59-7b3890e42383"
      },
      "execution_count": null,
      "outputs": [
        {
          "output_type": "execute_result",
          "data": {
            "text/plain": [
              "array([-9.33333333, -2.33333333,  2.66666667,  5.66666667,  6.66666667,\n",
              "        5.66666667,  2.66666667, -2.33333333, -9.33333333])"
            ]
          },
          "metadata": {},
          "execution_count": 10
        }
      ]
    },
    {
      "cell_type": "code",
      "source": [
        "np.dot(a,b)"
      ],
      "metadata": {
        "colab": {
          "base_uri": "https://localhost:8080/"
        },
        "id": "NmAlRDpXkwSd",
        "outputId": "5c49dfe4-9b0f-4d35-bca0-5ca9caf00cd8"
      },
      "execution_count": null,
      "outputs": [
        {
          "output_type": "execute_result",
          "data": {
            "text/plain": [
              "165.0"
            ]
          },
          "metadata": {},
          "execution_count": 11
        }
      ]
    },
    {
      "cell_type": "code",
      "source": [
        "a.shape = (3,3)\n",
        "a"
      ],
      "metadata": {
        "colab": {
          "base_uri": "https://localhost:8080/"
        },
        "id": "Ovf-pJy7k0yg",
        "outputId": "4ab05ac9-dbbf-47f8-fa6f-05ae16ed3794"
      },
      "execution_count": null,
      "outputs": [
        {
          "output_type": "execute_result",
          "data": {
            "text/plain": [
              "array([[1., 2., 3.],\n",
              "       [4., 5., 6.],\n",
              "       [7., 8., 9.]])"
            ]
          },
          "metadata": {},
          "execution_count": 33
        }
      ]
    },
    {
      "cell_type": "code",
      "source": [
        "a12 = a.reshape(3,3)"
      ],
      "metadata": {
        "id": "lgbGA-gM7prX"
      },
      "execution_count": null,
      "outputs": []
    },
    {
      "cell_type": "code",
      "source": [
        "b.shape = (3,3)\n",
        "b"
      ],
      "metadata": {
        "colab": {
          "base_uri": "https://localhost:8080/"
        },
        "id": "9IPiT4MJm5bW",
        "outputId": "ff010c73-59dd-437d-9e14-a781b12885e9"
      },
      "execution_count": null,
      "outputs": [
        {
          "output_type": "execute_result",
          "data": {
            "text/plain": [
              "array([[9., 8., 7.],\n",
              "       [6., 5., 4.],\n",
              "       [3., 2., 1.]])"
            ]
          },
          "metadata": {},
          "execution_count": 34
        }
      ]
    },
    {
      "cell_type": "code",
      "source": [
        "b12 = b.reshape(3,3)"
      ],
      "metadata": {
        "id": "jiXDTs0m76kV"
      },
      "execution_count": null,
      "outputs": []
    },
    {
      "cell_type": "code",
      "source": [
        "np.dot(a,b) #Умножение матриц (настоящее)"
      ],
      "metadata": {
        "colab": {
          "base_uri": "https://localhost:8080/"
        },
        "id": "DpSSaIVqnV6C",
        "outputId": "08c40fdd-521d-4b91-b2d8-3c281ac55fc0"
      },
      "execution_count": null,
      "outputs": [
        {
          "output_type": "execute_result",
          "data": {
            "text/plain": [
              "array([[ 30.,  24.,  18.],\n",
              "       [ 84.,  69.,  54.],\n",
              "       [138., 114.,  90.]])"
            ]
          },
          "metadata": {},
          "execution_count": 35
        }
      ]
    },
    {
      "cell_type": "code",
      "source": [
        "a12@b12"
      ],
      "metadata": {
        "colab": {
          "base_uri": "https://localhost:8080/"
        },
        "id": "wfIWSLXh7Vl-",
        "outputId": "d103263b-0cc3-4eff-8397-98adcdcb4941"
      },
      "execution_count": null,
      "outputs": [
        {
          "output_type": "execute_result",
          "data": {
            "text/plain": [
              "array([[ 30.,  24.,  18.],\n",
              "       [ 84.,  69.,  54.],\n",
              "       [138., 114.,  90.]])"
            ]
          },
          "metadata": {},
          "execution_count": 14
        }
      ]
    },
    {
      "cell_type": "markdown",
      "source": [
        "Проверка задания с тремя векторами:"
      ],
      "metadata": {
        "id": "Td0jq54Dp9k3"
      }
    },
    {
      "cell_type": "code",
      "source": [
        "a1=np.array([55, -10, 14, 458, 33, -21, 5])\n",
        "b1=np.array([89, 15, 9, 45, -22, -8, 18])\n",
        "c1=np.array([42, -70, 38, 1742, 176, -68, -16])"
      ],
      "metadata": {
        "id": "Angm4Z37om0r"
      },
      "execution_count": null,
      "outputs": []
    },
    {
      "cell_type": "code",
      "source": [
        "2*(a1+b1)"
      ],
      "metadata": {
        "colab": {
          "base_uri": "https://localhost:8080/"
        },
        "id": "W7xKN231pjjL",
        "outputId": "221ac587-0892-424d-adbf-018e0ae8c720"
      },
      "execution_count": null,
      "outputs": [
        {
          "output_type": "execute_result",
          "data": {
            "text/plain": [
              "array([ 288,   10,   46, 1006,   22,  -58,   46])"
            ]
          },
          "metadata": {},
          "execution_count": 38
        }
      ]
    },
    {
      "cell_type": "code",
      "source": [
        "np.dot(a1,c1)+np.dot(b1,4*c1)"
      ],
      "metadata": {
        "colab": {
          "base_uri": "https://localhost:8080/"
        },
        "id": "A7bZR_bXpvsx",
        "outputId": "ea684a78-e98f-4ea2-eea1-6b4ddd2cafca"
      },
      "execution_count": null,
      "outputs": [
        {
          "output_type": "execute_result",
          "data": {
            "text/plain": [
              "1119750"
            ]
          },
          "metadata": {},
          "execution_count": 39
        }
      ]
    },
    {
      "cell_type": "code",
      "source": [
        "a12.T #transponirovanaya"
      ],
      "metadata": {
        "colab": {
          "base_uri": "https://localhost:8080/"
        },
        "id": "cJTJhuDo8G1j",
        "outputId": "21ab2759-20bb-4aa4-cf31-7f8e3cb07fdd"
      },
      "execution_count": null,
      "outputs": [
        {
          "output_type": "execute_result",
          "data": {
            "text/plain": [
              "array([[1., 4., 7.],\n",
              "       [2., 5., 8.],\n",
              "       [3., 6., 9.]])"
            ]
          },
          "metadata": {},
          "execution_count": 15
        }
      ]
    },
    {
      "cell_type": "code",
      "source": [],
      "metadata": {
        "id": "d_lbkwrv8XAq"
      },
      "execution_count": null,
      "outputs": []
    }
  ]
}