{
  "nbformat": 4,
  "nbformat_minor": 0,
  "metadata": {
    "colab": {
      "provenance": []
    },
    "kernelspec": {
      "name": "python3",
      "display_name": "Python 3"
    },
    "language_info": {
      "name": "python"
    }
  },
  "cells": [
    {
      "cell_type": "markdown",
      "source": [
        "1. Числа Фибоначчи\n",
        "\n",
        "Числа Фибоначчи – это ряд чисел, в котором каждое следующее число равно сумме двух предыдущих: 1, 1, 2, 3, 5, 8, 13, ... . Иногда ряд начинают с нуля: 0, 1, 1, 2, 3, 5, ... . В данном случае мы будем придерживаться первого варианта.\n",
        "\n",
        "Формула:\n",
        "\n",
        "F1 = 1\n",
        "\n",
        "F2 = 1\n",
        "\n",
        "Fn = Fn-1 + Fn-2\n",
        "\n",
        "Пример вычисления:\n",
        "\n",
        "F3 = F2 + F1 = 1 + 1 = 2\n",
        "\n",
        "F4 = F3 + F2 = 2 + 1 = 3\n",
        "\n",
        "F5 = F4 + F3 = 3 + 2 = 5\n",
        "\n",
        "F6 = F5 + F4 = 5 + 3 = 8"
      ],
      "metadata": {
        "id": "gZ878_-Iwgmf"
      }
    },
    {
      "cell_type": "code",
      "source": [
        "import functools\n",
        "@functools.lru_cache\n",
        "\n",
        "def fibonacci(n):\n",
        "    if n == 0:\n",
        "        return 0\n",
        "    elif n == 1:\n",
        "        return 1\n",
        "    return fibonacci(n - 1) + fibonacci(n-2)\n",
        "\n",
        "user_input = int(input())\n",
        "fibonacci(user_input)"
      ],
      "metadata": {
        "id": "rP2vqB8mwhg2",
        "colab": {
          "base_uri": "https://localhost:8080/"
        },
        "outputId": "c1d33003-4fc5-45a6-f1b4-0fd14b466dd0"
      },
      "execution_count": null,
      "outputs": [
        {
          "name": "stdout",
          "output_type": "stream",
          "text": [
            "10\n"
          ]
        },
        {
          "output_type": "execute_result",
          "data": {
            "text/plain": [
              "55"
            ]
          },
          "metadata": {},
          "execution_count": 49
        }
      ]
    },
    {
      "cell_type": "markdown",
      "source": [
        "2. Банковский вклад. \n",
        "\n",
        "Пользователь делает вклад в размере a рублей сроком на years лет под 10% годовых (каждый год размер его вклада увеличивается на 10%. Эти деньги прибавляются к сумме вклада, и на них в следующем году тоже будут проценты).\n",
        "\n",
        "Написать программу bank, принимающая аргументы a и years, и возвращающую сумму, которая будет на счету пользователя."
      ],
      "metadata": {
        "id": "dFu4jUgZwv0Q"
      }
    },
    {
      "cell_type": "code",
      "source": [
        "def bank(a, years):\n",
        "  for i in range(1, years + 1):\n",
        "    a = a + 0.1 * a\n",
        "  return a\n",
        "\n",
        "invest = int(input())\n",
        "time = int(input())\n",
        "bank(invest, time)"
      ],
      "metadata": {
        "id": "LEFLmJOvwzZn",
        "colab": {
          "base_uri": "https://localhost:8080/"
        },
        "outputId": "e7f71a93-3201-4e58-a719-f78546e4e025"
      },
      "execution_count": null,
      "outputs": [
        {
          "name": "stdout",
          "output_type": "stream",
          "text": [
            "500\n",
            "3\n"
          ]
        },
        {
          "output_type": "execute_result",
          "data": {
            "text/plain": [
              "665.5"
            ]
          },
          "metadata": {},
          "execution_count": 50
        }
      ]
    }
  ]
}