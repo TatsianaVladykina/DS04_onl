{
  "nbformat": 4,
  "nbformat_minor": 0,
  "metadata": {
    "colab": {
      "provenance": [],
      "toc_visible": true
    },
    "kernelspec": {
      "name": "python3",
      "display_name": "Python 3"
    },
    "language_info": {
      "name": "python"
    }
  },
  "cells": [
    {
      "cell_type": "markdown",
      "source": [
        "# Домашнее задание (19.12.2022)"
      ],
      "metadata": {
        "id": "QVjxf38uPhu1"
      }
    },
    {
      "cell_type": "markdown",
      "source": [
        "1. Напишите программу, которая запрашивала бы у пользователя два числа и выводила бы True или False в зависимости от того, больше первое число второго или нет."
      ],
      "metadata": {
        "id": "lPFm5Q1RP3De"
      }
    },
    {
      "cell_type": "code",
      "source": [
        "a = int(input(\"enter a:\"))\n",
        "b = int(input(\"enter b:\"))\n",
        "print(bool(a > b))"
      ],
      "metadata": {
        "colab": {
          "base_uri": "https://localhost:8080/"
        },
        "id": "OAGsOAhr0L61",
        "outputId": "cac50046-ea20-4c8d-be86-cc5409591e09"
      },
      "execution_count": null,
      "outputs": [
        {
          "output_type": "stream",
          "name": "stdout",
          "text": [
            "enter a:15\n",
            "enter b:83\n",
            "False\n"
          ]
        }
      ]
    },
    {
      "cell_type": "markdown",
      "source": [
        "2. Пользователь вводит трехзначное число. Программа должна сложить цифры, из которых состоит это число. Например, если было введено 349, программа должна вывести на экран число 16, так как 3 + 4 + 9 = 16."
      ],
      "metadata": {
        "id": "H6q40kMw0Mnr"
      }
    },
    {
      "cell_type": "code",
      "source": [
        "a = int(input(\"enter abc:\"))\n",
        "b = a % 10\n",
        "c = a // 10\n",
        "d = c % 10\n",
        "e = c // 10\n",
        "print (\"sum(abc) =\",b+d+e)"
      ],
      "metadata": {
        "id": "mu3ki8L90PQb",
        "colab": {
          "base_uri": "https://localhost:8080/"
        },
        "outputId": "18b7ace1-c629-48a1-88c3-e4fc13fc5c92"
      },
      "execution_count": null,
      "outputs": [
        {
          "output_type": "stream",
          "name": "stdout",
          "text": [
            "enter abc:456\n",
            "sum(abc) = 15\n"
          ]
        }
      ]
    },
    {
      "cell_type": "markdown",
      "source": [
        "3. При заданном целом числе n посчитайте n + nn + nnn."
      ],
      "metadata": {
        "id": "2ib1YjfD0Pj8"
      }
    },
    {
      "cell_type": "code",
      "source": [
        "n = input(\"enter n:\")\n",
        "print(\"n + nn + nnn =\", int(n) + int(n + n) + int(n + n + n))"
      ],
      "metadata": {
        "colab": {
          "base_uri": "https://localhost:8080/"
        },
        "id": "jC6nCJN00S18",
        "outputId": "ba6f4881-031f-4712-e49c-dc04e3e65c94"
      },
      "execution_count": null,
      "outputs": [
        {
          "output_type": "stream",
          "name": "stdout",
          "text": [
            "enter n:5\n",
            "n + nn + nnn = 615\n"
          ]
        }
      ]
    }
  ]
}