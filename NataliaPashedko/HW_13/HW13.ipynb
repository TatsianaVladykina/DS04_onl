{
  "nbformat": 4,
  "nbformat_minor": 0,
  "metadata": {
    "colab": {
      "provenance": []
    },
    "kernelspec": {
      "name": "python3",
      "display_name": "Python 3"
    },
    "language_info": {
      "name": "python"
    }
  },
  "cells": [
    {
      "cell_type": "markdown",
      "source": [
        "1. В студенческой группе 23 человека. Сколькими способами можно выбрать\n",
        "старосту и его заместителя?\n"
      ],
      "metadata": {
        "id": "M1iPMlbWRn18"
      }
    },
    {
      "cell_type": "code",
      "source": [
        "import math\n",
        "n = 23\n",
        "k = 2\n",
        "math.factorial(n) / math.factorial(n-k)"
      ],
      "metadata": {
        "colab": {
          "base_uri": "https://localhost:8080/"
        },
        "id": "FULllzKbRoCF",
        "outputId": "761f0266-ddc1-4379-e8f5-03253edee537"
      },
      "execution_count": 1,
      "outputs": [
        {
          "output_type": "execute_result",
          "data": {
            "text/plain": [
              "506.0"
            ]
          },
          "metadata": {},
          "execution_count": 1
        }
      ]
    },
    {
      "cell_type": "markdown",
      "source": [
        "2. Студенческая группа состоит из 23 человек, среди которых 10 юношей и 13\n",
        "девушек. Сколькими способами можно выбрать двух человек одного пола?"
      ],
      "metadata": {
        "id": "-NqVBNS7SKLL"
      }
    },
    {
      "cell_type": "code",
      "source": [
        "# выбор 2 юношей\n",
        "n = 10\n",
        "k = 2\n",
        "men = math.factorial(n)/(math.factorial(n-k) * math.factorial(k))\n",
        "# выбор 2 девушек\n",
        "n = 13\n",
        "k = 2\n",
        "women = math.factorial(n)/(math.factorial(n-k) * math.factorial(k))\n",
        "men + women"
      ],
      "metadata": {
        "colab": {
          "base_uri": "https://localhost:8080/"
        },
        "id": "dNEZbuFKSPrf",
        "outputId": "366fbc83-9a1e-44be-ca71-3f9ed2600778"
      },
      "execution_count": 7,
      "outputs": [
        {
          "output_type": "execute_result",
          "data": {
            "text/plain": [
              "123.0"
            ]
          },
          "metadata": {},
          "execution_count": 7
        }
      ]
    },
    {
      "cell_type": "markdown",
      "source": [
        "3. Сколькими способами можно выбрать двух юношей и двух девушек для участия\n",
        "в сценке КВН?\n"
      ],
      "metadata": {
        "id": "aDwr-dUVTGQy"
      }
    },
    {
      "cell_type": "code",
      "source": [
        "n = 10 \n",
        "k = 2\n",
        "c = math.factorial(n)/(math.factorial(n-k)*math.factorial(k))\n",
        "n1 = 13\n",
        "k1 = 2\n",
        "c1 = math.factorial(n1)/(math.factorial(n1-k1)*math.factorial(k1))\n",
        "c = c * c1\n",
        "c"
      ],
      "metadata": {
        "colab": {
          "base_uri": "https://localhost:8080/"
        },
        "id": "W-c9txqDTGYG",
        "outputId": "1a9b870a-8932-44ef-e048-cb58f36be88f"
      },
      "execution_count": 8,
      "outputs": [
        {
          "output_type": "execute_result",
          "data": {
            "text/plain": [
              "3510.0"
            ]
          },
          "metadata": {},
          "execution_count": 8
        }
      ]
    }
  ]
}