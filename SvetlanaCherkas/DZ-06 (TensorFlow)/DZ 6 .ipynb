{
 "cells": [
  {
   "cell_type": "markdown",
   "metadata": {},
   "source": [
    "###### Все необходимые установки"
   ]
  },
  {
   "cell_type": "markdown",
   "metadata": {},
   "source": [
    "ДЗ. Решить задачу просрочки кредита используя для прогнозирования нейронные сети."
   ]
  },
  {
   "cell_type": "code",
   "execution_count": null,
   "metadata": {},
   "outputs": [],
   "source": [
    "import pandas as pd\n",
    "import numpy as np \n",
    "import matplotlib.pyplot as plt\n",
    "import seaborn as sns\n",
    "import re\n",
    "import sqlite3\n",
    "\n",
    "import catboost as cat\n",
    "from sklearn.ensemble import GradientBoostingClassifier\n",
    "\n",
    "from sklearn.model_selection import train_test_split\n",
    "\n",
    "from sklearn.metrics import confusion_matrix, precision_score, \\\n",
    "              recall_score, f1_score, precision_recall_curve, roc_curve, roc_auc_score, \\\n",
    "              auc, mean_squared_error, accuracy_score\n",
    "from tensorflow.keras.layers import Input, Dense, Dropout, concatenate, BatchNormalization\n",
    "from tensorflow.keras.models import Model\n",
    "from tensorflow.keras.utils import plot_model\n",
    "import tensorflow as tf\n",
    "from sklearn import preprocessing"
   ]
  },
  {
   "cell_type": "code",
   "execution_count": 2,
   "metadata": {},
   "outputs": [
    {
     "name": "stdout",
     "output_type": "stream",
     "text": [
      "<class 'pandas.core.frame.DataFrame'>\n",
      "RangeIndex: 5 entries, 0 to 4\n",
      "Data columns (total 14 columns):\n",
      " #   Column        Non-Null Count  Dtype \n",
      "---  ------        --------------  ----- \n",
      " 0   id            5 non-null      int64 \n",
      " 1   date_start    5 non-null      object\n",
      " 2   date_end      5 non-null      object\n",
      " 3   gender        5 non-null      object\n",
      " 4   age           5 non-null      int64 \n",
      " 5   auto          5 non-null      object\n",
      " 6   housing       5 non-null      object\n",
      " 7   marstatus     5 non-null      object\n",
      " 8   regclient     5 non-null      object\n",
      " 9   jobtype       5 non-null      object\n",
      " 10  region        5 non-null      object\n",
      " 11  credits       5 non-null      object\n",
      " 12  children      5 non-null      object\n",
      " 13  delinq60plus  5 non-null      object\n",
      "dtypes: int64(2), object(12)\n",
      "memory usage: 688.0+ bytes\n"
     ]
    }
   ],
   "source": [
    "import pandas as pd\n",
    "from sklearn.model_selection import train_test_split\n",
    "from sklearn.preprocessing import StandardScaler\n",
    "\n",
    "# Загрузка данных из файла\n",
    "data = pd.read_csv(\"MFOcredit.csv\", encoding='cp1251', sep=';')\n",
    "data.head(5).info()"
   ]
  },
  {
   "cell_type": "code",
   "execution_count": 4,
   "metadata": {},
   "outputs": [],
   "source": [
    "# Замена пропусков на NaN\n",
    "data.replace('Пропуск поля', np.nan, inplace=True)  "
   ]
  },
  {
   "cell_type": "code",
   "execution_count": 62,
   "metadata": {},
   "outputs": [
    {
     "data": {
      "text/plain": [
       "Нет    17465\n",
       "Да      3670\n",
       "Name: auto, dtype: int64"
      ]
     },
     "execution_count": 62,
     "metadata": {},
     "output_type": "execute_result"
    }
   ],
   "source": [
    "# Подсчет количества категорий\n",
    "category_counts_auto = data['auto'].value_counts()\n",
    "category_counts_auto"
   ]
  },
  {
   "cell_type": "code",
   "execution_count": 100,
   "metadata": {},
   "outputs": [
    {
     "data": {
      "text/plain": [
       "id                  0\n",
       "date_start          0\n",
       "date_end            0\n",
       "gender              0\n",
       "age                 0\n",
       "auto            14077\n",
       "housing          7603\n",
       "marstatus        7564\n",
       "regclient           0\n",
       "jobtype         14457\n",
       "region              0\n",
       "credits           946\n",
       "children          745\n",
       "delinq60plus        0\n",
       "dtype: int64"
      ]
     },
     "execution_count": 100,
     "metadata": {},
     "output_type": "execute_result"
    }
   ],
   "source": [
    "nan_count_method_1 = data.isna().sum()\n",
    "nan_count_method_1"
   ]
  },
  {
   "cell_type": "code",
   "execution_count": 7,
   "metadata": {},
   "outputs": [],
   "source": [
    "# Выделение признаков и целевой переменной\n",
    "X = data.drop(columns=['delinq60plus'])  \n",
    "y = data['delinq60plus'] "
   ]
  },
  {
   "cell_type": "code",
   "execution_count": 8,
   "metadata": {},
   "outputs": [],
   "source": [
    "# Замена значений в целевой переменной\n",
    "y = y.replace({'Да': 1, 'Нет': 0})"
   ]
  },
  {
   "cell_type": "code",
   "execution_count": 13,
   "metadata": {},
   "outputs": [],
   "source": [
    "# Преобразование строковых столбцов в объекты даты\n",
    "X['date_start'] = pd.to_datetime(X['date_start'])\n",
    "X['date_end'] = pd.to_datetime(X['date_end'])\n",
    "\n",
    "# Вычисление разницы в днях и сохранение в новом столбце\n",
    "X['date_difference_days'] = (X['date_end'] - X['date_start']).dt.days"
   ]
  },
  {
   "cell_type": "code",
   "execution_count": 16,
   "metadata": {},
   "outputs": [],
   "source": [
    "# Удаление столбцов\n",
    "columns_to_drop = ['date_start', 'date_end']\n",
    "X.drop(columns=columns_to_drop, inplace=True)"
   ]
  },
  {
   "cell_type": "code",
   "execution_count": 18,
   "metadata": {},
   "outputs": [],
   "source": [
    "# Разделение столбцов на категориальные и числовые\n",
    "categorical_columns = X.select_dtypes(include=['object']).columns\n",
    "numeric_columns = X.select_dtypes(include=['number']).columns"
   ]
  },
  {
   "cell_type": "code",
   "execution_count": 19,
   "metadata": {},
   "outputs": [
    {
     "data": {
      "text/plain": [
       "Index(['gender', 'auto', 'housing', 'marstatus', 'regclient', 'jobtype',\n",
       "       'region', 'credits', 'children'],\n",
       "      dtype='object')"
      ]
     },
     "execution_count": 19,
     "metadata": {},
     "output_type": "execute_result"
    }
   ],
   "source": [
    "categorical_columns"
   ]
  },
  {
   "cell_type": "code",
   "execution_count": 20,
   "metadata": {},
   "outputs": [
    {
     "data": {
      "text/html": [
       "<div>\n",
       "<style scoped>\n",
       "    .dataframe tbody tr th:only-of-type {\n",
       "        vertical-align: middle;\n",
       "    }\n",
       "\n",
       "    .dataframe tbody tr th {\n",
       "        vertical-align: top;\n",
       "    }\n",
       "\n",
       "    .dataframe thead th {\n",
       "        text-align: right;\n",
       "    }\n",
       "</style>\n",
       "<table border=\"1\" class=\"dataframe\">\n",
       "  <thead>\n",
       "    <tr style=\"text-align: right;\">\n",
       "      <th></th>\n",
       "      <th>id</th>\n",
       "      <th>gender</th>\n",
       "      <th>age</th>\n",
       "      <th>auto</th>\n",
       "      <th>housing</th>\n",
       "      <th>marstatus</th>\n",
       "      <th>regclient</th>\n",
       "      <th>jobtype</th>\n",
       "      <th>region</th>\n",
       "      <th>credits</th>\n",
       "      <th>children</th>\n",
       "      <th>date_difference_days</th>\n",
       "    </tr>\n",
       "  </thead>\n",
       "  <tbody>\n",
       "    <tr>\n",
       "      <th>0</th>\n",
       "      <td>1</td>\n",
       "      <td>Мужской</td>\n",
       "      <td>44</td>\n",
       "      <td>Нет</td>\n",
       "      <td>Собственное</td>\n",
       "      <td>Гражданский брак/женат/замужем</td>\n",
       "      <td>Нет</td>\n",
       "      <td>Официальное</td>\n",
       "      <td>Новосибирская область</td>\n",
       "      <td>Нет</td>\n",
       "      <td>Да</td>\n",
       "      <td>9</td>\n",
       "    </tr>\n",
       "    <tr>\n",
       "      <th>1</th>\n",
       "      <td>2</td>\n",
       "      <td>Мужской</td>\n",
       "      <td>21</td>\n",
       "      <td>NaN</td>\n",
       "      <td>Живут с родителями</td>\n",
       "      <td>Холост</td>\n",
       "      <td>Нет</td>\n",
       "      <td>Официальное</td>\n",
       "      <td>Кемеровская область юг</td>\n",
       "      <td>Да</td>\n",
       "      <td>Нет</td>\n",
       "      <td>14</td>\n",
       "    </tr>\n",
       "    <tr>\n",
       "      <th>2</th>\n",
       "      <td>3</td>\n",
       "      <td>Мужской</td>\n",
       "      <td>25</td>\n",
       "      <td>NaN</td>\n",
       "      <td>Собственное</td>\n",
       "      <td>Холост</td>\n",
       "      <td>Да</td>\n",
       "      <td>Официальное</td>\n",
       "      <td>Кемеровская область север</td>\n",
       "      <td>NaN</td>\n",
       "      <td>Нет</td>\n",
       "      <td>14</td>\n",
       "    </tr>\n",
       "    <tr>\n",
       "      <th>3</th>\n",
       "      <td>4</td>\n",
       "      <td>Женский</td>\n",
       "      <td>47</td>\n",
       "      <td>NaN</td>\n",
       "      <td>Собственное</td>\n",
       "      <td>Гражданский брак/женат/замужем</td>\n",
       "      <td>Да</td>\n",
       "      <td>Официальное</td>\n",
       "      <td>Кемеровская область север</td>\n",
       "      <td>Нет</td>\n",
       "      <td>Нет</td>\n",
       "      <td>14</td>\n",
       "    </tr>\n",
       "    <tr>\n",
       "      <th>4</th>\n",
       "      <td>5</td>\n",
       "      <td>Мужской</td>\n",
       "      <td>22</td>\n",
       "      <td>Нет</td>\n",
       "      <td>Арендуемое</td>\n",
       "      <td>Гражданский брак/женат/замужем</td>\n",
       "      <td>Нет</td>\n",
       "      <td>Официальное</td>\n",
       "      <td>Кемеровская область север</td>\n",
       "      <td>Да</td>\n",
       "      <td>Да</td>\n",
       "      <td>14</td>\n",
       "    </tr>\n",
       "    <tr>\n",
       "      <th>...</th>\n",
       "      <td>...</td>\n",
       "      <td>...</td>\n",
       "      <td>...</td>\n",
       "      <td>...</td>\n",
       "      <td>...</td>\n",
       "      <td>...</td>\n",
       "      <td>...</td>\n",
       "      <td>...</td>\n",
       "      <td>...</td>\n",
       "      <td>...</td>\n",
       "      <td>...</td>\n",
       "      <td>...</td>\n",
       "    </tr>\n",
       "    <tr>\n",
       "      <th>35207</th>\n",
       "      <td>35208</td>\n",
       "      <td>Мужской</td>\n",
       "      <td>30</td>\n",
       "      <td>Да</td>\n",
       "      <td>Долевая собственность</td>\n",
       "      <td>Гражданский брак/женат/замужем</td>\n",
       "      <td>Да</td>\n",
       "      <td>Официальное</td>\n",
       "      <td>Алтайский край</td>\n",
       "      <td>Да</td>\n",
       "      <td>Да</td>\n",
       "      <td>14</td>\n",
       "    </tr>\n",
       "    <tr>\n",
       "      <th>35208</th>\n",
       "      <td>35209</td>\n",
       "      <td>Женский</td>\n",
       "      <td>57</td>\n",
       "      <td>Нет</td>\n",
       "      <td>Собственное</td>\n",
       "      <td>Разведен</td>\n",
       "      <td>Да</td>\n",
       "      <td>NaN</td>\n",
       "      <td>Алтайский край</td>\n",
       "      <td>Да</td>\n",
       "      <td>Нет</td>\n",
       "      <td>14</td>\n",
       "    </tr>\n",
       "    <tr>\n",
       "      <th>35209</th>\n",
       "      <td>35210</td>\n",
       "      <td>Женский</td>\n",
       "      <td>38</td>\n",
       "      <td>NaN</td>\n",
       "      <td>NaN</td>\n",
       "      <td>NaN</td>\n",
       "      <td>Да</td>\n",
       "      <td>NaN</td>\n",
       "      <td>Новосибирская область</td>\n",
       "      <td>Нет</td>\n",
       "      <td>Да</td>\n",
       "      <td>14</td>\n",
       "    </tr>\n",
       "    <tr>\n",
       "      <th>35210</th>\n",
       "      <td>35211</td>\n",
       "      <td>Женский</td>\n",
       "      <td>19</td>\n",
       "      <td>NaN</td>\n",
       "      <td>NaN</td>\n",
       "      <td>NaN</td>\n",
       "      <td>Да</td>\n",
       "      <td>NaN</td>\n",
       "      <td>Кемеровская область юг</td>\n",
       "      <td>Нет</td>\n",
       "      <td>Нет</td>\n",
       "      <td>14</td>\n",
       "    </tr>\n",
       "    <tr>\n",
       "      <th>35211</th>\n",
       "      <td>35212</td>\n",
       "      <td>Мужской</td>\n",
       "      <td>25</td>\n",
       "      <td>NaN</td>\n",
       "      <td>NaN</td>\n",
       "      <td>NaN</td>\n",
       "      <td>Да</td>\n",
       "      <td>NaN</td>\n",
       "      <td>Кемеровская область север</td>\n",
       "      <td>Нет</td>\n",
       "      <td>Нет</td>\n",
       "      <td>14</td>\n",
       "    </tr>\n",
       "  </tbody>\n",
       "</table>\n",
       "<p>35212 rows × 12 columns</p>\n",
       "</div>"
      ],
      "text/plain": [
       "          id   gender  age auto                housing  \\\n",
       "0          1  Мужской   44  Нет            Собственное   \n",
       "1          2  Мужской   21  NaN     Живут с родителями   \n",
       "2          3  Мужской   25  NaN            Собственное   \n",
       "3          4  Женский   47  NaN            Собственное   \n",
       "4          5  Мужской   22  Нет             Арендуемое   \n",
       "...      ...      ...  ...  ...                    ...   \n",
       "35207  35208  Мужской   30   Да  Долевая собственность   \n",
       "35208  35209  Женский   57  Нет            Собственное   \n",
       "35209  35210  Женский   38  NaN                    NaN   \n",
       "35210  35211  Женский   19  NaN                    NaN   \n",
       "35211  35212  Мужской   25  NaN                    NaN   \n",
       "\n",
       "                            marstatus regclient      jobtype  \\\n",
       "0      Гражданский брак/женат/замужем       Нет  Официальное   \n",
       "1                              Холост       Нет  Официальное   \n",
       "2                              Холост        Да  Официальное   \n",
       "3      Гражданский брак/женат/замужем        Да  Официальное   \n",
       "4      Гражданский брак/женат/замужем       Нет  Официальное   \n",
       "...                               ...       ...          ...   \n",
       "35207  Гражданский брак/женат/замужем        Да  Официальное   \n",
       "35208                        Разведен        Да          NaN   \n",
       "35209                             NaN        Да          NaN   \n",
       "35210                             NaN        Да          NaN   \n",
       "35211                             NaN        Да          NaN   \n",
       "\n",
       "                          region credits children  date_difference_days  \n",
       "0          Новосибирская область     Нет       Да                     9  \n",
       "1         Кемеровская область юг      Да      Нет                    14  \n",
       "2      Кемеровская область север     NaN      Нет                    14  \n",
       "3      Кемеровская область север     Нет      Нет                    14  \n",
       "4      Кемеровская область север      Да       Да                    14  \n",
       "...                          ...     ...      ...                   ...  \n",
       "35207             Алтайский край      Да       Да                    14  \n",
       "35208             Алтайский край      Да      Нет                    14  \n",
       "35209      Новосибирская область     Нет       Да                    14  \n",
       "35210     Кемеровская область юг     Нет      Нет                    14  \n",
       "35211  Кемеровская область север     Нет      Нет                    14  \n",
       "\n",
       "[35212 rows x 12 columns]"
      ]
     },
     "execution_count": 20,
     "metadata": {},
     "output_type": "execute_result"
    }
   ],
   "source": [
    "X"
   ]
  },
  {
   "cell_type": "code",
   "execution_count": 21,
   "metadata": {},
   "outputs": [],
   "source": [
    "# Однократное кодирование строковых категориальных признаков\n",
    "X = pd.get_dummies(X, columns=['gender', 'auto', 'housing', 'marstatus', 'regclient', 'jobtype',\n",
    "       'region', 'credits', 'children'])  "
   ]
  },
  {
   "cell_type": "code",
   "execution_count": 48,
   "metadata": {},
   "outputs": [
    {
     "name": "stdout",
     "output_type": "stream",
     "text": [
      "Обучающая выборка: (24648, 29) (24648,)\n",
      "Валидационная выборка: (5282, 29) (5282,)\n",
      "Тестовая выборка: (5282, 29) (5282,)\n"
     ]
    }
   ],
   "source": [
    "# Разделение данных на обучающую (70%), валидационную (15%) и тестовую (15%) выборки\n",
    "X_train, X_temp, y_train, y_temp = train_test_split(X, y, test_size=0.3, random_state=42)\n",
    "X_val, X_test, y_val, y_test = train_test_split(X_temp, y_temp, test_size=0.5, random_state=42)\n",
    "\n",
    "# Вывод размеров выборок\n",
    "print(\"Обучающая выборка:\", X_train.shape, y_train.shape)\n",
    "print(\"Валидационная выборка:\", X_val.shape, y_val.shape)\n",
    "print(\"Тестовая выборка:\", X_test.shape, y_test.shape)"
   ]
  },
  {
   "cell_type": "code",
   "execution_count": 49,
   "metadata": {},
   "outputs": [
    {
     "name": "stdout",
     "output_type": "stream",
     "text": [
      "<class 'pandas.core.frame.DataFrame'>\n",
      "RangeIndex: 35212 entries, 0 to 35211\n",
      "Data columns (total 29 columns):\n",
      " #   Column                                    Non-Null Count  Dtype\n",
      "---  ------                                    --------------  -----\n",
      " 0   id                                        35212 non-null  int64\n",
      " 1   age                                       35212 non-null  int64\n",
      " 2   date_difference_days                      35212 non-null  int64\n",
      " 3   gender_Женский                            35212 non-null  uint8\n",
      " 4   gender_Мужской                            35212 non-null  uint8\n",
      " 5   auto_Да                                   35212 non-null  uint8\n",
      " 6   auto_Нет                                  35212 non-null  uint8\n",
      " 7   housing_Арендуемое                        35212 non-null  uint8\n",
      " 8   housing_Долевая собственность             35212 non-null  uint8\n",
      " 9   housing_Живут с родителями                35212 non-null  uint8\n",
      " 10  housing_Муниципальное                     35212 non-null  uint8\n",
      " 11  housing_Собственное                       35212 non-null  uint8\n",
      " 12  marstatus_Вдова/вдовец                    35212 non-null  uint8\n",
      " 13  marstatus_Гражданский брак/женат/замужем  35212 non-null  uint8\n",
      " 14  marstatus_Разведен                        35212 non-null  uint8\n",
      " 15  marstatus_Холост                          35212 non-null  uint8\n",
      " 16  regclient_Да                              35212 non-null  uint8\n",
      " 17  regclient_Нет                             35212 non-null  uint8\n",
      " 18  jobtype_Неофициальное                     35212 non-null  uint8\n",
      " 19  jobtype_Официальное                       35212 non-null  uint8\n",
      " 20  region_Алтайский край                     35212 non-null  uint8\n",
      " 21  region_Кемеровская область север          35212 non-null  uint8\n",
      " 22  region_Кемеровская область юг             35212 non-null  uint8\n",
      " 23  region_Красноярский край                  35212 non-null  uint8\n",
      " 24  region_Новосибирская область              35212 non-null  uint8\n",
      " 25  credits_Да                                35212 non-null  uint8\n",
      " 26  credits_Нет                               35212 non-null  uint8\n",
      " 27  children_Да                               35212 non-null  uint8\n",
      " 28  children_Нет                              35212 non-null  uint8\n",
      "dtypes: int64(3), uint8(26)\n",
      "memory usage: 1.7 MB\n"
     ]
    }
   ],
   "source": [
    "X.info()"
   ]
  },
  {
   "cell_type": "code",
   "execution_count": 50,
   "metadata": {},
   "outputs": [
    {
     "name": "stdout",
     "output_type": "stream",
     "text": [
      "<class 'pandas.core.series.Series'>\n",
      "RangeIndex: 35212 entries, 0 to 35211\n",
      "Series name: delinq60plus\n",
      "Non-Null Count  Dtype\n",
      "--------------  -----\n",
      "35212 non-null  int64\n",
      "dtypes: int64(1)\n",
      "memory usage: 275.2 KB\n"
     ]
    }
   ],
   "source": [
    "y.info()"
   ]
  },
  {
   "cell_type": "code",
   "execution_count": 54,
   "metadata": {},
   "outputs": [],
   "source": [
    "# Масштабирование признаков\n",
    "scaler = StandardScaler()\n",
    "X_train = scaler.fit_transform(X_train)\n",
    "X_val = scaler.transform(X_val)\n",
    "X_test = scaler.transform(X_test)"
   ]
  },
  {
   "cell_type": "code",
   "execution_count": 55,
   "metadata": {},
   "outputs": [
    {
     "data": {
      "text/plain": [
       "array([[ 0.65927898,  0.51350508, -0.08108958, ...,  0.96821032,\n",
       "        -0.77822124,  0.8131742 ],\n",
       "       [ 0.16444305,  1.12085157, -0.08108958, ...,  0.96821032,\n",
       "         1.28498163, -1.22974881],\n",
       "       [-0.08331999, -0.77710622, -0.787992  , ...,  0.96821032,\n",
       "        -0.77822124,  0.8131742 ],\n",
       "       ...,\n",
       "       [-0.62193101,  0.81717833, -1.49489443, ..., -1.03283345,\n",
       "        -0.77822124,  0.8131742 ],\n",
       "       [-1.6496596 , -0.09384142, -0.08108958, ...,  0.96821032,\n",
       "        -0.77822124,  0.8131742 ],\n",
       "       [-0.17718009, -0.47343297, -0.08108958, ..., -1.03283345,\n",
       "         1.28498163, -1.22974881]])"
      ]
     },
     "execution_count": 55,
     "metadata": {},
     "output_type": "execute_result"
    }
   ],
   "source": [
    "X_train"
   ]
  },
  {
   "cell_type": "code",
   "execution_count": 86,
   "metadata": {},
   "outputs": [],
   "source": [
    "from tensorflow.keras.layers import Input, Dense, Dropout, concatenate, BatchNormalization\n",
    "from tensorflow.keras.models import Model\n",
    "from tensorflow.keras.utils import plot_model\n",
    "import tensorflow as tf\n",
    "import keras\n",
    "from keras.models import Sequential\n",
    "from keras.layers import Dense\n",
    "keras.backend.clear_session()"
   ]
  },
  {
   "cell_type": "code",
   "execution_count": 87,
   "metadata": {},
   "outputs": [
    {
     "data": {
      "text/plain": [
       "(29,)"
      ]
     },
     "execution_count": 87,
     "metadata": {},
     "output_type": "execute_result"
    }
   ],
   "source": [
    "X_train.shape[1:]"
   ]
  },
  {
   "cell_type": "code",
   "execution_count": 88,
   "metadata": {},
   "outputs": [],
   "source": [
    "np.random.seed(42)\n",
    "tf.random.set_seed(42)"
   ]
  },
  {
   "cell_type": "code",
   "execution_count": 97,
   "metadata": {},
   "outputs": [],
   "source": [
    "model = keras.models.Sequential([\n",
    "    keras.layers.Dense(30, activation=\"relu\", input_shape=[29]),\n",
    "    keras.layers.Dense(30, activation=\"relu\"),\n",
    "    keras.layers.Dense(1)\n",
    "])    "
   ]
  },
  {
   "cell_type": "code",
   "execution_count": 98,
   "metadata": {},
   "outputs": [
    {
     "name": "stdout",
     "output_type": "stream",
     "text": [
      "WARNING:tensorflow:Compiled the loaded model, but the compiled metrics have yet to be built. `model.compile_metrics` will be empty until you train or evaluate the model.\n"
     ]
    }
   ],
   "source": [
    "model.save(\"my_keras_model.h5\")"
   ]
  },
  {
   "cell_type": "code",
   "execution_count": 99,
   "metadata": {},
   "outputs": [
    {
     "name": "stdout",
     "output_type": "stream",
     "text": [
      "Epoch 1/100\n",
      "771/771 [==============================] - 1s 1ms/step - loss: 0.2872 - val_loss: 0.2431\n",
      "Epoch 2/100\n",
      "771/771 [==============================] - 1s 942us/step - loss: 0.2328 - val_loss: 0.2207\n",
      "Epoch 3/100\n",
      "771/771 [==============================] - 1s 884us/step - loss: 0.2160 - val_loss: 0.2096\n",
      "Epoch 4/100\n",
      "771/771 [==============================] - 1s 879us/step - loss: 0.2062 - val_loss: 0.2020\n",
      "Epoch 5/100\n",
      "771/771 [==============================] - 1s 910us/step - loss: 0.1996 - val_loss: 0.1963\n",
      "Epoch 6/100\n",
      "771/771 [==============================] - 1s 898us/step - loss: 0.1946 - val_loss: 0.1922\n",
      "Epoch 7/100\n",
      "771/771 [==============================] - 1s 905us/step - loss: 0.1907 - val_loss: 0.1890\n",
      "Epoch 8/100\n",
      "771/771 [==============================] - 1s 933us/step - loss: 0.1876 - val_loss: 0.1867\n",
      "Epoch 9/100\n",
      "771/771 [==============================] - 1s 897us/step - loss: 0.1851 - val_loss: 0.1844\n",
      "Epoch 10/100\n",
      "771/771 [==============================] - 1s 959us/step - loss: 0.1830 - val_loss: 0.1823\n",
      "Epoch 11/100\n",
      "771/771 [==============================] - 1s 893us/step - loss: 0.1812 - val_loss: 0.1810\n",
      "Epoch 12/100\n",
      "771/771 [==============================] - 1s 922us/step - loss: 0.1796 - val_loss: 0.1791\n",
      "Epoch 13/100\n",
      "771/771 [==============================] - 1s 912us/step - loss: 0.1781 - val_loss: 0.1778\n",
      "Epoch 14/100\n",
      "771/771 [==============================] - 1s 904us/step - loss: 0.1769 - val_loss: 0.1768\n",
      "Epoch 15/100\n",
      "771/771 [==============================] - 1s 878us/step - loss: 0.1758 - val_loss: 0.1758\n",
      "Epoch 16/100\n",
      "771/771 [==============================] - 1s 880us/step - loss: 0.1747 - val_loss: 0.1746\n",
      "Epoch 17/100\n",
      "771/771 [==============================] - 1s 935us/step - loss: 0.1738 - val_loss: 0.1737\n",
      "Epoch 18/100\n",
      "771/771 [==============================] - 1s 894us/step - loss: 0.1730 - val_loss: 0.1729\n",
      "Epoch 19/100\n",
      "771/771 [==============================] - 1s 884us/step - loss: 0.1723 - val_loss: 0.1723\n",
      "Epoch 20/100\n",
      "771/771 [==============================] - 1s 896us/step - loss: 0.1716 - val_loss: 0.1718\n",
      "Epoch 21/100\n",
      "771/771 [==============================] - 1s 920us/step - loss: 0.1709 - val_loss: 0.1709\n",
      "Epoch 22/100\n",
      "771/771 [==============================] - 1s 893us/step - loss: 0.1704 - val_loss: 0.1704\n",
      "Epoch 23/100\n",
      "771/771 [==============================] - 1s 888us/step - loss: 0.1698 - val_loss: 0.1699\n",
      "Epoch 24/100\n",
      "771/771 [==============================] - 1s 908us/step - loss: 0.1693 - val_loss: 0.1695\n",
      "Epoch 25/100\n",
      "771/771 [==============================] - 1s 921us/step - loss: 0.1689 - val_loss: 0.1689\n",
      "Epoch 26/100\n",
      "771/771 [==============================] - 1s 919us/step - loss: 0.1684 - val_loss: 0.1687\n",
      "Epoch 27/100\n",
      "771/771 [==============================] - 1s 889us/step - loss: 0.1680 - val_loss: 0.1681\n",
      "Epoch 28/100\n",
      "771/771 [==============================] - 1s 919us/step - loss: 0.1676 - val_loss: 0.1679\n",
      "Epoch 29/100\n",
      "771/771 [==============================] - 1s 904us/step - loss: 0.1672 - val_loss: 0.1674\n",
      "Epoch 30/100\n",
      "771/771 [==============================] - 1s 882us/step - loss: 0.1669 - val_loss: 0.1675\n",
      "Epoch 31/100\n",
      "771/771 [==============================] - 1s 944us/step - loss: 0.1665 - val_loss: 0.1668\n",
      "Epoch 32/100\n",
      "771/771 [==============================] - 1s 900us/step - loss: 0.1663 - val_loss: 0.1665\n",
      "Epoch 33/100\n",
      "771/771 [==============================] - 1s 878us/step - loss: 0.1660 - val_loss: 0.1663\n",
      "Epoch 34/100\n",
      "771/771 [==============================] - 1s 922us/step - loss: 0.1657 - val_loss: 0.1659\n",
      "Epoch 35/100\n",
      "771/771 [==============================] - 1s 904us/step - loss: 0.1654 - val_loss: 0.1658\n",
      "Epoch 36/100\n",
      "771/771 [==============================] - 1s 895us/step - loss: 0.1651 - val_loss: 0.1659\n",
      "Epoch 37/100\n",
      "771/771 [==============================] - 1s 883us/step - loss: 0.1649 - val_loss: 0.1652\n",
      "Epoch 38/100\n",
      "771/771 [==============================] - 1s 935us/step - loss: 0.1647 - val_loss: 0.1651\n",
      "Epoch 39/100\n",
      "771/771 [==============================] - 1s 886us/step - loss: 0.1644 - val_loss: 0.1648\n",
      "Epoch 40/100\n",
      "771/771 [==============================] - 1s 862us/step - loss: 0.1642 - val_loss: 0.1647\n",
      "Epoch 41/100\n",
      "771/771 [==============================] - 1s 849us/step - loss: 0.1640 - val_loss: 0.1649\n",
      "Epoch 42/100\n",
      "771/771 [==============================] - 1s 896us/step - loss: 0.1638 - val_loss: 0.1643\n",
      "Epoch 43/100\n",
      "771/771 [==============================] - 1s 839us/step - loss: 0.1636 - val_loss: 0.1643\n",
      "Epoch 44/100\n",
      "771/771 [==============================] - 1s 914us/step - loss: 0.1634 - val_loss: 0.1640\n",
      "Epoch 45/100\n",
      "771/771 [==============================] - 1s 947us/step - loss: 0.1632 - val_loss: 0.1637\n",
      "Epoch 46/100\n",
      "771/771 [==============================] - 1s 917us/step - loss: 0.1630 - val_loss: 0.1638\n",
      "Epoch 47/100\n",
      "771/771 [==============================] - 1s 866us/step - loss: 0.1629 - val_loss: 0.1633\n",
      "Epoch 48/100\n",
      "771/771 [==============================] - 1s 900us/step - loss: 0.1627 - val_loss: 0.1631\n",
      "Epoch 49/100\n",
      "771/771 [==============================] - 1s 899us/step - loss: 0.1625 - val_loss: 0.1630\n",
      "Epoch 50/100\n",
      "771/771 [==============================] - 1s 859us/step - loss: 0.1624 - val_loss: 0.1628\n",
      "Epoch 51/100\n",
      "771/771 [==============================] - 1s 896us/step - loss: 0.1622 - val_loss: 0.1627\n",
      "Epoch 52/100\n",
      "771/771 [==============================] - 1s 874us/step - loss: 0.1621 - val_loss: 0.1625\n",
      "Epoch 53/100\n",
      "771/771 [==============================] - 1s 851us/step - loss: 0.1619 - val_loss: 0.1628\n",
      "Epoch 54/100\n",
      "771/771 [==============================] - 1s 917us/step - loss: 0.1618 - val_loss: 0.1622\n",
      "Epoch 55/100\n",
      "771/771 [==============================] - 1s 898us/step - loss: 0.1616 - val_loss: 0.1621\n",
      "Epoch 56/100\n",
      "771/771 [==============================] - 1s 852us/step - loss: 0.1615 - val_loss: 0.1622\n",
      "Epoch 57/100\n",
      "771/771 [==============================] - 1s 920us/step - loss: 0.1613 - val_loss: 0.1620\n",
      "Epoch 58/100\n",
      "771/771 [==============================] - 1s 860us/step - loss: 0.1612 - val_loss: 0.1621\n",
      "Epoch 59/100\n",
      "771/771 [==============================] - 1s 871us/step - loss: 0.1611 - val_loss: 0.1617\n",
      "Epoch 60/100\n",
      "771/771 [==============================] - 1s 886us/step - loss: 0.1610 - val_loss: 0.1616\n",
      "Epoch 61/100\n",
      "771/771 [==============================] - 1s 890us/step - loss: 0.1608 - val_loss: 0.1616\n",
      "Epoch 62/100\n",
      "771/771 [==============================] - 1s 847us/step - loss: 0.1607 - val_loss: 0.1614\n",
      "Epoch 63/100\n",
      "771/771 [==============================] - 1s 873us/step - loss: 0.1606 - val_loss: 0.1615\n",
      "Epoch 64/100\n",
      "771/771 [==============================] - 1s 898us/step - loss: 0.1605 - val_loss: 0.1611\n",
      "Epoch 65/100\n",
      "771/771 [==============================] - 1s 885us/step - loss: 0.1604 - val_loss: 0.1609\n",
      "Epoch 66/100\n",
      "771/771 [==============================] - 1s 942us/step - loss: 0.1602 - val_loss: 0.1608\n",
      "Epoch 67/100\n",
      "771/771 [==============================] - 1s 890us/step - loss: 0.1601 - val_loss: 0.1608\n",
      "Epoch 68/100\n",
      "771/771 [==============================] - 1s 927us/step - loss: 0.1600 - val_loss: 0.1607\n",
      "Epoch 69/100\n",
      "771/771 [==============================] - 1s 891us/step - loss: 0.1599 - val_loss: 0.1609\n",
      "Epoch 70/100\n",
      "771/771 [==============================] - 1s 865us/step - loss: 0.1598 - val_loss: 0.1605\n",
      "Epoch 71/100\n",
      "771/771 [==============================] - 1s 899us/step - loss: 0.1597 - val_loss: 0.1603\n",
      "Epoch 72/100\n",
      "771/771 [==============================] - 1s 866us/step - loss: 0.1596 - val_loss: 0.1604\n",
      "Epoch 73/100\n",
      "771/771 [==============================] - 1s 871us/step - loss: 0.1595 - val_loss: 0.1602\n",
      "Epoch 74/100\n",
      "771/771 [==============================] - 1s 889us/step - loss: 0.1594 - val_loss: 0.1601\n",
      "Epoch 75/100\n",
      "771/771 [==============================] - 1s 897us/step - loss: 0.1593 - val_loss: 0.1599\n",
      "Epoch 76/100\n",
      "771/771 [==============================] - 1s 935us/step - loss: 0.1592 - val_loss: 0.1599\n",
      "Epoch 77/100\n",
      "771/771 [==============================] - 1s 919us/step - loss: 0.1591 - val_loss: 0.1598\n",
      "Epoch 78/100\n",
      "771/771 [==============================] - 1s 859us/step - loss: 0.1590 - val_loss: 0.1599\n",
      "Epoch 79/100\n",
      "771/771 [==============================] - 1s 863us/step - loss: 0.1589 - val_loss: 0.1597\n",
      "Epoch 80/100\n",
      "771/771 [==============================] - 1s 914us/step - loss: 0.1588 - val_loss: 0.1596\n",
      "Epoch 81/100\n",
      "771/771 [==============================] - 1s 874us/step - loss: 0.1587 - val_loss: 0.1598\n",
      "Epoch 82/100\n",
      "771/771 [==============================] - 1s 890us/step - loss: 0.1586 - val_loss: 0.1594\n",
      "Epoch 83/100\n",
      "771/771 [==============================] - 1s 913us/step - loss: 0.1585 - val_loss: 0.1592\n",
      "Epoch 84/100\n",
      "771/771 [==============================] - 1s 901us/step - loss: 0.1585 - val_loss: 0.1594\n",
      "Epoch 85/100\n",
      "771/771 [==============================] - 1s 915us/step - loss: 0.1583 - val_loss: 0.1591\n",
      "Epoch 86/100\n",
      "771/771 [==============================] - 1s 849us/step - loss: 0.1583 - val_loss: 0.1595\n",
      "Epoch 87/100\n",
      "771/771 [==============================] - 1s 879us/step - loss: 0.1582 - val_loss: 0.1591\n",
      "Epoch 88/100\n",
      "771/771 [==============================] - 1s 927us/step - loss: 0.1581 - val_loss: 0.1590\n",
      "Epoch 89/100\n",
      "771/771 [==============================] - 1s 888us/step - loss: 0.1580 - val_loss: 0.1590\n",
      "Epoch 90/100\n",
      "771/771 [==============================] - 1s 967us/step - loss: 0.1580 - val_loss: 0.1587\n",
      "Epoch 91/100\n",
      "771/771 [==============================] - 1s 898us/step - loss: 0.1579 - val_loss: 0.1588\n",
      "Epoch 92/100\n",
      "771/771 [==============================] - 1s 958us/step - loss: 0.1578 - val_loss: 0.1586\n",
      "Epoch 93/100\n",
      "771/771 [==============================] - 1s 888us/step - loss: 0.1577 - val_loss: 0.1587\n",
      "Epoch 94/100\n",
      "771/771 [==============================] - 1s 936us/step - loss: 0.1577 - val_loss: 0.1586\n",
      "Epoch 95/100\n",
      "771/771 [==============================] - 1s 922us/step - loss: 0.1576 - val_loss: 0.1584\n",
      "Epoch 96/100\n",
      "771/771 [==============================] - 1s 925us/step - loss: 0.1575 - val_loss: 0.1583\n",
      "Epoch 97/100\n",
      "771/771 [==============================] - 1s 924us/step - loss: 0.1575 - val_loss: 0.1584\n",
      "Epoch 98/100\n",
      "771/771 [==============================] - 1s 917us/step - loss: 0.1574 - val_loss: 0.1583\n",
      "Epoch 99/100\n",
      "771/771 [==============================] - 1s 931us/step - loss: 0.1573 - val_loss: 0.1581\n",
      "Epoch 100/100\n",
      "771/771 [==============================] - 1s 923us/step - loss: 0.1573 - val_loss: 0.1581\n",
      "166/166 [==============================] - 0s 680us/step - loss: 0.1634\n"
     ]
    }
   ],
   "source": [
    "model.compile(loss=\"mse\", optimizer=keras.optimizers.SGD(lr=1e-3))\n",
    "checkpoint_cb = keras.callbacks.ModelCheckpoint(\"my_keras_model.h5\", save_best_only=True)\n",
    "early_stopping_cb = keras.callbacks.EarlyStopping(patience=3,\n",
    "                                                  restore_best_weights=True)\n",
    "history = model.fit(X_train, y_train, epochs=100,\n",
    "                    validation_data=(X_val, y_val),\n",
    "                    callbacks=[checkpoint_cb, early_stopping_cb])\n",
    "mse_test = model.evaluate(X_test, y_test)"
   ]
  },
  {
   "cell_type": "code",
   "execution_count": null,
   "metadata": {},
   "outputs": [],
   "source": []
  },
  {
   "cell_type": "code",
   "execution_count": 101,
   "metadata": {},
   "outputs": [],
   "source": [
    "from datetime import datetime\n",
    "counter = 0"
   ]
  },
  {
   "cell_type": "code",
   "execution_count": 102,
   "metadata": {},
   "outputs": [],
   "source": [
    "from tensorflow.keras.callbacks import TensorBoard\n",
    "file_name = 'my_saved_model'  #!! ВНИМАНИЕ !! TensorBoard НЕ обновляет журнал лога а добавляет в журнал лога новую информацию. Если менять модель и запускать его несколько раз то будет КАША!\n",
    "# !! Новая модель - НОВЫЙ файл !!\n",
    "\n",
    "logs = \"logs\\\\{}\".format(file_name) +\"_\"+ datetime.now().strftime(\"%Y%m%d-%H%M%S\")+\"__\"+str(counter)\n",
    "tensorboard = TensorBoard(log_dir=logs, histogram_freq = 1,\n",
    "                                                 profile_batch = '100,120')\n",
    "#tf.debugging.experimental.enable_dump_debug_info(\"logs\\\\{}\".format(file_name), tensor_debug_mode=\"FULL_HEALTH\", circular_buffer_size=-1)\n",
    "counter +=1"
   ]
  },
  {
   "cell_type": "code",
   "execution_count": 103,
   "metadata": {},
   "outputs": [
    {
     "name": "stdout",
     "output_type": "stream",
     "text": [
      "You must install pydot (`pip install pydot`) and install graphviz (see instructions at https://graphviz.gitlab.io/download/) for plot_model to work.\n"
     ]
    }
   ],
   "source": [
    "import tensorflow as tf\n",
    "tf.keras.utils.plot_model(model, \"my_mnist_model.png\", show_shapes=True,show_dtype=True)"
   ]
  },
  {
   "cell_type": "code",
   "execution_count": 104,
   "metadata": {},
   "outputs": [],
   "source": [
    "pred = model.predict(X_test, batch_size=32, verbose=0)"
   ]
  },
  {
   "cell_type": "code",
   "execution_count": 105,
   "metadata": {},
   "outputs": [
    {
     "data": {
      "text/plain": [
       "0"
      ]
     },
     "execution_count": 105,
     "metadata": {},
     "output_type": "execute_result"
    }
   ],
   "source": [
    "np.argmax(pred[0])"
   ]
  },
  {
   "cell_type": "code",
   "execution_count": 106,
   "metadata": {},
   "outputs": [],
   "source": [
    "from sklearn.metrics import confusion_matrix"
   ]
  },
  {
   "cell_type": "code",
   "execution_count": 107,
   "metadata": {},
   "outputs": [],
   "source": [
    "pred_rev = np.argmax(pred, axis=1)"
   ]
  },
  {
   "cell_type": "code",
   "execution_count": 108,
   "metadata": {},
   "outputs": [
    {
     "data": {
      "text/plain": [
       "array([[3242,    0],\n",
       "       [2040,    0]], dtype=int64)"
      ]
     },
     "execution_count": 108,
     "metadata": {},
     "output_type": "execute_result"
    }
   ],
   "source": [
    "confusion_matrix(y_test, pred_rev)"
   ]
  },
  {
   "cell_type": "code",
   "execution_count": 109,
   "metadata": {},
   "outputs": [
    {
     "data": {
      "image/png": "[encoded data removed]",
      "text/plain": [
       "<Figure size 640x480 with 2 Axes>"
      ]
     },
     "metadata": {},
     "output_type": "display_data"
    }
   ],
   "source": [
    "import seaborn as sns\n",
    "cm = confusion_matrix(y_test, pred_rev)\n",
    "\n",
    "sns.heatmap(cm, annot=True , fmt=\".0f\");"
   ]
  },
  {
   "cell_type": "code",
   "execution_count": 110,
   "metadata": {},
   "outputs": [
    {
     "data": {
      "text/plain": [
       "0.6137826580840591"
      ]
     },
     "execution_count": 110,
     "metadata": {},
     "output_type": "execute_result"
    }
   ],
   "source": [
    "from sklearn.metrics import accuracy_score\n",
    "accuracy_score(y_test, pred_rev)"
   ]
  },
  {
   "cell_type": "code",
   "execution_count": null,
   "metadata": {},
   "outputs": [],
   "source": []
  },
  {
   "cell_type": "markdown",
   "metadata": {},
   "source": [
    "# Тонкая настройка гиперпараметров нейронной сети"
   ]
  },
  {
   "cell_type": "code",
   "execution_count": 118,
   "metadata": {},
   "outputs": [],
   "source": [
    "def build_model(n_hidden=1, n_neurons=30, learning_rate=3e-3, input_shape=[29]):\n",
    "    model = keras.models.Sequential()\n",
    "    model.add(keras.layers.InputLayer(input_shape=input_shape))\n",
    "    for layer in range(n_hidden):\n",
    "        model.add(keras.layers.Dense(n_neurons, activation=\"relu\"))\n",
    "    model.add(keras.layers.Dense(1))\n",
    "    optimizer = keras.optimizers.SGD(lr=learning_rate)\n",
    "    model.compile(loss=\"mse\", optimizer=optimizer)\n",
    "    return model"
   ]
  },
  {
   "cell_type": "code",
   "execution_count": null,
   "metadata": {},
   "outputs": [],
   "source": []
  },
  {
   "cell_type": "code",
   "execution_count": 119,
   "metadata": {},
   "outputs": [
    {
     "name": "stderr",
     "output_type": "stream",
     "text": [
      "C:\\Users\\user\\AppData\\Local\\Temp\\ipykernel_3808\\1709004121.py:1: DeprecationWarning: KerasRegressor is deprecated, use Sci-Keras (https://github.com/adriangb/scikeras) instead. See https://www.adriangb.com/scikeras/stable/migration.html for help migrating.\n",
      "  keras_reg = keras.wrappers.scikit_learn.KerasRegressor(build_model)\n"
     ]
    }
   ],
   "source": [
    "keras_reg = keras.wrappers.scikit_learn.KerasRegressor(build_model)"
   ]
  },
  {
   "cell_type": "code",
   "execution_count": 120,
   "metadata": {},
   "outputs": [
    {
     "name": "stdout",
     "output_type": "stream",
     "text": [
      "Epoch 1/100\n",
      "771/771 [==============================] - 1s 972us/step - loss: 0.2671 - val_loss: 0.1927\n",
      "Epoch 2/100\n",
      "771/771 [==============================] - 1s 842us/step - loss: 0.1903 - val_loss: 0.1777\n",
      "Epoch 3/100\n",
      "771/771 [==============================] - 1s 841us/step - loss: 0.1802 - val_loss: 0.1724\n",
      "Epoch 4/100\n",
      "771/771 [==============================] - 1s 871us/step - loss: 0.1751 - val_loss: 0.1682\n",
      "Epoch 5/100\n",
      "771/771 [==============================] - 1s 867us/step - loss: 0.1719 - val_loss: 0.1660\n",
      "Epoch 6/100\n",
      "771/771 [==============================] - 1s 887us/step - loss: 0.1698 - val_loss: 0.1643\n",
      "Epoch 7/100\n",
      "771/771 [==============================] - 1s 894us/step - loss: 0.1683 - val_loss: 0.1635\n",
      "Epoch 8/100\n",
      "771/771 [==============================] - 1s 870us/step - loss: 0.1672 - val_loss: 0.1631\n",
      "Epoch 9/100\n",
      "771/771 [==============================] - 1s 840us/step - loss: 0.1663 - val_loss: 0.1621\n",
      "Epoch 10/100\n",
      "771/771 [==============================] - 1s 844us/step - loss: 0.1655 - val_loss: 0.1613\n",
      "Epoch 11/100\n",
      "771/771 [==============================] - 1s 835us/step - loss: 0.1648 - val_loss: 0.1620\n",
      "Epoch 12/100\n",
      "771/771 [==============================] - 1s 879us/step - loss: 0.1643 - val_loss: 0.1602\n",
      "Epoch 13/100\n",
      "771/771 [==============================] - 1s 835us/step - loss: 0.1638 - val_loss: 0.1598\n",
      "Epoch 14/100\n",
      "771/771 [==============================] - 1s 857us/step - loss: 0.1633 - val_loss: 0.1596\n",
      "Epoch 15/100\n",
      "771/771 [==============================] - 1s 842us/step - loss: 0.1630 - val_loss: 0.1599\n",
      "Epoch 16/100\n",
      "771/771 [==============================] - 1s 841us/step - loss: 0.1626 - val_loss: 0.1589\n",
      "Epoch 17/100\n",
      "771/771 [==============================] - 1s 849us/step - loss: 0.1623 - val_loss: 0.1586\n",
      "Epoch 18/100\n",
      "771/771 [==============================] - 1s 886us/step - loss: 0.1619 - val_loss: 0.1584\n",
      "Epoch 19/100\n",
      "771/771 [==============================] - 1s 897us/step - loss: 0.1616 - val_loss: 0.1585\n",
      "Epoch 20/100\n",
      "771/771 [==============================] - 1s 843us/step - loss: 0.1613 - val_loss: 0.1585\n",
      "Epoch 21/100\n",
      "771/771 [==============================] - 1s 866us/step - loss: 0.1610 - val_loss: 0.1576\n",
      "Epoch 22/100\n",
      "771/771 [==============================] - 1s 857us/step - loss: 0.1609 - val_loss: 0.1576\n",
      "Epoch 23/100\n",
      "771/771 [==============================] - 1s 822us/step - loss: 0.1606 - val_loss: 0.1573\n",
      "Epoch 24/100\n",
      "771/771 [==============================] - 1s 889us/step - loss: 0.1603 - val_loss: 0.1572\n",
      "Epoch 25/100\n",
      "771/771 [==============================] - 1s 925us/step - loss: 0.1601 - val_loss: 0.1570\n",
      "Epoch 26/100\n",
      "771/771 [==============================] - 1s 858us/step - loss: 0.1599 - val_loss: 0.1569\n",
      "Epoch 27/100\n",
      "771/771 [==============================] - 1s 815us/step - loss: 0.1597 - val_loss: 0.1568\n",
      "Epoch 28/100\n",
      "771/771 [==============================] - 1s 932us/step - loss: 0.1595 - val_loss: 0.1566\n",
      "Epoch 29/100\n",
      "771/771 [==============================] - 1s 995us/step - loss: 0.1593 - val_loss: 0.1564\n",
      "Epoch 30/100\n",
      "771/771 [==============================] - 1s 893us/step - loss: 0.1592 - val_loss: 0.1568\n",
      "Epoch 31/100\n",
      "771/771 [==============================] - 1s 881us/step - loss: 0.1590 - val_loss: 0.1564\n",
      "Epoch 32/100\n",
      "771/771 [==============================] - 1s 839us/step - loss: 0.1589 - val_loss: 0.1560\n",
      "Epoch 33/100\n",
      "771/771 [==============================] - 1s 890us/step - loss: 0.1587 - val_loss: 0.1565\n",
      "Epoch 34/100\n",
      "771/771 [==============================] - 1s 815us/step - loss: 0.1585 - val_loss: 0.1559\n",
      "Epoch 35/100\n",
      "771/771 [==============================] - 1s 846us/step - loss: 0.1584 - val_loss: 0.1560\n",
      "Epoch 36/100\n",
      "771/771 [==============================] - 1s 886us/step - loss: 0.1582 - val_loss: 0.1559\n",
      "Epoch 37/100\n",
      "771/771 [==============================] - 1s 874us/step - loss: 0.1581 - val_loss: 0.1556\n",
      "Epoch 38/100\n",
      "771/771 [==============================] - 1s 894us/step - loss: 0.1580 - val_loss: 0.1555\n",
      "Epoch 39/100\n",
      "771/771 [==============================] - 1s 839us/step - loss: 0.1579 - val_loss: 0.1555\n",
      "Epoch 40/100\n",
      "771/771 [==============================] - 1s 908us/step - loss: 0.1578 - val_loss: 0.1556\n",
      "Epoch 41/100\n",
      "771/771 [==============================] - 1s 966us/step - loss: 0.1576 - val_loss: 0.1558\n",
      "Epoch 42/100\n",
      "771/771 [==============================] - 1s 848us/step - loss: 0.1574 - val_loss: 0.1551\n",
      "Epoch 43/100\n",
      "771/771 [==============================] - 1s 840us/step - loss: 0.1574 - val_loss: 0.1555\n",
      "Epoch 44/100\n",
      "771/771 [==============================] - 1s 838us/step - loss: 0.1573 - val_loss: 0.1550\n",
      "Epoch 45/100\n",
      "771/771 [==============================] - 1s 869us/step - loss: 0.1572 - val_loss: 0.1550\n",
      "Epoch 46/100\n",
      "771/771 [==============================] - 1s 833us/step - loss: 0.1570 - val_loss: 0.1555\n",
      "Epoch 47/100\n",
      "771/771 [==============================] - 1s 848us/step - loss: 0.1570 - val_loss: 0.1547\n",
      "Epoch 48/100\n",
      "771/771 [==============================] - 1s 844us/step - loss: 0.1569 - val_loss: 0.1546\n",
      "Epoch 49/100\n",
      "771/771 [==============================] - 1s 889us/step - loss: 0.1568 - val_loss: 0.1546\n",
      "Epoch 50/100\n",
      "771/771 [==============================] - 1s 859us/step - loss: 0.1567 - val_loss: 0.1545\n",
      "Epoch 51/100\n",
      "771/771 [==============================] - 1s 829us/step - loss: 0.1567 - val_loss: 0.1548\n",
      "Epoch 52/100\n",
      "771/771 [==============================] - 1s 882us/step - loss: 0.1565 - val_loss: 0.1545\n",
      "Epoch 53/100\n",
      "771/771 [==============================] - 1s 860us/step - loss: 0.1564 - val_loss: 0.1552\n",
      "Epoch 54/100\n",
      "771/771 [==============================] - 1s 840us/step - loss: 0.1563 - val_loss: 0.1542\n",
      "Epoch 55/100\n",
      "771/771 [==============================] - 1s 856us/step - loss: 0.1563 - val_loss: 0.1542\n",
      "Epoch 56/100\n",
      "771/771 [==============================] - 1s 873us/step - loss: 0.1562 - val_loss: 0.1546\n",
      "Epoch 57/100\n",
      "771/771 [==============================] - 1s 853us/step - loss: 0.1561 - val_loss: 0.1543\n",
      "Epoch 58/100\n",
      "771/771 [==============================] - 1s 841us/step - loss: 0.1560 - val_loss: 0.1547\n"
     ]
    },
    {
     "data": {
      "text/plain": [
       "<keras.callbacks.History at 0x2251a32f970>"
      ]
     },
     "execution_count": 120,
     "metadata": {},
     "output_type": "execute_result"
    }
   ],
   "source": [
    "keras_reg.fit(X_train, y_train, epochs=100,\n",
    "              validation_data=(X_val, y_val),\n",
    "              callbacks=[keras.callbacks.EarlyStopping(patience=3)])"
   ]
  },
  {
   "cell_type": "code",
   "execution_count": 121,
   "metadata": {},
   "outputs": [
    {
     "name": "stdout",
     "output_type": "stream",
     "text": [
      "166/166 [==============================] - 0s 692us/step - loss: 0.1612\n"
     ]
    }
   ],
   "source": [
    "mse_test = keras_reg.score(X_test, y_test)"
   ]
  },
  {
   "cell_type": "code",
   "execution_count": 122,
   "metadata": {},
   "outputs": [
    {
     "name": "stdout",
     "output_type": "stream",
     "text": [
      "166/166 [==============================] - 0s 655us/step\n"
     ]
    }
   ],
   "source": [
    "y_pred = keras_reg.predict(X_test)"
   ]
  },
  {
   "cell_type": "code",
   "execution_count": 125,
   "metadata": {},
   "outputs": [
    {
     "name": "stdout",
     "output_type": "stream",
     "text": [
      "Fitting 3 folds for each of 2 candidates, totalling 6 fits\n",
      "Epoch 1/30\n"
     ]
    },
    {
     "name": "stderr",
     "output_type": "stream",
     "text": [
      "c:\\Users\\user\\anaconda3\\lib\\site-packages\\keras\\optimizers\\legacy\\gradient_descent.py:114: UserWarning: The `lr` argument is deprecated, use `learning_rate` instead.\n",
      "  super().__init__(name, **kwargs)\n"
     ]
    },
    {
     "name": "stdout",
     "output_type": "stream",
     "text": [
      "514/514 [==============================] - 1s 1ms/step - loss: 0.2114 - val_loss: 0.1852\n",
      "Epoch 2/30\n",
      "514/514 [==============================] - 1s 1ms/step - loss: 0.1814 - val_loss: 0.1754\n",
      "Epoch 3/30\n",
      "514/514 [==============================] - 1s 1ms/step - loss: 0.1733 - val_loss: 0.1698\n",
      "Epoch 4/30\n",
      "514/514 [==============================] - 1s 1ms/step - loss: 0.1687 - val_loss: 0.1660\n",
      "Epoch 5/30\n",
      "514/514 [==============================] - 1s 1ms/step - loss: 0.1656 - val_loss: 0.1639\n",
      "Epoch 6/30\n",
      "514/514 [==============================] - 1s 1ms/step - loss: 0.1633 - val_loss: 0.1623\n",
      "Epoch 7/30\n",
      "514/514 [==============================] - 1s 994us/step - loss: 0.1614 - val_loss: 0.1612\n",
      "Epoch 8/30\n",
      "514/514 [==============================] - 1s 996us/step - loss: 0.1599 - val_loss: 0.1602\n",
      "Epoch 9/30\n",
      "514/514 [==============================] - 1s 1ms/step - loss: 0.1587 - val_loss: 0.1600\n",
      "Epoch 10/30\n",
      "514/514 [==============================] - 1s 999us/step - loss: 0.1577 - val_loss: 0.1588\n",
      "Epoch 11/30\n",
      "514/514 [==============================] - 1s 1ms/step - loss: 0.1567 - val_loss: 0.1584\n",
      "Epoch 12/30\n",
      "514/514 [==============================] - 1s 1ms/step - loss: 0.1558 - val_loss: 0.1581\n",
      "Epoch 13/30\n",
      "514/514 [==============================] - 1s 1ms/step - loss: 0.1550 - val_loss: 0.1576\n",
      "Epoch 14/30\n",
      "514/514 [==============================] - 1s 1ms/step - loss: 0.1543 - val_loss: 0.1581\n",
      "Epoch 15/30\n",
      "514/514 [==============================] - 1s 1ms/step - loss: 0.1538 - val_loss: 0.1571\n",
      "Epoch 16/30\n",
      "514/514 [==============================] - 1s 1ms/step - loss: 0.1531 - val_loss: 0.1568\n",
      "Epoch 17/30\n",
      "514/514 [==============================] - 1s 998us/step - loss: 0.1525 - val_loss: 0.1599\n",
      "Epoch 18/30\n",
      "514/514 [==============================] - 1s 992us/step - loss: 0.1521 - val_loss: 0.1561\n",
      "Epoch 19/30\n",
      "514/514 [==============================] - 1s 994us/step - loss: 0.1516 - val_loss: 0.1560\n",
      "Epoch 20/30\n",
      "514/514 [==============================] - 1s 991us/step - loss: 0.1510 - val_loss: 0.1558\n",
      "Epoch 21/30\n",
      "514/514 [==============================] - 1s 996us/step - loss: 0.1507 - val_loss: 0.1557\n",
      "Epoch 22/30\n",
      "514/514 [==============================] - 1s 1ms/step - loss: 0.1503 - val_loss: 0.1561\n",
      "Epoch 23/30\n",
      "514/514 [==============================] - 1s 1ms/step - loss: 0.1499 - val_loss: 0.1556\n",
      "Epoch 24/30\n",
      "514/514 [==============================] - 1s 988us/step - loss: 0.1495 - val_loss: 0.1556\n",
      "Epoch 25/30\n",
      "514/514 [==============================] - 1s 990us/step - loss: 0.1492 - val_loss: 0.1556\n",
      "Epoch 26/30\n",
      "514/514 [==============================] - 1s 1ms/step - loss: 0.1488 - val_loss: 0.1555\n",
      "Epoch 27/30\n",
      "514/514 [==============================] - 1s 984us/step - loss: 0.1485 - val_loss: 0.1551\n",
      "Epoch 28/30\n",
      "514/514 [==============================] - 1s 1ms/step - loss: 0.1480 - val_loss: 0.1560\n",
      "Epoch 29/30\n",
      "514/514 [==============================] - 1s 997us/step - loss: 0.1478 - val_loss: 0.1551\n",
      "Epoch 30/30\n",
      "514/514 [==============================] - 1s 1ms/step - loss: 0.1474 - val_loss: 0.1554\n",
      "257/257 [==============================] - 0s 659us/step - loss: 0.1603\n",
      "[CV] END learning_rate=0.0051747964719537, n_hidden=3, n_neurons=55; total time=  16.2s\n",
      "Epoch 1/30\n"
     ]
    },
    {
     "name": "stderr",
     "output_type": "stream",
     "text": [
      "c:\\Users\\user\\anaconda3\\lib\\site-packages\\keras\\optimizers\\legacy\\gradient_descent.py:114: UserWarning: The `lr` argument is deprecated, use `learning_rate` instead.\n",
      "  super().__init__(name, **kwargs)\n"
     ]
    },
    {
     "name": "stdout",
     "output_type": "stream",
     "text": [
      "514/514 [==============================] - 1s 1ms/step - loss: 0.2276 - val_loss: 0.1817\n",
      "Epoch 2/30\n",
      "514/514 [==============================] - 1s 1ms/step - loss: 0.1797 - val_loss: 0.1715\n",
      "Epoch 3/30\n",
      "514/514 [==============================] - 1s 1ms/step - loss: 0.1725 - val_loss: 0.1672\n",
      "Epoch 4/30\n",
      "514/514 [==============================] - 1s 1ms/step - loss: 0.1686 - val_loss: 0.1649\n",
      "Epoch 5/30\n",
      "514/514 [==============================] - 1s 1ms/step - loss: 0.1660 - val_loss: 0.1629\n",
      "Epoch 6/30\n",
      "514/514 [==============================] - 1s 1ms/step - loss: 0.1639 - val_loss: 0.1617\n",
      "Epoch 7/30\n",
      "514/514 [==============================] - 1s 1ms/step - loss: 0.1625 - val_loss: 0.1607\n",
      "Epoch 8/30\n",
      "514/514 [==============================] - 1s 1ms/step - loss: 0.1613 - val_loss: 0.1602\n",
      "Epoch 9/30\n",
      "514/514 [==============================] - 1s 1ms/step - loss: 0.1602 - val_loss: 0.1597\n",
      "Epoch 10/30\n",
      "514/514 [==============================] - 1s 1ms/step - loss: 0.1591 - val_loss: 0.1607\n",
      "Epoch 11/30\n",
      "514/514 [==============================] - 1s 1ms/step - loss: 0.1584 - val_loss: 0.1584\n",
      "Epoch 12/30\n",
      "514/514 [==============================] - 1s 1ms/step - loss: 0.1576 - val_loss: 0.1587\n",
      "Epoch 13/30\n",
      "514/514 [==============================] - 1s 1ms/step - loss: 0.1569 - val_loss: 0.1581\n",
      "Epoch 14/30\n",
      "514/514 [==============================] - 1s 1ms/step - loss: 0.1562 - val_loss: 0.1578\n",
      "Epoch 15/30\n",
      "514/514 [==============================] - 1s 1ms/step - loss: 0.1557 - val_loss: 0.1571\n",
      "Epoch 16/30\n",
      "514/514 [==============================] - 1s 1ms/step - loss: 0.1551 - val_loss: 0.1568\n",
      "Epoch 17/30\n",
      "514/514 [==============================] - 1s 1ms/step - loss: 0.1545 - val_loss: 0.1592\n",
      "Epoch 18/30\n",
      "514/514 [==============================] - 1s 1ms/step - loss: 0.1541 - val_loss: 0.1563\n",
      "Epoch 19/30\n",
      "514/514 [==============================] - 1s 1ms/step - loss: 0.1537 - val_loss: 0.1561\n",
      "Epoch 20/30\n",
      "514/514 [==============================] - 1s 1ms/step - loss: 0.1532 - val_loss: 0.1561\n",
      "Epoch 21/30\n",
      "514/514 [==============================] - 1s 1ms/step - loss: 0.1528 - val_loss: 0.1561\n",
      "Epoch 22/30\n",
      "514/514 [==============================] - 1s 1ms/step - loss: 0.1526 - val_loss: 0.1557\n",
      "Epoch 23/30\n",
      "514/514 [==============================] - 1s 1ms/step - loss: 0.1521 - val_loss: 0.1555\n",
      "Epoch 24/30\n",
      "514/514 [==============================] - 1s 1ms/step - loss: 0.1518 - val_loss: 0.1554\n",
      "Epoch 25/30\n",
      "514/514 [==============================] - 1s 1ms/step - loss: 0.1514 - val_loss: 0.1558\n",
      "Epoch 26/30\n",
      "514/514 [==============================] - 1s 1ms/step - loss: 0.1512 - val_loss: 0.1556\n",
      "Epoch 27/30\n",
      "514/514 [==============================] - 1s 1ms/step - loss: 0.1507 - val_loss: 0.1562\n",
      "257/257 [==============================] - 0s 660us/step - loss: 0.1580\n",
      "[CV] END learning_rate=0.0051747964719537, n_hidden=3, n_neurons=55; total time=  15.5s\n",
      "Epoch 1/30\n"
     ]
    },
    {
     "name": "stderr",
     "output_type": "stream",
     "text": [
      "c:\\Users\\user\\anaconda3\\lib\\site-packages\\keras\\optimizers\\legacy\\gradient_descent.py:114: UserWarning: The `lr` argument is deprecated, use `learning_rate` instead.\n",
      "  super().__init__(name, **kwargs)\n"
     ]
    },
    {
     "name": "stdout",
     "output_type": "stream",
     "text": [
      "514/514 [==============================] - 1s 1ms/step - loss: 0.2277 - val_loss: 0.1871\n",
      "Epoch 2/30\n",
      "514/514 [==============================] - 1s 1ms/step - loss: 0.1862 - val_loss: 0.1754\n",
      "Epoch 3/30\n",
      "514/514 [==============================] - 1s 1ms/step - loss: 0.1767 - val_loss: 0.1699\n",
      "Epoch 4/30\n",
      "514/514 [==============================] - 1s 1ms/step - loss: 0.1718 - val_loss: 0.1671\n",
      "Epoch 5/30\n",
      "514/514 [==============================] - 1s 1ms/step - loss: 0.1687 - val_loss: 0.1648\n",
      "Epoch 6/30\n",
      "514/514 [==============================] - 1s 1ms/step - loss: 0.1661 - val_loss: 0.1633\n",
      "Epoch 7/30\n",
      "514/514 [==============================] - 1s 1ms/step - loss: 0.1644 - val_loss: 0.1623\n",
      "Epoch 8/30\n",
      "514/514 [==============================] - 1s 1ms/step - loss: 0.1630 - val_loss: 0.1611\n",
      "Epoch 9/30\n",
      "514/514 [==============================] - 1s 1ms/step - loss: 0.1616 - val_loss: 0.1614\n",
      "Epoch 10/30\n",
      "514/514 [==============================] - 1s 1ms/step - loss: 0.1605 - val_loss: 0.1611\n",
      "Epoch 11/30\n",
      "514/514 [==============================] - 1s 1ms/step - loss: 0.1596 - val_loss: 0.1592\n",
      "Epoch 12/30\n",
      "514/514 [==============================] - 1s 1ms/step - loss: 0.1588 - val_loss: 0.1591\n",
      "Epoch 13/30\n",
      "514/514 [==============================] - 1s 1ms/step - loss: 0.1582 - val_loss: 0.1583\n",
      "Epoch 14/30\n",
      "514/514 [==============================] - 1s 1ms/step - loss: 0.1573 - val_loss: 0.1579\n",
      "Epoch 15/30\n",
      "514/514 [==============================] - 1s 1ms/step - loss: 0.1567 - val_loss: 0.1581\n",
      "Epoch 16/30\n",
      "514/514 [==============================] - 1s 1ms/step - loss: 0.1561 - val_loss: 0.1576\n",
      "Epoch 17/30\n",
      "514/514 [==============================] - 1s 1ms/step - loss: 0.1556 - val_loss: 0.1576\n",
      "Epoch 18/30\n",
      "514/514 [==============================] - 1s 1ms/step - loss: 0.1550 - val_loss: 0.1581\n",
      "Epoch 19/30\n",
      "514/514 [==============================] - 1s 1ms/step - loss: 0.1546 - val_loss: 0.1569\n",
      "Epoch 20/30\n",
      "514/514 [==============================] - 1s 1ms/step - loss: 0.1542 - val_loss: 0.1567\n",
      "Epoch 21/30\n",
      "514/514 [==============================] - 1s 1ms/step - loss: 0.1537 - val_loss: 0.1565\n",
      "Epoch 22/30\n",
      "514/514 [==============================] - 1s 1ms/step - loss: 0.1532 - val_loss: 0.1560\n",
      "Epoch 23/30\n",
      "514/514 [==============================] - 1s 1ms/step - loss: 0.1529 - val_loss: 0.1560\n",
      "Epoch 24/30\n",
      "514/514 [==============================] - 1s 1ms/step - loss: 0.1524 - val_loss: 0.1562\n",
      "Epoch 25/30\n",
      "514/514 [==============================] - 1s 1ms/step - loss: 0.1521 - val_loss: 0.1558\n",
      "Epoch 26/30\n",
      "514/514 [==============================] - 1s 1ms/step - loss: 0.1517 - val_loss: 0.1573\n",
      "Epoch 27/30\n",
      "514/514 [==============================] - 1s 1ms/step - loss: 0.1514 - val_loss: 0.1564\n",
      "Epoch 28/30\n",
      "514/514 [==============================] - 1s 1ms/step - loss: 0.1510 - val_loss: 0.1600\n",
      "257/257 [==============================] - 0s 672us/step - loss: 0.1625\n",
      "[CV] END learning_rate=0.0051747964719537, n_hidden=3, n_neurons=55; total time=  15.4s\n",
      "Epoch 1/30\n",
      "  1/514 [..............................] - ETA: 1:14 - loss: 1.5122"
     ]
    },
    {
     "name": "stderr",
     "output_type": "stream",
     "text": [
      "c:\\Users\\user\\anaconda3\\lib\\site-packages\\keras\\optimizers\\legacy\\gradient_descent.py:114: UserWarning: The `lr` argument is deprecated, use `learning_rate` instead.\n",
      "  super().__init__(name, **kwargs)\n"
     ]
    },
    {
     "name": "stdout",
     "output_type": "stream",
     "text": [
      "514/514 [==============================] - 1s 1ms/step - loss: 0.1884 - val_loss: 0.1628\n",
      "Epoch 2/30\n",
      "514/514 [==============================] - 0s 851us/step - loss: 0.1655 - val_loss: 0.1642\n",
      "Epoch 3/30\n",
      "514/514 [==============================] - 0s 898us/step - loss: 0.1647 - val_loss: 0.1606\n",
      "Epoch 4/30\n",
      "514/514 [==============================] - 0s 868us/step - loss: 0.1646 - val_loss: 0.1636\n",
      "Epoch 5/30\n",
      "514/514 [==============================] - 0s 892us/step - loss: 0.1650 - val_loss: 0.1615\n",
      "Epoch 6/30\n",
      "514/514 [==============================] - 0s 885us/step - loss: 0.1650 - val_loss: 0.1588\n",
      "Epoch 7/30\n",
      "514/514 [==============================] - 0s 884us/step - loss: 0.1643 - val_loss: 0.1625\n",
      "Epoch 8/30\n",
      "514/514 [==============================] - 0s 885us/step - loss: 0.1647 - val_loss: 0.1610\n",
      "Epoch 9/30\n",
      "514/514 [==============================] - 0s 887us/step - loss: 0.1645 - val_loss: 0.1616\n",
      "257/257 [==============================] - 0s 646us/step - loss: 0.1657\n",
      "[CV] END learning_rate=0.027770456976200626, n_hidden=0, n_neurons=3; total time=   4.5s\n",
      "Epoch 1/30\n",
      "  1/514 [..............................] - ETA: 1:16 - loss: 2.0585"
     ]
    },
    {
     "name": "stderr",
     "output_type": "stream",
     "text": [
      "c:\\Users\\user\\anaconda3\\lib\\site-packages\\keras\\optimizers\\legacy\\gradient_descent.py:114: UserWarning: The `lr` argument is deprecated, use `learning_rate` instead.\n",
      "  super().__init__(name, **kwargs)\n"
     ]
    },
    {
     "name": "stdout",
     "output_type": "stream",
     "text": [
      "514/514 [==============================] - 1s 1ms/step - loss: 0.2129 - val_loss: 0.1634\n",
      "Epoch 2/30\n",
      "514/514 [==============================] - 0s 907us/step - loss: 0.1664 - val_loss: 0.1643\n",
      "Epoch 3/30\n",
      "514/514 [==============================] - 0s 880us/step - loss: 0.1665 - val_loss: 0.1603\n",
      "Epoch 4/30\n",
      "514/514 [==============================] - 1s 1ms/step - loss: 0.1660 - val_loss: 0.1610\n",
      "Epoch 5/30\n",
      "514/514 [==============================] - 1s 1ms/step - loss: 0.1659 - val_loss: 0.1622\n",
      "Epoch 6/30\n",
      "514/514 [==============================] - 1s 1ms/step - loss: 0.1657 - val_loss: 0.1625\n",
      "257/257 [==============================] - 0s 822us/step - loss: 0.1642\n",
      "[CV] END learning_rate=0.027770456976200626, n_hidden=0, n_neurons=3; total time=   3.6s\n",
      "Epoch 1/30\n"
     ]
    },
    {
     "name": "stderr",
     "output_type": "stream",
     "text": [
      "c:\\Users\\user\\anaconda3\\lib\\site-packages\\keras\\optimizers\\legacy\\gradient_descent.py:114: UserWarning: The `lr` argument is deprecated, use `learning_rate` instead.\n",
      "  super().__init__(name, **kwargs)\n"
     ]
    },
    {
     "name": "stdout",
     "output_type": "stream",
     "text": [
      "514/514 [==============================] - 1s 1ms/step - loss: 0.1987 - val_loss: 0.1640\n",
      "Epoch 2/30\n",
      "514/514 [==============================] - 0s 874us/step - loss: 0.1664 - val_loss: 0.1624\n",
      "Epoch 3/30\n",
      "514/514 [==============================] - 0s 864us/step - loss: 0.1657 - val_loss: 0.1619\n",
      "Epoch 4/30\n",
      "514/514 [==============================] - 0s 883us/step - loss: 0.1653 - val_loss: 0.1624\n",
      "Epoch 5/30\n",
      "514/514 [==============================] - 0s 878us/step - loss: 0.1650 - val_loss: 0.1651\n",
      "Epoch 6/30\n",
      "514/514 [==============================] - 0s 881us/step - loss: 0.1649 - val_loss: 0.1628\n",
      "257/257 [==============================] - 0s 675us/step - loss: 0.1652\n",
      "[CV] END learning_rate=0.027770456976200626, n_hidden=0, n_neurons=3; total time=   3.2s\n",
      "Epoch 1/30\n",
      "771/771 [==============================] - 1s 1ms/step - loss: 0.2138 - val_loss: 0.1836\n",
      "Epoch 2/30\n",
      "771/771 [==============================] - 1s 976us/step - loss: 0.1792 - val_loss: 0.1720\n",
      "Epoch 3/30\n",
      "771/771 [==============================] - 1s 959us/step - loss: 0.1710 - val_loss: 0.1679\n",
      "Epoch 4/30\n",
      "771/771 [==============================] - 1s 942us/step - loss: 0.1667 - val_loss: 0.1642\n",
      "Epoch 5/30\n",
      "771/771 [==============================] - 1s 941us/step - loss: 0.1639 - val_loss: 0.1619\n",
      "Epoch 6/30\n",
      "771/771 [==============================] - 1s 921us/step - loss: 0.1619 - val_loss: 0.1603\n",
      "Epoch 7/30\n",
      "771/771 [==============================] - 1s 988us/step - loss: 0.1604 - val_loss: 0.1596\n",
      "Epoch 8/30\n",
      "771/771 [==============================] - 1s 933us/step - loss: 0.1591 - val_loss: 0.1589\n",
      "Epoch 9/30\n",
      "771/771 [==============================] - 1s 927us/step - loss: 0.1581 - val_loss: 0.1583\n",
      "Epoch 10/30\n",
      "771/771 [==============================] - 1s 932us/step - loss: 0.1572 - val_loss: 0.1578\n",
      "Epoch 11/30\n",
      "771/771 [==============================] - 1s 951us/step - loss: 0.1563 - val_loss: 0.1588\n",
      "Epoch 12/30\n",
      "771/771 [==============================] - 1s 933us/step - loss: 0.1557 - val_loss: 0.1564\n",
      "Epoch 13/30\n",
      "771/771 [==============================] - 1s 926us/step - loss: 0.1550 - val_loss: 0.1557\n",
      "Epoch 14/30\n",
      "771/771 [==============================] - 1s 937us/step - loss: 0.1544 - val_loss: 0.1556\n",
      "Epoch 15/30\n",
      "771/771 [==============================] - 1s 970us/step - loss: 0.1539 - val_loss: 0.1558\n",
      "Epoch 16/30\n",
      "771/771 [==============================] - 1s 968us/step - loss: 0.1534 - val_loss: 0.1549\n",
      "Epoch 17/30\n",
      "771/771 [==============================] - 1s 932us/step - loss: 0.1529 - val_loss: 0.1546\n",
      "Epoch 18/30\n",
      "771/771 [==============================] - 1s 928us/step - loss: 0.1525 - val_loss: 0.1544\n",
      "Epoch 19/30\n",
      "771/771 [==============================] - 1s 924us/step - loss: 0.1521 - val_loss: 0.1550\n",
      "Epoch 20/30\n",
      "771/771 [==============================] - 1s 924us/step - loss: 0.1516 - val_loss: 0.1544\n",
      "Epoch 21/30\n",
      "771/771 [==============================] - 1s 950us/step - loss: 0.1512 - val_loss: 0.1538\n",
      "Epoch 22/30\n",
      "771/771 [==============================] - 1s 949us/step - loss: 0.1510 - val_loss: 0.1536\n",
      "Epoch 23/30\n",
      "771/771 [==============================] - 1s 942us/step - loss: 0.1507 - val_loss: 0.1534\n",
      "Epoch 24/30\n",
      "771/771 [==============================] - 1s 970us/step - loss: 0.1503 - val_loss: 0.1535\n",
      "Epoch 25/30\n",
      "771/771 [==============================] - 1s 946us/step - loss: 0.1501 - val_loss: 0.1534\n",
      "Epoch 26/30\n",
      "771/771 [==============================] - 1s 977us/step - loss: 0.1498 - val_loss: 0.1532\n",
      "Epoch 27/30\n",
      "771/771 [==============================] - 1s 939us/step - loss: 0.1495 - val_loss: 0.1531\n",
      "Epoch 28/30\n",
      "771/771 [==============================] - 1s 943us/step - loss: 0.1492 - val_loss: 0.1531\n",
      "Epoch 29/30\n",
      "771/771 [==============================] - 1s 955us/step - loss: 0.1490 - val_loss: 0.1528\n",
      "Epoch 30/30\n",
      "771/771 [==============================] - 1s 974us/step - loss: 0.1487 - val_loss: 0.1535\n"
     ]
    },
    {
     "data": {
      "text/plain": [
       "RandomizedSearchCV(cv=3,\n",
       "                   estimator=<keras.wrappers.scikit_learn.KerasRegressor object at 0x000002251BFE6EE0>,\n",
       "                   n_iter=2,\n",
       "                   param_distributions={'learning_rate': <scipy.stats._distn_infrastructure.rv_continuous_frozen object at 0x000002251C158640>,\n",
       "                                        'n_hidden': [0, 1, 2, 3],\n",
       "                                        'n_neurons': array([ 1,  2,  3,  4,  5,  6,  7,  8,  9, 10, 11, 12, 13, 14, 15, 16, 17,\n",
       "       18, 19, 20, 21, 22, 23, 24, 25, 26, 27, 28, 29, 30, 31, 32, 33, 34,\n",
       "       35, 36, 37, 38, 39, 40, 41, 42, 43, 44, 45, 46, 47, 48, 49, 50, 51,\n",
       "       52, 53, 54, 55, 56, 57, 58, 59, 60, 61, 62, 63, 64, 65, 66, 67, 68,\n",
       "       69, 70, 71, 72, 73, 74, 75, 76, 77, 78, 79, 80, 81, 82, 83, 84, 85,\n",
       "       86, 87, 88, 89, 90, 91, 92, 93, 94, 95, 96, 97, 98, 99])},\n",
       "                   verbose=2)"
      ]
     },
     "execution_count": 125,
     "metadata": {},
     "output_type": "execute_result"
    }
   ],
   "source": [
    "from scipy.stats import reciprocal\n",
    "from sklearn.model_selection import RandomizedSearchCV\n",
    "\n",
    "param_distribs = {\n",
    "    \"n_hidden\": [0, 1, 2, 3],\n",
    "    \"n_neurons\": np.arange(1, 100),\n",
    "    \"learning_rate\": reciprocal(3e-4, 3e-2),\n",
    "}\n",
    "\n",
    "rnd_search_cv = RandomizedSearchCV(keras_reg, param_distribs, n_iter=2, cv=3, verbose=2)\n",
    "rnd_search_cv.fit(X_train, y_train, epochs=30,\n",
    "                  validation_data=(X_val, y_val),\n",
    "                  callbacks=[keras.callbacks.EarlyStopping(patience=3)])"
   ]
  },
  {
   "cell_type": "code",
   "execution_count": 126,
   "metadata": {},
   "outputs": [
    {
     "data": {
      "text/plain": [
       "{'learning_rate': 0.0051747964719537, 'n_hidden': 3, 'n_neurons': 55}"
      ]
     },
     "execution_count": 126,
     "metadata": {},
     "output_type": "execute_result"
    }
   ],
   "source": [
    "rnd_search_cv.best_params_"
   ]
  },
  {
   "cell_type": "code",
   "execution_count": 127,
   "metadata": {},
   "outputs": [
    {
     "data": {
      "text/plain": [
       "-0.16026932497819266"
      ]
     },
     "execution_count": 127,
     "metadata": {},
     "output_type": "execute_result"
    }
   ],
   "source": [
    "rnd_search_cv.best_score_"
   ]
  },
  {
   "cell_type": "code",
   "execution_count": 128,
   "metadata": {},
   "outputs": [
    {
     "name": "stdout",
     "output_type": "stream",
     "text": [
      "166/166 [==============================] - 0s 697us/step - loss: 0.1591\n"
     ]
    },
    {
     "data": {
      "text/plain": [
       "-0.15907828509807587"
      ]
     },
     "execution_count": 128,
     "metadata": {},
     "output_type": "execute_result"
    }
   ],
   "source": [
    "rnd_search_cv.score(X_test, y_test)"
   ]
  },
  {
   "cell_type": "code",
   "execution_count": 130,
   "metadata": {},
   "outputs": [
    {
     "data": {
      "text/plain": [
       "<keras.engine.sequential.Sequential at 0x2252720bca0>"
      ]
     },
     "execution_count": 130,
     "metadata": {},
     "output_type": "execute_result"
    }
   ],
   "source": [
    "model = rnd_search_cv.best_estimator_.model\n",
    "model"
   ]
  },
  {
   "cell_type": "code",
   "execution_count": 131,
   "metadata": {},
   "outputs": [
    {
     "name": "stdout",
     "output_type": "stream",
     "text": [
      "166/166 [==============================] - 0s 721us/step - loss: 0.1591\n"
     ]
    },
    {
     "data": {
      "text/plain": [
       "0.15907828509807587"
      ]
     },
     "execution_count": 131,
     "metadata": {},
     "output_type": "execute_result"
    }
   ],
   "source": [
    "model.evaluate(X_test, y_test)"
   ]
  },
  {
   "cell_type": "code",
   "execution_count": null,
   "metadata": {},
   "outputs": [],
   "source": []
  },
  {
   "cell_type": "code",
   "execution_count": null,
   "metadata": {},
   "outputs": [],
   "source": []
  },
  {
   "cell_type": "code",
   "execution_count": null,
   "metadata": {},
   "outputs": [],
   "source": []
  },
  {
   "cell_type": "code",
   "execution_count": null,
   "metadata": {},
   "outputs": [],
   "source": []
  }
 ],
 "metadata": {
  "kernelspec": {
   "display_name": "tensorflow-build",
   "language": "python",
   "name": "python3"
  },
  "language_info": {
   "codemirror_mode": {
    "name": "ipython",
    "version": 3
   },
   "file_extension": ".py",
   "mimetype": "text/x-python",
   "name": "python",
   "nbconvert_exporter": "python",
   "pygments_lexer": "ipython3",
   "version": "3.9.13"
  },
  "nav_menu": {
   "height": "264px",
   "width": "369px"
  },
  "toc": {
   "navigate_menu": true,
   "number_sections": true,
   "sideBar": true,
   "threshold": 6,
   "toc_cell": false,
   "toc_section_display": "block",
   "toc_window_display": false
  },
  "vscode": {
   "interpreter": {
    "hash": "70c594fb5372013e9202d7211adf83287cdf0e44ee36de7e3ad058ce8e2ca05b"
   }
  }
 },
 "nbformat": 4,
 "nbformat_minor": 1
}
