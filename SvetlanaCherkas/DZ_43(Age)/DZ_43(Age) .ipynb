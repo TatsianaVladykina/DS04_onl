{
 "cells": [
  {
   "cell_type": "markdown",
   "metadata": {},
   "source": [
    "Оценить возраст человека по изображению.\n",
    "\n",
    "Cоздадим датафрейм содержащий относительный путь к изображению и возраст. "
   ]
  },
  {
   "cell_type": "code",
   "execution_count": 1,
   "metadata": {},
   "outputs": [
    {
     "name": "stdout",
     "output_type": "stream",
     "text": [
      "OpenCV version 4.7.0\n"
     ]
    }
   ],
   "source": [
    "import os\n",
    "import sys\n",
    "import wget\n",
    "import shutil\n",
    "import tarfile\n",
    "\n",
    "import re\n",
    "import numpy as np\n",
    "import pandas as pd\n",
    "\n",
    "import cv2\n",
    "from PIL import Image\n",
    "from tqdm import tqdm\n",
    "\n",
    "%matplotlib inline\n",
    "from matplotlib import pyplot as plt\n",
    "\n",
    "import warnings\n",
    "warnings.filterwarnings('ignore')\n",
    "\n",
    "DATA_URL = 'https://data.vision.ee.ethz.ch/cvl/rrothe/imdb-wiki/static/wiki_crop.tar'\n",
    "DATA_FILE = 'wiki_crop.tar'\n",
    "DATA_FOLDER = 'wiki_crop'\n",
    "\n",
    "print('OpenCV version ' + cv2.__version__)"
   ]
  },
  {
   "cell_type": "code",
   "execution_count": 2,
   "metadata": {},
   "outputs": [
    {
     "name": "stdout",
     "output_type": "stream",
     "text": [
      "Requirement already satisfied: wget in c:\\users\\user\\anaconda3\\lib\\site-packages (3.2)\n",
      "Note: you may need to restart the kernel to use updated packages.\n"
     ]
    }
   ],
   "source": [
    "pip install wget"
   ]
  },
  {
   "cell_type": "markdown",
   "metadata": {},
   "source": [
    "Загрузим файл с данными по ссылке (если файл не найден на диске)"
   ]
  },
  {
   "cell_type": "code",
   "execution_count": 3,
   "metadata": {},
   "outputs": [],
   "source": [
    "def bar_custom(current, total, width=80):\n",
    "    progress_msg = \"Downloading: %d%% [%d / %d] bytes\" % (current / total * 100, current, total)\n",
    "    sys.stdout.write('\\r' + progress_msg)\n",
    "    sys.stdout.flush()\n",
    "\n",
    "if not os.path.exists(DATA_FILE):\n",
    "    wget.download(DATA_URL, DATA_FILE, bar=bar_custom)"
   ]
  },
  {
   "cell_type": "markdown",
   "metadata": {},
   "source": [
    "Распакуем архив с набором данных в текущий каталог,\n",
    "если каталог с данными еще не существует."
   ]
  },
  {
   "cell_type": "code",
   "execution_count": 4,
   "metadata": {},
   "outputs": [],
   "source": [
    "if not os.path.exists(DATA_FOLDER):\n",
    "    tar = tarfile.open(DATA_FILE, 'r')\n",
    "    tar.extractall()\n",
    "    tar.close()"
   ]
  },
  {
   "cell_type": "markdown",
   "metadata": {},
   "source": [
    "Выполним загрузку, проверку и обработку набора изображений из файлов"
   ]
  },
  {
   "cell_type": "code",
   "execution_count": 5,
   "metadata": {},
   "outputs": [
    {
     "name": "stderr",
     "output_type": "stream",
     "text": [
      " 62%|██████▏   | 63/102 [03:27<02:13,  3.41s/it]"
     ]
    },
    {
     "name": "stdout",
     "output_type": "stream",
     "text": [
      "cannot identify image file 'wiki_crop\\\\63\\\\670663_2015-02-16UTC08'\n"
     ]
    },
    {
     "name": "stderr",
     "output_type": "stream",
     "text": [
      "100%|██████████| 102/102 [06:54<00:00,  4.06s/it]"
     ]
    },
    {
     "name": "stdout",
     "output_type": "stream",
     "text": [
      "Изображений с ошибками при загрузке 1\n",
      "Изображений с некорректными размерами 40182\n",
      "Изображений на которых не найдены лица 22120\n",
      "Изображений c некорректной меткой класса 25\n",
      "Всего корректных изображений 23656\n"
     ]
    },
    {
     "name": "stderr",
     "output_type": "stream",
     "text": [
      "\n"
     ]
    }
   ],
   "source": [
    "face_detector = cv2.CascadeClassifier('haarcascade_frontalface_default.xml')\n",
    "\n",
    "# Набор обработаных изображений для оценки возраста\n",
    "cropped_images = pd.DataFrame(columns=['file_path', 'label'])\n",
    "\n",
    "# Удалить каталог со старыми обработанными изображеним если существует, если нет - создать\n",
    "if os.path.exists(os.path.join(DATA_FOLDER, 'cropped')):\n",
    "    shutil.rmtree(os.path.join(DATA_FOLDER, 'cropped'), ignore_errors=True)\n",
    "\n",
    "os.makedirs(os.path.join(DATA_FOLDER, 'cropped'))\n",
    "\n",
    "IMG_SIZE = 64\n",
    "\n",
    "img_valid=0 #счетчик всех корректных изображений\n",
    "img_misloaded=0 #счетчик изображений с ошибками при загрузке\n",
    "img_too_small=0 #счетчик изображений некорректного размера (1х1)\n",
    "img_bad_faces=0 #счетчик изображений без лиц\n",
    "img_bad_label=0 #счетчик изображений с некорретной оценкой класса\n",
    "\n",
    "# Перебор всех вложенных элементов в указаном каталоге\n",
    "for dir in tqdm(os.listdir(DATA_FOLDER)):\n",
    "    # если вложенный элемент - каталог\n",
    "    if os.path.isdir(os.path.join(DATA_FOLDER, dir)):\n",
    "        # Перебор всех файлов в каталоге\n",
    "        for file in os.listdir(os.path.join(DATA_FOLDER, dir)):\n",
    "            try:\n",
    "                source_file_path = os.path.join(DATA_FOLDER, dir, file)\n",
    "\n",
    "                # загрузить изображение и сконвертировать в монохромное\n",
    "                img = Image.open(source_file_path).convert('L')\n",
    "                img_array = np.array(img)\n",
    "\n",
    "                # получить параметры изображения\n",
    "                h, w = img_array.shape[:2]\n",
    "\n",
    "                # если размер изображения меньше заданного - пропускаем\n",
    "                if w < 128:\n",
    "                    img_too_small+=1 \n",
    "                    continue\n",
    "\n",
    "                # выполняем детекцию лиц с максимально строгими настройками и минимальным размером лица 64х64\n",
    "                face_rects1 = face_detector.detectMultiScale(img_array, scaleFactor=1.3, minNeighbors=6, minSize=(64,64))\n",
    "\n",
    "                # оставляем только фото на которых есть только 1 лицо, остальные - пропускаем\n",
    "                if len(face_rects1) != 1:\n",
    "                    img_bad_faces+=1\n",
    "                    continue  \n",
    "\n",
    "               \n",
    "    \n",
    "                # формируем целевую метку изображения, как разность между вторым и первым годами в наименовании файла\n",
    "                year_matched = re.findall(r'_(\\d{4})', file)\n",
    "                try:\n",
    "                    label = int(year_matched[1]) - int(year_matched[0])\n",
    "                except:\n",
    "                    label = -1 \n",
    "                \n",
    "                # оставляем только изображения к меткой из заданного диапазона\n",
    "                if (label < 1) | (label > 100):\n",
    "                    img_bad_label+=1\n",
    "                    continue\n",
    "\n",
    "                # выполняем обрезку изображения по контуру лица и приведение к требуемому размеру\n",
    "                x,y,h,w = face_rects1[0]\n",
    "                img = img.crop((x, y, x+w, y+h)).resize((IMG_SIZE,IMG_SIZE), resample=Image.Resampling.BILINEAR)    \n",
    "\n",
    "                # сохраняем обрезанное изображение в файл\n",
    "                cropped_file_path = os.path.join(DATA_FOLDER, 'cropped', file)\n",
    "                #cropped_images = cropped_images.append({'file_path': cropped_file_path, 'label': label}, ignore_index=True)\n",
    "                cropped_images = pd.concat([cropped_images, pd.DataFrame([{'file_path': cropped_file_path, 'label': label}])], ignore_index=True)\n",
    "                img.save(cropped_file_path)\n",
    "                \n",
    "                \n",
    "            except Exception as ex:\n",
    "                #print(ex)\n",
    "                img_misloaded+=1\n",
    "                print(ex)\n",
    "                None # Если файл не удается прочитать - пропускаем его\n",
    "\n",
    "print(f'Изображений с ошибками при загрузке {img_misloaded}')\n",
    "print(f'Изображений с некорректными размерами {img_too_small}')\n",
    "print(f'Изображений на которых не найдены лица {img_bad_faces}')\n",
    "print(f'Изображений c некорректной меткой класса {img_bad_label}')\n",
    "\n",
    "print(f'Всего корректных изображений {cropped_images.shape[0]}')\n",
    "\n",
    "# Сохранить результат обработки данных в CSV-файл\n",
    "cropped_images.to_csv('imdb_crops.csv')"
   ]
  },
  {
   "cell_type": "code",
   "execution_count": 6,
   "metadata": {},
   "outputs": [],
   "source": [
    "import numpy\n",
    "from keras.models import Sequential\n",
    "from keras.layers import Dense, Dropout, Flatten\n",
    "from keras.layers import Conv2D, MaxPooling2D\n",
    "from keras.utils import np_utils\n",
    "# Устанавливаем seed для повторяемости результатов\n",
    "numpy.random.seed(42)"
   ]
  },
  {
   "cell_type": "code",
   "execution_count": 9,
   "metadata": {},
   "outputs": [
    {
     "data": {
      "text/html": [
       "<div>\n",
       "<style scoped>\n",
       "    .dataframe tbody tr th:only-of-type {\n",
       "        vertical-align: middle;\n",
       "    }\n",
       "\n",
       "    .dataframe tbody tr th {\n",
       "        vertical-align: top;\n",
       "    }\n",
       "\n",
       "    .dataframe thead th {\n",
       "        text-align: right;\n",
       "    }\n",
       "</style>\n",
       "<table border=\"1\" class=\"dataframe\">\n",
       "  <thead>\n",
       "    <tr style=\"text-align: right;\">\n",
       "      <th></th>\n",
       "      <th>file_path</th>\n",
       "      <th>label</th>\n",
       "    </tr>\n",
       "  </thead>\n",
       "  <tbody>\n",
       "    <tr>\n",
       "      <th>0</th>\n",
       "      <td>wiki_crop\\cropped\\10049200_1891-09-16_1958.jpg</td>\n",
       "      <td>67</td>\n",
       "    </tr>\n",
       "    <tr>\n",
       "      <th>1</th>\n",
       "      <td>wiki_crop\\cropped\\10110600_1985-09-17_2012.jpg</td>\n",
       "      <td>27</td>\n",
       "    </tr>\n",
       "    <tr>\n",
       "      <th>2</th>\n",
       "      <td>wiki_crop\\cropped\\1013900_1917-10-15_1960.jpg</td>\n",
       "      <td>43</td>\n",
       "    </tr>\n",
       "    <tr>\n",
       "      <th>3</th>\n",
       "      <td>wiki_crop\\cropped\\10166400_1960-03-12_2008.jpg</td>\n",
       "      <td>48</td>\n",
       "    </tr>\n",
       "    <tr>\n",
       "      <th>4</th>\n",
       "      <td>wiki_crop\\cropped\\10292500_1984-03-26_2009.jpg</td>\n",
       "      <td>25</td>\n",
       "    </tr>\n",
       "  </tbody>\n",
       "</table>\n",
       "</div>"
      ],
      "text/plain": [
       "                                        file_path  label\n",
       "0  wiki_crop\\cropped\\10049200_1891-09-16_1958.jpg     67\n",
       "1  wiki_crop\\cropped\\10110600_1985-09-17_2012.jpg     27\n",
       "2   wiki_crop\\cropped\\1013900_1917-10-15_1960.jpg     43\n",
       "3  wiki_crop\\cropped\\10166400_1960-03-12_2008.jpg     48\n",
       "4  wiki_crop\\cropped\\10292500_1984-03-26_2009.jpg     25"
      ]
     },
     "execution_count": 9,
     "metadata": {},
     "output_type": "execute_result"
    }
   ],
   "source": [
    "import pandas as pd\n",
    "# Укажите путь к вашему CSV файлу\n",
    "csv_file_path = 'imdb_crops.csv'\n",
    "# Чтение CSV файла\n",
    "data = pd.read_csv(csv_file_path)\n",
    "data.drop('Unnamed: 0', axis=1, inplace=True)\n",
    "data.head()"
   ]
  },
  {
   "cell_type": "code",
   "execution_count": 10,
   "metadata": {},
   "outputs": [
    {
     "data": {
      "text/plain": [
       "26    889\n",
       "24    872\n",
       "27    865\n",
       "25    852\n",
       "28    838\n",
       "     ... \n",
       "1       2\n",
       "96      2\n",
       "3       1\n",
       "5       1\n",
       "4       1\n",
       "Name: label, Length: 99, dtype: int64"
      ]
     },
     "execution_count": 10,
     "metadata": {},
     "output_type": "execute_result"
    }
   ],
   "source": [
    "class_counts = data['label'].value_counts()\n",
    "class_counts"
   ]
  },
  {
   "cell_type": "code",
   "execution_count": 11,
   "metadata": {},
   "outputs": [
    {
     "data": {
      "text/plain": [
       "<AxesSubplot:>"
      ]
     },
     "execution_count": 11,
     "metadata": {},
     "output_type": "execute_result"
    },
    {
     "data": {
      "image/png": "[encoded data removed]",
      "text/plain": [
       "<Figure size 640x480 with 1 Axes>"
      ]
     },
     "metadata": {},
     "output_type": "display_data"
    }
   ],
   "source": [
    "data['label'].hist(bins=50)"
   ]
  },
  {
   "cell_type": "code",
   "execution_count": 12,
   "metadata": {},
   "outputs": [
    {
     "data": {
      "text/html": [
       "<div>\n",
       "<style scoped>\n",
       "    .dataframe tbody tr th:only-of-type {\n",
       "        vertical-align: middle;\n",
       "    }\n",
       "\n",
       "    .dataframe tbody tr th {\n",
       "        vertical-align: top;\n",
       "    }\n",
       "\n",
       "    .dataframe thead th {\n",
       "        text-align: right;\n",
       "    }\n",
       "</style>\n",
       "<table border=\"1\" class=\"dataframe\">\n",
       "  <thead>\n",
       "    <tr style=\"text-align: right;\">\n",
       "      <th></th>\n",
       "      <th>file_path</th>\n",
       "      <th>label</th>\n",
       "      <th>category</th>\n",
       "    </tr>\n",
       "  </thead>\n",
       "  <tbody>\n",
       "    <tr>\n",
       "      <th>0</th>\n",
       "      <td>wiki_crop\\cropped\\10049200_1891-09-16_1958.jpg</td>\n",
       "      <td>67</td>\n",
       "      <td>8</td>\n",
       "    </tr>\n",
       "    <tr>\n",
       "      <th>1</th>\n",
       "      <td>wiki_crop\\cropped\\10110600_1985-09-17_2012.jpg</td>\n",
       "      <td>27</td>\n",
       "      <td>2</td>\n",
       "    </tr>\n",
       "    <tr>\n",
       "      <th>2</th>\n",
       "      <td>wiki_crop\\cropped\\1013900_1917-10-15_1960.jpg</td>\n",
       "      <td>43</td>\n",
       "      <td>5</td>\n",
       "    </tr>\n",
       "    <tr>\n",
       "      <th>3</th>\n",
       "      <td>wiki_crop\\cropped\\10166400_1960-03-12_2008.jpg</td>\n",
       "      <td>48</td>\n",
       "      <td>6</td>\n",
       "    </tr>\n",
       "    <tr>\n",
       "      <th>4</th>\n",
       "      <td>wiki_crop\\cropped\\10292500_1984-03-26_2009.jpg</td>\n",
       "      <td>25</td>\n",
       "      <td>2</td>\n",
       "    </tr>\n",
       "  </tbody>\n",
       "</table>\n",
       "</div>"
      ],
      "text/plain": [
       "                                        file_path  label category\n",
       "0  wiki_crop\\cropped\\10049200_1891-09-16_1958.jpg     67        8\n",
       "1  wiki_crop\\cropped\\10110600_1985-09-17_2012.jpg     27        2\n",
       "2   wiki_crop\\cropped\\1013900_1917-10-15_1960.jpg     43        5\n",
       "3  wiki_crop\\cropped\\10166400_1960-03-12_2008.jpg     48        6\n",
       "4  wiki_crop\\cropped\\10292500_1984-03-26_2009.jpg     25        2"
      ]
     },
     "execution_count": 12,
     "metadata": {},
     "output_type": "execute_result"
    }
   ],
   "source": [
    "import pandas as pd\n",
    "import numpy as np\n",
    "import tensorflow as tf\n",
    "from tensorflow.keras.preprocessing.image import ImageDataGenerator\n",
    "from tensorflow.keras.applications import MobileNetV2\n",
    "from tensorflow.keras.layers import Dense, GlobalAveragePooling2D\n",
    "from tensorflow.keras.models import Model\n",
    "\n",
    "# Загрузка и предобработка данных\n",
    "data = pd.read_csv('imdb_crops.csv')\n",
    "\n",
    "# Создание категорий возрастов\n",
    "age_bins = [0, 21, 24, 28, 33, 40, 47, 53, 60, 68, 100]\n",
    "age_labels = list(range(len(age_bins) - 1))\n",
    "data['category'] = pd.cut(data['label'], bins=age_bins, labels=age_labels)\n",
    "data.drop('Unnamed: 0', axis=1, inplace=True)\n",
    "data.head()"
   ]
  },
  {
   "cell_type": "code",
   "execution_count": 13,
   "metadata": {},
   "outputs": [
    {
     "name": "stdout",
     "output_type": "stream",
     "text": [
      "2    3444\n",
      "3    3292\n",
      "4    3160\n",
      "5    2568\n",
      "1    2432\n",
      "0    2097\n",
      "6    1989\n",
      "7    1802\n",
      "9    1503\n",
      "8    1369\n",
      "Name: category, dtype: int64\n"
     ]
    }
   ],
   "source": [
    "# Подсчет количества изображений в каждой категории\n",
    "category_counts = data['category'].value_counts()\n",
    "\n",
    "print(category_counts)"
   ]
  },
  {
   "cell_type": "code",
   "execution_count": 14,
   "metadata": {},
   "outputs": [
    {
     "data": {
      "text/plain": [
       "<AxesSubplot:>"
      ]
     },
     "execution_count": 14,
     "metadata": {},
     "output_type": "execute_result"
    },
    {
     "data": {
      "image/png": "[encoded data removed]",
      "text/plain": [
       "<Figure size 640x480 with 1 Axes>"
      ]
     },
     "metadata": {},
     "output_type": "display_data"
    }
   ],
   "source": [
    "data['category'].hist(bins=50)"
   ]
  },
  {
   "cell_type": "code",
   "execution_count": 15,
   "metadata": {},
   "outputs": [
    {
     "name": "stdout",
     "output_type": "stream",
     "text": [
      "Размер массива one-hot меток: (23656, 10)\n"
     ]
    }
   ],
   "source": [
    "from sklearn.preprocessing import LabelEncoder\n",
    "from tensorflow.keras.utils import to_categorical\n",
    "# Подготовьте метки классов\n",
    "label_encoder = LabelEncoder()\n",
    "data['category_encoded'] = label_encoder.fit_transform(data['category'])\n",
    "\n",
    "# Преобразуйте метки в one-hot кодировку\n",
    "labels_one_hot = to_categorical(data['category_encoded'])\n",
    "\n",
    "# Проверка размера массива one-hot кодированных меток\n",
    "print(\"Размер массива one-hot меток:\", labels_one_hot.shape)"
   ]
  },
  {
   "cell_type": "code",
   "execution_count": 16,
   "metadata": {},
   "outputs": [
    {
     "data": {
      "text/plain": [
       "array([[0., 0., 0., ..., 0., 1., 0.],\n",
       "       [0., 0., 1., ..., 0., 0., 0.],\n",
       "       [0., 0., 0., ..., 0., 0., 0.],\n",
       "       ...,\n",
       "       [0., 0., 0., ..., 1., 0., 0.],\n",
       "       [0., 0., 0., ..., 0., 0., 0.],\n",
       "       [0., 0., 0., ..., 0., 0., 0.]], dtype=float32)"
      ]
     },
     "execution_count": 16,
     "metadata": {},
     "output_type": "execute_result"
    }
   ],
   "source": [
    "labels_one_hot"
   ]
  },
  {
   "cell_type": "code",
   "execution_count": 17,
   "metadata": {},
   "outputs": [],
   "source": [
    "# Разделите данные на массив признаков X и массив меток y\n",
    "X = data['file_path']  # Здесь вам нужно использовать пути к изображениям или загрузить изображения с помощью какой-то библиотеки\n",
    "y = labels_one_hot"
   ]
  },
  {
   "cell_type": "code",
   "execution_count": 18,
   "metadata": {},
   "outputs": [
    {
     "name": "stdout",
     "output_type": "stream",
     "text": [
      "Размер массива X_train: (18924,)\n",
      "Размер массива X_test: (4732,)\n",
      "Размер массива y_train: (18924, 10)\n",
      "Размер массива y_test: (4732, 10)\n"
     ]
    }
   ],
   "source": [
    "from sklearn.model_selection import train_test_split\n",
    "# Разделите данные на обучающий и тестовый наборы\n",
    "X_train, X_test, y_train, y_test = train_test_split(X, y, test_size=0.2, random_state=42)\n",
    "\n",
    "# Проверка размеров массивов\n",
    "print(\"Размер массива X_train:\", X_train.shape)\n",
    "print(\"Размер массива X_test:\", X_test.shape)\n",
    "print(\"Размер массива y_train:\", y_train.shape)\n",
    "print(\"Размер массива y_test:\", y_test.shape)"
   ]
  },
  {
   "cell_type": "code",
   "execution_count": 19,
   "metadata": {},
   "outputs": [],
   "source": [
    "from tensorflow.keras.preprocessing.image import ImageDataGenerator\n",
    "from tensorflow.keras.applications.mobilenet_v2 import preprocess_input\n",
    "from tensorflow.keras.preprocessing.image import load_img, img_to_array\n",
    "\n",
    "# Предобработка и загрузка изображений\n",
    "def preprocess_images(X_train):\n",
    "    images = []  # Создание пустого списка для хранения изображений\n",
    "    for path in X_train:\n",
    "        img = load_img(path, target_size=(64, 64))  # Загрузка изображения и изменение размера\n",
    "        img_array = img_to_array(img)  # Преобразование в массив\n",
    "        img_array = preprocess_input(img_array)  # Предобработка\n",
    "        images.append(img_array)  # Добавление предобработанного изображения в список\n",
    "    return np.array(images)"
   ]
  },
  {
   "cell_type": "code",
   "execution_count": 20,
   "metadata": {},
   "outputs": [],
   "source": [
    "#Доступ к предобработанным изображениям через переменную \n",
    "X_train_images = preprocess_images(X_train)\n",
    "X_test_images = preprocess_images(X_test)"
   ]
  },
  {
   "cell_type": "code",
   "execution_count": 21,
   "metadata": {},
   "outputs": [],
   "source": [
    "img_size = (64, 64)\n",
    "# Создание генераторов\n",
    "train_datagen = ImageDataGenerator(rotation_range=20, \n",
    "                                   width_shift_range=0.2, \n",
    "                                   height_shift_range=0.2, \n",
    "                                   shear_range=0.2, \n",
    "                                   zoom_range=0.2, \n",
    "                                   horizontal_flip=True, \n",
    "                                   fill_mode='nearest', \n",
    "                                   rescale=1./255)\n",
    "test_datagen = ImageDataGenerator(rescale=1./255)\n",
    "batch_size = 32\n",
    "\n",
    "train_generator = train_datagen.flow(\n",
    "    x=X_train_images,\n",
    "    y=y_train,\n",
    "    batch_size=batch_size\n",
    ")\n",
    "\n",
    "test_generator = test_datagen.flow(\n",
    "    x=X_test_images,\n",
    "    y=y_test,\n",
    "    batch_size=batch_size\n",
    ")"
   ]
  },
  {
   "cell_type": "code",
   "execution_count": 22,
   "metadata": {},
   "outputs": [
    {
     "name": "stdout",
     "output_type": "stream",
     "text": [
      "Model: \"sequential\"\n",
      "_________________________________________________________________\n",
      " Layer (type)                Output Shape              Param #   \n",
      "=================================================================\n",
      " conv2d (Conv2D)             (None, 62, 62, 32)        896       \n",
      "                                                                 \n",
      " max_pooling2d (MaxPooling2D  (None, 31, 31, 32)       0         \n",
      " )                                                               \n",
      "                                                                 \n",
      " conv2d_1 (Conv2D)           (None, 29, 29, 64)        18496     \n",
      "                                                                 \n",
      " max_pooling2d_1 (MaxPooling  (None, 14, 14, 64)       0         \n",
      " 2D)                                                             \n",
      "                                                                 \n",
      " conv2d_2 (Conv2D)           (None, 12, 12, 128)       73856     \n",
      "                                                                 \n",
      " max_pooling2d_2 (MaxPooling  (None, 6, 6, 128)        0         \n",
      " 2D)                                                             \n",
      "                                                                 \n",
      " flatten (Flatten)           (None, 4608)              0         \n",
      "                                                                 \n",
      " dense (Dense)               (None, 128)               589952    \n",
      "                                                                 \n",
      " dropout (Dropout)           (None, 128)               0         \n",
      "                                                                 \n",
      " dense_1 (Dense)             (None, 64)                8256      \n",
      "                                                                 \n",
      " dropout_1 (Dropout)         (None, 64)                0         \n",
      "                                                                 \n",
      " dense_2 (Dense)             (None, 10)                650       \n",
      "                                                                 \n",
      "=================================================================\n",
      "Total params: 692,106\n",
      "Trainable params: 692,106\n",
      "Non-trainable params: 0\n",
      "_________________________________________________________________\n"
     ]
    }
   ],
   "source": [
    "import tensorflow as tf\n",
    "from tensorflow.keras.models import Sequential\n",
    "from tensorflow.keras.layers import Conv2D, MaxPooling2D, Flatten, Dense, Dropout\n",
    "\n",
    "# № 1 Создание модели\n",
    "model = Sequential()\n",
    "\n",
    "# Слои свертки и пулинга\n",
    "model.add(Conv2D(32, (3, 3), activation='relu', input_shape=(64, 64, 3)))\n",
    "model.add(MaxPooling2D((2, 2)))\n",
    "model.add(Conv2D(64, (3, 3), activation='relu'))\n",
    "model.add(MaxPooling2D((2, 2)))\n",
    "model.add(Conv2D(128, (3, 3), activation='relu'))\n",
    "model.add(MaxPooling2D((2, 2)))\n",
    "\n",
    "# Полносвязные слои\n",
    "model.add(Flatten())\n",
    "model.add(Dense(128, activation='relu'))\n",
    "model.add(Dropout(0.5))\n",
    "model.add(Dense(64, activation='relu'))\n",
    "model.add(Dropout(0.3))\n",
    "model.add(Dense(10, activation='softmax'))  # Количество классов возрастных категорий\n",
    "\n",
    "# Компиляция модели\n",
    "model.compile(optimizer='adam',\n",
    "              loss='categorical_crossentropy',\n",
    "              metrics=['accuracy'])\n",
    "\n",
    "# Вывод информации о модели\n",
    "model.summary()"
   ]
  },
  {
   "cell_type": "code",
   "execution_count": 26,
   "metadata": {},
   "outputs": [
    {
     "name": "stdout",
     "output_type": "stream",
     "text": [
      "Epoch 1/10\n",
      "592/592 [==============================] - 57s 96ms/step - loss: 2.2591 - accuracy: 0.1456 - val_loss: 2.2572 - val_accuracy: 0.1452\n",
      "Epoch 2/10\n",
      "592/592 [==============================] - 56s 94ms/step - loss: 2.2587 - accuracy: 0.1454 - val_loss: 2.2574 - val_accuracy: 0.1452\n",
      "Epoch 3/10\n",
      "592/592 [==============================] - 58s 99ms/step - loss: 2.2588 - accuracy: 0.1462 - val_loss: 2.2573 - val_accuracy: 0.1452\n",
      "Epoch 4/10\n",
      "592/592 [==============================] - 57s 97ms/step - loss: 2.2589 - accuracy: 0.1429 - val_loss: 2.2578 - val_accuracy: 0.1452\n",
      "Epoch 5/10\n",
      "592/592 [==============================] - 57s 96ms/step - loss: 2.2590 - accuracy: 0.1458 - val_loss: 2.2573 - val_accuracy: 0.1452\n",
      "Epoch 6/10\n",
      "592/592 [==============================] - 57s 96ms/step - loss: 2.2590 - accuracy: 0.1454 - val_loss: 2.2571 - val_accuracy: 0.1452\n",
      "Epoch 7/10\n",
      "592/592 [==============================] - 57s 96ms/step - loss: 2.2589 - accuracy: 0.1461 - val_loss: 2.2571 - val_accuracy: 0.1452\n",
      "Epoch 8/10\n",
      "592/592 [==============================] - 57s 96ms/step - loss: 2.2591 - accuracy: 0.1457 - val_loss: 2.2569 - val_accuracy: 0.1452\n",
      "Epoch 9/10\n",
      "592/592 [==============================] - 57s 97ms/step - loss: 2.2593 - accuracy: 0.1452 - val_loss: 2.2569 - val_accuracy: 0.1452\n",
      "Epoch 10/10\n",
      "592/592 [==============================] - 57s 96ms/step - loss: 2.2587 - accuracy: 0.1455 - val_loss: 2.2578 - val_accuracy: 0.1452\n"
     ]
    }
   ],
   "source": [
    "# Обучение модели\n",
    "history = model.fit_generator(train_generator, epochs=10, validation_data=test_generator)\n"
   ]
  },
  {
   "cell_type": "code",
   "execution_count": null,
   "metadata": {},
   "outputs": [],
   "source": []
  },
  {
   "cell_type": "code",
   "execution_count": null,
   "metadata": {},
   "outputs": [],
   "source": []
  },
  {
   "cell_type": "code",
   "execution_count": null,
   "metadata": {},
   "outputs": [],
   "source": []
  },
  {
   "cell_type": "code",
   "execution_count": null,
   "metadata": {},
   "outputs": [],
   "source": []
  },
  {
   "cell_type": "code",
   "execution_count": null,
   "metadata": {},
   "outputs": [],
   "source": []
  },
  {
   "cell_type": "code",
   "execution_count": null,
   "metadata": {},
   "outputs": [],
   "source": []
  },
  {
   "cell_type": "code",
   "execution_count": null,
   "metadata": {},
   "outputs": [],
   "source": []
  },
  {
   "cell_type": "code",
   "execution_count": null,
   "metadata": {},
   "outputs": [],
   "source": []
  },
  {
   "cell_type": "code",
   "execution_count": null,
   "metadata": {},
   "outputs": [],
   "source": []
  },
  {
   "cell_type": "code",
   "execution_count": null,
   "metadata": {},
   "outputs": [],
   "source": []
  },
  {
   "cell_type": "code",
   "execution_count": null,
   "metadata": {},
   "outputs": [],
   "source": []
  },
  {
   "cell_type": "code",
   "execution_count": null,
   "metadata": {},
   "outputs": [],
   "source": []
  },
  {
   "cell_type": "code",
   "execution_count": null,
   "metadata": {},
   "outputs": [],
   "source": []
  },
  {
   "cell_type": "code",
   "execution_count": null,
   "metadata": {},
   "outputs": [],
   "source": []
  },
  {
   "cell_type": "code",
   "execution_count": 238,
   "metadata": {},
   "outputs": [],
   "source": [
    "import tensorflow as tf\n",
    "from tensorflow.keras.models import Sequential\n",
    "from tensorflow.keras.layers import Conv2D, MaxPooling2D, Flatten, Dense, Dropout\n",
    "# Создаем последовательную модель\n",
    "model = Sequential()\n",
    "\n",
    "model.add(Conv2D(75, kernel_size=(5, 5), activation='relu', input_shape=(64, 64, 3)))\n",
    "model.add(MaxPooling2D(pool_size=(2, 2)))\n",
    "model.add(Dropout(0.2))\n",
    "model.add(Conv2D(100, (5, 5), activation='relu'))\n",
    "model.add(MaxPooling2D(pool_size=(2, 2)))\n",
    "model.add(Dropout(0.2))\n",
    "model.add(Flatten())\n",
    "model.add(Dense(500, activation='relu'))\n",
    "model.add(Dropout(0.5))\n",
    "model.add(Dense(10, activation='softmax'))"
   ]
  },
  {
   "cell_type": "code",
   "execution_count": null,
   "metadata": {},
   "outputs": [],
   "source": []
  },
  {
   "cell_type": "code",
   "execution_count": 126,
   "metadata": {},
   "outputs": [],
   "source": [
    "# Создаем последовательную модель\n",
    "model = Sequential()\n",
    "\n",
    "model.add(Conv2D(75, kernel_size=(5, 5), activation='relu', input_shape=(64, 64, 3)))\n",
    "model.add(MaxPooling2D(pool_size=(2, 2)))\n",
    "model.add(Dropout(0.2))\n",
    "model.add(Conv2D(100, (5, 5), activation='relu'))\n",
    "model.add(MaxPooling2D(pool_size=(2, 2)))\n",
    "model.add(Dropout(0.2))\n",
    "model.add(Flatten())\n",
    "model.add(Dense(500, activation='relu'))\n",
    "model.add(Dropout(0.5))\n",
    "model.add(Dense(10, activation='softmax'))"
   ]
  }
 ],
 "metadata": {
  "kernelspec": {
   "display_name": "Python 3 (ipykernel)",
   "language": "python",
   "name": "python3"
  },
  "language_info": {
   "codemirror_mode": {
    "name": "ipython",
    "version": 3
   },
   "file_extension": ".py",
   "mimetype": "text/x-python",
   "name": "python",
   "nbconvert_exporter": "python",
   "pygments_lexer": "ipython3",
   "version": "3.9.13"
  }
 },
 "nbformat": 4,
 "nbformat_minor": 2
}
