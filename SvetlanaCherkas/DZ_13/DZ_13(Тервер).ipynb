{
 "cells": [
  {
   "cell_type": "code",
   "execution_count": 49,
   "metadata": {},
   "outputs": [
    {
     "data": {
      "text/plain": [
       "1365.0"
      ]
     },
     "execution_count": 49,
     "metadata": {},
     "output_type": "execute_result"
    }
   ],
   "source": [
    "import math\n",
    "# в ящике находится  15 деталей. Сколькими мпособами можно взять 4 детали( все детали разные)\n",
    "n = 15\n",
    "k = 4\n",
    "math.factorial(n) / (math.factorial(k) * math.factorial(n - k))"
   ]
  },
  {
   "cell_type": "code",
   "execution_count": 50,
   "metadata": {},
   "outputs": [
    {
     "data": {
      "text/plain": [
       "506.0"
      ]
     },
     "execution_count": 50,
     "metadata": {},
     "output_type": "execute_result"
    }
   ],
   "source": [
    "# В студен группе 23 человека. Сколько способов можно выбрать старосту и его заместителя\n",
    "n = 23\n",
    "k = 2\n",
    "math.factorial(n) / math.factorial(n-k)\n"
   ]
  },
  {
   "cell_type": "code",
   "execution_count": 51,
   "metadata": {},
   "outputs": [
    {
     "data": {
      "text/plain": [
       "123.0"
      ]
     },
     "execution_count": 51,
     "metadata": {},
     "output_type": "execute_result"
    }
   ],
   "source": [
    "# студенческая группа состоит из 23 человек, среди которых 10 юношей и 13 девушек. \n",
    "# Сколькими способами можно выбрать двух человек одного пола. \n",
    "# количество способов выбрать 2 юношей\n",
    "n = 10\n",
    "k = 2\n",
    "male_combinations = math.factorial(n)/(math.factorial(n-k) * math.factorial(k))\n",
    "male_combinations\n",
    "# количество способов выбрать 2 девушек\n",
    "n1 = 13\n",
    "k1 = 2\n",
    "male_combinations1 = math.factorial(n1)/(math.factorial(n1-k1) * math.factorial(k1))\n",
    "male_combinations1\n",
    "male_combinations + male_combinations1"
   ]
  },
  {
   "cell_type": "code",
   "execution_count": 52,
   "metadata": {
    "id": "RPZ__GAErbrT"
   },
   "outputs": [
    {
     "data": {
      "text/plain": [
       "130"
      ]
     },
     "execution_count": 52,
     "metadata": {},
     "output_type": "execute_result"
    }
   ],
   "source": [
    "# рассмотрим туже студ группу, которая пришла на танцы. Сколькими способами можно можно составить пару из юноши и девушки\n",
    "#10 способами можно выбрать 1 юношу;\n",
    "#13 способами можно выбрать 1 девушку.\n",
    "\n",
    "#Таким образом, 1-го юношу и 1 девушку можно выбрать: способами.\n",
    "10 * 13"
   ]
  },
  {
   "cell_type": "code",
   "execution_count": 53,
   "metadata": {},
   "outputs": [
    {
     "data": {
      "text/plain": [
       "3510.0"
      ]
     },
     "execution_count": 53,
     "metadata": {},
     "output_type": "execute_result"
    }
   ],
   "source": [
    "# Сколькими способами можно можно выбрать двух юношей и двух девушек для участия в квн\n",
    "n = 10 \n",
    "k = 2\n",
    "c = math.factorial(n)/(math.factorial(n-k)*math.factorial(k))\n",
    "n1 = 13\n",
    "k1 = 2\n",
    "c1 = math.factorial(n1)/(math.factorial(n1-k1)*math.factorial(k1))\n",
    "c = c * c1\n",
    "c"
   ]
  },
  {
   "cell_type": "code",
   "execution_count": 54,
   "metadata": {},
   "outputs": [
    {
     "data": {
      "text/plain": [
       "12.0"
      ]
     },
     "execution_count": 54,
     "metadata": {},
     "output_type": "execute_result"
    }
   ],
   "source": [
    "#У Васи дома живут 4 кота.\n",
    "#а) сколькими способами можно рассадить котов по углам комнаты?\n",
    "a = math.factorial(4)\n",
    "#б) сколькими способами можно отпустить гулять котов?\n",
    "b1_4 = 4\n",
    "b2_4 = math.factorial(4)/(math.factorial(4-2)*math.factorial(2))\n",
    "b3_4 = math.factorial(4)/(math. factorial(4-3)*math.factorial(3))\n",
    "b4_4 = 1\n",
    "b = b1_4 + b2_4 + b3_4 + b4_4\n",
    "#в) сколькими способами Вася может взять на руки двух котов \n",
    "#(одного на левую, другого – на правую)?\n",
    "c1 = math.factorial(4)/(math.factorial(4-2)*math.factorial(2)) #способами можно выбрать двух котов\n",
    "p1 = math.factorial(2) #способами разместить каждую пару на руках\n",
    "c = c1 * p1\n",
    "c"
   ]
  },
  {
   "cell_type": "code",
   "execution_count": 55,
   "metadata": {},
   "outputs": [
    {
     "data": {
      "text/plain": [
       "34220.0"
      ]
     },
     "execution_count": 55,
     "metadata": {},
     "output_type": "execute_result"
    }
   ],
   "source": [
    "# Студент знает ответы на 25 экзаменационных вопросов из 60. \n",
    "#Какова вероятность сдать экзамен, если для этого необходимо ответить \n",
    "#не менее чем на два из трёх вопросов?\n",
    "# всего вопросов 60, 25 знает, 35 не знает\n",
    "n2 = 60\n",
    "k2 = 3 \n",
    "c2 = math.factorial(n2)/(math.factorial(n2-k2)*math.factorial(k2))\n",
    "c2   # 34 220 способами можно выбрать 3 вопроса из 60 (общее количество исходов)."
   ]
  },
  {
   "cell_type": "code",
   "execution_count": 56,
   "metadata": {},
   "outputs": [
    {
     "data": {
      "text/plain": [
       "10500.0"
      ]
     },
     "execution_count": 56,
     "metadata": {},
     "output_type": "execute_result"
    }
   ],
   "source": [
    "# 10500 способов (2 знает вопроса и 1 не знает)\n",
    "с2_25 = math.factorial(25)/(math.factorial(25-2) * math.factorial(2))\n",
    "с1_35 = math.factorial(35)/(math.factorial(35-1) * math.factorial(1))\n",
    "с2_25 * с1_35"
   ]
  },
  {
   "cell_type": "code",
   "execution_count": 57,
   "metadata": {},
   "outputs": [
    {
     "data": {
      "text/plain": [
       "2300.0"
      ]
     },
     "execution_count": 57,
     "metadata": {},
     "output_type": "execute_result"
    }
   ],
   "source": [
    "#2300 способами можно выбрать 3 вопроса которые знает.\n",
    "c3_25 = math.factorial(25)/(math.factorial(25-3) * math.factorial(3))\n",
    "c3_25"
   ]
  },
  {
   "cell_type": "code",
   "execution_count": 58,
   "metadata": {},
   "outputs": [
    {
     "data": {
      "text/plain": [
       "12800.0"
      ]
     },
     "execution_count": 58,
     "metadata": {},
     "output_type": "execute_result"
    }
   ],
   "source": [
    "#12 800 способами можно выбрать благоприятствующую для сдачи экзамена \n",
    "#комбинацию 3 вопросов (без разницы с двумя или тремя вопросами которые знает).\n",
    "с2_25 * с1_35 + c3_25"
   ]
  },
  {
   "cell_type": "code",
   "execution_count": 59,
   "metadata": {},
   "outputs": [
    {
     "data": {
      "text/plain": [
       "0.37405026300409117"
      ]
     },
     "execution_count": 59,
     "metadata": {},
     "output_type": "execute_result"
    }
   ],
   "source": [
    "# вероятность того, что студент сдаст экзамен.\n",
    "p = (с2_25 * с1_35 + c3_25) / c2\n",
    "p"
   ]
  },
  {
   "cell_type": "code",
   "execution_count": 60,
   "metadata": {},
   "outputs": [
    {
     "data": {
      "text/plain": [
       "2016.0"
      ]
     },
     "execution_count": 60,
     "metadata": {},
     "output_type": "execute_result"
    }
   ],
   "source": [
    "math.factorial(64)/(math.factorial(62) * math.factorial(2))"
   ]
  },
  {
   "cell_type": "code",
   "execution_count": null,
   "metadata": {},
   "outputs": [],
   "source": []
  },
  {
   "cell_type": "code",
   "execution_count": null,
   "metadata": {},
   "outputs": [],
   "source": []
  }
 ],
 "metadata": {
  "colab": {
   "authorship_tag": "ABX9TyN4QKvybPhr8O0pOZApvVyn",
   "mount_file_id": "1zzZ8Dfc_Msa1DMKXtZSHAJCxVuCcq_mD",
   "provenance": []
  },
  "kernelspec": {
   "display_name": "Python 3 (ipykernel)",
   "language": "python",
   "name": "python3"
  },
  "language_info": {
   "codemirror_mode": {
    "name": "ipython",
    "version": 3
   },
   "file_extension": ".py",
   "mimetype": "text/x-python",
   "name": "python",
   "nbconvert_exporter": "python",
   "pygments_lexer": "ipython3",
   "version": "3.9.13"
  }
 },
 "nbformat": 4,
 "nbformat_minor": 1
}
