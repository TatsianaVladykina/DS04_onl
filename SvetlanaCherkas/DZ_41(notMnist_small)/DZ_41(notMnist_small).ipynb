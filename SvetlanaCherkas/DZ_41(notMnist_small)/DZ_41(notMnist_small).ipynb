{
 "cells": [
  {
   "cell_type": "markdown",
   "metadata": {
    "papermill": {
     "duration": 0.023241,
     "end_time": "2020-10-05T19:56:13.995581",
     "exception": false,
     "start_time": "2020-10-05T19:56:13.972340",
     "status": "completed"
    },
    "tags": []
   },
   "source": [
    "Выполнить классификацию изображений на наборе данных NotMNIST dataset"
   ]
  },
  {
   "cell_type": "markdown",
   "metadata": {
    "papermill": {
     "duration": 0.021554,
     "end_time": "2020-10-05T19:56:14.040460",
     "exception": false,
     "start_time": "2020-10-05T19:56:14.018906",
     "status": "completed"
    },
    "tags": []
   },
   "source": [
    "## Импорт библиотек"
   ]
  },
  {
   "cell_type": "code",
   "execution_count": 123,
   "metadata": {
    "_cell_guid": "b1076dfc-b9ad-4769-8c92-a6c4dae69d19",
    "_uuid": "8f2839f25d086af736a60e9eeb907d3b93b6e0e5",
    "execution": {
     "iopub.execute_input": "2020-10-05T19:56:14.090352Z",
     "iopub.status.busy": "2020-10-05T19:56:14.089686Z",
     "iopub.status.idle": "2020-10-05T19:56:20.204179Z",
     "shell.execute_reply": "2020-10-05T19:56:20.203580Z"
    },
    "papermill": {
     "duration": 6.142104,
     "end_time": "2020-10-05T19:56:20.204305",
     "exception": false,
     "start_time": "2020-10-05T19:56:14.062201",
     "status": "completed"
    },
    "tags": []
   },
   "outputs": [],
   "source": [
    "import numpy as np\n",
    "import pandas as pd\n",
    "\n",
    "import matplotlib.pyplot as plt\n",
    "\n",
    "from PIL import Image\n",
    "from sklearn.model_selection import train_test_split\n",
    "\n",
    "from keras.layers import Dense, Conv2D, Flatten, MaxPool2D\n",
    "from keras.models import Sequential\n",
    "from keras.utils import to_categorical\n",
    "\n",
    "import os\n",
    "\n",
    "import random\n",
    "random.seed(0)"
   ]
  },
  {
   "cell_type": "markdown",
   "metadata": {
    "papermill": {
     "duration": 0.021566,
     "end_time": "2020-10-05T19:56:20.248320",
     "exception": false,
     "start_time": "2020-10-05T19:56:20.226754",
     "status": "completed"
    },
    "tags": []
   },
   "source": [
    "## Загрузка данных"
   ]
  },
  {
   "cell_type": "markdown",
   "metadata": {
    "papermill": {
     "duration": 0.02157,
     "end_time": "2020-10-05T19:56:20.291744",
     "exception": false,
     "start_time": "2020-10-05T19:56:20.270174",
     "status": "completed"
    },
    "tags": []
   },
   "source": [
    "Проверяем, какие буквы есть в наборе данных:"
   ]
  },
  {
   "cell_type": "code",
   "execution_count": 125,
   "metadata": {
    "_cell_guid": "79c7e3d0-c299-4dcb-8224-4455121ee9b0",
    "_uuid": "d629ff2d2480ee46fbb7e2d37f6b5fab8052498a",
    "execution": {
     "iopub.execute_input": "2020-10-05T19:56:20.340800Z",
     "iopub.status.busy": "2020-10-05T19:56:20.340104Z",
     "iopub.status.idle": "2020-10-05T19:56:20.346659Z",
     "shell.execute_reply": "2020-10-05T19:56:20.347308Z"
    },
    "papermill": {
     "duration": 0.03391,
     "end_time": "2020-10-05T19:56:20.347480",
     "exception": false,
     "start_time": "2020-10-05T19:56:20.313570",
     "status": "completed"
    },
    "tags": []
   },
   "outputs": [
    {
     "name": "stdout",
     "output_type": "stream",
     "text": [
      "There are 10 classes: ['A', 'B', 'C', 'D', 'E', 'F', 'G', 'H', 'I', 'J']\n"
     ]
    }
   ],
   "source": [
    "PATH = 'notMNIST_small'\n",
    "\n",
    "classes = os.listdir(PATH)\n",
    "num_classes = len(classes)\n",
    "\n",
    "print(\"There are {} classes: {}\".format(num_classes, classes))"
   ]
  },
  {
   "cell_type": "markdown",
   "metadata": {
    "papermill": {
     "duration": 0.022234,
     "end_time": "2020-10-05T19:56:20.394595",
     "exception": false,
     "start_time": "2020-10-05T19:56:20.372361",
     "status": "completed"
    },
    "tags": []
   },
   "source": [
    "Подготовка матриц X и y — то есть изображений и соответствующих им меток:\n",
    "\n",
    "Цикл for Category in Categories: перебирает каждый класс из списка Categories. Для каждого класса он идет в соответствующую директорию, загружает изображения, изменяет их размер, преобразует в оттенки серого и добавляет их в training_data, вместе с меткой класса.\n",
    "\n",
    "После выполнения этого кода у вас будет список training_data, который содержит пары изображений и меток классов, готовых для использования в задаче обучения модели машинного обучения."
   ]
  },
  {
   "cell_type": "code",
   "execution_count": 126,
   "metadata": {
    "execution": {
     "iopub.execute_input": "2020-10-05T19:56:20.447039Z",
     "iopub.status.busy": "2020-10-05T19:56:20.446273Z",
     "iopub.status.idle": "2020-10-05T19:56:40.574094Z",
     "shell.execute_reply": "2020-10-05T19:56:40.574584Z"
    },
    "papermill": {
     "duration": 20.157606,
     "end_time": "2020-10-05T19:56:40.574743",
     "exception": false,
     "start_time": "2020-10-05T19:56:20.417137",
     "status": "completed"
    },
    "tags": []
   },
   "outputs": [],
   "source": [
    "X = []\n",
    "y = []\n",
    "\n",
    "for directory in os.listdir(PATH):\n",
    "    for image in os.listdir(PATH + '/' + directory):\n",
    "        try:\n",
    "            path = PATH + '/' + directory + '/' + image\n",
    "            img = Image.open(path)\n",
    "            img.load()\n",
    "            img_X = np.asarray(img, dtype=np.int16)\n",
    "            X.append(img_X)\n",
    "            y.append(directory)\n",
    "        except:\n",
    "            None\n",
    "            \n",
    "X = np.asarray(X)\n",
    "y = np.asarray(y)"
   ]
  },
  {
   "cell_type": "code",
   "execution_count": 127,
   "metadata": {},
   "outputs": [
    {
     "data": {
      "text/plain": [
       "'A'"
      ]
     },
     "execution_count": 127,
     "metadata": {},
     "output_type": "execute_result"
    }
   ],
   "source": [
    "y[0]"
   ]
  },
  {
   "cell_type": "code",
   "execution_count": 128,
   "metadata": {
    "execution": {
     "iopub.execute_input": "2020-10-05T19:56:40.627028Z",
     "iopub.status.busy": "2020-10-05T19:56:40.626208Z",
     "iopub.status.idle": "2020-10-05T19:56:40.630486Z",
     "shell.execute_reply": "2020-10-05T19:56:40.630029Z"
    },
    "papermill": {
     "duration": 0.03293,
     "end_time": "2020-10-05T19:56:40.630629",
     "exception": false,
     "start_time": "2020-10-05T19:56:40.597699",
     "status": "completed"
    },
    "tags": []
   },
   "outputs": [
    {
     "data": {
      "text/plain": [
       "((18724, 28, 28), (18724,), 28)"
      ]
     },
     "execution_count": 128,
     "metadata": {},
     "output_type": "execute_result"
    }
   ],
   "source": [
    "num_images = len(X) # Количество изображений\n",
    "size = len(X[0]) # Размер изображения\n",
    "\n",
    "X.shape, y.shape, size"
   ]
  },
  {
   "cell_type": "markdown",
   "metadata": {
    "papermill": {
     "duration": 0.022729,
     "end_time": "2020-10-05T19:56:40.676189",
     "exception": false,
     "start_time": "2020-10-05T19:56:40.653460",
     "status": "completed"
    },
    "tags": []
   },
   "source": [
    "## Визуализация данных"
   ]
  },
  {
   "cell_type": "markdown",
   "metadata": {},
   "source": [
    "Этот код для отображения первого изображения из массива X в градациях серого, а также выводит заголовок, содержащий информацию о классе этого изображения из массива y."
   ]
  },
  {
   "cell_type": "code",
   "execution_count": 129,
   "metadata": {
    "collapsed": true,
    "execution": {
     "iopub.execute_input": "2020-10-05T19:56:40.728608Z",
     "iopub.status.busy": "2020-10-05T19:56:40.727900Z",
     "iopub.status.idle": "2020-10-05T19:56:40.924497Z",
     "shell.execute_reply": "2020-10-05T19:56:40.923952Z"
    },
    "papermill": {
     "duration": 0.225359,
     "end_time": "2020-10-05T19:56:40.924629",
     "exception": false,
     "start_time": "2020-10-05T19:56:40.699270",
     "status": "completed"
    },
    "tags": []
   },
   "outputs": [
    {
     "data": {
      "image/png": "[encoded data removed]",
      "text/plain": [
       "<Figure size 640x480 with 1 Axes>"
      ]
     },
     "metadata": {},
     "output_type": "display_data"
    }
   ],
   "source": [
    "plt.imshow(X[0], cmap='gray')\n",
    "plt.title(\"Letter {}\".format(y[0]));"
   ]
  },
  {
   "cell_type": "markdown",
   "metadata": {},
   "source": [
    "Этот код создает сетку графиков с изображениями из каждого класса данных. Он выводит по 5 изображений для каждого класса на одной строке.\n",
    "\n",
    "Проходя циклом по отсортированным классам (classes), код создает новый подграфик с помощью plt.subplot(), затем использует plt.imshow() для отображения изображения в градациях серого. Каждый подграфик имеет заголовок с номером буквы (класса).\n",
    "\n",
    "Затем plt.tight_layout() используется для автоматической оптимизации размещения графиков, чтобы избежать их перекрытия. Наконец, plt.show() отображает весь сет графиков."
   ]
  },
  {
   "cell_type": "code",
   "execution_count": 130,
   "metadata": {
    "collapsed": true,
    "execution": {
     "iopub.execute_input": "2020-10-05T19:56:40.979830Z",
     "iopub.status.busy": "2020-10-05T19:56:40.978908Z",
     "iopub.status.idle": "2020-10-05T19:56:45.936864Z",
     "shell.execute_reply": "2020-10-05T19:56:45.936293Z"
    },
    "papermill": {
     "duration": 4.988384,
     "end_time": "2020-10-05T19:56:45.936992",
     "exception": false,
     "start_time": "2020-10-05T19:56:40.948608",
     "status": "completed"
    },
    "tags": []
   },
   "outputs": [
    {
     "data": {
      "image/png": "[encoded data removed]",
      "text/plain": [
       "<Figure size 1500x2000 with 5 Axes>"
      ]
     },
     "metadata": {},
     "output_type": "display_data"
    },
    {
     "data": {
      "image/png": "[encoded data removed]",
      "text/plain": [
       "<Figure size 1500x2000 with 5 Axes>"
      ]
     },
     "metadata": {},
     "output_type": "display_data"
    },
    {
     "data": {
      "image/png": "[encoded data removed]",
      "text/plain": [
       "<Figure size 1500x2000 with 5 Axes>"
      ]
     },
     "metadata": {},
     "output_type": "display_data"
    },
    {
     "data": {
      "image/png": "[encoded data removed]",
      "text/plain": [
       "<Figure size 1500x2000 with 5 Axes>"
      ]
     },
     "metadata": {},
     "output_type": "display_data"
    },
    {
     "data": {
      "image/png": "[encoded data removed]",
      "text/plain": [
       "<Figure size 1500x2000 with 5 Axes>"
      ]
     },
     "metadata": {},
     "output_type": "display_data"
    },
    {
     "data": {
      "image/png": "[encoded data removed]",
      "text/plain": [
       "<Figure size 1500x2000 with 5 Axes>"
      ]
     },
     "metadata": {},
     "output_type": "display_data"
    },
    {
     "data": {
      "image/png": "[encoded data removed]",
      "text/plain": [
       "<Figure size 1500x2000 with 5 Axes>"
      ]
     },
     "metadata": {},
     "output_type": "display_data"
    },
    {
     "data": {
      "image/png": "[encoded data removed]",
      "text/plain": [
       "<Figure size 1500x2000 with 5 Axes>"
      ]
     },
     "metadata": {},
     "output_type": "display_data"
    },
    {
     "data": {
      "image/png": "[encoded data removed]",
      "text/plain": [
       "<Figure size 1500x2000 with 5 Axes>"
      ]
     },
     "metadata": {},
     "output_type": "display_data"
    },
    {
     "data": {
      "image/png": "[encoded data removed]",
      "text/plain": [
       "<Figure size 1500x2000 with 5 Axes>"
      ]
     },
     "metadata": {},
     "output_type": "display_data"
    }
   ],
   "source": [
    "for let in sorted(classes):\n",
    "    letter = X[y == let] \n",
    "\n",
    "    plt.figure(figsize=(15,20))\n",
    "    for i in range(5):\n",
    "        plt.subplot(10, 5, i+1)\n",
    "        plt.imshow(letter[i], cmap='gray')\n",
    "        plt.title(\"Letter {}\".format(let))\n",
    "    \n",
    "plt.tight_layout()\n",
    "plt.show();"
   ]
  },
  {
   "cell_type": "markdown",
   "metadata": {
    "papermill": {
     "duration": 0.043326,
     "end_time": "2020-10-05T19:56:46.015927",
     "exception": false,
     "start_time": "2020-10-05T19:56:45.972601",
     "status": "completed"
    },
    "tags": []
   },
   "source": [
    "Подготовка данных"
   ]
  },
  {
   "cell_type": "markdown",
   "metadata": {
    "papermill": {
     "duration": 0.03463,
     "end_time": "2020-10-05T19:56:46.084111",
     "exception": false,
     "start_time": "2020-10-05T19:56:46.049481",
     "status": "completed"
    },
    "tags": []
   },
   "source": [
    "Для того чтобы преобразовать метки из букв A-J в числа 1-10, вы можете создать словарь сопоставления, который будет соответствовать каждой букве её числовому значению. Затем вы можете использовать этот словарь для замены буквенных меток числовыми метками в массиве y. Вот как это можно сделать:"
   ]
  },
  {
   "cell_type": "code",
   "execution_count": 131,
   "metadata": {},
   "outputs": [
    {
     "data": {
      "text/plain": [
       "array(['A', 'A', 'A', ..., 'J', 'J', 'J'], dtype='<U1')"
      ]
     },
     "execution_count": 131,
     "metadata": {},
     "output_type": "execute_result"
    }
   ],
   "source": [
    "y"
   ]
  },
  {
   "cell_type": "code",
   "execution_count": 132,
   "metadata": {
    "execution": {
     "iopub.execute_input": "2020-10-05T19:56:46.169407Z",
     "iopub.status.busy": "2020-10-05T19:56:46.168479Z",
     "iopub.status.idle": "2020-10-05T19:56:46.171362Z",
     "shell.execute_reply": "2020-10-05T19:56:46.171960Z"
    },
    "papermill": {
     "duration": 0.055306,
     "end_time": "2020-10-05T19:56:46.172101",
     "exception": false,
     "start_time": "2020-10-05T19:56:46.116795",
     "status": "completed"
    },
    "tags": []
   },
   "outputs": [],
   "source": [
    "y = list(map(lambda x: ord(x) - ord('A'), y))\n",
    "y = np.asarray(y)"
   ]
  },
  {
   "cell_type": "code",
   "execution_count": 133,
   "metadata": {},
   "outputs": [
    {
     "data": {
      "text/plain": [
       "array([0, 0, 0, ..., 9, 9, 9])"
      ]
     },
     "execution_count": 133,
     "metadata": {},
     "output_type": "execute_result"
    }
   ],
   "source": [
    "y"
   ]
  },
  {
   "cell_type": "markdown",
   "metadata": {
    "papermill": {
     "duration": 0.030684,
     "end_time": "2020-10-05T19:56:46.234107",
     "exception": false,
     "start_time": "2020-10-05T19:56:46.203423",
     "status": "completed"
    },
    "tags": []
   },
   "source": [
    "Перетасовка данных, чтобы при разделении на обучающий и тестовый наборы на следующем шаге у нас были примеры каждой буквы в обоих наборах:\n",
    "\n",
    "indices создается массив индексов от 0 до количества строк в массиве X.\n",
    "np.random.shuffle(indices) выполняет перемешивание этих индексов в случайном порядке.\n",
    "Затем массивы X и y переупорядочиваются в соответствии с перемешанными индексами.\n",
    "Таким образом, результатом будет новый порядок данных в массивах X и y, обеспечивающий более случайное распределение."
   ]
  },
  {
   "cell_type": "code",
   "execution_count": 134,
   "metadata": {
    "execution": {
     "iopub.execute_input": "2020-10-05T19:56:46.301463Z",
     "iopub.status.busy": "2020-10-05T19:56:46.300870Z",
     "iopub.status.idle": "2020-10-05T19:56:46.321333Z",
     "shell.execute_reply": "2020-10-05T19:56:46.320677Z"
    },
    "papermill": {
     "duration": 0.056435,
     "end_time": "2020-10-05T19:56:46.321612",
     "exception": false,
     "start_time": "2020-10-05T19:56:46.265177",
     "status": "completed"
    },
    "tags": []
   },
   "outputs": [],
   "source": [
    "indices = np.arange(X.shape[0])\n",
    "np.random.shuffle(indices)\n",
    "\n",
    "X = X[indices]\n",
    "y = y[indices]"
   ]
  },
  {
   "cell_type": "markdown",
   "metadata": {
    "papermill": {
     "duration": 0.030564,
     "end_time": "2020-10-05T19:56:46.383599",
     "exception": false,
     "start_time": "2020-10-05T19:56:46.353035",
     "status": "completed"
    },
    "tags": []
   },
   "source": [
    "Разделение данных на обучающие и тестовые наборы:"
   ]
  },
  {
   "cell_type": "code",
   "execution_count": 135,
   "metadata": {
    "execution": {
     "iopub.execute_input": "2020-10-05T19:56:46.451107Z",
     "iopub.status.busy": "2020-10-05T19:56:46.450196Z",
     "iopub.status.idle": "2020-10-05T19:56:46.453732Z",
     "shell.execute_reply": "2020-10-05T19:56:46.453247Z"
    },
    "papermill": {
     "duration": 0.039117,
     "end_time": "2020-10-05T19:56:46.453846",
     "exception": false,
     "start_time": "2020-10-05T19:56:46.414729",
     "status": "completed"
    },
    "tags": []
   },
   "outputs": [
    {
     "name": "stderr",
     "output_type": "stream",
     "text": [
      "C:\\Users\\user\\AppData\\Local\\Temp\\ipykernel_13368\\192301650.py:1: DeprecationWarning: `np.int` is a deprecated alias for the builtin `int`. To silence this warning, use `int` by itself. Doing this will not modify any behavior and is safe. When replacing `np.int`, you may wish to use e.g. `np.int64` or `np.int32` to specify the precision. If you wish to review your current use, check the release note link for additional information.\n",
      "Deprecated in NumPy 1.20; for more details and guidance: https://numpy.org/devdocs/release/1.20.0-notes.html#deprecations\n",
      "  num_train_img = np.int(0.7 * X.shape[0])\n"
     ]
    },
    {
     "data": {
      "text/plain": [
       "13106"
      ]
     },
     "execution_count": 135,
     "metadata": {},
     "output_type": "execute_result"
    }
   ],
   "source": [
    "num_train_img = np.int(0.7 * X.shape[0])\n",
    "num_train_img"
   ]
  },
  {
   "cell_type": "code",
   "execution_count": 139,
   "metadata": {
    "execution": {
     "iopub.execute_input": "2020-10-05T19:56:46.522363Z",
     "iopub.status.busy": "2020-10-05T19:56:46.521585Z",
     "iopub.status.idle": "2020-10-05T19:56:46.524586Z",
     "shell.execute_reply": "2020-10-05T19:56:46.523939Z"
    },
    "papermill": {
     "duration": 0.039339,
     "end_time": "2020-10-05T19:56:46.524700",
     "exception": false,
     "start_time": "2020-10-05T19:56:46.485361",
     "status": "completed"
    },
    "tags": []
   },
   "outputs": [],
   "source": [
    "X_train = X[:num_train_img]\n",
    "y_train = y[:num_train_img]\n",
    "\n",
    "X_test = X[num_train_img:]\n",
    "y_test = y[num_train_img:]"
   ]
  },
  {
   "cell_type": "code",
   "execution_count": 143,
   "metadata": {},
   "outputs": [
    {
     "name": "stdout",
     "output_type": "stream",
     "text": [
      "(13106, 28, 28)\n",
      "(13106,)\n",
      "(5618, 28, 28)\n",
      "(5618,)\n"
     ]
    }
   ],
   "source": [
    "print(X_train.shape)\n",
    "print(y_train.shape)\n",
    "print(X_test.shape)\n",
    "print(y_test.shape)"
   ]
  },
  {
   "cell_type": "markdown",
   "metadata": {
    "papermill": {
     "duration": 0.030645,
     "end_time": "2020-10-05T19:56:46.586481",
     "exception": false,
     "start_time": "2020-10-05T19:56:46.555836",
     "status": "completed"
    },
    "tags": []
   },
   "source": [
    "Преобразование y в вероятности:\n",
    "Этот код проверяет, имеют ли метки классов y_train и y_test одну размерность (то есть, являются ли одномерными массивами). Если метки классов имеют одну размерность (то есть, это не бинарные или многомерные метки), то они преобразуются в бинарный формат с помощью функции to_categorical из библиотеки Keras.\n",
    "\n",
    "В данном случае, параметр 10 в функции to_categorical указывает на количество классов. Это используется для создания бинарного представления меток классов, где каждая метка преобразуется в вектор длиной 10, где только один элемент равен 1 (индекс соответствующего класса), а все остальные элементы равны 0. Это позволяет модели работать с метками классов в виде вероятностных распределений, что часто используется при обучении нейронных сетей для задач классификации."
   ]
  },
  {
   "cell_type": "code",
   "execution_count": 144,
   "metadata": {
    "execution": {
     "iopub.execute_input": "2020-10-05T19:56:46.654021Z",
     "iopub.status.busy": "2020-10-05T19:56:46.653146Z",
     "iopub.status.idle": "2020-10-05T19:56:46.656537Z",
     "shell.execute_reply": "2020-10-05T19:56:46.656983Z"
    },
    "papermill": {
     "duration": 0.039741,
     "end_time": "2020-10-05T19:56:46.657120",
     "exception": false,
     "start_time": "2020-10-05T19:56:46.617379",
     "status": "completed"
    },
    "tags": []
   },
   "outputs": [],
   "source": [
    "if y_train.ndim == 1: y_train = to_categorical(y_train, 10)\n",
    "if y_test.ndim == 1: y_test = to_categorical(y_test, 10)"
   ]
  },
  {
   "cell_type": "markdown",
   "metadata": {
    "papermill": {
     "duration": 0.031837,
     "end_time": "2020-10-05T19:56:46.719878",
     "exception": false,
     "start_time": "2020-10-05T19:56:46.688041",
     "status": "completed"
    },
    "tags": []
   },
   "source": [
    "Нормализация"
   ]
  },
  {
   "cell_type": "code",
   "execution_count": 23,
   "metadata": {
    "execution": {
     "iopub.execute_input": "2020-10-05T19:56:46.787843Z",
     "iopub.status.busy": "2020-10-05T19:56:46.786961Z",
     "iopub.status.idle": "2020-10-05T19:56:46.861320Z",
     "shell.execute_reply": "2020-10-05T19:56:46.861862Z"
    },
    "papermill": {
     "duration": 0.110949,
     "end_time": "2020-10-05T19:56:46.862008",
     "exception": false,
     "start_time": "2020-10-05T19:56:46.751059",
     "status": "completed"
    },
    "tags": []
   },
   "outputs": [],
   "source": [
    "if np.max(X_train) == 255: X_train = X_train / 255 \n",
    "if np.max(X_test) == 255: X_test = X_test / 255"
   ]
  },
  {
   "cell_type": "markdown",
   "metadata": {
    "papermill": {
     "duration": 0.030926,
     "end_time": "2020-10-05T19:56:46.924188",
     "exception": false,
     "start_time": "2020-10-05T19:56:46.893262",
     "status": "completed"
    },
    "tags": []
   },
   "source": [
    "Reshaping X — выравнивание изображений, чтобы у нас были одномерные изображения, подходящие для входных данных сети mlp:\n",
    "\n",
    "Если X_train имеет три измерения (например, (количество_изображений, высота, ширина)), то он решейпится в четырехмерный массив (количество_изображений, высота, ширина, количество_каналов), где количество каналов установлено на 1. Это делается с помощью .reshape(-1, size, size, 1).\n",
    "\n",
    "Аналогично для X_test.\n",
    "\n",
    "Данные также приводятся к типу данных float32, что является стандартным типом для работы с нейронными сетями."
   ]
  },
  {
   "cell_type": "code",
   "execution_count": 148,
   "metadata": {},
   "outputs": [
    {
     "data": {
      "text/plain": [
       "((13106, 28, 28, 1), (5618, 28, 28, 1))"
      ]
     },
     "execution_count": 148,
     "metadata": {},
     "output_type": "execute_result"
    }
   ],
   "source": [
    "X_train.shape, X_test.shape"
   ]
  },
  {
   "cell_type": "code",
   "execution_count": 146,
   "metadata": {
    "execution": {
     "iopub.execute_input": "2020-10-05T19:56:47.159375Z",
     "iopub.status.busy": "2020-10-05T19:56:47.158350Z",
     "iopub.status.idle": "2020-10-05T19:56:47.196294Z",
     "shell.execute_reply": "2020-10-05T19:56:47.195784Z"
    },
    "papermill": {
     "duration": 0.074815,
     "end_time": "2020-10-05T19:56:47.196415",
     "exception": false,
     "start_time": "2020-10-05T19:56:47.121600",
     "status": "completed"
    },
    "tags": []
   },
   "outputs": [],
   "source": [
    "if X_train.ndim == 3:\n",
    "    X_train = X_train.reshape(-1, size, size, 1).astype('float32')\n",
    "    X_test = X_test.reshape(-1, size, size, 1).astype('float32')"
   ]
  },
  {
   "cell_type": "markdown",
   "metadata": {
    "papermill": {
     "duration": 0.031135,
     "end_time": "2020-10-05T19:56:47.259593",
     "exception": false,
     "start_time": "2020-10-05T19:56:47.228458",
     "status": "completed"
    },
    "tags": []
   },
   "source": [
    "Проверим размеры всех наборов данных:"
   ]
  },
  {
   "cell_type": "code",
   "execution_count": 158,
   "metadata": {
    "execution": {
     "iopub.execute_input": "2020-10-05T19:56:47.328200Z",
     "iopub.status.busy": "2020-10-05T19:56:47.327237Z",
     "iopub.status.idle": "2020-10-05T19:56:47.331473Z",
     "shell.execute_reply": "2020-10-05T19:56:47.330971Z"
    },
    "papermill": {
     "duration": 0.040356,
     "end_time": "2020-10-05T19:56:47.331597",
     "exception": false,
     "start_time": "2020-10-05T19:56:47.291241",
     "status": "completed"
    },
    "tags": []
   },
   "outputs": [
    {
     "data": {
      "text/plain": [
       "((13106, 28, 28, 1), (5618, 28, 28, 1))"
      ]
     },
     "execution_count": 158,
     "metadata": {},
     "output_type": "execute_result"
    }
   ],
   "source": [
    "X_train.shape, X_test.shape"
   ]
  },
  {
   "cell_type": "markdown",
   "metadata": {},
   "source": [
    "код X_train.shape[1:] используется для получения размерности входных данных, которая будет использоваться в определении архитектуры нейронной сети. В данном случае input_shape будет представлять собой кортеж (высота, ширина, количество_каналов) для каждого изображения. Этот кортеж будет определять размер входных данных для первого слоя нейронной сети."
   ]
  },
  {
   "cell_type": "code",
   "execution_count": 159,
   "metadata": {
    "execution": {
     "iopub.execute_input": "2020-10-05T19:56:47.400305Z",
     "iopub.status.busy": "2020-10-05T19:56:47.399421Z",
     "iopub.status.idle": "2020-10-05T19:56:47.403852Z",
     "shell.execute_reply": "2020-10-05T19:56:47.403245Z"
    },
    "papermill": {
     "duration": 0.040313,
     "end_time": "2020-10-05T19:56:47.403958",
     "exception": false,
     "start_time": "2020-10-05T19:56:47.363645",
     "status": "completed"
    },
    "tags": []
   },
   "outputs": [
    {
     "data": {
      "text/plain": [
       "(28, 28, 1)"
      ]
     },
     "execution_count": 159,
     "metadata": {},
     "output_type": "execute_result"
    }
   ],
   "source": [
    "input_shape = X_train.shape[1:]\n",
    "input_shape"
   ]
  },
  {
   "cell_type": "markdown",
   "metadata": {
    "papermill": {
     "duration": 0.10774,
     "end_time": "2020-10-05T19:57:02.353593",
     "exception": false,
     "start_time": "2020-10-05T19:57:02.245853",
     "status": "completed"
    },
    "tags": []
   },
   "source": [
    "## Model - Convolutional Neural Network"
   ]
  },
  {
   "cell_type": "code",
   "execution_count": 165,
   "metadata": {
    "execution": {
     "iopub.execute_input": "2020-10-05T19:57:02.615617Z",
     "iopub.status.busy": "2020-10-05T19:57:02.614960Z",
     "iopub.status.idle": "2020-10-05T19:57:02.664965Z",
     "shell.execute_reply": "2020-10-05T19:57:02.664041Z"
    },
    "papermill": {
     "duration": 0.179154,
     "end_time": "2020-10-05T19:57:02.665143",
     "exception": false,
     "start_time": "2020-10-05T19:57:02.485989",
     "status": "completed"
    },
    "tags": []
   },
   "outputs": [
    {
     "name": "stdout",
     "output_type": "stream",
     "text": [
      "Model: \"sequential_7\"\n",
      "_________________________________________________________________\n",
      " Layer (type)                Output Shape              Param #   \n",
      "=================================================================\n",
      " conv2d_4 (Conv2D)           (None, 26, 26, 32)        320       \n",
      "                                                                 \n",
      " max_pooling2d_4 (MaxPooling  (None, 13, 13, 32)       0         \n",
      " 2D)                                                             \n",
      "                                                                 \n",
      " conv2d_5 (Conv2D)           (None, 11, 11, 64)        18496     \n",
      "                                                                 \n",
      " max_pooling2d_5 (MaxPooling  (None, 5, 5, 64)         0         \n",
      " 2D)                                                             \n",
      "                                                                 \n",
      " flatten_2 (Flatten)         (None, 1600)              0         \n",
      "                                                                 \n",
      " dense_24 (Dense)            (None, 512)               819712    \n",
      "                                                                 \n",
      " dense_25 (Dense)            (None, 10)                5130      \n",
      "                                                                 \n",
      "=================================================================\n",
      "Total params: 843,658\n",
      "Trainable params: 843,658\n",
      "Non-trainable params: 0\n",
      "_________________________________________________________________\n"
     ]
    }
   ],
   "source": [
    "model_cnn = Sequential([\n",
    "    Conv2D(filters=32, kernel_size=(3,3), activation='relu', input_shape=input_shape),\n",
    "    MaxPool2D(),\n",
    "    \n",
    "    Conv2D(filters=64, kernel_size=(3,3), activation='relu'),\n",
    "    MaxPool2D(),\n",
    "    \n",
    "    Flatten(),\n",
    "    \n",
    "    Dense(512, activation='relu'),\n",
    "    Dense(num_classes, activation='softmax'),\n",
    "])\n",
    "\n",
    "model_cnn.compile(optimizer='adam', metrics=['accuracy'], loss='categorical_crossentropy')\n",
    "model_cnn.summary()"
   ]
  },
  {
   "cell_type": "markdown",
   "metadata": {
    "papermill": {
     "duration": 0.105935,
     "end_time": "2020-10-05T19:57:02.880036",
     "exception": false,
     "start_time": "2020-10-05T19:57:02.774101",
     "status": "completed"
    },
    "tags": []
   },
   "source": [
    "## CNN training"
   ]
  },
  {
   "cell_type": "code",
   "execution_count": 166,
   "metadata": {
    "execution": {
     "iopub.execute_input": "2020-10-05T19:57:03.136188Z",
     "iopub.status.busy": "2020-10-05T19:57:03.135484Z",
     "iopub.status.idle": "2020-10-05T19:58:12.691252Z",
     "shell.execute_reply": "2020-10-05T19:58:12.690645Z"
    },
    "papermill": {
     "duration": 69.705402,
     "end_time": "2020-10-05T19:58:12.691367",
     "exception": false,
     "start_time": "2020-10-05T19:57:02.985965",
     "status": "completed"
    },
    "tags": []
   },
   "outputs": [
    {
     "name": "stdout",
     "output_type": "stream",
     "text": [
      "Epoch 1/10\n",
      "410/410 [==============================] - 10s 22ms/step - loss: 1.1527 - accuracy: 0.8341\n",
      "Epoch 2/10\n",
      "410/410 [==============================] - 9s 21ms/step - loss: 0.2345 - accuracy: 0.9292\n",
      "Epoch 3/10\n",
      "410/410 [==============================] - 9s 21ms/step - loss: 0.1431 - accuracy: 0.9555\n",
      "Epoch 4/10\n",
      "410/410 [==============================] - 9s 21ms/step - loss: 0.1118 - accuracy: 0.9653\n",
      "Epoch 5/10\n",
      "410/410 [==============================] - 9s 21ms/step - loss: 0.0918 - accuracy: 0.9722\n",
      "Epoch 6/10\n",
      "410/410 [==============================] - 9s 21ms/step - loss: 0.0759 - accuracy: 0.9780\n",
      "Epoch 7/10\n",
      "410/410 [==============================] - 9s 21ms/step - loss: 0.0887 - accuracy: 0.9747\n",
      "Epoch 8/10\n",
      "410/410 [==============================] - 9s 21ms/step - loss: 0.0609 - accuracy: 0.9820\n",
      "Epoch 9/10\n",
      "410/410 [==============================] - 9s 21ms/step - loss: 0.0433 - accuracy: 0.9874\n",
      "Epoch 10/10\n",
      "410/410 [==============================] - 9s 21ms/step - loss: 0.0751 - accuracy: 0.9783\n"
     ]
    },
    {
     "data": {
      "text/plain": [
       "<keras.callbacks.History at 0x219a51c2040>"
      ]
     },
     "execution_count": 166,
     "metadata": {},
     "output_type": "execute_result"
    }
   ],
   "source": [
    "model_cnn.fit(X_train, y_train, epochs=10)"
   ]
  },
  {
   "cell_type": "markdown",
   "metadata": {
    "papermill": {
     "duration": 0.471606,
     "end_time": "2020-10-05T19:58:13.589367",
     "exception": false,
     "start_time": "2020-10-05T19:58:13.117761",
     "status": "completed"
    },
    "tags": []
   },
   "source": [
    "## CNN evaluation"
   ]
  },
  {
   "cell_type": "code",
   "execution_count": 167,
   "metadata": {
    "execution": {
     "iopub.execute_input": "2020-10-05T19:58:14.453851Z",
     "iopub.status.busy": "2020-10-05T19:58:14.444166Z",
     "iopub.status.idle": "2020-10-05T19:58:15.385223Z",
     "shell.execute_reply": "2020-10-05T19:58:15.384531Z"
    },
    "papermill": {
     "duration": 1.367865,
     "end_time": "2020-10-05T19:58:15.385372",
     "exception": false,
     "start_time": "2020-10-05T19:58:14.017507",
     "status": "completed"
    },
    "tags": []
   },
   "outputs": [
    {
     "name": "stdout",
     "output_type": "stream",
     "text": [
      "176/176 [==============================] - 1s 4ms/step - loss: 0.4341 - accuracy: 0.9083\n"
     ]
    }
   ],
   "source": [
    "score = model_cnn.evaluate(X_test, y_test, verbose=1)"
   ]
  },
  {
   "cell_type": "markdown",
   "metadata": {
    "papermill": {
     "duration": 0.428633,
     "end_time": "2020-10-05T19:58:16.239672",
     "exception": false,
     "start_time": "2020-10-05T19:58:15.811039",
     "status": "completed"
    },
    "tags": []
   },
   "source": [
    "CNN получает точность 91% и потерю 0,4 на тестовом наборе."
   ]
  },
  {
   "cell_type": "code",
   "execution_count": null,
   "metadata": {},
   "outputs": [],
   "source": []
  },
  {
   "cell_type": "code",
   "execution_count": null,
   "metadata": {},
   "outputs": [],
   "source": []
  }
 ],
 "metadata": {
  "kernelspec": {
   "display_name": "Python 3 (ipykernel)",
   "language": "python",
   "name": "python3"
  },
  "language_info": {
   "codemirror_mode": {
    "name": "ipython",
    "version": 3
   },
   "file_extension": ".py",
   "mimetype": "text/x-python",
   "name": "python",
   "nbconvert_exporter": "python",
   "pygments_lexer": "ipython3",
   "version": "3.9.13"
  },
  "papermill": {
   "duration": 129.869163,
   "end_time": "2020-10-05T19:58:19.353250",
   "environment_variables": {},
   "exception": null,
   "input_path": "__notebook__.ipynb",
   "output_path": "__notebook__.ipynb",
   "parameters": {},
   "start_time": "2020-10-05T19:56:09.484087",
   "version": "2.1.0"
  }
 },
 "nbformat": 4,
 "nbformat_minor": 4
}
