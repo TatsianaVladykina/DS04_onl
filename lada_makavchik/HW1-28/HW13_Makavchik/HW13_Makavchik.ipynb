{
 "cells": [
  {
   "cell_type": "code",
   "execution_count": 1,
   "metadata": {},
   "outputs": [],
   "source": [
    "import math"
   ]
  },
  {
   "cell_type": "markdown",
   "metadata": {},
   "source": [
    "В студенческой группе 23 человека. Сколькими способами можно выбрать старосту и его заместителя?"
   ]
  },
  {
   "cell_type": "code",
   "execution_count": 2,
   "metadata": {},
   "outputs": [],
   "source": [
    "A = math.factorial(23) / math.factorial(23-2)"
   ]
  },
  {
   "cell_type": "code",
   "execution_count": 3,
   "metadata": {},
   "outputs": [
    {
     "data": {
      "text/plain": [
       "506.0"
      ]
     },
     "execution_count": 3,
     "metadata": {},
     "output_type": "execute_result"
    }
   ],
   "source": [
    "A"
   ]
  },
  {
   "cell_type": "markdown",
   "metadata": {},
   "source": [
    "Студенческая группа состоит из 23 человек, среди которых 10 юношей и 13 девушек. Сколькими способами можно выбрать двух человек одного пола?"
   ]
  },
  {
   "cell_type": "code",
   "execution_count": 4,
   "metadata": {},
   "outputs": [
    {
     "data": {
      "text/plain": [
       "123.0"
      ]
     },
     "execution_count": 4,
     "metadata": {},
     "output_type": "execute_result"
    }
   ],
   "source": [
    "C2_10 = math.factorial(10) / (math.factorial(10 - 2) * math.factorial(2))\n",
    "C2_13 = math.factorial(13) / (math.factorial(13 - 2) * math.factorial(2))\n",
    "C = C2_10 + C2_13\n",
    "C"
   ]
  },
  {
   "cell_type": "markdown",
   "metadata": {},
   "source": [
    "Рассмотрим ту же студенческую группу, которая пошла на танцы. Сколькими способами можно составить пару из юноши и девушки?"
   ]
  },
  {
   "cell_type": "code",
   "execution_count": 5,
   "metadata": {},
   "outputs": [
    {
     "data": {
      "text/plain": [
       "130.0"
      ]
     },
     "execution_count": 5,
     "metadata": {},
     "output_type": "execute_result"
    }
   ],
   "source": [
    "C1_10 = math.factorial(10) / (math.factorial(10 - 1) * math.factorial(1))\n",
    "C1_13 = math.factorial(13) / (math.factorial(13 - 1) * math.factorial(1))\n",
    "C = C1_10 * C1_13\n",
    "C"
   ]
  },
  {
   "cell_type": "markdown",
   "metadata": {},
   "source": [
    "Сколькими способами можно выбрать двух юношей и двух девушек для участия в сценке КВН?"
   ]
  },
  {
   "cell_type": "code",
   "execution_count": 6,
   "metadata": {},
   "outputs": [
    {
     "data": {
      "text/plain": [
       "3510.0"
      ]
     },
     "execution_count": 6,
     "metadata": {},
     "output_type": "execute_result"
    }
   ],
   "source": [
    "C = C2_10 * C2_13\n",
    "C"
   ]
  },
  {
   "cell_type": "markdown",
   "metadata": {},
   "source": [
    "У Васи дома живут 4 кота.\n",
    "а) сколькими способами можно рассадить котов по углам комнаты?\n",
    "б) сколькими способами можно отпустить гулять котов?\n",
    "в) сколькими способами Вася может взять на руки двух котов (одного на левую, другого - на правую)"
   ]
  },
  {
   "cell_type": "code",
   "execution_count": 7,
   "metadata": {},
   "outputs": [
    {
     "data": {
      "text/plain": [
       "24"
      ]
     },
     "execution_count": 7,
     "metadata": {},
     "output_type": "execute_result"
    }
   ],
   "source": [
    "# а) сколькими способами можно рассадить котов по углам комнаты?\n",
    "P = math.factorial(4)\n",
    "P"
   ]
  },
  {
   "cell_type": "code",
   "execution_count": 8,
   "metadata": {},
   "outputs": [
    {
     "data": {
      "text/plain": [
       "15.0"
      ]
     },
     "execution_count": 8,
     "metadata": {},
     "output_type": "execute_result"
    }
   ],
   "source": [
    "# б) сколькими способами можно отпустить гулять котов?\n",
    "C1_4 = math.factorial(4)/(math.factorial(4-1) * math.factorial(1)) # отпускаем гулять только одно\n",
    "C2_4 = math.factorial(4)/(math.factorial(4-2) * math.factorial(2)) # отпускаем двоих\n",
    "C3_4 = math.factorial(4)/(math.factorial(4-3) * math.factorial(3)) # отпускаем трех котов\n",
    "C4_4 = math.factorial(4)/(math.factorial(4-4) * math.factorial(4)) # отпускаем всех котов\n",
    "C = C1_4 + C2_4 + C3_4 + C4_4\n",
    "C"
   ]
  },
  {
   "cell_type": "code",
   "execution_count": 9,
   "metadata": {},
   "outputs": [
    {
     "data": {
      "text/plain": [
       "12.0"
      ]
     },
     "execution_count": 9,
     "metadata": {},
     "output_type": "execute_result"
    }
   ],
   "source": [
    "# в) сколькими способами Вася может взять на руки двух котов (одного на левую, другого - на правую)\n",
    "A2_4 = math.factorial(4)/math.factorial(4-2)\n",
    "A2_4"
   ]
  },
  {
   "cell_type": "markdown",
   "metadata": {},
   "source": [
    "Студент знает ответы на 25 экзаменационных вопросов из 60. Какова вероятность сдать экзамен, если для этого необходимо ответить не менее чем на 2 из 3 вопросов?"
   ]
  },
  {
   "cell_type": "code",
   "execution_count": 10,
   "metadata": {},
   "outputs": [
    {
     "data": {
      "text/plain": [
       "0.37405026300409117"
      ]
     },
     "execution_count": 10,
     "metadata": {},
     "output_type": "execute_result"
    }
   ],
   "source": [
    "# ЗЗН + ЗНЗ + НЗЗ + ЗЗЗ\n",
    "25/60 * 24/59 * 35/58 + 25/60 * 35/59 * 24/58 + 35/60 * 25/59 * 24/58 + 25/60 * 24/59 * 23/58"
   ]
  },
  {
   "cell_type": "markdown",
   "metadata": {},
   "source": [
    "Из урны, в которой находится 6 белых и 4 черных шара, извлекаются наудачу один за другим три шара. Найти вероятность того, что:\n",
    "\n",
    "а) все три шара будут черными;\n",
    "\n",
    "б) будет не меньше двух шаров черного цвета."
   ]
  },
  {
   "cell_type": "code",
   "execution_count": 11,
   "metadata": {},
   "outputs": [
    {
     "data": {
      "text/plain": [
       "0.03333333333333334"
      ]
     },
     "execution_count": 11,
     "metadata": {},
     "output_type": "execute_result"
    }
   ],
   "source": [
    "# а) все три шара будут черными;\n",
    "b_3 = 4/10 * 3/9 * 2/8\n",
    "b_3"
   ]
  },
  {
   "cell_type": "code",
   "execution_count": 12,
   "metadata": {},
   "outputs": [
    {
     "data": {
      "text/plain": [
       "0.33333333333333337"
      ]
     },
     "execution_count": 12,
     "metadata": {},
     "output_type": "execute_result"
    }
   ],
   "source": [
    "# б) будет не меньше двух шаров черного цвета.\n",
    "# ЧЧБ + ЧБЧ + БЧЧ\n",
    "# вероятность 2Ч + 1Б\n",
    "b_2_w_1 = 4/10 * 3/9 * 6/8 + 4/10 * 6/9 * 3/8 + 6/10 * 4/9 * 3/8 \n",
    "b = b_3 + b_2_w_1\n",
    "b"
   ]
  }
 ],
 "metadata": {
  "kernelspec": {
   "display_name": "Python 3",
   "language": "python",
   "name": "python3"
  },
  "language_info": {
   "codemirror_mode": {
    "name": "ipython",
    "version": 3
   },
   "file_extension": ".py",
   "mimetype": "text/x-python",
   "name": "python",
   "nbconvert_exporter": "python",
   "pygments_lexer": "ipython3",
   "version": "3.8.5"
  }
 },
 "nbformat": 4,
 "nbformat_minor": 4
}
