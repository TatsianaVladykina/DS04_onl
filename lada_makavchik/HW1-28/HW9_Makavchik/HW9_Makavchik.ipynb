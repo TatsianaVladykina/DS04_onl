{
 "cells": [
  {
   "cell_type": "markdown",
   "metadata": {},
   "source": [
    "1. Создайте массивы \n",
    "a = [1., 2., 3., 4., 5., 6., 7., 8., 9.]\n",
    "b = [9., 8., 7., 6., 5., 4., 3., 2., 1.]\n",
    "с помощью конструктора np.linspace\n",
    "\n",
    "2. Сравните массивы между собой (выполните операции <, =, >)\n",
    "\n",
    "3. Выполните поэлементное умножение массивов \n",
    "\n",
    "4. Найдите среднее значение массива полученного на шаге 3\n",
    "\n",
    "5. вычтите полученное среднее на шаге 4 из массива, полученного на шаге 3\n",
    "\n",
    "6. найдите скалярное произведение массивов/векторов a и b\n",
    "\n",
    "подсказка - скалярное произведение можно посчитать так np.dot(a,b)\n",
    "\n",
    "7. преобразуйте массивы a и b в двумерные массивы размером 3х3\n",
    "\n",
    "8. примените к полученным на шаге 7 массивам функцию dot. Как вы думаете - что вы получили в результате?\n",
    "\n"
   ]
  },
  {
   "cell_type": "code",
   "execution_count": 1,
   "metadata": {},
   "outputs": [],
   "source": [
    "import numpy as np"
   ]
  },
  {
   "cell_type": "code",
   "execution_count": 2,
   "metadata": {},
   "outputs": [],
   "source": [
    "# Создайте массивы a = [1., 2., 3., 4., 5., 6., 7., 8., 9.] b = [9., 8., 7., 6., 5., 4., 3., 2., 1.]\n",
    "# с помощью конструктора np.linspace\n",
    "a = np.linspace(1, 9, 9)\n",
    "b = np.linspace(9, 1, 9)"
   ]
  },
  {
   "cell_type": "code",
   "execution_count": 3,
   "metadata": {},
   "outputs": [
    {
     "name": "stdout",
     "output_type": "stream",
     "text": [
      "[False False False False False  True  True  True  True]\n",
      "[ True  True  True  True False False False False False]\n",
      "[False False False False  True False False False False]\n"
     ]
    }
   ],
   "source": [
    "# Сравните массивы между собой (выполните операции <, =, >)\n",
    "print (a > b)\n",
    "print (a < b)\n",
    "print (a == b)"
   ]
  },
  {
   "cell_type": "code",
   "execution_count": 4,
   "metadata": {},
   "outputs": [
    {
     "name": "stdout",
     "output_type": "stream",
     "text": [
      "[ 9. 16. 21. 24. 25. 24. 21. 16.  9.]\n"
     ]
    }
   ],
   "source": [
    "# Выполните поэлементное умножение массивов\n",
    "c = a * b\n",
    "print(c)"
   ]
  },
  {
   "cell_type": "code",
   "execution_count": 5,
   "metadata": {},
   "outputs": [
    {
     "name": "stdout",
     "output_type": "stream",
     "text": [
      "18.333333333333332\n"
     ]
    }
   ],
   "source": [
    "# Найдите среднее значение массива полученного на шаге 3\n",
    "sred = c.mean()\n",
    "print(sred)"
   ]
  },
  {
   "cell_type": "code",
   "execution_count": 6,
   "metadata": {},
   "outputs": [
    {
     "name": "stdout",
     "output_type": "stream",
     "text": [
      "[-9.33333333 -2.33333333  2.66666667  5.66666667  6.66666667  5.66666667\n",
      "  2.66666667 -2.33333333 -9.33333333]\n"
     ]
    }
   ],
   "source": [
    "# вычтите полученное среднее на шаге 4 из массива, полученного на шаге 3\n",
    "print(c - sred)"
   ]
  },
  {
   "cell_type": "code",
   "execution_count": 7,
   "metadata": {},
   "outputs": [
    {
     "name": "stdout",
     "output_type": "stream",
     "text": [
      "165.0\n"
     ]
    }
   ],
   "source": [
    "# найдите скалярное произведение массивов/векторов a и b\n",
    "print(np.dot(a,b))"
   ]
  },
  {
   "cell_type": "code",
   "execution_count": 8,
   "metadata": {},
   "outputs": [
    {
     "name": "stdout",
     "output_type": "stream",
     "text": [
      "[[1. 2. 3.]\n",
      " [4. 5. 6.]\n",
      " [7. 8. 9.]]\n",
      "[[9. 8. 7.]\n",
      " [6. 5. 4.]\n",
      " [3. 2. 1.]]\n"
     ]
    }
   ],
   "source": [
    "# преобразуйте массивы a и b в двумерные массивы размером 3х3\n",
    "a1 = a.reshape(3,3)\n",
    "print(a1)\n",
    "b1 = b.reshape(3,3)\n",
    "print(b1)"
   ]
  },
  {
   "cell_type": "code",
   "execution_count": 9,
   "metadata": {},
   "outputs": [
    {
     "name": "stdout",
     "output_type": "stream",
     "text": [
      "[[ 30.  24.  18.]\n",
      " [ 84.  69.  54.]\n",
      " [138. 114.  90.]]\n"
     ]
    }
   ],
   "source": [
    "# примените к полученным на шаге 7 массивам функцию dot. Как вы думаете - что вы получили в результате?\n",
    "print(np.dot(a1,b1))\n",
    "# получили умножение матриц друг на друга (поэлементное, строка умножается на столбец)"
   ]
  },
  {
   "cell_type": "code",
   "execution_count": 11,
   "metadata": {},
   "outputs": [],
   "source": [
    "# задание из презентации\n",
    "a = np.array([55, -10, 14, 458, 33, -21, 5])\n",
    "b = np.array([89, 15, 9, 45, -22, -8, 18])\n",
    "c = np.array([42, -70, 38, 1742, 176, -68, -16])"
   ]
  },
  {
   "cell_type": "code",
   "execution_count": 12,
   "metadata": {},
   "outputs": [
    {
     "name": "stdout",
     "output_type": "stream",
     "text": [
      "[ 288   10   46 1006   22  -58   46]\n"
     ]
    }
   ],
   "source": [
    "# 2*(a+b)\n",
    "sum_a_b = a + b\n",
    "rez1 = 2 * sum_a_b\n",
    "print(rez1)"
   ]
  },
  {
   "cell_type": "code",
   "execution_count": 13,
   "metadata": {},
   "outputs": [
    {
     "name": "stdout",
     "output_type": "stream",
     "text": [
      "1119750\n"
     ]
    }
   ],
   "source": [
    "# ac+b(4c)\n",
    "c_4 = 4 * c\n",
    "ac = np.dot(a, c)\n",
    "b4c = np.dot(b, c_4)\n",
    "rez2 = ac + b4c\n",
    "print(rez2)"
   ]
  },
  {
   "cell_type": "code",
   "execution_count": 14,
   "metadata": {},
   "outputs": [
    {
     "name": "stdout",
     "output_type": "stream",
     "text": [
      "1119750\n"
     ]
    }
   ],
   "source": [
    "# или так\n",
    "print(np.dot(a, c) + np.dot(b, 4 * c))"
   ]
  },
  {
   "cell_type": "code",
   "execution_count": null,
   "metadata": {},
   "outputs": [],
   "source": []
  }
 ],
 "metadata": {
  "kernelspec": {
   "display_name": "Python 3",
   "language": "python",
   "name": "python3"
  },
  "language_info": {
   "codemirror_mode": {
    "name": "ipython",
    "version": 3
   },
   "file_extension": ".py",
   "mimetype": "text/x-python",
   "name": "python",
   "nbconvert_exporter": "python",
   "pygments_lexer": "ipython3",
   "version": "3.8.5"
  }
 },
 "nbformat": 4,
 "nbformat_minor": 5
}
