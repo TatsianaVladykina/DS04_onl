{
 "cells": [
  {
   "cell_type": "markdown",
   "metadata": {},
   "source": [
    "Задача: выполнить решение задачи по определению оценок"
   ]
  },
  {
   "cell_type": "code",
   "execution_count": 1,
   "metadata": {},
   "outputs": [],
   "source": [
    "import pandas as pd\n",
    "import numpy as np\n",
    "import tensorflow as tf\n",
    "import nltk\n",
    "from nltk.corpus import stopwords\n",
    "from nltk.tokenize import word_tokenize\n",
    "from sklearn.model_selection import train_test_split\n",
    "\n",
    "from tensorflow.keras.layers import Dense, Embedding, LSTM, Input\n",
    "from tensorflow.keras.models import Model\n",
    "from tensorflow.keras.preprocessing.text import Tokenizer\n",
    "from tensorflow.keras.preprocessing.sequence import pad_sequences"
   ]
  },
  {
   "cell_type": "code",
   "execution_count": null,
   "metadata": {},
   "outputs": [],
   "source": [
    "# nltk.download('stopwords')"
   ]
  },
  {
   "cell_type": "code",
   "execution_count": 2,
   "metadata": {},
   "outputs": [],
   "source": [
    "file_path = 'train.csv'"
   ]
  },
  {
   "cell_type": "code",
   "execution_count": 3,
   "metadata": {},
   "outputs": [],
   "source": [
    "df = pd.read_csv(file_path)"
   ]
  },
  {
   "cell_type": "code",
   "execution_count": 4,
   "metadata": {},
   "outputs": [
    {
     "data": {
      "text/html": [
       "<div>\n",
       "<style scoped>\n",
       "    .dataframe tbody tr th:only-of-type {\n",
       "        vertical-align: middle;\n",
       "    }\n",
       "\n",
       "    .dataframe tbody tr th {\n",
       "        vertical-align: top;\n",
       "    }\n",
       "\n",
       "    .dataframe thead th {\n",
       "        text-align: right;\n",
       "    }\n",
       "</style>\n",
       "<table border=\"1\" class=\"dataframe\">\n",
       "  <thead>\n",
       "    <tr style=\"text-align: right;\">\n",
       "      <th></th>\n",
       "      <th>text_id</th>\n",
       "      <th>full_text</th>\n",
       "      <th>cohesion</th>\n",
       "      <th>syntax</th>\n",
       "      <th>vocabulary</th>\n",
       "      <th>phraseology</th>\n",
       "      <th>grammar</th>\n",
       "      <th>conventions</th>\n",
       "    </tr>\n",
       "  </thead>\n",
       "  <tbody>\n",
       "    <tr>\n",
       "      <th>0</th>\n",
       "      <td>0016926B079C</td>\n",
       "      <td>I think that students would benefit from learn...</td>\n",
       "      <td>3.5</td>\n",
       "      <td>3.5</td>\n",
       "      <td>3.0</td>\n",
       "      <td>3.0</td>\n",
       "      <td>4.0</td>\n",
       "      <td>3.0</td>\n",
       "    </tr>\n",
       "    <tr>\n",
       "      <th>1</th>\n",
       "      <td>0022683E9EA5</td>\n",
       "      <td>When a problem is a change you have to let it ...</td>\n",
       "      <td>2.5</td>\n",
       "      <td>2.5</td>\n",
       "      <td>3.0</td>\n",
       "      <td>2.0</td>\n",
       "      <td>2.0</td>\n",
       "      <td>2.5</td>\n",
       "    </tr>\n",
       "    <tr>\n",
       "      <th>2</th>\n",
       "      <td>00299B378633</td>\n",
       "      <td>Dear, Principal\\n\\nIf u change the school poli...</td>\n",
       "      <td>3.0</td>\n",
       "      <td>3.5</td>\n",
       "      <td>3.0</td>\n",
       "      <td>3.0</td>\n",
       "      <td>3.0</td>\n",
       "      <td>2.5</td>\n",
       "    </tr>\n",
       "    <tr>\n",
       "      <th>3</th>\n",
       "      <td>003885A45F42</td>\n",
       "      <td>The best time in life is when you become yours...</td>\n",
       "      <td>4.5</td>\n",
       "      <td>4.5</td>\n",
       "      <td>4.5</td>\n",
       "      <td>4.5</td>\n",
       "      <td>4.0</td>\n",
       "      <td>5.0</td>\n",
       "    </tr>\n",
       "    <tr>\n",
       "      <th>4</th>\n",
       "      <td>0049B1DF5CCC</td>\n",
       "      <td>Small act of kindness can impact in other peop...</td>\n",
       "      <td>2.5</td>\n",
       "      <td>3.0</td>\n",
       "      <td>3.0</td>\n",
       "      <td>3.0</td>\n",
       "      <td>2.5</td>\n",
       "      <td>2.5</td>\n",
       "    </tr>\n",
       "  </tbody>\n",
       "</table>\n",
       "</div>"
      ],
      "text/plain": [
       "        text_id                                          full_text  cohesion  \\\n",
       "0  0016926B079C  I think that students would benefit from learn...       3.5   \n",
       "1  0022683E9EA5  When a problem is a change you have to let it ...       2.5   \n",
       "2  00299B378633  Dear, Principal\\n\\nIf u change the school poli...       3.0   \n",
       "3  003885A45F42  The best time in life is when you become yours...       4.5   \n",
       "4  0049B1DF5CCC  Small act of kindness can impact in other peop...       2.5   \n",
       "\n",
       "   syntax  vocabulary  phraseology  grammar  conventions  \n",
       "0     3.5         3.0          3.0      4.0          3.0  \n",
       "1     2.5         3.0          2.0      2.0          2.5  \n",
       "2     3.5         3.0          3.0      3.0          2.5  \n",
       "3     4.5         4.5          4.5      4.0          5.0  \n",
       "4     3.0         3.0          3.0      2.5          2.5  "
      ]
     },
     "execution_count": 4,
     "metadata": {},
     "output_type": "execute_result"
    }
   ],
   "source": [
    "df.head()"
   ]
  },
  {
   "cell_type": "code",
   "execution_count": 5,
   "metadata": {},
   "outputs": [],
   "source": [
    "X = df['full_text']"
   ]
  },
  {
   "cell_type": "code",
   "execution_count": 6,
   "metadata": {},
   "outputs": [],
   "source": [
    "Y = df[['cohesion','syntax', 'vocabulary', 'phraseology', 'grammar', 'conventions']]"
   ]
  },
  {
   "cell_type": "code",
   "execution_count": 7,
   "metadata": {},
   "outputs": [],
   "source": [
    "X_train, X_test, Y_train, Y_test = train_test_split(X, Y, test_size=0.2, random_state=42)"
   ]
  },
  {
   "cell_type": "code",
   "execution_count": 8,
   "metadata": {},
   "outputs": [],
   "source": [
    "text_data = X_train.astype(str).tolist()"
   ]
  },
  {
   "cell_type": "code",
   "execution_count": 9,
   "metadata": {},
   "outputs": [],
   "source": [
    "text_data_test = X_test.astype(str).tolist()"
   ]
  },
  {
   "cell_type": "code",
   "execution_count": 10,
   "metadata": {},
   "outputs": [],
   "source": [
    "stop_words = set(stopwords.words('english'))"
   ]
  },
  {
   "cell_type": "code",
   "execution_count": 11,
   "metadata": {},
   "outputs": [],
   "source": [
    "stop_words.remove('not')\n",
    "stop_words.remove('no')"
   ]
  },
  {
   "cell_type": "code",
   "execution_count": 12,
   "metadata": {},
   "outputs": [],
   "source": [
    "max_len = 100"
   ]
  },
  {
   "cell_type": "code",
   "execution_count": 13,
   "metadata": {},
   "outputs": [],
   "source": [
    "tokenizer = Tokenizer(oov_token=\"<OOV>\")"
   ]
  },
  {
   "cell_type": "code",
   "execution_count": 14,
   "metadata": {},
   "outputs": [],
   "source": [
    "tokenizer.fit_on_texts(text_data)"
   ]
  },
  {
   "cell_type": "code",
   "execution_count": 15,
   "metadata": {},
   "outputs": [],
   "source": [
    "sequences = tokenizer.texts_to_sequences(text_data)"
   ]
  },
  {
   "cell_type": "code",
   "execution_count": 16,
   "metadata": {},
   "outputs": [],
   "source": [
    "train_texts = pad_sequences(sequences, maxlen=max_len)"
   ]
  },
  {
   "cell_type": "code",
   "execution_count": 17,
   "metadata": {},
   "outputs": [],
   "source": [
    "test_texts = tokenizer.texts_to_sequences(text_data_test)"
   ]
  },
  {
   "cell_type": "code",
   "execution_count": 18,
   "metadata": {},
   "outputs": [],
   "source": [
    "test_texts = pad_sequences(test_texts, maxlen=max_len)"
   ]
  },
  {
   "cell_type": "code",
   "execution_count": 19,
   "metadata": {},
   "outputs": [],
   "source": [
    "input_text = Input(shape=(max_len,))\n",
    "embedding_layer = Embedding(input_dim=len(tokenizer.word_index) + 1, output_dim=128)(input_text)\n",
    "lstm_layer = LSTM(128)(embedding_layer)\n",
    "dense_layer = Dense(64, activation= 'relu')(lstm_layer)\n",
    "\n",
    "# отдельные выходные слои для каждой оценки\n",
    "output1 = Dense(1, activation='linear', name='cohesion')(dense_layer)\n",
    "output2 = Dense(1, activation='linear', name='syntax')(dense_layer)\n",
    "output3 = Dense(1, activation='linear', name='vocabulary')(dense_layer)\n",
    "output4 = Dense(1, activation='linear', name='phraseology')(dense_layer)\n",
    "output5 = Dense(1, activation='linear', name='grammar')(dense_layer)\n",
    "output6 = Dense(1, activation='linear', name='conventions')(dense_layer)"
   ]
  },
  {
   "cell_type": "code",
   "execution_count": 20,
   "metadata": {},
   "outputs": [],
   "source": [
    "model = Model(inputs=input_text, outputs=[output1, output2, output3, output4, output5, output6])"
   ]
  },
  {
   "cell_type": "code",
   "execution_count": 21,
   "metadata": {},
   "outputs": [
    {
     "name": "stdout",
     "output_type": "stream",
     "text": [
      "Model: \"model\"\n",
      "__________________________________________________________________________________________________\n",
      " Layer (type)                   Output Shape         Param #     Connected to                     \n",
      "==================================================================================================\n",
      " input_1 (InputLayer)           [(None, 100)]        0           []                               \n",
      "                                                                                                  \n",
      " embedding (Embedding)          (None, 100, 128)     2500352     ['input_1[0][0]']                \n",
      "                                                                                                  \n",
      " lstm (LSTM)                    (None, 128)          131584      ['embedding[0][0]']              \n",
      "                                                                                                  \n",
      " dense (Dense)                  (None, 64)           8256        ['lstm[0][0]']                   \n",
      "                                                                                                  \n",
      " cohesion (Dense)               (None, 1)            65          ['dense[0][0]']                  \n",
      "                                                                                                  \n",
      " syntax (Dense)                 (None, 1)            65          ['dense[0][0]']                  \n",
      "                                                                                                  \n",
      " vocabulary (Dense)             (None, 1)            65          ['dense[0][0]']                  \n",
      "                                                                                                  \n",
      " phraseology (Dense)            (None, 1)            65          ['dense[0][0]']                  \n",
      "                                                                                                  \n",
      " grammar (Dense)                (None, 1)            65          ['dense[0][0]']                  \n",
      "                                                                                                  \n",
      " conventions (Dense)            (None, 1)            65          ['dense[0][0]']                  \n",
      "                                                                                                  \n",
      "==================================================================================================\n",
      "Total params: 2,640,582\n",
      "Trainable params: 2,640,582\n",
      "Non-trainable params: 0\n",
      "__________________________________________________________________________________________________\n"
     ]
    }
   ],
   "source": [
    "model.summary()"
   ]
  },
  {
   "cell_type": "code",
   "execution_count": 22,
   "metadata": {},
   "outputs": [],
   "source": [
    "model.compile(optimizer='adam', loss={'cohesion': 'mean_squared_error',\n",
    "                                     'syntax': 'mean_squared_error',\n",
    "                                     'vocabulary': 'mean_squared_error',\n",
    "                                     'phraseology': 'mean_squared_error',\n",
    "                                     'grammar': 'mean_squared_error',\n",
    "                                     'conventions': 'mean_squared_error'})"
   ]
  },
  {
   "cell_type": "code",
   "execution_count": 23,
   "metadata": {},
   "outputs": [
    {
     "name": "stdout",
     "output_type": "stream",
     "text": [
      "Epoch 1/10\n",
      "49/49 [==============================] - 15s 239ms/step - loss: 13.4770 - cohesion_loss: 2.3193 - syntax_loss: 2.0947 - vocabulary_loss: 2.3128 - phraseology_loss: 2.2078 - grammar_loss: 2.1869 - conventions_loss: 2.3554\n",
      "Epoch 2/10\n",
      "49/49 [==============================] - 15s 315ms/step - loss: 2.5916 - cohesion_loss: 0.4513 - syntax_loss: 0.4120 - vocabulary_loss: 0.3459 - phraseology_loss: 0.4295 - grammar_loss: 0.4925 - conventions_loss: 0.4604\n",
      "Epoch 3/10\n",
      "49/49 [==============================] - 13s 265ms/step - loss: 2.5215 - cohesion_loss: 0.4342 - syntax_loss: 0.4024 - vocabulary_loss: 0.3358 - phraseology_loss: 0.4196 - grammar_loss: 0.4829 - conventions_loss: 0.4466\n",
      "Epoch 4/10\n",
      "49/49 [==============================] - 12s 238ms/step - loss: 2.3950 - cohesion_loss: 0.4126 - syntax_loss: 0.3803 - vocabulary_loss: 0.3158 - phraseology_loss: 0.4015 - grammar_loss: 0.4606 - conventions_loss: 0.4243\n",
      "Epoch 5/10\n",
      "49/49 [==============================] - 13s 267ms/step - loss: 2.2047 - cohesion_loss: 0.3795 - syntax_loss: 0.3508 - vocabulary_loss: 0.2880 - phraseology_loss: 0.3670 - grammar_loss: 0.4263 - conventions_loss: 0.3930\n",
      "Epoch 6/10\n",
      "49/49 [==============================] - 13s 263ms/step - loss: 2.0739 - cohesion_loss: 0.3622 - syntax_loss: 0.3317 - vocabulary_loss: 0.2736 - phraseology_loss: 0.3425 - grammar_loss: 0.3962 - conventions_loss: 0.3677\n",
      "Epoch 7/10\n",
      "49/49 [==============================] - 12s 236ms/step - loss: 1.9476 - cohesion_loss: 0.3393 - syntax_loss: 0.3141 - vocabulary_loss: 0.2572 - phraseology_loss: 0.3213 - grammar_loss: 0.3722 - conventions_loss: 0.3436\n",
      "Epoch 8/10\n",
      "49/49 [==============================] - 11s 219ms/step - loss: 1.7712 - cohesion_loss: 0.3121 - syntax_loss: 0.2856 - vocabulary_loss: 0.2399 - phraseology_loss: 0.2888 - grammar_loss: 0.3371 - conventions_loss: 0.3078\n",
      "Epoch 9/10\n",
      "49/49 [==============================] - 11s 228ms/step - loss: 1.4997 - cohesion_loss: 0.2647 - syntax_loss: 0.2390 - vocabulary_loss: 0.2043 - phraseology_loss: 0.2448 - grammar_loss: 0.2845 - conventions_loss: 0.2624\n",
      "Epoch 10/10\n",
      "49/49 [==============================] - 10s 212ms/step - loss: 1.3505 - cohesion_loss: 0.2424 - syntax_loss: 0.2145 - vocabulary_loss: 0.1796 - phraseology_loss: 0.2223 - grammar_loss: 0.2564 - conventions_loss: 0.2354\n"
     ]
    },
    {
     "data": {
      "text/plain": [
       "<keras.callbacks.History at 0x1f0124a16a0>"
      ]
     },
     "execution_count": 23,
     "metadata": {},
     "output_type": "execute_result"
    }
   ],
   "source": [
    "model.fit(train_texts, {'cohesion': Y_train['cohesion'], 'syntax': Y_train['syntax'], 'vocabulary': Y_train['vocabulary'], 'phraseology': Y_train['phraseology'], 'grammar': Y_train['grammar'], 'conventions': Y_train['conventions']}, epochs=10, batch_size=64)"
   ]
  },
  {
   "cell_type": "code",
   "execution_count": 24,
   "metadata": {},
   "outputs": [
    {
     "name": "stdout",
     "output_type": "stream",
     "text": [
      "25/25 [==============================] - 2s 36ms/step - loss: 2.9152 - cohesion_loss: 0.4848 - syntax_loss: 0.4810 - vocabulary_loss: 0.3822 - phraseology_loss: 0.4996 - grammar_loss: 0.5679 - conventions_loss: 0.4997\n"
     ]
    }
   ],
   "source": [
    "# оценка модели на проверочном множестве\n",
    "loss = model.evaluate(test_texts, {'cohesion': Y_test['cohesion'], 'syntax': Y_test['syntax'], 'vocabulary': Y_test['vocabulary'], 'phraseology': Y_test['phraseology'], 'grammar': Y_test['grammar'], 'conventions': Y_test['conventions']})"
   ]
  },
  {
   "cell_type": "code",
   "execution_count": null,
   "metadata": {},
   "outputs": [],
   "source": []
  }
 ],
 "metadata": {
  "kernelspec": {
   "display_name": "Python 3",
   "language": "python",
   "name": "python3"
  },
  "language_info": {
   "codemirror_mode": {
    "name": "ipython",
    "version": 3
   },
   "file_extension": ".py",
   "mimetype": "text/x-python",
   "name": "python",
   "nbconvert_exporter": "python",
   "pygments_lexer": "ipython3",
   "version": "3.8.5"
  }
 },
 "nbformat": 4,
 "nbformat_minor": 4
}
