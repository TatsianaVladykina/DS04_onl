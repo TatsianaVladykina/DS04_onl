{
 "cells": [
  {
   "cell_type": "markdown",
   "metadata": {
    "id": "9wkR1cZKRW1w"
   },
   "source": [
    "Выполнить классификацию изображений на наборе notMNIST_small"
   ]
  },
  {
   "cell_type": "code",
   "execution_count": 1,
   "metadata": {
    "executionInfo": {
     "elapsed": 4043,
     "status": "ok",
     "timestamp": 1692790948102,
     "user": {
      "displayName": "Vlada Makavchik",
      "userId": "15741521798427874948"
     },
     "user_tz": -180
    },
    "id": "7LvVBtUEbPd0"
   },
   "outputs": [],
   "source": [
    "import numpy as np\n",
    "import pandas as pd\n",
    "\n",
    "from PIL import Image\n",
    "from sklearn.model_selection import train_test_split\n",
    "\n",
    "from tensorflow.keras import models\n",
    "from tensorflow.keras import layers\n",
    "\n",
    "import os\n",
    "import random"
   ]
  },
  {
   "cell_type": "code",
   "execution_count": 2,
   "metadata": {},
   "outputs": [],
   "source": [
    "PATH = 'C:/Users/User/DS-TeachMeSkills/DS41/notMNIST_small/notMNIST_small'"
   ]
  },
  {
   "cell_type": "markdown",
   "metadata": {},
   "source": [
    "Загрузим наши данные из папок и их метки (согласно назнанию папки)"
   ]
  },
  {
   "cell_type": "code",
   "execution_count": 3,
   "metadata": {
    "executionInfo": {
     "elapsed": 31446,
     "status": "ok",
     "timestamp": 1692794395255,
     "user": {
      "displayName": "Vlada Makavchik",
      "userId": "15741521798427874948"
     },
     "user_tz": -180
    },
    "id": "faJBaw3Xrl_w"
   },
   "outputs": [],
   "source": [
    "X = []\n",
    "Y = []\n",
    "\n",
    "for directory in os.listdir(PATH):\n",
    "    for image in os.listdir(PATH + '/' + directory):\n",
    "        try:\n",
    "            path = PATH + '/' + directory + '/' + image\n",
    "            img = Image.open(path)\n",
    "            img.load()\n",
    "            img_X = np.asarray(img, dtype=np.int16)\n",
    "            X.append(img_X)\n",
    "            Y.append(directory)\n",
    "        except:\n",
    "            None\n",
    "\n",
    "X = np.asarray(X)\n",
    "Y = np.asarray(Y)"
   ]
  },
  {
   "cell_type": "code",
   "execution_count": 4,
   "metadata": {
    "colab": {
     "base_uri": "https://localhost:8080/"
    },
    "executionInfo": {
     "elapsed": 3,
     "status": "ok",
     "timestamp": 1692794401049,
     "user": {
      "displayName": "Vlada Makavchik",
      "userId": "15741521798427874948"
     },
     "user_tz": -180
    },
    "id": "YwvPXQCNr4i8",
    "outputId": "766d23bf-1bba-4a56-c897-94abeb3b3022"
   },
   "outputs": [
    {
     "data": {
      "text/plain": [
       "(18724, 28, 28)"
      ]
     },
     "execution_count": 4,
     "metadata": {},
     "output_type": "execute_result"
    }
   ],
   "source": [
    "X.shape"
   ]
  },
  {
   "cell_type": "code",
   "execution_count": 5,
   "metadata": {
    "colab": {
     "base_uri": "https://localhost:8080/"
    },
    "executionInfo": {
     "elapsed": 3,
     "status": "ok",
     "timestamp": 1692794401992,
     "user": {
      "displayName": "Vlada Makavchik",
      "userId": "15741521798427874948"
     },
     "user_tz": -180
    },
    "id": "NYwI0RPcxLi9",
    "outputId": "5e24ff30-65a0-4efa-c349-ba44c2919638"
   },
   "outputs": [
    {
     "data": {
      "text/plain": [
       "(18724,)"
      ]
     },
     "execution_count": 5,
     "metadata": {},
     "output_type": "execute_result"
    }
   ],
   "source": [
    "Y.shape"
   ]
  },
  {
   "cell_type": "markdown",
   "metadata": {},
   "source": [
    "преобразуем название наших классов в числовые значения"
   ]
  },
  {
   "cell_type": "code",
   "execution_count": 6,
   "metadata": {
    "executionInfo": {
     "elapsed": 284,
     "status": "ok",
     "timestamp": 1692794403278,
     "user": {
      "displayName": "Vlada Makavchik",
      "userId": "15741521798427874948"
     },
     "user_tz": -180
    },
    "id": "eE5t28DoxAW4"
   },
   "outputs": [],
   "source": [
    "Y = list(map(lambda x: ord(x) - ord('A'), Y))\n",
    "Y = np.asarray(Y)"
   ]
  },
  {
   "cell_type": "code",
   "execution_count": 7,
   "metadata": {
    "executionInfo": {
     "elapsed": 294,
     "status": "ok",
     "timestamp": 1692794407769,
     "user": {
      "displayName": "Vlada Makavchik",
      "userId": "15741521798427874948"
     },
     "user_tz": -180
    },
    "id": "Q3IhC24AxufD"
   },
   "outputs": [],
   "source": [
    "X_train, X_test, Y_train, Y_test = train_test_split(X, Y, test_size=0.2, random_state=42)"
   ]
  },
  {
   "cell_type": "code",
   "execution_count": 8,
   "metadata": {
    "colab": {
     "base_uri": "https://localhost:8080/"
    },
    "executionInfo": {
     "elapsed": 256,
     "status": "ok",
     "timestamp": 1692794427222,
     "user": {
      "displayName": "Vlada Makavchik",
      "userId": "15741521798427874948"
     },
     "user_tz": -180
    },
    "id": "fhZQlwidyW4x",
    "outputId": "e3abe344-3a1d-4cec-d6c6-bae3619cfbb6"
   },
   "outputs": [
    {
     "data": {
      "text/plain": [
       "(14979, 28, 28)"
      ]
     },
     "execution_count": 8,
     "metadata": {},
     "output_type": "execute_result"
    }
   ],
   "source": [
    "X_train.shape"
   ]
  },
  {
   "cell_type": "code",
   "execution_count": 9,
   "metadata": {
    "colab": {
     "base_uri": "https://localhost:8080/"
    },
    "executionInfo": {
     "elapsed": 9,
     "status": "ok",
     "timestamp": 1692794428364,
     "user": {
      "displayName": "Vlada Makavchik",
      "userId": "15741521798427874948"
     },
     "user_tz": -180
    },
    "id": "6itxeUrXya_7",
    "outputId": "3ea010f1-16e1-46c2-a785-05eaee4832b6"
   },
   "outputs": [
    {
     "data": {
      "text/plain": [
       "(3745, 28, 28)"
      ]
     },
     "execution_count": 9,
     "metadata": {},
     "output_type": "execute_result"
    }
   ],
   "source": [
    "X_test.shape"
   ]
  },
  {
   "cell_type": "code",
   "execution_count": 10,
   "metadata": {
    "executionInfo": {
     "elapsed": 1481,
     "status": "ok",
     "timestamp": 1692794431457,
     "user": {
      "displayName": "Vlada Makavchik",
      "userId": "15741521798427874948"
     },
     "user_tz": -180
    },
    "id": "VMXVW1zJydlc"
   },
   "outputs": [],
   "source": [
    "model = models.Sequential()\n",
    "\n",
    "model.add(layers.Conv2D(filters=16, kernel_size=4, activation=\"relu\", input_shape = (28, 28, 1), padding = 'same'))\n",
    "model.add(layers.MaxPooling2D(pool_size=3))\n",
    "model.add(layers.BatchNormalization())\n",
    "\n",
    "model.add(layers.Conv2D(filters=32, kernel_size=4, activation=\"relu\", padding = 'same'))\n",
    "model.add(layers.MaxPooling2D(pool_size=3))\n",
    "model.add(layers.BatchNormalization())\n",
    "\n",
    "model.add(layers.Conv2D(filters=64, kernel_size=4, activation=\"relu\", padding = 'same'))\n",
    "model.add(layers.MaxPooling2D(pool_size=3))\n",
    "model.add(layers.BatchNormalization())\n",
    "\n",
    "model.add(layers.Flatten())\n",
    "model.add(layers.Dense(10, activation=\"softmax\"))"
   ]
  },
  {
   "cell_type": "code",
   "execution_count": 11,
   "metadata": {
    "colab": {
     "base_uri": "https://localhost:8080/"
    },
    "executionInfo": {
     "elapsed": 271,
     "status": "ok",
     "timestamp": 1692794433097,
     "user": {
      "displayName": "Vlada Makavchik",
      "userId": "15741521798427874948"
     },
     "user_tz": -180
    },
    "id": "8cst0f5Qy1q1",
    "outputId": "1db5f918-9536-4f43-d993-1f6e42180db0"
   },
   "outputs": [
    {
     "name": "stdout",
     "output_type": "stream",
     "text": [
      "Model: \"sequential\"\n",
      "_________________________________________________________________\n",
      " Layer (type)                Output Shape              Param #   \n",
      "=================================================================\n",
      " conv2d (Conv2D)             (None, 28, 28, 16)        272       \n",
      "                                                                 \n",
      " max_pooling2d (MaxPooling2D  (None, 9, 9, 16)         0         \n",
      " )                                                               \n",
      "                                                                 \n",
      " batch_normalization (BatchN  (None, 9, 9, 16)         64        \n",
      " ormalization)                                                   \n",
      "                                                                 \n",
      " conv2d_1 (Conv2D)           (None, 9, 9, 32)          8224      \n",
      "                                                                 \n",
      " max_pooling2d_1 (MaxPooling  (None, 3, 3, 32)         0         \n",
      " 2D)                                                             \n",
      "                                                                 \n",
      " batch_normalization_1 (Batc  (None, 3, 3, 32)         128       \n",
      " hNormalization)                                                 \n",
      "                                                                 \n",
      " conv2d_2 (Conv2D)           (None, 3, 3, 64)          32832     \n",
      "                                                                 \n",
      " max_pooling2d_2 (MaxPooling  (None, 1, 1, 64)         0         \n",
      " 2D)                                                             \n",
      "                                                                 \n",
      " batch_normalization_2 (Batc  (None, 1, 1, 64)         256       \n",
      " hNormalization)                                                 \n",
      "                                                                 \n",
      " flatten (Flatten)           (None, 64)                0         \n",
      "                                                                 \n",
      " dense (Dense)               (None, 10)                650       \n",
      "                                                                 \n",
      "=================================================================\n",
      "Total params: 42,426\n",
      "Trainable params: 42,202\n",
      "Non-trainable params: 224\n",
      "_________________________________________________________________\n"
     ]
    }
   ],
   "source": [
    "model.summary()"
   ]
  },
  {
   "cell_type": "code",
   "execution_count": 12,
   "metadata": {
    "executionInfo": {
     "elapsed": 278,
     "status": "ok",
     "timestamp": 1692794435305,
     "user": {
      "displayName": "Vlada Makavchik",
      "userId": "15741521798427874948"
     },
     "user_tz": -180
    },
    "id": "9BStKnEuy4z5"
   },
   "outputs": [],
   "source": [
    "model.compile(loss=\"sparse_categorical_crossentropy\",\n",
    "              optimizer=\"adam\",\n",
    "              metrics=[\"accuracy\"])"
   ]
  },
  {
   "cell_type": "code",
   "execution_count": 13,
   "metadata": {
    "colab": {
     "base_uri": "https://localhost:8080/"
    },
    "executionInfo": {
     "elapsed": 42692,
     "status": "ok",
     "timestamp": 1692794479101,
     "user": {
      "displayName": "Vlada Makavchik",
      "userId": "15741521798427874948"
     },
     "user_tz": -180
    },
    "id": "KqOdG5d4zG8u",
    "outputId": "7e0922df-c38f-446e-cc80-88bf5706a716"
   },
   "outputs": [
    {
     "name": "stdout",
     "output_type": "stream",
     "text": [
      "Epoch 1/15\n",
      "235/235 [==============================] - 10s 38ms/step - loss: 0.4377 - accuracy: 0.8700 - val_loss: 0.2841 - val_accuracy: 0.9223\n",
      "Epoch 2/15\n",
      "235/235 [==============================] - 8s 34ms/step - loss: 0.2189 - accuracy: 0.9348 - val_loss: 0.2241 - val_accuracy: 0.9364\n",
      "Epoch 3/15\n",
      "235/235 [==============================] - 8s 36ms/step - loss: 0.1506 - accuracy: 0.9543 - val_loss: 0.2118 - val_accuracy: 0.9351\n",
      "Epoch 4/15\n",
      "235/235 [==============================] - 9s 36ms/step - loss: 0.1148 - accuracy: 0.9660 - val_loss: 0.1952 - val_accuracy: 0.9445\n",
      "Epoch 5/15\n",
      "235/235 [==============================] - 8s 36ms/step - loss: 0.0818 - accuracy: 0.9771 - val_loss: 0.2064 - val_accuracy: 0.9426\n",
      "Epoch 6/15\n",
      "235/235 [==============================] - 8s 34ms/step - loss: 0.0973 - accuracy: 0.9697 - val_loss: 0.2087 - val_accuracy: 0.9437\n",
      "Epoch 7/15\n",
      "235/235 [==============================] - 8s 32ms/step - loss: 0.0543 - accuracy: 0.9852 - val_loss: 0.2178 - val_accuracy: 0.9445\n",
      "Epoch 8/15\n",
      "235/235 [==============================] - 8s 35ms/step - loss: 0.0374 - accuracy: 0.9925 - val_loss: 0.2053 - val_accuracy: 0.9447\n",
      "Epoch 9/15\n",
      "235/235 [==============================] - 8s 34ms/step - loss: 0.0937 - accuracy: 0.9714 - val_loss: 0.2027 - val_accuracy: 0.9437\n",
      "Epoch 10/15\n",
      "235/235 [==============================] - 8s 36ms/step - loss: 0.0879 - accuracy: 0.9724 - val_loss: 0.2107 - val_accuracy: 0.9418\n",
      "Epoch 11/15\n",
      "235/235 [==============================] - 9s 38ms/step - loss: 0.0345 - accuracy: 0.9924 - val_loss: 0.2075 - val_accuracy: 0.9466\n",
      "Epoch 12/15\n",
      "235/235 [==============================] - 11s 46ms/step - loss: 0.0235 - accuracy: 0.9958 - val_loss: 0.2167 - val_accuracy: 0.9455\n",
      "Epoch 13/15\n",
      "235/235 [==============================] - 9s 37ms/step - loss: 0.0532 - accuracy: 0.9851 - val_loss: 0.2297 - val_accuracy: 0.9423\n",
      "Epoch 14/15\n",
      "235/235 [==============================] - 8s 34ms/step - loss: 0.0247 - accuracy: 0.9943 - val_loss: 0.2289 - val_accuracy: 0.9429\n",
      "Epoch 15/15\n",
      "235/235 [==============================] - 9s 39ms/step - loss: 0.0179 - accuracy: 0.9971 - val_loss: 0.2238 - val_accuracy: 0.9453\n"
     ]
    }
   ],
   "source": [
    "history = model.fit(X_train, Y_train ,validation_data=( X_test, Y_test), epochs=15, batch_size=64)"
   ]
  }
 ],
 "metadata": {
  "accelerator": "GPU",
  "colab": {
   "authorship_tag": "ABX9TyNhhf16Lj8wZaYJZbNYNzbw",
   "gpuType": "T4",
   "provenance": []
  },
  "kernelspec": {
   "display_name": "Python 3",
   "language": "python",
   "name": "python3"
  },
  "language_info": {
   "codemirror_mode": {
    "name": "ipython",
    "version": 3
   },
   "file_extension": ".py",
   "mimetype": "text/x-python",
   "name": "python",
   "nbconvert_exporter": "python",
   "pygments_lexer": "ipython3",
   "version": "3.8.5"
  }
 },
 "nbformat": 4,
 "nbformat_minor": 1
}
