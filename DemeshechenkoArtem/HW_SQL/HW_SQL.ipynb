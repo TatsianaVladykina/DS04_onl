{
 "cells": [
  {
   "cell_type": "code",
   "execution_count": 26,
   "id": "a2ee907c",
   "metadata": {},
   "outputs": [],
   "source": [
    "import numpy as np\n",
    "import pandas as pd\n",
    "import sqlite3\n",
    "\n",
    "from sklearn.preprocessing import OneHotEncoder\n",
    "\n",
    "DATA_PATH = 'MFOcredit.csv'"
   ]
  },
  {
   "cell_type": "code",
   "execution_count": 27,
   "id": "fa1310b3",
   "metadata": {},
   "outputs": [],
   "source": [
    "dft = pd.read_csv(DATA_PATH, encoding='cp1251', sep=';')"
   ]
  },
  {
   "cell_type": "code",
   "execution_count": 28,
   "id": "38319ff2",
   "metadata": {},
   "outputs": [],
   "source": [
    "con = sqlite3.connect('MFOcredit') #соединяемся с виртуальной базой db"
   ]
  },
  {
   "cell_type": "code",
   "execution_count": 29,
   "id": "19141049",
   "metadata": {},
   "outputs": [
    {
     "data": {
      "text/plain": [
       "35212"
      ]
     },
     "execution_count": 29,
     "metadata": {},
     "output_type": "execute_result"
    }
   ],
   "source": [
    "dft.to_sql('MFOcredit', con, index=False, if_exists='replace')\n"
   ]
  },
  {
   "cell_type": "code",
   "execution_count": 30,
   "id": "029b1ea2",
   "metadata": {},
   "outputs": [],
   "source": [
    "def select(sql):\n",
    "  return pd.read_sql(sql, con)"
   ]
  },
  {
   "cell_type": "code",
   "execution_count": 31,
   "id": "94870610",
   "metadata": {},
   "outputs": [],
   "source": [
    "sql = '''SELECT * FROM MFOcredit'''"
   ]
  },
  {
   "cell_type": "code",
   "execution_count": 32,
   "id": "d0cd7ab9",
   "metadata": {},
   "outputs": [],
   "source": [
    "df = select(sql)"
   ]
  },
  {
   "cell_type": "code",
   "execution_count": 33,
   "id": "92b3d19d",
   "metadata": {
    "scrolled": true
   },
   "outputs": [
    {
     "data": {
      "text/html": [
       "<div>\n",
       "<style scoped>\n",
       "    .dataframe tbody tr th:only-of-type {\n",
       "        vertical-align: middle;\n",
       "    }\n",
       "\n",
       "    .dataframe tbody tr th {\n",
       "        vertical-align: top;\n",
       "    }\n",
       "\n",
       "    .dataframe thead th {\n",
       "        text-align: right;\n",
       "    }\n",
       "</style>\n",
       "<table border=\"1\" class=\"dataframe\">\n",
       "  <thead>\n",
       "    <tr style=\"text-align: right;\">\n",
       "      <th></th>\n",
       "      <th>id</th>\n",
       "      <th>date_start</th>\n",
       "      <th>date_end</th>\n",
       "      <th>gender</th>\n",
       "      <th>age</th>\n",
       "      <th>auto</th>\n",
       "      <th>housing</th>\n",
       "      <th>marstatus</th>\n",
       "      <th>regclient</th>\n",
       "      <th>jobtype</th>\n",
       "      <th>region</th>\n",
       "      <th>credits</th>\n",
       "      <th>children</th>\n",
       "      <th>delinq60plus</th>\n",
       "    </tr>\n",
       "  </thead>\n",
       "  <tbody>\n",
       "    <tr>\n",
       "      <th>0</th>\n",
       "      <td>1</td>\n",
       "      <td>03-Jan-2013</td>\n",
       "      <td>12-Jan-2013</td>\n",
       "      <td>Мужской</td>\n",
       "      <td>44</td>\n",
       "      <td>Нет</td>\n",
       "      <td>Собственное</td>\n",
       "      <td>Гражданский брак/женат/замужем</td>\n",
       "      <td>Нет</td>\n",
       "      <td>Официальное</td>\n",
       "      <td>Новосибирская область</td>\n",
       "      <td>Нет</td>\n",
       "      <td>Да</td>\n",
       "      <td>Нет</td>\n",
       "    </tr>\n",
       "    <tr>\n",
       "      <th>1</th>\n",
       "      <td>2</td>\n",
       "      <td>03-Jan-2013</td>\n",
       "      <td>17-Jan-2013</td>\n",
       "      <td>Мужской</td>\n",
       "      <td>21</td>\n",
       "      <td>Пропуск поля</td>\n",
       "      <td>Живут с родителями</td>\n",
       "      <td>Холост</td>\n",
       "      <td>Нет</td>\n",
       "      <td>Официальное</td>\n",
       "      <td>Кемеровская область юг</td>\n",
       "      <td>Да</td>\n",
       "      <td>Нет</td>\n",
       "      <td>Нет</td>\n",
       "    </tr>\n",
       "    <tr>\n",
       "      <th>2</th>\n",
       "      <td>3</td>\n",
       "      <td>03-Jan-2013</td>\n",
       "      <td>17-Jan-2013</td>\n",
       "      <td>Мужской</td>\n",
       "      <td>25</td>\n",
       "      <td>Пропуск поля</td>\n",
       "      <td>Собственное</td>\n",
       "      <td>Холост</td>\n",
       "      <td>Да</td>\n",
       "      <td>Официальное</td>\n",
       "      <td>Кемеровская область север</td>\n",
       "      <td>Пропуск поля</td>\n",
       "      <td>Нет</td>\n",
       "      <td>Нет</td>\n",
       "    </tr>\n",
       "    <tr>\n",
       "      <th>3</th>\n",
       "      <td>4</td>\n",
       "      <td>03-Jan-2013</td>\n",
       "      <td>17-Jan-2013</td>\n",
       "      <td>Женский</td>\n",
       "      <td>47</td>\n",
       "      <td>Пропуск поля</td>\n",
       "      <td>Собственное</td>\n",
       "      <td>Гражданский брак/женат/замужем</td>\n",
       "      <td>Да</td>\n",
       "      <td>Официальное</td>\n",
       "      <td>Кемеровская область север</td>\n",
       "      <td>Нет</td>\n",
       "      <td>Нет</td>\n",
       "      <td>Нет</td>\n",
       "    </tr>\n",
       "    <tr>\n",
       "      <th>4</th>\n",
       "      <td>5</td>\n",
       "      <td>03-Jan-2013</td>\n",
       "      <td>17-Jan-2013</td>\n",
       "      <td>Мужской</td>\n",
       "      <td>22</td>\n",
       "      <td>Нет</td>\n",
       "      <td>Арендуемое</td>\n",
       "      <td>Гражданский брак/женат/замужем</td>\n",
       "      <td>Нет</td>\n",
       "      <td>Официальное</td>\n",
       "      <td>Кемеровская область север</td>\n",
       "      <td>Да</td>\n",
       "      <td>Да</td>\n",
       "      <td>Нет</td>\n",
       "    </tr>\n",
       "  </tbody>\n",
       "</table>\n",
       "</div>"
      ],
      "text/plain": [
       "   id   date_start     date_end   gender  age          auto  \\\n",
       "0   1  03-Jan-2013  12-Jan-2013  Мужской   44           Нет   \n",
       "1   2  03-Jan-2013  17-Jan-2013  Мужской   21  Пропуск поля   \n",
       "2   3  03-Jan-2013  17-Jan-2013  Мужской   25  Пропуск поля   \n",
       "3   4  03-Jan-2013  17-Jan-2013  Женский   47  Пропуск поля   \n",
       "4   5  03-Jan-2013  17-Jan-2013  Мужской   22           Нет   \n",
       "\n",
       "              housing                       marstatus regclient      jobtype  \\\n",
       "0         Собственное  Гражданский брак/женат/замужем       Нет  Официальное   \n",
       "1  Живут с родителями                          Холост       Нет  Официальное   \n",
       "2         Собственное                          Холост        Да  Официальное   \n",
       "3         Собственное  Гражданский брак/женат/замужем        Да  Официальное   \n",
       "4          Арендуемое  Гражданский брак/женат/замужем       Нет  Официальное   \n",
       "\n",
       "                      region       credits children delinq60plus  \n",
       "0      Новосибирская область           Нет       Да          Нет  \n",
       "1     Кемеровская область юг            Да      Нет          Нет  \n",
       "2  Кемеровская область север  Пропуск поля      Нет          Нет  \n",
       "3  Кемеровская область север           Нет      Нет          Нет  \n",
       "4  Кемеровская область север            Да       Да          Нет  "
      ]
     },
     "execution_count": 33,
     "metadata": {},
     "output_type": "execute_result"
    }
   ],
   "source": [
    "df.head(5)"
   ]
  },
  {
   "cell_type": "code",
   "execution_count": 34,
   "id": "8cda9ef8",
   "metadata": {},
   "outputs": [
    {
     "data": {
      "text/plain": [
       "(35212, 14)"
      ]
     },
     "execution_count": 34,
     "metadata": {},
     "output_type": "execute_result"
    }
   ],
   "source": [
    "df.shape"
   ]
  },
  {
   "cell_type": "code",
   "execution_count": 35,
   "id": "d6d66bea",
   "metadata": {},
   "outputs": [
    {
     "name": "stdout",
     "output_type": "stream",
     "text": [
      "<class 'pandas.core.frame.DataFrame'>\n",
      "RangeIndex: 35212 entries, 0 to 35211\n",
      "Data columns (total 14 columns):\n",
      " #   Column        Non-Null Count  Dtype \n",
      "---  ------        --------------  ----- \n",
      " 0   id            35212 non-null  int64 \n",
      " 1   date_start    35212 non-null  object\n",
      " 2   date_end      35212 non-null  object\n",
      " 3   gender        35212 non-null  object\n",
      " 4   age           35212 non-null  int64 \n",
      " 5   auto          35212 non-null  object\n",
      " 6   housing       35212 non-null  object\n",
      " 7   marstatus     35212 non-null  object\n",
      " 8   regclient     35212 non-null  object\n",
      " 9   jobtype       35212 non-null  object\n",
      " 10  region        35212 non-null  object\n",
      " 11  credits       35212 non-null  object\n",
      " 12  children      35212 non-null  object\n",
      " 13  delinq60plus  35212 non-null  object\n",
      "dtypes: int64(2), object(12)\n",
      "memory usage: 3.8+ MB\n"
     ]
    }
   ],
   "source": [
    "df.info()\n",
    "# отстутствуют нулевые значения\n",
    "# 11 объектов, которые необходимо обработать"
   ]
  },
  {
   "cell_type": "code",
   "execution_count": 10,
   "id": "2a5b1989",
   "metadata": {},
   "outputs": [
    {
     "data": {
      "text/plain": [
       "Да     19733\n",
       "Нет    15479\n",
       "Name: regclient, dtype: int64"
      ]
     },
     "execution_count": 10,
     "metadata": {},
     "output_type": "execute_result"
    }
   ],
   "source": [
    "df['regclient'].value_counts()"
   ]
  },
  {
   "cell_type": "code",
   "execution_count": 11,
   "id": "904a258f",
   "metadata": {},
   "outputs": [
    {
     "data": {
      "text/plain": [
       "Официальное      19588\n",
       "Пропуск поля     14457\n",
       "Неофициальное     1167\n",
       "Name: jobtype, dtype: int64"
      ]
     },
     "execution_count": 11,
     "metadata": {},
     "output_type": "execute_result"
    }
   ],
   "source": [
    "df['jobtype'].value_counts()"
   ]
  },
  {
   "cell_type": "code",
   "execution_count": 12,
   "id": "7cf9cba6",
   "metadata": {},
   "outputs": [
    {
     "data": {
      "text/plain": [
       "Нет             18126\n",
       "Да              16140\n",
       "Пропуск поля      946\n",
       "Name: credits, dtype: int64"
      ]
     },
     "execution_count": 12,
     "metadata": {},
     "output_type": "execute_result"
    }
   ],
   "source": [
    "df['credits'].value_counts()"
   ]
  },
  {
   "cell_type": "code",
   "execution_count": 13,
   "id": "e6619e0a",
   "metadata": {},
   "outputs": [
    {
     "data": {
      "text/plain": [
       "Нет    21705\n",
       "Да     13507\n",
       "Name: delinq60plus, dtype: int64"
      ]
     },
     "execution_count": 13,
     "metadata": {},
     "output_type": "execute_result"
    }
   ],
   "source": [
    "df['delinq60plus'].value_counts()"
   ]
  },
  {
   "cell_type": "code",
   "execution_count": 14,
   "id": "525cd87d",
   "metadata": {},
   "outputs": [
    {
     "data": {
      "text/plain": [
       "Нет             17465\n",
       "Пропуск поля    14077\n",
       "Да               3670\n",
       "Name: auto, dtype: int64"
      ]
     },
     "execution_count": 14,
     "metadata": {},
     "output_type": "execute_result"
    }
   ],
   "source": [
    "df['auto'].value_counts()"
   ]
  },
  {
   "cell_type": "code",
   "execution_count": 15,
   "id": "24769427",
   "metadata": {},
   "outputs": [
    {
     "data": {
      "text/plain": [
       "Гражданский брак/женат/замужем    14099\n",
       "Холост                             8833\n",
       "Пропуск поля                       7564\n",
       "Разведен                           2871\n",
       "Вдова/вдовец                       1845\n",
       "Name: marstatus, dtype: int64"
      ]
     },
     "execution_count": 15,
     "metadata": {},
     "output_type": "execute_result"
    }
   ],
   "source": [
    "df['marstatus'].value_counts()"
   ]
  },
  {
   "cell_type": "code",
   "execution_count": 16,
   "id": "e41c3886",
   "metadata": {},
   "outputs": [
    {
     "data": {
      "text/plain": [
       "Собственное              18099\n",
       "Пропуск поля              7603\n",
       "Живут с родителями        3177\n",
       "Долевая собственность     2955\n",
       "Арендуемое                2020\n",
       "Муниципальное             1358\n",
       "Name: housing, dtype: int64"
      ]
     },
     "execution_count": 16,
     "metadata": {},
     "output_type": "execute_result"
    }
   ],
   "source": [
    "df['housing'].value_counts()"
   ]
  },
  {
   "cell_type": "code",
   "execution_count": 17,
   "id": "03af1057",
   "metadata": {},
   "outputs": [
    {
     "data": {
      "text/plain": [
       "Нет             21141\n",
       "Да              13326\n",
       "Пропуск поля      745\n",
       "Name: children, dtype: int64"
      ]
     },
     "execution_count": 17,
     "metadata": {},
     "output_type": "execute_result"
    }
   ],
   "source": [
    "df['children'].value_counts()"
   ]
  },
  {
   "cell_type": "code",
   "execution_count": 36,
   "id": "5c9e1b7f",
   "metadata": {},
   "outputs": [],
   "source": [
    "df['delinq60plus'] = df['delinq60plus'].map({'Да': 1, 'Нет': 0})\n",
    "df['regclient'] = df['regclient'].map({'Да': 1, 'Нет': 0})\n",
    "df['gender'] = df['gender'].map({'Мужской': 1, 'Женский': 0})"
   ]
  },
  {
   "cell_type": "code",
   "execution_count": 37,
   "id": "fce493de",
   "metadata": {},
   "outputs": [
    {
     "data": {
      "text/html": [
       "<div>\n",
       "<style scoped>\n",
       "    .dataframe tbody tr th:only-of-type {\n",
       "        vertical-align: middle;\n",
       "    }\n",
       "\n",
       "    .dataframe tbody tr th {\n",
       "        vertical-align: top;\n",
       "    }\n",
       "\n",
       "    .dataframe thead th {\n",
       "        text-align: right;\n",
       "    }\n",
       "</style>\n",
       "<table border=\"1\" class=\"dataframe\">\n",
       "  <thead>\n",
       "    <tr style=\"text-align: right;\">\n",
       "      <th></th>\n",
       "      <th>id</th>\n",
       "      <th>date_start</th>\n",
       "      <th>date_end</th>\n",
       "      <th>gender</th>\n",
       "      <th>age</th>\n",
       "      <th>auto</th>\n",
       "      <th>housing</th>\n",
       "      <th>marstatus</th>\n",
       "      <th>regclient</th>\n",
       "      <th>jobtype</th>\n",
       "      <th>region</th>\n",
       "      <th>credits</th>\n",
       "      <th>children</th>\n",
       "      <th>delinq60plus</th>\n",
       "    </tr>\n",
       "  </thead>\n",
       "  <tbody>\n",
       "    <tr>\n",
       "      <th>0</th>\n",
       "      <td>1</td>\n",
       "      <td>03-Jan-2013</td>\n",
       "      <td>12-Jan-2013</td>\n",
       "      <td>1</td>\n",
       "      <td>44</td>\n",
       "      <td>Нет</td>\n",
       "      <td>Собственное</td>\n",
       "      <td>Гражданский брак/женат/замужем</td>\n",
       "      <td>0</td>\n",
       "      <td>Официальное</td>\n",
       "      <td>Новосибирская область</td>\n",
       "      <td>Нет</td>\n",
       "      <td>Да</td>\n",
       "      <td>0</td>\n",
       "    </tr>\n",
       "    <tr>\n",
       "      <th>1</th>\n",
       "      <td>2</td>\n",
       "      <td>03-Jan-2013</td>\n",
       "      <td>17-Jan-2013</td>\n",
       "      <td>1</td>\n",
       "      <td>21</td>\n",
       "      <td>Пропуск поля</td>\n",
       "      <td>Живут с родителями</td>\n",
       "      <td>Холост</td>\n",
       "      <td>0</td>\n",
       "      <td>Официальное</td>\n",
       "      <td>Кемеровская область юг</td>\n",
       "      <td>Да</td>\n",
       "      <td>Нет</td>\n",
       "      <td>0</td>\n",
       "    </tr>\n",
       "    <tr>\n",
       "      <th>2</th>\n",
       "      <td>3</td>\n",
       "      <td>03-Jan-2013</td>\n",
       "      <td>17-Jan-2013</td>\n",
       "      <td>1</td>\n",
       "      <td>25</td>\n",
       "      <td>Пропуск поля</td>\n",
       "      <td>Собственное</td>\n",
       "      <td>Холост</td>\n",
       "      <td>1</td>\n",
       "      <td>Официальное</td>\n",
       "      <td>Кемеровская область север</td>\n",
       "      <td>Пропуск поля</td>\n",
       "      <td>Нет</td>\n",
       "      <td>0</td>\n",
       "    </tr>\n",
       "    <tr>\n",
       "      <th>3</th>\n",
       "      <td>4</td>\n",
       "      <td>03-Jan-2013</td>\n",
       "      <td>17-Jan-2013</td>\n",
       "      <td>0</td>\n",
       "      <td>47</td>\n",
       "      <td>Пропуск поля</td>\n",
       "      <td>Собственное</td>\n",
       "      <td>Гражданский брак/женат/замужем</td>\n",
       "      <td>1</td>\n",
       "      <td>Официальное</td>\n",
       "      <td>Кемеровская область север</td>\n",
       "      <td>Нет</td>\n",
       "      <td>Нет</td>\n",
       "      <td>0</td>\n",
       "    </tr>\n",
       "    <tr>\n",
       "      <th>4</th>\n",
       "      <td>5</td>\n",
       "      <td>03-Jan-2013</td>\n",
       "      <td>17-Jan-2013</td>\n",
       "      <td>1</td>\n",
       "      <td>22</td>\n",
       "      <td>Нет</td>\n",
       "      <td>Арендуемое</td>\n",
       "      <td>Гражданский брак/женат/замужем</td>\n",
       "      <td>0</td>\n",
       "      <td>Официальное</td>\n",
       "      <td>Кемеровская область север</td>\n",
       "      <td>Да</td>\n",
       "      <td>Да</td>\n",
       "      <td>0</td>\n",
       "    </tr>\n",
       "  </tbody>\n",
       "</table>\n",
       "</div>"
      ],
      "text/plain": [
       "   id   date_start     date_end  gender  age          auto  \\\n",
       "0   1  03-Jan-2013  12-Jan-2013       1   44           Нет   \n",
       "1   2  03-Jan-2013  17-Jan-2013       1   21  Пропуск поля   \n",
       "2   3  03-Jan-2013  17-Jan-2013       1   25  Пропуск поля   \n",
       "3   4  03-Jan-2013  17-Jan-2013       0   47  Пропуск поля   \n",
       "4   5  03-Jan-2013  17-Jan-2013       1   22           Нет   \n",
       "\n",
       "              housing                       marstatus  regclient      jobtype  \\\n",
       "0         Собственное  Гражданский брак/женат/замужем          0  Официальное   \n",
       "1  Живут с родителями                          Холост          0  Официальное   \n",
       "2         Собственное                          Холост          1  Официальное   \n",
       "3         Собственное  Гражданский брак/женат/замужем          1  Официальное   \n",
       "4          Арендуемое  Гражданский брак/женат/замужем          0  Официальное   \n",
       "\n",
       "                      region       credits children  delinq60plus  \n",
       "0      Новосибирская область           Нет       Да             0  \n",
       "1     Кемеровская область юг            Да      Нет             0  \n",
       "2  Кемеровская область север  Пропуск поля      Нет             0  \n",
       "3  Кемеровская область север           Нет      Нет             0  \n",
       "4  Кемеровская область север            Да       Да             0  "
      ]
     },
     "execution_count": 37,
     "metadata": {},
     "output_type": "execute_result"
    }
   ],
   "source": [
    "df.head()"
   ]
  },
  {
   "cell_type": "code",
   "execution_count": 38,
   "id": "4c97d6cf",
   "metadata": {},
   "outputs": [],
   "source": [
    "#разобъём дату на отдельные данные (года, месяца, дни, кварталы)\n",
    "date_start = pd.to_datetime(df['date_start'])\n",
    "date_end = pd.to_datetime(df['date_end'])\n",
    "\n",
    "df.insert(0, 'start_year', date_start.dt.year)\n",
    "df.insert(1, 'start_quart', date_start.dt.quarter)\n",
    "df.insert(2, 'start_month', date_start.dt.month)\n",
    "df.insert(3, 'start_day', date_start.dt.day)\n",
    "\n",
    "df.insert(4, 'end_year', date_end.dt.year)\n",
    "df.insert(5, 'end_quart', date_end.dt.quarter)\n",
    "df.insert(6, 'end_month', date_end.dt.month)\n",
    "df.insert(7, 'end_day', date_end.dt.day)\n",
    "\n",
    "# добавим продолжительность\n",
    "df.insert(8, 'loang_term', (date_end-date_start).dt.days)\n"
   ]
  },
  {
   "cell_type": "code",
   "execution_count": 39,
   "id": "0af18418",
   "metadata": {},
   "outputs": [
    {
     "data": {
      "text/html": [
       "<div>\n",
       "<style scoped>\n",
       "    .dataframe tbody tr th:only-of-type {\n",
       "        vertical-align: middle;\n",
       "    }\n",
       "\n",
       "    .dataframe tbody tr th {\n",
       "        vertical-align: top;\n",
       "    }\n",
       "\n",
       "    .dataframe thead th {\n",
       "        text-align: right;\n",
       "    }\n",
       "</style>\n",
       "<table border=\"1\" class=\"dataframe\">\n",
       "  <thead>\n",
       "    <tr style=\"text-align: right;\">\n",
       "      <th></th>\n",
       "      <th>start_year</th>\n",
       "      <th>start_quart</th>\n",
       "      <th>start_month</th>\n",
       "      <th>start_day</th>\n",
       "      <th>end_year</th>\n",
       "      <th>end_quart</th>\n",
       "      <th>end_month</th>\n",
       "      <th>end_day</th>\n",
       "      <th>loang_term</th>\n",
       "      <th>id</th>\n",
       "      <th>...</th>\n",
       "      <th>age</th>\n",
       "      <th>auto</th>\n",
       "      <th>housing</th>\n",
       "      <th>marstatus</th>\n",
       "      <th>regclient</th>\n",
       "      <th>jobtype</th>\n",
       "      <th>region</th>\n",
       "      <th>credits</th>\n",
       "      <th>children</th>\n",
       "      <th>delinq60plus</th>\n",
       "    </tr>\n",
       "  </thead>\n",
       "  <tbody>\n",
       "    <tr>\n",
       "      <th>0</th>\n",
       "      <td>2013</td>\n",
       "      <td>1</td>\n",
       "      <td>1</td>\n",
       "      <td>3</td>\n",
       "      <td>2013</td>\n",
       "      <td>1</td>\n",
       "      <td>1</td>\n",
       "      <td>12</td>\n",
       "      <td>9</td>\n",
       "      <td>1</td>\n",
       "      <td>...</td>\n",
       "      <td>44</td>\n",
       "      <td>Нет</td>\n",
       "      <td>Собственное</td>\n",
       "      <td>Гражданский брак/женат/замужем</td>\n",
       "      <td>0</td>\n",
       "      <td>Официальное</td>\n",
       "      <td>Новосибирская область</td>\n",
       "      <td>Нет</td>\n",
       "      <td>Да</td>\n",
       "      <td>0</td>\n",
       "    </tr>\n",
       "    <tr>\n",
       "      <th>1</th>\n",
       "      <td>2013</td>\n",
       "      <td>1</td>\n",
       "      <td>1</td>\n",
       "      <td>3</td>\n",
       "      <td>2013</td>\n",
       "      <td>1</td>\n",
       "      <td>1</td>\n",
       "      <td>17</td>\n",
       "      <td>14</td>\n",
       "      <td>2</td>\n",
       "      <td>...</td>\n",
       "      <td>21</td>\n",
       "      <td>Пропуск поля</td>\n",
       "      <td>Живут с родителями</td>\n",
       "      <td>Холост</td>\n",
       "      <td>0</td>\n",
       "      <td>Официальное</td>\n",
       "      <td>Кемеровская область юг</td>\n",
       "      <td>Да</td>\n",
       "      <td>Нет</td>\n",
       "      <td>0</td>\n",
       "    </tr>\n",
       "    <tr>\n",
       "      <th>2</th>\n",
       "      <td>2013</td>\n",
       "      <td>1</td>\n",
       "      <td>1</td>\n",
       "      <td>3</td>\n",
       "      <td>2013</td>\n",
       "      <td>1</td>\n",
       "      <td>1</td>\n",
       "      <td>17</td>\n",
       "      <td>14</td>\n",
       "      <td>3</td>\n",
       "      <td>...</td>\n",
       "      <td>25</td>\n",
       "      <td>Пропуск поля</td>\n",
       "      <td>Собственное</td>\n",
       "      <td>Холост</td>\n",
       "      <td>1</td>\n",
       "      <td>Официальное</td>\n",
       "      <td>Кемеровская область север</td>\n",
       "      <td>Пропуск поля</td>\n",
       "      <td>Нет</td>\n",
       "      <td>0</td>\n",
       "    </tr>\n",
       "    <tr>\n",
       "      <th>3</th>\n",
       "      <td>2013</td>\n",
       "      <td>1</td>\n",
       "      <td>1</td>\n",
       "      <td>3</td>\n",
       "      <td>2013</td>\n",
       "      <td>1</td>\n",
       "      <td>1</td>\n",
       "      <td>17</td>\n",
       "      <td>14</td>\n",
       "      <td>4</td>\n",
       "      <td>...</td>\n",
       "      <td>47</td>\n",
       "      <td>Пропуск поля</td>\n",
       "      <td>Собственное</td>\n",
       "      <td>Гражданский брак/женат/замужем</td>\n",
       "      <td>1</td>\n",
       "      <td>Официальное</td>\n",
       "      <td>Кемеровская область север</td>\n",
       "      <td>Нет</td>\n",
       "      <td>Нет</td>\n",
       "      <td>0</td>\n",
       "    </tr>\n",
       "    <tr>\n",
       "      <th>4</th>\n",
       "      <td>2013</td>\n",
       "      <td>1</td>\n",
       "      <td>1</td>\n",
       "      <td>3</td>\n",
       "      <td>2013</td>\n",
       "      <td>1</td>\n",
       "      <td>1</td>\n",
       "      <td>17</td>\n",
       "      <td>14</td>\n",
       "      <td>5</td>\n",
       "      <td>...</td>\n",
       "      <td>22</td>\n",
       "      <td>Нет</td>\n",
       "      <td>Арендуемое</td>\n",
       "      <td>Гражданский брак/женат/замужем</td>\n",
       "      <td>0</td>\n",
       "      <td>Официальное</td>\n",
       "      <td>Кемеровская область север</td>\n",
       "      <td>Да</td>\n",
       "      <td>Да</td>\n",
       "      <td>0</td>\n",
       "    </tr>\n",
       "  </tbody>\n",
       "</table>\n",
       "<p>5 rows × 23 columns</p>\n",
       "</div>"
      ],
      "text/plain": [
       "   start_year  start_quart  start_month  start_day  end_year  end_quart  \\\n",
       "0        2013            1            1          3      2013          1   \n",
       "1        2013            1            1          3      2013          1   \n",
       "2        2013            1            1          3      2013          1   \n",
       "3        2013            1            1          3      2013          1   \n",
       "4        2013            1            1          3      2013          1   \n",
       "\n",
       "   end_month  end_day  loang_term  id  ... age          auto  \\\n",
       "0          1       12           9   1  ...  44           Нет   \n",
       "1          1       17          14   2  ...  21  Пропуск поля   \n",
       "2          1       17          14   3  ...  25  Пропуск поля   \n",
       "3          1       17          14   4  ...  47  Пропуск поля   \n",
       "4          1       17          14   5  ...  22           Нет   \n",
       "\n",
       "              housing                       marstatus regclient      jobtype  \\\n",
       "0         Собственное  Гражданский брак/женат/замужем         0  Официальное   \n",
       "1  Живут с родителями                          Холост         0  Официальное   \n",
       "2         Собственное                          Холост         1  Официальное   \n",
       "3         Собственное  Гражданский брак/женат/замужем         1  Официальное   \n",
       "4          Арендуемое  Гражданский брак/женат/замужем         0  Официальное   \n",
       "\n",
       "                      region       credits children delinq60plus  \n",
       "0      Новосибирская область           Нет       Да            0  \n",
       "1     Кемеровская область юг            Да      Нет            0  \n",
       "2  Кемеровская область север  Пропуск поля      Нет            0  \n",
       "3  Кемеровская область север           Нет      Нет            0  \n",
       "4  Кемеровская область север            Да       Да            0  \n",
       "\n",
       "[5 rows x 23 columns]"
      ]
     },
     "execution_count": 39,
     "metadata": {},
     "output_type": "execute_result"
    }
   ],
   "source": [
    "df.head()"
   ]
  },
  {
   "cell_type": "code",
   "execution_count": 40,
   "id": "0e416973",
   "metadata": {},
   "outputs": [],
   "source": [
    "# разобьём категориальные признаки marstatus\n",
    "h_cat_en, h_categories = df['marstatus'].factorize() # изменяем столбец объектов, присваиваем значения от 0 до кол-ва категорий"
   ]
  },
  {
   "cell_type": "code",
   "execution_count": 41,
   "id": "5c2fe835",
   "metadata": {},
   "outputs": [
    {
     "data": {
      "text/plain": [
       "array([0, 1, 1, ..., 3, 3, 3], dtype=int64)"
      ]
     },
     "execution_count": 41,
     "metadata": {},
     "output_type": "execute_result"
    }
   ],
   "source": [
    "h_cat_en"
   ]
  },
  {
   "cell_type": "code",
   "execution_count": 42,
   "id": "8b9035fd",
   "metadata": {},
   "outputs": [
    {
     "data": {
      "text/plain": [
       "Index(['Гражданский брак/женат/замужем', 'Холост', 'Разведен', 'Пропуск поля',\n",
       "       'Вдова/вдовец'],\n",
       "      dtype='object')"
      ]
     },
     "execution_count": 42,
     "metadata": {},
     "output_type": "execute_result"
    }
   ],
   "source": [
    "h_categories"
   ]
  },
  {
   "cell_type": "code",
   "execution_count": 43,
   "id": "26b9f886",
   "metadata": {},
   "outputs": [],
   "source": [
    "coded = OneHotEncoder().fit_transform(h_cat_en.reshape(-1,1))"
   ]
  },
  {
   "cell_type": "code",
   "execution_count": 44,
   "id": "19ef2070",
   "metadata": {},
   "outputs": [
    {
     "data": {
      "text/plain": [
       "array([[1., 0., 0., 0., 0.],\n",
       "       [0., 1., 0., 0., 0.],\n",
       "       [0., 1., 0., 0., 0.],\n",
       "       ...,\n",
       "       [0., 0., 0., 1., 0.],\n",
       "       [0., 0., 0., 1., 0.],\n",
       "       [0., 0., 0., 1., 0.]])"
      ]
     },
     "execution_count": 44,
     "metadata": {},
     "output_type": "execute_result"
    }
   ],
   "source": [
    "coded.toarray()"
   ]
  },
  {
   "cell_type": "code",
   "execution_count": 45,
   "id": "22982873",
   "metadata": {},
   "outputs": [],
   "source": [
    "proxy = pd.DataFrame(coded.toarray(), index = df.index, columns = ['mar','unmar','b_mar', 'skip_mar', 'd_mar'])\n",
    "# создаём таблицу новых значений из категорий"
   ]
  },
  {
   "cell_type": "code",
   "execution_count": 46,
   "id": "5f7d67f7",
   "metadata": {},
   "outputs": [],
   "source": [
    "df = pd.concat([df, proxy], axis = 1)\n",
    "# добавляем таблицу значений категорий в основную таблицу"
   ]
  },
  {
   "cell_type": "code",
   "execution_count": 47,
   "id": "5b5e3365",
   "metadata": {},
   "outputs": [
    {
     "name": "stdout",
     "output_type": "stream",
     "text": [
      "[0 0 0 ... 2 2 2]\n",
      "Index(['Официальное', 'Неофициальное', 'Пропуск поля'], dtype='object')\n"
     ]
    }
   ],
   "source": [
    "# работу\n",
    "h_cat_en, h_categories = df['jobtype'].factorize()\n",
    "print(h_cat_en)\n",
    "print(h_categories)"
   ]
  },
  {
   "cell_type": "code",
   "execution_count": 48,
   "id": "bd45e0ce",
   "metadata": {},
   "outputs": [],
   "source": [
    "coded = OneHotEncoder().fit_transform(h_cat_en.reshape(-1,1))\n",
    "coded.toarray()\n",
    "proxy = pd.DataFrame(coded.toarray(), index = df.index, columns = ['oficial_job','unoficial_job', 'skip_job'])\n",
    "df = pd.concat([df, proxy], axis = 1)"
   ]
  },
  {
   "cell_type": "code",
   "execution_count": 49,
   "id": "03739183",
   "metadata": {},
   "outputs": [
    {
     "name": "stdout",
     "output_type": "stream",
     "text": [
      "[0 1 2 ... 0 0 0]\n",
      "Index(['Нет', 'Да', 'Пропуск поля'], dtype='object')\n"
     ]
    }
   ],
   "source": [
    "# кредит\n",
    "h_cat_en, h_categories = df['credits'].factorize()\n",
    "print(h_cat_en)\n",
    "print(h_categories)"
   ]
  },
  {
   "cell_type": "code",
   "execution_count": 50,
   "id": "dbe00850",
   "metadata": {},
   "outputs": [],
   "source": [
    "coded = OneHotEncoder().fit_transform(h_cat_en.reshape(-1,1))\n",
    "coded.toarray()\n",
    "proxy = pd.DataFrame(coded.toarray(), index = df.index, columns = ['no_credits','yes_credits', 'skip_credits'])\n",
    "df = pd.concat([df, proxy], axis = 1)"
   ]
  },
  {
   "cell_type": "code",
   "execution_count": 51,
   "id": "256b0512",
   "metadata": {},
   "outputs": [
    {
     "name": "stdout",
     "output_type": "stream",
     "text": [
      "[0 1 1 ... 1 1 1]\n",
      "Index(['Нет', 'Пропуск поля', 'Да'], dtype='object')\n"
     ]
    }
   ],
   "source": [
    "# машина\n",
    "h_cat_en, h_categories = df['auto'].factorize()\n",
    "print(h_cat_en)\n",
    "print(h_categories)"
   ]
  },
  {
   "cell_type": "code",
   "execution_count": 52,
   "id": "7a6feb51",
   "metadata": {},
   "outputs": [],
   "source": [
    "coded = OneHotEncoder().fit_transform(h_cat_en.reshape(-1,1))\n",
    "coded.toarray()\n",
    "proxy = pd.DataFrame(coded.toarray(), index = df.index, columns = ['no_auto','skip_auto', 'yes_auto'])\n",
    "df = pd.concat([df, proxy], axis = 1)"
   ]
  },
  {
   "cell_type": "code",
   "execution_count": 53,
   "id": "74452554",
   "metadata": {},
   "outputs": [
    {
     "name": "stdout",
     "output_type": "stream",
     "text": [
      "[0 1 0 ... 3 3 3]\n",
      "Index(['Собственное', 'Живут с родителями', 'Арендуемое', 'Пропуск поля',\n",
      "       'Муниципальное', 'Долевая собственность'],\n",
      "      dtype='object')\n"
     ]
    }
   ],
   "source": [
    "# жильё\n",
    "h_cat_en, h_categories = df['housing'].factorize()\n",
    "print(h_cat_en)\n",
    "print(h_categories)"
   ]
  },
  {
   "cell_type": "code",
   "execution_count": 54,
   "id": "4d736c24",
   "metadata": {},
   "outputs": [],
   "source": [
    "coded = OneHotEncoder().fit_transform(h_cat_en.reshape(-1,1))\n",
    "coded.toarray()\n",
    "proxy = pd.DataFrame(coded.toarray(), index = df.index, columns = ['own_housing','par_housing', 'rented_housing', 'skip_housing', 'municipal_housing', 'sp_housing'])\n",
    "df = pd.concat([df, proxy], axis = 1)"
   ]
  },
  {
   "cell_type": "code",
   "execution_count": 55,
   "id": "3d6c1f6b",
   "metadata": {},
   "outputs": [
    {
     "name": "stdout",
     "output_type": "stream",
     "text": [
      "[0 1 1 ... 0 1 1]\n",
      "Index(['Да', 'Нет', 'Пропуск поля'], dtype='object')\n"
     ]
    }
   ],
   "source": [
    "# дети\n",
    "h_cat_en, h_categories = df['children'].factorize()\n",
    "print(h_cat_en)\n",
    "print(h_categories)"
   ]
  },
  {
   "cell_type": "code",
   "execution_count": 56,
   "id": "cf2fa490",
   "metadata": {},
   "outputs": [],
   "source": [
    "coded = OneHotEncoder().fit_transform(h_cat_en.reshape(-1,1))\n",
    "coded.toarray()\n",
    "proxy = pd.DataFrame(coded.toarray(), index = df.index, columns = ['yes_children', 'no_childreng', 'skip_children'])\n",
    "df = pd.concat([df, proxy], axis = 1)"
   ]
  },
  {
   "cell_type": "code",
   "execution_count": 58,
   "id": "92cd7848",
   "metadata": {},
   "outputs": [
    {
     "name": "stdout",
     "output_type": "stream",
     "text": [
      "[0 1 2 ... 0 1 2]\n",
      "Index(['Новосибирская область', 'Кемеровская область юг',\n",
      "       'Кемеровская область север', 'Алтайский край', 'Красноярский край'],\n",
      "      dtype='object')\n"
     ]
    }
   ],
   "source": [
    "# регион\n",
    "h_cat_en, h_categories = df['region'].factorize()\n",
    "print(h_cat_en)\n",
    "print(h_categories)"
   ]
  },
  {
   "cell_type": "code",
   "execution_count": 59,
   "id": "4654e513",
   "metadata": {},
   "outputs": [],
   "source": [
    "coded = OneHotEncoder().fit_transform(h_cat_en.reshape(-1,1))\n",
    "coded.toarray()\n",
    "proxy = pd.DataFrame(coded.toarray(), index = df.index, columns = ['nov','kem_s', 'kem_n', 'alt', 'kras'])\n",
    "df = pd.concat([df, proxy], axis = 1)"
   ]
  },
  {
   "cell_type": "code",
   "execution_count": 61,
   "id": "b3c4b2a9",
   "metadata": {},
   "outputs": [],
   "source": [
    "# удалим ненужные столбцы\n",
    "df = df.drop(['id', 'jobtype', 'housing', 'auto', 'credits', 'marstatus', 'region', 'children', 'gender', 'date_start', 'date_end'], axis = 1)"
   ]
  },
  {
   "cell_type": "code",
   "execution_count": 62,
   "id": "e44586b2",
   "metadata": {},
   "outputs": [
    {
     "data": {
      "text/html": [
       "<div>\n",
       "<style scoped>\n",
       "    .dataframe tbody tr th:only-of-type {\n",
       "        vertical-align: middle;\n",
       "    }\n",
       "\n",
       "    .dataframe tbody tr th {\n",
       "        vertical-align: top;\n",
       "    }\n",
       "\n",
       "    .dataframe thead th {\n",
       "        text-align: right;\n",
       "    }\n",
       "</style>\n",
       "<table border=\"1\" class=\"dataframe\">\n",
       "  <thead>\n",
       "    <tr style=\"text-align: right;\">\n",
       "      <th></th>\n",
       "      <th>start_year</th>\n",
       "      <th>start_quart</th>\n",
       "      <th>start_month</th>\n",
       "      <th>start_day</th>\n",
       "      <th>end_year</th>\n",
       "      <th>end_quart</th>\n",
       "      <th>end_month</th>\n",
       "      <th>end_day</th>\n",
       "      <th>loang_term</th>\n",
       "      <th>age</th>\n",
       "      <th>...</th>\n",
       "      <th>municipal_housing</th>\n",
       "      <th>sp_housing</th>\n",
       "      <th>yes_children</th>\n",
       "      <th>no_childreng</th>\n",
       "      <th>skip_children</th>\n",
       "      <th>nov</th>\n",
       "      <th>kem_s</th>\n",
       "      <th>kem_n</th>\n",
       "      <th>alt</th>\n",
       "      <th>kras</th>\n",
       "    </tr>\n",
       "  </thead>\n",
       "  <tbody>\n",
       "    <tr>\n",
       "      <th>0</th>\n",
       "      <td>2013</td>\n",
       "      <td>1</td>\n",
       "      <td>1</td>\n",
       "      <td>3</td>\n",
       "      <td>2013</td>\n",
       "      <td>1</td>\n",
       "      <td>1</td>\n",
       "      <td>12</td>\n",
       "      <td>9</td>\n",
       "      <td>44</td>\n",
       "      <td>...</td>\n",
       "      <td>0.0</td>\n",
       "      <td>0.0</td>\n",
       "      <td>1.0</td>\n",
       "      <td>0.0</td>\n",
       "      <td>0.0</td>\n",
       "      <td>1.0</td>\n",
       "      <td>0.0</td>\n",
       "      <td>0.0</td>\n",
       "      <td>0.0</td>\n",
       "      <td>0.0</td>\n",
       "    </tr>\n",
       "    <tr>\n",
       "      <th>1</th>\n",
       "      <td>2013</td>\n",
       "      <td>1</td>\n",
       "      <td>1</td>\n",
       "      <td>3</td>\n",
       "      <td>2013</td>\n",
       "      <td>1</td>\n",
       "      <td>1</td>\n",
       "      <td>17</td>\n",
       "      <td>14</td>\n",
       "      <td>21</td>\n",
       "      <td>...</td>\n",
       "      <td>0.0</td>\n",
       "      <td>0.0</td>\n",
       "      <td>0.0</td>\n",
       "      <td>1.0</td>\n",
       "      <td>0.0</td>\n",
       "      <td>0.0</td>\n",
       "      <td>1.0</td>\n",
       "      <td>0.0</td>\n",
       "      <td>0.0</td>\n",
       "      <td>0.0</td>\n",
       "    </tr>\n",
       "    <tr>\n",
       "      <th>2</th>\n",
       "      <td>2013</td>\n",
       "      <td>1</td>\n",
       "      <td>1</td>\n",
       "      <td>3</td>\n",
       "      <td>2013</td>\n",
       "      <td>1</td>\n",
       "      <td>1</td>\n",
       "      <td>17</td>\n",
       "      <td>14</td>\n",
       "      <td>25</td>\n",
       "      <td>...</td>\n",
       "      <td>0.0</td>\n",
       "      <td>0.0</td>\n",
       "      <td>0.0</td>\n",
       "      <td>1.0</td>\n",
       "      <td>0.0</td>\n",
       "      <td>0.0</td>\n",
       "      <td>0.0</td>\n",
       "      <td>1.0</td>\n",
       "      <td>0.0</td>\n",
       "      <td>0.0</td>\n",
       "    </tr>\n",
       "    <tr>\n",
       "      <th>3</th>\n",
       "      <td>2013</td>\n",
       "      <td>1</td>\n",
       "      <td>1</td>\n",
       "      <td>3</td>\n",
       "      <td>2013</td>\n",
       "      <td>1</td>\n",
       "      <td>1</td>\n",
       "      <td>17</td>\n",
       "      <td>14</td>\n",
       "      <td>47</td>\n",
       "      <td>...</td>\n",
       "      <td>0.0</td>\n",
       "      <td>0.0</td>\n",
       "      <td>0.0</td>\n",
       "      <td>1.0</td>\n",
       "      <td>0.0</td>\n",
       "      <td>0.0</td>\n",
       "      <td>0.0</td>\n",
       "      <td>1.0</td>\n",
       "      <td>0.0</td>\n",
       "      <td>0.0</td>\n",
       "    </tr>\n",
       "    <tr>\n",
       "      <th>4</th>\n",
       "      <td>2013</td>\n",
       "      <td>1</td>\n",
       "      <td>1</td>\n",
       "      <td>3</td>\n",
       "      <td>2013</td>\n",
       "      <td>1</td>\n",
       "      <td>1</td>\n",
       "      <td>17</td>\n",
       "      <td>14</td>\n",
       "      <td>22</td>\n",
       "      <td>...</td>\n",
       "      <td>0.0</td>\n",
       "      <td>0.0</td>\n",
       "      <td>1.0</td>\n",
       "      <td>0.0</td>\n",
       "      <td>0.0</td>\n",
       "      <td>0.0</td>\n",
       "      <td>0.0</td>\n",
       "      <td>1.0</td>\n",
       "      <td>0.0</td>\n",
       "      <td>0.0</td>\n",
       "    </tr>\n",
       "  </tbody>\n",
       "</table>\n",
       "<p>5 rows × 40 columns</p>\n",
       "</div>"
      ],
      "text/plain": [
       "   start_year  start_quart  start_month  start_day  end_year  end_quart  \\\n",
       "0        2013            1            1          3      2013          1   \n",
       "1        2013            1            1          3      2013          1   \n",
       "2        2013            1            1          3      2013          1   \n",
       "3        2013            1            1          3      2013          1   \n",
       "4        2013            1            1          3      2013          1   \n",
       "\n",
       "   end_month  end_day  loang_term  age  ...  municipal_housing  sp_housing  \\\n",
       "0          1       12           9   44  ...                0.0         0.0   \n",
       "1          1       17          14   21  ...                0.0         0.0   \n",
       "2          1       17          14   25  ...                0.0         0.0   \n",
       "3          1       17          14   47  ...                0.0         0.0   \n",
       "4          1       17          14   22  ...                0.0         0.0   \n",
       "\n",
       "   yes_children  no_childreng  skip_children  nov  kem_s  kem_n  alt  kras  \n",
       "0           1.0           0.0            0.0  1.0    0.0    0.0  0.0   0.0  \n",
       "1           0.0           1.0            0.0  0.0    1.0    0.0  0.0   0.0  \n",
       "2           0.0           1.0            0.0  0.0    0.0    1.0  0.0   0.0  \n",
       "3           0.0           1.0            0.0  0.0    0.0    1.0  0.0   0.0  \n",
       "4           1.0           0.0            0.0  0.0    0.0    1.0  0.0   0.0  \n",
       "\n",
       "[5 rows x 40 columns]"
      ]
     },
     "execution_count": 62,
     "metadata": {},
     "output_type": "execute_result"
    }
   ],
   "source": [
    "df.head()"
   ]
  },
  {
   "cell_type": "code",
   "execution_count": 63,
   "id": "98eb89e3",
   "metadata": {},
   "outputs": [
    {
     "name": "stdout",
     "output_type": "stream",
     "text": [
      "<class 'pandas.core.frame.DataFrame'>\n",
      "RangeIndex: 35212 entries, 0 to 35211\n",
      "Data columns (total 40 columns):\n",
      " #   Column             Non-Null Count  Dtype  \n",
      "---  ------             --------------  -----  \n",
      " 0   start_year         35212 non-null  int64  \n",
      " 1   start_quart        35212 non-null  int64  \n",
      " 2   start_month        35212 non-null  int64  \n",
      " 3   start_day          35212 non-null  int64  \n",
      " 4   end_year           35212 non-null  int64  \n",
      " 5   end_quart          35212 non-null  int64  \n",
      " 6   end_month          35212 non-null  int64  \n",
      " 7   end_day            35212 non-null  int64  \n",
      " 8   loang_term         35212 non-null  int64  \n",
      " 9   age                35212 non-null  int64  \n",
      " 10  regclient          35212 non-null  int64  \n",
      " 11  delinq60plus       35212 non-null  int64  \n",
      " 12  mar                35212 non-null  float64\n",
      " 13  unmar              35212 non-null  float64\n",
      " 14  b_mar              35212 non-null  float64\n",
      " 15  skip_mar           35212 non-null  float64\n",
      " 16  d_mar              35212 non-null  float64\n",
      " 17  oficial_job        35212 non-null  float64\n",
      " 18  unoficial_job      35212 non-null  float64\n",
      " 19  skip_job           35212 non-null  float64\n",
      " 20  no_credits         35212 non-null  float64\n",
      " 21  yes_credits        35212 non-null  float64\n",
      " 22  skip_credits       35212 non-null  float64\n",
      " 23  no_auto            35212 non-null  float64\n",
      " 24  skip_auto          35212 non-null  float64\n",
      " 25  yes_auto           35212 non-null  float64\n",
      " 26  own_housing        35212 non-null  float64\n",
      " 27  par_housing        35212 non-null  float64\n",
      " 28  rented_housing     35212 non-null  float64\n",
      " 29  skip_housing       35212 non-null  float64\n",
      " 30  municipal_housing  35212 non-null  float64\n",
      " 31  sp_housing         35212 non-null  float64\n",
      " 32  yes_children       35212 non-null  float64\n",
      " 33  no_childreng       35212 non-null  float64\n",
      " 34  skip_children      35212 non-null  float64\n",
      " 35  nov                35212 non-null  float64\n",
      " 36  kem_s              35212 non-null  float64\n",
      " 37  kem_n              35212 non-null  float64\n",
      " 38  alt                35212 non-null  float64\n",
      " 39  kras               35212 non-null  float64\n",
      "dtypes: float64(28), int64(12)\n",
      "memory usage: 10.7 MB\n"
     ]
    }
   ],
   "source": [
    "df.info()"
   ]
  },
  {
   "cell_type": "code",
   "execution_count": 64,
   "id": "2401752e",
   "metadata": {},
   "outputs": [],
   "source": [
    "X = df.drop(['delinq60plus'], axis=1)\n",
    "Y = df['delinq60plus']"
   ]
  },
  {
   "cell_type": "code",
   "execution_count": 65,
   "id": "ce22060e",
   "metadata": {},
   "outputs": [],
   "source": [
    "from sklearn.preprocessing import StandardScaler\n",
    "from sklearn.ensemble import GradientBoostingClassifier"
   ]
  },
  {
   "cell_type": "code",
   "execution_count": 68,
   "id": "2c4d9bec",
   "metadata": {},
   "outputs": [],
   "source": [
    "sc = StandardScaler()\n",
    "X_sc = sc.fit_transform(X)"
   ]
  },
  {
   "cell_type": "code",
   "execution_count": 69,
   "id": "89792e10",
   "metadata": {},
   "outputs": [],
   "source": [
    "from sklearn.model_selection import train_test_split\n",
    "X_train, X_test, y_train, y_test = train_test_split(X_sc, Y, random_state=42)"
   ]
  },
  {
   "cell_type": "code",
   "execution_count": 75,
   "id": "515f57ac",
   "metadata": {},
   "outputs": [],
   "source": [
    "from sklearn.model_selection import GridSearchCV"
   ]
  },
  {
   "cell_type": "code",
   "execution_count": 76,
   "id": "84320be3",
   "metadata": {},
   "outputs": [],
   "source": [
    "gbc = GradientBoostingClassifier()"
   ]
  },
  {
   "cell_type": "code",
   "execution_count": 84,
   "id": "b20e80e9",
   "metadata": {},
   "outputs": [],
   "source": [
    "gbc_params = {'n_estimators': range(1, 10, 2), 'max_depth': range(1, 5)}"
   ]
  },
  {
   "cell_type": "code",
   "execution_count": 85,
   "id": "085b946a",
   "metadata": {},
   "outputs": [],
   "source": [
    "gsp = GridSearchCV(gbc, gbc_params, cv = 5, verbose=True, scoring='roc_auc')"
   ]
  },
  {
   "cell_type": "code",
   "execution_count": 86,
   "id": "620ea926",
   "metadata": {},
   "outputs": [
    {
     "name": "stdout",
     "output_type": "stream",
     "text": [
      "Fitting 5 folds for each of 20 candidates, totalling 100 fits\n"
     ]
    },
    {
     "data": {
      "text/plain": [
       "GridSearchCV(cv=5, estimator=GradientBoostingClassifier(),\n",
       "             param_grid={'max_depth': range(1, 5),\n",
       "                         'n_estimators': range(1, 10, 2)},\n",
       "             scoring='roc_auc', verbose=True)"
      ]
     },
     "execution_count": 86,
     "metadata": {},
     "output_type": "execute_result"
    }
   ],
   "source": [
    "gsp.fit(X_sc, Y)"
   ]
  },
  {
   "cell_type": "code",
   "execution_count": 94,
   "id": "56f430d8",
   "metadata": {},
   "outputs": [
    {
     "data": {
      "text/plain": [
       "{'max_depth': 1, 'n_estimators': 7, 'random_state': 1}"
      ]
     },
     "execution_count": 94,
     "metadata": {},
     "output_type": "execute_result"
    }
   ],
   "source": [
    "gsp.best_params_"
   ]
  },
  {
   "cell_type": "code",
   "execution_count": 92,
   "id": "941be91e",
   "metadata": {},
   "outputs": [],
   "source": [
    "gbc_params = {'n_estimators': range(7, 8), 'max_depth': range(1, 2), 'random_state': range(1, 25)}\n",
    "gsp = GridSearchCV(gbc, gbc_params, cv = 5, verbose=True, scoring='roc_auc')"
   ]
  },
  {
   "cell_type": "code",
   "execution_count": 138,
   "id": "d1d12933",
   "metadata": {},
   "outputs": [],
   "source": [
    "gbc = GradientBoostingClassifier(n_estimators = 20,\n",
    "                                max_depth = 6,\n",
    "                                random_state = 15)"
   ]
  },
  {
   "cell_type": "code",
   "execution_count": 139,
   "id": "7d52ebd4",
   "metadata": {},
   "outputs": [
    {
     "data": {
      "text/plain": [
       "GradientBoostingClassifier(max_depth=6, n_estimators=20, random_state=15)"
      ]
     },
     "execution_count": 139,
     "metadata": {},
     "output_type": "execute_result"
    }
   ],
   "source": [
    "gbc.fit(X_train, y_train)"
   ]
  },
  {
   "cell_type": "code",
   "execution_count": 140,
   "id": "7d002e96",
   "metadata": {},
   "outputs": [],
   "source": [
    "from sklearn.metrics import confusion_matrix, precision_score, \\\n",
    "              accuracy_score"
   ]
  },
  {
   "cell_type": "code",
   "execution_count": 141,
   "id": "cf613039",
   "metadata": {},
   "outputs": [
    {
     "data": {
      "text/plain": [
       "0.7672384414404181"
      ]
     },
     "execution_count": 141,
     "metadata": {},
     "output_type": "execute_result"
    }
   ],
   "source": [
    "pred = gbc.predict(X_test)\n",
    "accuracy_score(y_test, pred)"
   ]
  },
  {
   "cell_type": "code",
   "execution_count": 142,
   "id": "4ed15ec9",
   "metadata": {
    "scrolled": true
   },
   "outputs": [
    {
     "data": {
      "text/plain": [
       "array([[4285, 1180],\n",
       "       [ 869, 2469]], dtype=int64)"
      ]
     },
     "execution_count": 142,
     "metadata": {},
     "output_type": "execute_result"
    }
   ],
   "source": [
    "confusion_matrix(y_test, pred)"
   ]
  },
  {
   "cell_type": "code",
   "execution_count": 143,
   "id": "209be60e",
   "metadata": {},
   "outputs": [],
   "source": [
    "from sklearn.tree import DecisionTreeClassifier"
   ]
  },
  {
   "cell_type": "code",
   "execution_count": 153,
   "id": "68e7d0fe",
   "metadata": {},
   "outputs": [
    {
     "data": {
      "text/plain": [
       "0.696807906395547"
      ]
     },
     "execution_count": 153,
     "metadata": {},
     "output_type": "execute_result"
    }
   ],
   "source": [
    "dtclf = DecisionTreeClassifier(max_depth = 1, max_features = 14, random_state = 42)\n",
    "\n",
    "dtclf.fit(X_train, y_train)\n",
    "dtclf.score(X_test, y_test)"
   ]
  },
  {
   "cell_type": "code",
   "execution_count": 148,
   "id": "cd47b73a",
   "metadata": {},
   "outputs": [],
   "source": [
    "tree_params = {'max_depth': range(1,11), 'max_features': range(3,19)}\n",
    "tree = DecisionTreeClassifier()"
   ]
  },
  {
   "cell_type": "code",
   "execution_count": 149,
   "id": "24d33675",
   "metadata": {},
   "outputs": [],
   "source": [
    "tree_grid = GridSearchCV(tree, tree_params, cv=5)# scoring='roc_auc'"
   ]
  },
  {
   "cell_type": "code",
   "execution_count": 152,
   "id": "6a1a99a1",
   "metadata": {},
   "outputs": [
    {
     "data": {
      "text/plain": [
       "{'max_depth': 1, 'max_features': 14}"
      ]
     },
     "execution_count": 152,
     "metadata": {},
     "output_type": "execute_result"
    }
   ],
   "source": [
    "tree_grid.fit(X_sc, Y)\n",
    "tree_grid.best_params_"
   ]
  },
  {
   "cell_type": "code",
   "execution_count": null,
   "id": "7ea10efd",
   "metadata": {},
   "outputs": [],
   "source": []
  }
 ],
 "metadata": {
  "kernelspec": {
   "display_name": "Python 3 (ipykernel)",
   "language": "python",
   "name": "python3"
  },
  "language_info": {
   "codemirror_mode": {
    "name": "ipython",
    "version": 3
   },
   "file_extension": ".py",
   "mimetype": "text/x-python",
   "name": "python",
   "nbconvert_exporter": "python",
   "pygments_lexer": "ipython3",
   "version": "3.9.13"
  }
 },
 "nbformat": 4,
 "nbformat_minor": 5
}
