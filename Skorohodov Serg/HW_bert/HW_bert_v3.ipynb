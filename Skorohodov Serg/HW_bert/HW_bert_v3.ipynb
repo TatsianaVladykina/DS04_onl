{
 "cells": [
  {
   "cell_type": "code",
   "execution_count": 8,
   "id": "521c8951",
   "metadata": {},
   "outputs": [],
   "source": [
    "import pandas as pd\n",
    "import torch\n",
    "from torch import nn\n",
    "from torch.utils.data import Dataset, DataLoader\n",
    "from sklearn.model_selection import train_test_split\n",
    "from transformers import BertModel, AdamW, get_linear_schedule_with_warmup, BertTokenizerFast\n",
    "\n",
    "\n",
    "from torch.cuda.amp import GradScaler, autocast"
   ]
  },
  {
   "cell_type": "code",
   "execution_count": null,
   "id": "71417922",
   "metadata": {},
   "outputs": [],
   "source": []
  },
  {
   "cell_type": "code",
   "execution_count": 9,
   "id": "5169f8c8",
   "metadata": {},
   "outputs": [],
   "source": [
    "\n",
    "class MultiLabelDataset(Dataset):\n",
    "    def __init__(self, encodings, labels):\n",
    "        self.encodings = encodings\n",
    "        self.labels = labels\n",
    "\n",
    "    def __getitem__(self, idx):\n",
    "        item = {key: torch.tensor(val[idx]) for key, val in self.encodings.items()}\n",
    "        item['labels'] = torch.tensor(self.labels[idx])\n",
    "        return item\n",
    "\n",
    "    def __len__(self):\n",
    "        return len(self.labels)\n",
    "\n",
    "class MultiLabelClassifier(nn.Module):\n",
    "    def __init__(self):\n",
    "        super(MultiLabelClassifier, self).__init__()\n",
    "        self.bert = BertModel.from_pretrained('bert-base-uncased')\n",
    "        self.classifier = nn.ModuleList([nn.Linear(768, 9) for _ in range(6)])\n",
    "\n",
    "    def forward(self, input_ids, attention_mask):\n",
    "        outputs = self.bert(input_ids=input_ids, attention_mask=attention_mask)\n",
    "        logits = [classifier(outputs.last_hidden_state[:, 0, :]) for classifier in self.classifier]\n",
    "        return logits\n"
   ]
  },
  {
   "cell_type": "code",
   "execution_count": 10,
   "id": "c541e5f7",
   "metadata": {},
   "outputs": [],
   "source": [
    "# Load data\n",
    "df = pd.read_csv('train.csv')\n",
    "\n",
    "# Define grades\n",
    "grades = ['cohesion', 'syntax', 'vocabulary', 'phraseology', 'grammar', 'conventions']"
   ]
  },
  {
   "cell_type": "code",
   "execution_count": 8,
   "id": "e24ca16b",
   "metadata": {},
   "outputs": [
    {
     "data": {
      "text/plain": [
       "(3911, 8)"
      ]
     },
     "execution_count": 8,
     "metadata": {},
     "output_type": "execute_result"
    }
   ],
   "source": [
    "df.shape"
   ]
  },
  {
   "cell_type": "code",
   "execution_count": 11,
   "id": "de4b677e",
   "metadata": {},
   "outputs": [],
   "source": [
    "# Preprocess data\n",
    "tokenizer = BertTokenizerFast.from_pretrained('bert-base-uncased')\n",
    "encodings = tokenizer(df['full_text'].tolist(), truncation=True, padding=True)\n",
    "\n",
    "# Convert labels to tensor and subtract 1 because the model predicts from 0 to 8 (9 classes)\n",
    "labels = torch.tensor(df[grades].values) - 1"
   ]
  },
  {
   "cell_type": "code",
   "execution_count": 12,
   "id": "d573b128",
   "metadata": {},
   "outputs": [
    {
     "name": "stderr",
     "output_type": "stream",
     "text": [
      "c:\\Users\\SergS\\miniconda3\\envs\\transformers\\Lib\\site-packages\\transformers\\optimization.py:411: FutureWarning: This implementation of AdamW is deprecated and will be removed in a future version. Use the PyTorch implementation torch.optim.AdamW instead, or set `no_deprecation_warning=True` to disable this warning\n",
      "  warnings.warn(\n"
     ]
    }
   ],
   "source": [
    "# Convert data into PyTorch dataset\n",
    "dataset = MultiLabelDataset(encodings, labels)\n",
    "\n",
    "# Split data into training and testing sets\n",
    "train_size = int(0.8 * len(dataset))\n",
    "test_size = len(dataset) - train_size\n",
    "train_dataset, test_dataset = torch.utils.data.random_split(dataset, [train_size, test_size])\n",
    "\n",
    "# Define model and move it to GPU\n",
    "model = MultiLabelClassifier()\n",
    "model.to('cuda')\n",
    "\n",
    "# Define training parameters\n",
    "optimizer = AdamW(model.parameters(), lr=1e-5)\n",
    "scheduler = get_linear_schedule_with_warmup(optimizer, num_warmup_steps=500, num_training_steps=len(train_dataset))\n",
    "\n",
    "# Define loss function (CrossEntropyLoss expects the class indices)\n",
    "loss_fn = nn.CrossEntropyLoss()\n",
    "\n",
    "\n",
    "# Initialize gradient scaler for mixed precision training\n",
    "scaler = GradScaler()"
   ]
  },
  {
   "cell_type": "code",
   "execution_count": 13,
   "id": "9f396446",
   "metadata": {},
   "outputs": [],
   "source": [
    "# Train model with early stopping after 5 epochs without improvement\n",
    "best_loss = float('inf')\n",
    "epochs_without_improvement = 0\n",
    "n_epochs_stop = 5"
   ]
  },
  {
   "cell_type": "code",
   "execution_count": null,
   "id": "412aabba",
   "metadata": {},
   "outputs": [],
   "source": [
    "# Initialize a new model with the same architecture\n",
    "# model = BertForSequenceClassification.from_pretrained('bert-base-uncased', num_labels=6).to('cuda')\n",
    "model = MultiLabelClassifier()\n",
    "\n",
    "\n",
    "# Load the saved weights of the best trained model\n",
    "model.load_state_dict(torch.load('best_model_v3.pt'))\n",
    "model.to('cuda')"
   ]
  },
  {
   "cell_type": "code",
   "execution_count": 14,
   "id": "008d342a",
   "metadata": {},
   "outputs": [
    {
     "name": "stderr",
     "output_type": "stream",
     "text": [
      "C:\\Users\\SergS\\AppData\\Local\\Temp\\ipykernel_21228\\1829727062.py:8: UserWarning: To copy construct from a tensor, it is recommended to use sourceTensor.clone().detach() or sourceTensor.clone().detach().requires_grad_(True), rather than torch.tensor(sourceTensor).\n",
      "  item['labels'] = torch.tensor(self.labels[idx])\n"
     ]
    },
    {
     "name": "stdout",
     "output_type": "stream",
     "text": [
      "_96sor(6.9120, device='cuda:0', grad_fn=<AddBackward0>))\n",
      "Epoch 0, Train Loss: 6.912009239196777, Val Loss: 47.34738540649414\n",
      "_92sor(4.7416, device='cuda:0', grad_fn=<AddBackward0>)\n",
      "Epoch 1, Train Loss: 4.741606712341309, Val Loss: 39.83797073364258\n",
      "_88sor(5.8756, device='cuda:0', grad_fn=<AddBackward0>)\n",
      "Epoch 2, Train Loss: 5.875617980957031, Val Loss: 36.51759338378906\n",
      "_84sor(5.0260, device='cuda:0', grad_fn=<AddBackward0>)\n",
      "Epoch 3, Train Loss: 5.026007652282715, Val Loss: 35.900390625\n",
      "_80sor(3.6304, device='cuda:0', grad_fn=<AddBackward0>)\n",
      "Epoch 4, Train Loss: 3.6303796768188477, Val Loss: 36.120601654052734\n",
      "1118or(4.4483, device='cuda:0', grad_fn=<AddBackward0>)\r"
     ]
    },
    {
     "ename": "KeyboardInterrupt",
     "evalue": "",
     "output_type": "error",
     "traceback": [
      "\u001b[1;31m---------------------------------------------------------------------------\u001b[0m",
      "\u001b[1;31mKeyboardInterrupt\u001b[0m                         Traceback (most recent call last)",
      "\u001b[1;32mf:\\Python\\Studies\\DS04\\DS4_2\\Ls_bert_ansamble\\Новая папка\\HW_bert_v3.ipynb Cell 10\u001b[0m line \u001b[0;36m1\n\u001b[0;32m     <a href='vscode-notebook-cell:/f%3A/Python/Studies/DS04/DS4_2/Ls_bert_ansamble/%D0%9D%D0%BE%D0%B2%D0%B0%D1%8F%20%D0%BF%D0%B0%D0%BF%D0%BA%D0%B0/HW_bert_v3.ipynb#X11sZmlsZQ%3D%3D?line=12'>13</a>\u001b[0m loss \u001b[39m=\u001b[39m \u001b[39msum\u001b[39m(loss_fn(output\u001b[39m.\u001b[39mfloat(), label\u001b[39m.\u001b[39mlong()) \u001b[39mfor\u001b[39;00m output, label \u001b[39min\u001b[39;00m \u001b[39mzip\u001b[39m(outputs, labels\u001b[39m.\u001b[39mt()))\n\u001b[0;32m     <a href='vscode-notebook-cell:/f%3A/Python/Studies/DS04/DS4_2/Ls_bert_ansamble/%D0%9D%D0%BE%D0%B2%D0%B0%D1%8F%20%D0%BF%D0%B0%D0%BF%D0%BA%D0%B0/HW_bert_v3.ipynb#X11sZmlsZQ%3D%3D?line=13'>14</a>\u001b[0m loss_train \u001b[39m=\u001b[39m loss\n\u001b[1;32m---> <a href='vscode-notebook-cell:/f%3A/Python/Studies/DS04/DS4_2/Ls_bert_ansamble/%D0%9D%D0%BE%D0%B2%D0%B0%D1%8F%20%D0%BF%D0%B0%D0%BF%D0%BA%D0%B0/HW_bert_v3.ipynb#X11sZmlsZQ%3D%3D?line=15'>16</a>\u001b[0m loss\u001b[39m.\u001b[39;49mbackward()\n\u001b[0;32m     <a href='vscode-notebook-cell:/f%3A/Python/Studies/DS04/DS4_2/Ls_bert_ansamble/%D0%9D%D0%BE%D0%B2%D0%B0%D1%8F%20%D0%BF%D0%B0%D0%BF%D0%BA%D0%B0/HW_bert_v3.ipynb#X11sZmlsZQ%3D%3D?line=16'>17</a>\u001b[0m \u001b[39mprint\u001b[39m(loss_train, end\u001b[39m=\u001b[39m\u001b[39m\"\u001b[39m\u001b[39m\\r\u001b[39;00m\u001b[39m\"\u001b[39m)\n\u001b[0;32m     <a href='vscode-notebook-cell:/f%3A/Python/Studies/DS04/DS4_2/Ls_bert_ansamble/%D0%9D%D0%BE%D0%B2%D0%B0%D1%8F%20%D0%BF%D0%B0%D0%BF%D0%BA%D0%B0/HW_bert_v3.ipynb#X11sZmlsZQ%3D%3D?line=17'>18</a>\u001b[0m \u001b[39mprint\u001b[39m(n, end\u001b[39m=\u001b[39m\u001b[39m\"\u001b[39m\u001b[39m\\r\u001b[39;00m\u001b[39m\"\u001b[39m)\n",
      "File \u001b[1;32mc:\\Users\\SergS\\miniconda3\\envs\\transformers\\Lib\\site-packages\\torch\\_tensor.py:487\u001b[0m, in \u001b[0;36mTensor.backward\u001b[1;34m(self, gradient, retain_graph, create_graph, inputs)\u001b[0m\n\u001b[0;32m    477\u001b[0m \u001b[39mif\u001b[39;00m has_torch_function_unary(\u001b[39mself\u001b[39m):\n\u001b[0;32m    478\u001b[0m     \u001b[39mreturn\u001b[39;00m handle_torch_function(\n\u001b[0;32m    479\u001b[0m         Tensor\u001b[39m.\u001b[39mbackward,\n\u001b[0;32m    480\u001b[0m         (\u001b[39mself\u001b[39m,),\n\u001b[1;32m   (...)\u001b[0m\n\u001b[0;32m    485\u001b[0m         inputs\u001b[39m=\u001b[39minputs,\n\u001b[0;32m    486\u001b[0m     )\n\u001b[1;32m--> 487\u001b[0m torch\u001b[39m.\u001b[39;49mautograd\u001b[39m.\u001b[39;49mbackward(\n\u001b[0;32m    488\u001b[0m     \u001b[39mself\u001b[39;49m, gradient, retain_graph, create_graph, inputs\u001b[39m=\u001b[39;49minputs\n\u001b[0;32m    489\u001b[0m )\n",
      "File \u001b[1;32mc:\\Users\\SergS\\miniconda3\\envs\\transformers\\Lib\\site-packages\\torch\\autograd\\__init__.py:200\u001b[0m, in \u001b[0;36mbackward\u001b[1;34m(tensors, grad_tensors, retain_graph, create_graph, grad_variables, inputs)\u001b[0m\n\u001b[0;32m    195\u001b[0m     retain_graph \u001b[39m=\u001b[39m create_graph\n\u001b[0;32m    197\u001b[0m \u001b[39m# The reason we repeat same the comment below is that\u001b[39;00m\n\u001b[0;32m    198\u001b[0m \u001b[39m# some Python versions print out the first line of a multi-line function\u001b[39;00m\n\u001b[0;32m    199\u001b[0m \u001b[39m# calls in the traceback and some print out the last line\u001b[39;00m\n\u001b[1;32m--> 200\u001b[0m Variable\u001b[39m.\u001b[39;49m_execution_engine\u001b[39m.\u001b[39;49mrun_backward(  \u001b[39m# Calls into the C++ engine to run the backward pass\u001b[39;49;00m\n\u001b[0;32m    201\u001b[0m     tensors, grad_tensors_, retain_graph, create_graph, inputs,\n\u001b[0;32m    202\u001b[0m     allow_unreachable\u001b[39m=\u001b[39;49m\u001b[39mTrue\u001b[39;49;00m, accumulate_grad\u001b[39m=\u001b[39;49m\u001b[39mTrue\u001b[39;49;00m)\n",
      "\u001b[1;31mKeyboardInterrupt\u001b[0m: "
     ]
    }
   ],
   "source": [
    "\n",
    "\n",
    "for epoch in range(100):  # maximum of 100 epochs\n",
    "    model.train()\n",
    "    n = 0\n",
    "    for batch in DataLoader(train_dataset, batch_size=16, shuffle=True):\n",
    "        optimizer.zero_grad()\n",
    "        input_ids = batch['input_ids'].to('cuda')\n",
    "        attention_mask = batch['attention_mask'].to('cuda')\n",
    "        labels = batch['labels'].to('cuda')\n",
    "        \n",
    "        outputs = model(input_ids=input_ids, attention_mask=attention_mask)\n",
    "        \n",
    "        # Compute loss and backpropagate\n",
    "        loss = sum(loss_fn(output.float(), label.long()) for output, label in zip(outputs, labels.t()))\n",
    "        loss_train = loss\n",
    "        \n",
    "        loss.backward()\n",
    "        print(loss_train, end=\"\\r\")\n",
    "        print(n, end=\"\\r\")\n",
    "        \n",
    "        optimizer.step()\n",
    "        scheduler.step()\n",
    "        n +=1\n",
    "    # Evaluate model on validation set\n",
    "    model.eval()\n",
    "    val_loss = 0\n",
    "    with torch.no_grad():\n",
    "        for batch in DataLoader(test_dataset, batch_size=128):\n",
    "            input_ids = batch['input_ids'].to('cuda')\n",
    "            attention_mask = batch['attention_mask'].to('cuda')\n",
    "            labels = batch['labels'].to('cuda')\n",
    "\n",
    "            outputs = model(input_ids=input_ids, attention_mask=attention_mask)\n",
    "            val_loss += sum(loss_fn(output.float(), label.long()) for output, label in zip(outputs, labels.t()))\n",
    "    print(f'Epoch {epoch}, Train Loss: {loss_train}, Val Loss: {val_loss}')\n",
    "    # Early stopping\n",
    "    if val_loss < best_loss:\n",
    "        best_loss = val_loss\n",
    "        epochs_without_improvement = 0\n",
    "        \n",
    "        # Save best model\n",
    "        torch.save(model.state_dict(), 'best_model_v3.pt')\n",
    "    else:\n",
    "        epochs_without_improvement += 1\n",
    "        \n",
    "    if epochs_without_improvement >= n_epochs_stop:\n",
    "        break\n",
    "\n",
    "print(\"Training completed.\")\n",
    "\n",
    "\n",
    "# Освобождаем видеопамять после выполнения операций\n",
    "torch.cuda.empty_cache()"
   ]
  },
  {
   "cell_type": "code",
   "execution_count": 15,
   "id": "34eef695",
   "metadata": {},
   "outputs": [],
   "source": [
    "# Освобождаем видеопамять после выполнения операций\n",
    "torch.cuda.empty_cache()"
   ]
  },
  {
   "cell_type": "code",
   "execution_count": 16,
   "id": "ffa5f5c9",
   "metadata": {},
   "outputs": [],
   "source": [
    "# Load the test data\n",
    "test_df = pd.read_csv('test.csv')\n",
    "test_essays = test_df['full_text'].values"
   ]
  },
  {
   "cell_type": "code",
   "execution_count": 17,
   "id": "097e41d8",
   "metadata": {},
   "outputs": [
    {
     "data": {
      "text/plain": [
       "MultiLabelClassifier(\n",
       "  (bert): BertModel(\n",
       "    (embeddings): BertEmbeddings(\n",
       "      (word_embeddings): Embedding(30522, 768, padding_idx=0)\n",
       "      (position_embeddings): Embedding(512, 768)\n",
       "      (token_type_embeddings): Embedding(2, 768)\n",
       "      (LayerNorm): LayerNorm((768,), eps=1e-12, elementwise_affine=True)\n",
       "      (dropout): Dropout(p=0.1, inplace=False)\n",
       "    )\n",
       "    (encoder): BertEncoder(\n",
       "      (layer): ModuleList(\n",
       "        (0-11): 12 x BertLayer(\n",
       "          (attention): BertAttention(\n",
       "            (self): BertSelfAttention(\n",
       "              (query): Linear(in_features=768, out_features=768, bias=True)\n",
       "              (key): Linear(in_features=768, out_features=768, bias=True)\n",
       "              (value): Linear(in_features=768, out_features=768, bias=True)\n",
       "              (dropout): Dropout(p=0.1, inplace=False)\n",
       "            )\n",
       "            (output): BertSelfOutput(\n",
       "              (dense): Linear(in_features=768, out_features=768, bias=True)\n",
       "              (LayerNorm): LayerNorm((768,), eps=1e-12, elementwise_affine=True)\n",
       "              (dropout): Dropout(p=0.1, inplace=False)\n",
       "            )\n",
       "          )\n",
       "          (intermediate): BertIntermediate(\n",
       "            (dense): Linear(in_features=768, out_features=3072, bias=True)\n",
       "            (intermediate_act_fn): GELUActivation()\n",
       "          )\n",
       "          (output): BertOutput(\n",
       "            (dense): Linear(in_features=3072, out_features=768, bias=True)\n",
       "            (LayerNorm): LayerNorm((768,), eps=1e-12, elementwise_affine=True)\n",
       "            (dropout): Dropout(p=0.1, inplace=False)\n",
       "          )\n",
       "        )\n",
       "      )\n",
       "    )\n",
       "    (pooler): BertPooler(\n",
       "      (dense): Linear(in_features=768, out_features=768, bias=True)\n",
       "      (activation): Tanh()\n",
       "    )\n",
       "  )\n",
       "  (classifier): ModuleList(\n",
       "    (0-5): 6 x Linear(in_features=768, out_features=9, bias=True)\n",
       "  )\n",
       ")"
      ]
     },
     "execution_count": 17,
     "metadata": {},
     "output_type": "execute_result"
    }
   ],
   "source": [
    "# Initialize a new model with the same architecture\n",
    "# model = BertForSequenceClassification.from_pretrained('bert-base-uncased', num_labels=6).to('cuda')\n",
    "model = MultiLabelClassifier()\n",
    "\n",
    "\n",
    "# Load the saved weights of the best trained model\n",
    "model.load_state_dict(torch.load('best_model_v3.pt'))\n",
    "model.to('cuda')\n",
    "model.eval()  # Set the model to evaluation mode"
   ]
  },
  {
   "cell_type": "code",
   "execution_count": 18,
   "id": "fd5c2cd2",
   "metadata": {},
   "outputs": [],
   "source": [
    "class EssayDatasetTest(Dataset):\n",
    "    def __init__(self, essays, targets, tokenizer, max_len):\n",
    "        self.essays = essays\n",
    "        self.targets = targets\n",
    "        self.tokenizer = tokenizer\n",
    "        self.max_len = max_len\n",
    "\n",
    "    def __len__(self):\n",
    "        return len(self.essays)\n",
    "\n",
    "    def __getitem__(self, item):\n",
    "        essay = str(self.essays[item])\n",
    "        # target = self.targets[item]\n",
    "\n",
    "        encoding = self.tokenizer.encode_plus(\n",
    "            essay,\n",
    "            add_special_tokens=True,\n",
    "            max_length=self.max_len,\n",
    "            return_token_type_ids=False,\n",
    "            padding='max_length',\n",
    "            return_attention_mask=True,\n",
    "            return_tensors='pt',\n",
    "            truncation=True\n",
    "            )\n",
    "          # For test data, you can return None or a placeholder for targets\n",
    "        return {\n",
    "            'essay_text': essay,\n",
    "            'input_ids': encoding['input_ids'].flatten(),\n",
    "            'attention_mask': encoding['attention_mask'].flatten(),\n",
    "            \n",
    "        }"
   ]
  },
  {
   "cell_type": "code",
   "execution_count": 19,
   "id": "44165d04",
   "metadata": {},
   "outputs": [],
   "source": [
    "# Create a test dataset\n",
    "test_dataset = EssayDatasetTest(test_essays, None, tokenizer, max_len=512)  # 'None' for targets\n",
    "\n",
    "# Create a test data loader\n",
    "test_loader = DataLoader(test_dataset, batch_size=16, shuffle=False)"
   ]
  },
  {
   "cell_type": "code",
   "execution_count": null,
   "id": "3ca24632",
   "metadata": {},
   "outputs": [],
   "source": [
    "predictions = []\n",
    "\n",
    "with torch.no_grad():\n",
    "    for batch in test_loader:\n",
    "        input_ids = batch['input_ids'].to('cuda')\n",
    "        attention_mask = batch['attention_mask'].to('cuda')\n",
    "\n",
    "        outputs = model(input_ids=input_ids, attention_mask=attention_mask)\n",
    "        logits = outputs.logits\n",
    "\n",
    "        # Assuming you have a multi-label classification task\n",
    "        # You might need to adjust this part based on your specific task\n",
    "        batch_predictions = torch.sigmoid(logits).cpu().numpy()\n",
    "        predictions.extend(batch_predictions)\n",
    "\n",
    "# 'predictions' now contains the model's predictions for the test data"
   ]
  },
  {
   "cell_type": "code",
   "execution_count": null,
   "id": "d36950e6",
   "metadata": {},
   "outputs": [],
   "source": [
    "print(predictions[2])"
   ]
  },
  {
   "cell_type": "code",
   "execution_count": null,
   "id": "9cea0fb3",
   "metadata": {},
   "outputs": [],
   "source": []
  },
  {
   "cell_type": "code",
   "execution_count": null,
   "id": "fa119de8",
   "metadata": {},
   "outputs": [],
   "source": []
  }
 ],
 "metadata": {
  "kernelspec": {
   "display_name": "base",
   "language": "python",
   "name": "python3"
  },
  "language_info": {
   "codemirror_mode": {
    "name": "ipython",
    "version": 3
   },
   "file_extension": ".py",
   "mimetype": "text/x-python",
   "name": "python",
   "nbconvert_exporter": "python",
   "pygments_lexer": "ipython3",
   "version": "3.11.4"
  }
 },
 "nbformat": 4,
 "nbformat_minor": 5
}
