{
 "cells": [
  {
   "cell_type": "code",
   "execution_count": 54,
   "metadata": {},
   "outputs": [
    {
     "name": "stderr",
     "output_type": "stream",
     "text": [
      "[nltk_data] Downloading package stopwords to\n",
      "[nltk_data]     C:\\Users\\SergS\\AppData\\Roaming\\nltk_data...\n",
      "[nltk_data]   Package stopwords is already up-to-date!\n",
      "[nltk_data] Downloading package wordnet to\n",
      "[nltk_data]     C:\\Users\\SergS\\AppData\\Roaming\\nltk_data...\n",
      "[nltk_data]   Package wordnet is already up-to-date!\n",
      "[nltk_data] Downloading package omw-1.4 to\n",
      "[nltk_data]     C:\\Users\\SergS\\AppData\\Roaming\\nltk_data...\n",
      "[nltk_data]   Package omw-1.4 is already up-to-date!\n"
     ]
    }
   ],
   "source": [
    "import pandas as pd\n",
    "from matplotlib import pyplot as plt\n",
    "import numpy as np\n",
    "\n",
    "from keras.utils import to_categorical\n",
    "from keras.preprocessing.text import Tokenizer\n",
    "from keras.utils import pad_sequences\n",
    "from keras import models\n",
    "from keras import Sequential\n",
    "from keras import layers\n",
    "from keras.callbacks import ModelCheckpoint\n",
    "from keras import optimizers\n",
    "from keras.metrics import AUC\n",
    "from keras.regularizers import L1\n",
    "\n",
    "import tensorflow as tf\n",
    "from tensorflow.keras import layers, models\n",
    "from tensorflow import keras\n",
    "from tensorflow.keras.callbacks import ModelCheckpoint, ReduceLROnPlateau\n",
    "from tensorflow.keras.callbacks import EarlyStopping\n",
    "\n",
    "import nltk\n",
    "nltk.download('stopwords')\n",
    "nltk.download('wordnet')\n",
    "nltk.download('omw-1.4')\n",
    "from nltk.corpus import stopwords\n",
    "from nltk.stem import WordNetLemmatizer\n",
    "\n",
    "from bs4 import BeautifulSoup \n",
    "import re"
   ]
  },
  {
   "cell_type": "code",
   "execution_count": 2,
   "metadata": {},
   "outputs": [],
   "source": [
    "colnames=['ID', 'Social network', 'Sentiment', 'Text'] "
   ]
  },
  {
   "cell_type": "code",
   "execution_count": 3,
   "metadata": {},
   "outputs": [],
   "source": [
    "df_train = pd.read_csv('twitter_training.csv', names=colnames, header=None)"
   ]
  },
  {
   "cell_type": "code",
   "execution_count": 4,
   "metadata": {},
   "outputs": [],
   "source": [
    "df_val = pd.read_csv('twitter_validation.csv', names=colnames, header=None)"
   ]
  },
  {
   "cell_type": "code",
   "execution_count": 5,
   "metadata": {},
   "outputs": [
    {
     "data": {
      "text/html": [
       "<div>\n",
       "<style scoped>\n",
       "    .dataframe tbody tr th:only-of-type {\n",
       "        vertical-align: middle;\n",
       "    }\n",
       "\n",
       "    .dataframe tbody tr th {\n",
       "        vertical-align: top;\n",
       "    }\n",
       "\n",
       "    .dataframe thead th {\n",
       "        text-align: right;\n",
       "    }\n",
       "</style>\n",
       "<table border=\"1\" class=\"dataframe\">\n",
       "  <thead>\n",
       "    <tr style=\"text-align: right;\">\n",
       "      <th></th>\n",
       "      <th>ID</th>\n",
       "      <th>Social network</th>\n",
       "      <th>Sentiment</th>\n",
       "      <th>Text</th>\n",
       "    </tr>\n",
       "  </thead>\n",
       "  <tbody>\n",
       "    <tr>\n",
       "      <th>0</th>\n",
       "      <td>2401</td>\n",
       "      <td>Borderlands</td>\n",
       "      <td>Positive</td>\n",
       "      <td>im getting on borderlands and i will murder yo...</td>\n",
       "    </tr>\n",
       "    <tr>\n",
       "      <th>1</th>\n",
       "      <td>2401</td>\n",
       "      <td>Borderlands</td>\n",
       "      <td>Positive</td>\n",
       "      <td>I am coming to the borders and I will kill you...</td>\n",
       "    </tr>\n",
       "  </tbody>\n",
       "</table>\n",
       "</div>"
      ],
      "text/plain": [
       "     ID Social network Sentiment  \\\n",
       "0  2401    Borderlands  Positive   \n",
       "1  2401    Borderlands  Positive   \n",
       "\n",
       "                                                Text  \n",
       "0  im getting on borderlands and i will murder yo...  \n",
       "1  I am coming to the borders and I will kill you...  "
      ]
     },
     "execution_count": 5,
     "metadata": {},
     "output_type": "execute_result"
    }
   ],
   "source": [
    "df_train.head(2)"
   ]
  },
  {
   "cell_type": "code",
   "execution_count": 9,
   "metadata": {},
   "outputs": [
    {
     "data": {
      "text/html": [
       "<div>\n",
       "<style scoped>\n",
       "    .dataframe tbody tr th:only-of-type {\n",
       "        vertical-align: middle;\n",
       "    }\n",
       "\n",
       "    .dataframe tbody tr th {\n",
       "        vertical-align: top;\n",
       "    }\n",
       "\n",
       "    .dataframe thead th {\n",
       "        text-align: right;\n",
       "    }\n",
       "</style>\n",
       "<table border=\"1\" class=\"dataframe\">\n",
       "  <thead>\n",
       "    <tr style=\"text-align: right;\">\n",
       "      <th></th>\n",
       "      <th>ID</th>\n",
       "      <th>Social network</th>\n",
       "      <th>Sentiment</th>\n",
       "      <th>Text</th>\n",
       "    </tr>\n",
       "  </thead>\n",
       "  <tbody>\n",
       "    <tr>\n",
       "      <th>0</th>\n",
       "      <td>3364</td>\n",
       "      <td>Facebook</td>\n",
       "      <td>Irrelevant</td>\n",
       "      <td>I mentioned on Facebook that I was struggling ...</td>\n",
       "    </tr>\n",
       "    <tr>\n",
       "      <th>1</th>\n",
       "      <td>352</td>\n",
       "      <td>Amazon</td>\n",
       "      <td>Neutral</td>\n",
       "      <td>BBC News - Amazon boss Jeff Bezos rejects clai...</td>\n",
       "    </tr>\n",
       "  </tbody>\n",
       "</table>\n",
       "</div>"
      ],
      "text/plain": [
       "     ID Social network   Sentiment  \\\n",
       "0  3364       Facebook  Irrelevant   \n",
       "1   352         Amazon     Neutral   \n",
       "\n",
       "                                                Text  \n",
       "0  I mentioned on Facebook that I was struggling ...  \n",
       "1  BBC News - Amazon boss Jeff Bezos rejects clai...  "
      ]
     },
     "execution_count": 9,
     "metadata": {},
     "output_type": "execute_result"
    }
   ],
   "source": [
    "df_val.head(2)"
   ]
  },
  {
   "cell_type": "code",
   "execution_count": 11,
   "metadata": {},
   "outputs": [
    {
     "name": "stdout",
     "output_type": "stream",
     "text": [
      "<class 'pandas.core.frame.DataFrame'>\n",
      "RangeIndex: 74682 entries, 0 to 74681\n",
      "Data columns (total 4 columns):\n",
      " #   Column          Non-Null Count  Dtype \n",
      "---  ------          --------------  ----- \n",
      " 0   ID              74682 non-null  int64 \n",
      " 1   Social network  74682 non-null  object\n",
      " 2   Sentiment       74682 non-null  object\n",
      " 3   Text            73996 non-null  object\n",
      "dtypes: int64(1), object(3)\n",
      "memory usage: 2.3+ MB\n"
     ]
    }
   ],
   "source": [
    "df_train.info()"
   ]
  },
  {
   "cell_type": "code",
   "execution_count": 12,
   "metadata": {},
   "outputs": [
    {
     "name": "stdout",
     "output_type": "stream",
     "text": [
      "<class 'pandas.core.frame.DataFrame'>\n",
      "RangeIndex: 1000 entries, 0 to 999\n",
      "Data columns (total 4 columns):\n",
      " #   Column          Non-Null Count  Dtype \n",
      "---  ------          --------------  ----- \n",
      " 0   ID              1000 non-null   int64 \n",
      " 1   Social network  1000 non-null   object\n",
      " 2   Sentiment       1000 non-null   object\n",
      " 3   Text            1000 non-null   object\n",
      "dtypes: int64(1), object(3)\n",
      "memory usage: 31.4+ KB\n"
     ]
    }
   ],
   "source": [
    "df_val.info()"
   ]
  },
  {
   "cell_type": "code",
   "execution_count": 6,
   "metadata": {},
   "outputs": [],
   "source": [
    "df_train = df_train.replace(to_replace='None', value=np.nan).dropna()"
   ]
  },
  {
   "cell_type": "code",
   "execution_count": 14,
   "metadata": {},
   "outputs": [
    {
     "name": "stdout",
     "output_type": "stream",
     "text": [
      "__________TRAIN__________\n",
      "Count of categories: 4\n",
      "Categories names: ['Positive' 'Neutral' 'Negative' 'Irrelevant']\n",
      "Categories values counts:\n",
      "Negative      22358\n",
      "Positive      20655\n",
      "Neutral       18108\n",
      "Irrelevant    12875\n",
      "Name: Sentiment, dtype: int64\n",
      "\n",
      "________VALIDATION________\n",
      "Count of categories: 4\n",
      "Categories names: ['Irrelevant' 'Neutral' 'Negative' 'Positive']\n",
      "Categories values counts:\n",
      "Neutral       285\n",
      "Positive      277\n",
      "Negative      266\n",
      "Irrelevant    172\n",
      "Name: Sentiment, dtype: int64\n"
     ]
    }
   ],
   "source": [
    "print(\"__________TRAIN__________\")\n",
    "print(f\"Count of categories: {len(df_train['Sentiment'].unique())}\")\n",
    "print(f\"Categories names: {df_train['Sentiment'].unique()}\")\n",
    "print(f\"Categories values counts:\\n{df_train['Sentiment'].value_counts()}\")\n",
    "print(\"\\n________VALIDATION________\")\n",
    "print(f\"Count of categories: {len(df_val['Sentiment'].unique())}\")\n",
    "print(f\"Categories names: {df_val['Sentiment'].unique()}\")\n",
    "print(f\"Categories values counts:\\n{df_val['Sentiment'].value_counts()}\")"
   ]
  },
  {
   "cell_type": "code",
   "execution_count": 15,
   "metadata": {},
   "outputs": [
    {
     "data": {
      "image/png": "[encoded data removed]",
      "text/plain": [
       "<Figure size 640x480 with 1 Axes>"
      ]
     },
     "metadata": {},
     "output_type": "display_data"
    },
    {
     "data": {
      "image/png": "[encoded data removed]",
      "text/plain": [
       "<Figure size 640x480 with 1 Axes>"
      ]
     },
     "metadata": {},
     "output_type": "display_data"
    }
   ],
   "source": [
    "plt.hist(df_train['Sentiment'])\n",
    "plt.title(\"Train categories\")\n",
    "plt.show()\n",
    "\n",
    "plt.hist(df_val['Sentiment'])\n",
    "plt.title(\"Validation categories\")\n",
    "plt.show()"
   ]
  },
  {
   "cell_type": "code",
   "execution_count": 9,
   "metadata": {},
   "outputs": [],
   "source": [
    "def cleaned_review(review):\n",
    "  stop = stopwords.words(\"english\")\n",
    "  stop.remove('not')\n",
    "  stop.remove('no')\n",
    "  \n",
    "  lemmatizer = WordNetLemmatizer()\n",
    "  # убираем теги html\n",
    "  new_review = BeautifulSoup(review).get_text()\n",
    "  # убираем url\n",
    "  no_urls = new_review.replace('http\\S+', '').replace('www\\S+', '')\n",
    "  # убираем символы кроме букв\n",
    "  clean_review = re.sub(\"[^a-zA-Z]\", \" \", no_urls)\n",
    "  # приводим в нижнему регистру\n",
    "  new_words = clean_review.lower().split()\n",
    "  # лематизируем и убираем стоп-слова\n",
    "  final_words = [lemmatizer.lemmatize(word) for word in new_words if not word in stop]\n",
    "    \n",
    "  return (\" \".join(final_words))"
   ]
  },
  {
   "cell_type": "code",
   "execution_count": 10,
   "metadata": {},
   "outputs": [
    {
     "name": "stderr",
     "output_type": "stream",
     "text": [
      "c:\\Users\\SergS\\anaconda3\\lib\\site-packages\\bs4\\__init__.py:435: MarkupResemblesLocatorWarning: The input looks more like a filename than markup. You may want to open this file and pass the filehandle into Beautiful Soup.\n",
      "  warnings.warn(\n"
     ]
    }
   ],
   "source": [
    "df_train['Text'] = df_train['Text'].apply(lambda x:cleaned_review(x))"
   ]
  },
  {
   "cell_type": "code",
   "execution_count": 11,
   "metadata": {},
   "outputs": [],
   "source": [
    "df_val['Text'] = df_val['Text'].apply(lambda x:cleaned_review(x))"
   ]
  },
  {
   "cell_type": "code",
   "execution_count": 37,
   "metadata": {},
   "outputs": [],
   "source": [
    "train_data = df_train['Text'].to_list()\n",
    "val_data = df_val['Text'].to_list()\n",
    "train_data = np.concatenate([train_data, val_data])"
   ]
  },
  {
   "cell_type": "code",
   "execution_count": 38,
   "metadata": {},
   "outputs": [],
   "source": [
    "train_categ = df_train['Sentiment']\n",
    "val_categ = df_val['Sentiment']"
   ]
  },
  {
   "cell_type": "code",
   "execution_count": 39,
   "metadata": {},
   "outputs": [
    {
     "name": "stdout",
     "output_type": "stream",
     "text": [
      "['Positive', 'Neutral', 'Negative', 'Irrelevant']\n",
      "{'Positive': 0, 'Neutral': 1, 'Negative': 2, 'Irrelevant': 3}\n"
     ]
    }
   ],
   "source": [
    "labels = list(df_train['Sentiment'].unique())\n",
    "label2id = {v:k for k,v in enumerate(labels)}\n",
    "print(labels)\n",
    "print(label2id)"
   ]
  },
  {
   "cell_type": "code",
   "execution_count": 40,
   "metadata": {},
   "outputs": [],
   "source": [
    "train_targets = np.array(df_train[\"Sentiment\"].map(label2id).to_list())\n",
    "val_targets = np.array(df_val['Sentiment'].map(label2id).to_list())\n",
    "train_targets = np.concatenate([train_targets, val_targets])"
   ]
  },
  {
   "cell_type": "code",
   "execution_count": 41,
   "metadata": {},
   "outputs": [],
   "source": [
    "max_len = 128   # отсечение остатка отзывов после 500-го слова\n",
    "max_words = 27191     # рассмотрение только 10_000 наиболее часто используемых слов\n",
    "\n",
    "tokenizer = Tokenizer(num_words=max_words, filters='!\"#$%&()*+,-./:;<=>?@[\\\\]^_`{|}~\\t\\n')  # создаем токенайзер\n",
    "vocab = tokenizer.fit_on_texts(train_data)   # создаем словарь на основе слов из текста \n",
    "sequences = tokenizer.texts_to_sequences(train_data) # преобразуем каждый текст в последовательность чисел"
   ]
  },
  {
   "cell_type": "code",
   "execution_count": 42,
   "metadata": {},
   "outputs": [
    {
     "name": "stdout",
     "output_type": "stream",
     "text": [
      "Found 27192 unique tokens\n"
     ]
    }
   ],
   "source": [
    "word_index = tokenizer.word_index   # получаем количество уникальных слов\n",
    "print('Found %s unique tokens'%len(word_index))"
   ]
  },
  {
   "cell_type": "code",
   "execution_count": 43,
   "metadata": {},
   "outputs": [],
   "source": [
    "train_texts = pad_sequences(sequences, maxlen=max_len)   # преобразуем в массив numpy размером (num_samples, max_len)"
   ]
  },
  {
   "cell_type": "code",
   "execution_count": 44,
   "metadata": {},
   "outputs": [
    {
     "name": "stdout",
     "output_type": "stream",
     "text": [
      "(74996,)\n"
     ]
    }
   ],
   "source": [
    "print(train_targets.shape)"
   ]
  },
  {
   "cell_type": "code",
   "execution_count": null,
   "metadata": {},
   "outputs": [],
   "source": []
  },
  {
   "cell_type": "code",
   "execution_count": 45,
   "metadata": {},
   "outputs": [],
   "source": [
    "indices = np.arange(train_targets.shape[0])    # перемешиваем данные\n",
    "np.random.shuffle(indices)\n",
    "train_texts = train_texts[indices]\n",
    "train_targets = train_targets[indices]\n",
    "# train test split\n",
    "test_texts = train_texts[:10_000]\n",
    "test_targets = train_targets[:10_000]\n",
    "\n",
    "train_texts = train_texts[10_000:]\n",
    "train_targets = train_targets[10_000:]"
   ]
  },
  {
   "cell_type": "code",
   "execution_count": 46,
   "metadata": {},
   "outputs": [],
   "source": [
    "train_targets = to_categorical(train_targets)\n",
    "test_targets = to_categorical(test_targets)"
   ]
  },
  {
   "cell_type": "code",
   "execution_count": 47,
   "metadata": {},
   "outputs": [
    {
     "name": "stdout",
     "output_type": "stream",
     "text": [
      "Train texts shape: (64996, 128)\n",
      "Test texts shape: (10000, 128)\n"
     ]
    }
   ],
   "source": [
    "print(f\"Train texts shape: {train_texts.shape}\")\n",
    "print(f\"Test texts shape: {test_texts.shape}\")"
   ]
  },
  {
   "cell_type": "code",
   "execution_count": 48,
   "metadata": {},
   "outputs": [
    {
     "name": "stdout",
     "output_type": "stream",
     "text": [
      "Train targets shape: (64996, 4)\n",
      "Test targets shape: (10000, 4)\n"
     ]
    }
   ],
   "source": [
    "print(f\"Train targets shape: {train_targets.shape}\")\n",
    "print(f\"Test targets shape: {test_targets.shape}\")"
   ]
  },
  {
   "cell_type": "code",
   "execution_count": 36,
   "metadata": {},
   "outputs": [
    {
     "data": {
      "text/plain": [
       "27191"
      ]
     },
     "execution_count": 36,
     "metadata": {},
     "output_type": "execute_result"
    }
   ],
   "source": []
  },
  {
   "cell_type": "code",
   "execution_count": 49,
   "metadata": {},
   "outputs": [
    {
     "name": "stdout",
     "output_type": "stream",
     "text": [
      "(None, 64, 128)\n",
      "Model: \"model_1\"\n",
      "__________________________________________________________________________________________________\n",
      " Layer (type)                   Output Shape         Param #     Connected to                     \n",
      "==================================================================================================\n",
      " input_2 (InputLayer)           [(None, 128)]        0           []                               \n",
      "                                                                                                  \n",
      " embedding_1 (Embedding)        (None, 128, 128)     3480448     ['input_2[0][0]']                \n",
      "                                                                                                  \n",
      " conv1d_1 (Conv1D)              (None, 128, 64)      24640       ['embedding_1[0][0]']            \n",
      "                                                                                                  \n",
      " max_pooling1d_1 (MaxPooling1D)  (None, 64, 64)      0           ['conv1d_1[0][0]']               \n",
      "                                                                                                  \n",
      " dense_5 (Dense)                (None, 64, 128)      8320        ['max_pooling1d_1[0][0]']        \n",
      "                                                                                                  \n",
      " dense_6 (Dense)                (None, 64, 128)      8320        ['max_pooling1d_1[0][0]']        \n",
      "                                                                                                  \n",
      " dense_7 (Dense)                (None, 64, 128)      8320        ['max_pooling1d_1[0][0]']        \n",
      "                                                                                                  \n",
      " multi_head_attention_1 (MultiH  (None, 64, 128)     527488      ['dense_5[0][0]',                \n",
      " eadAttention)                                                    'dense_6[0][0]',                \n",
      "                                                                  'dense_7[0][0]']                \n",
      "                                                                                                  \n",
      " global_average_pooling1d_1 (Gl  (None, 128)         0           ['multi_head_attention_1[0][0]'] \n",
      " obalAveragePooling1D)                                                                            \n",
      "                                                                                                  \n",
      " dense_8 (Dense)                (None, 64)           8256        ['global_average_pooling1d_1[0][0\n",
      "                                                                 ]']                              \n",
      "                                                                                                  \n",
      " dense_9 (Dense)                (None, 4)            260         ['dense_8[0][0]']                \n",
      "                                                                                                  \n",
      "==================================================================================================\n",
      "Total params: 4,066,052\n",
      "Trainable params: 4,066,052\n",
      "Non-trainable params: 0\n",
      "__________________________________________________________________________________________________\n"
     ]
    }
   ],
   "source": [
    "\n",
    "\n",
    "# Гиперпараметры\n",
    "vocab_size = max_words  # Размер словаря\n",
    "embedding_dim = 128  # Размерность эмбеддинга\n",
    "max_length = 128  # Максимальная длина входной последовательности\n",
    "num_classes = 4  # Количество классов для классификации\n",
    "num_heads = 8  # Количество головок внимания\n",
    "num_filters = 64  # Количество фильтров в сверточном слое\n",
    "\n",
    "# Слои модели\n",
    "input_layer = layers.Input(shape=(max_length,))\n",
    "embedding_layer = layers.Embedding(vocab_size, embedding_dim)(input_layer)\n",
    "\n",
    "# Conv2D слой\n",
    "conv_layer = layers.Conv1D(num_filters, 3, activation='relu', padding='same')(embedding_layer)\n",
    "conv_layer = layers.MaxPooling1D(pool_size=2)(conv_layer)\n",
    "\n",
    "# Multi-head attention слой (ЭТО МОЖНО УДАЛИТЬ)\n",
    "query = layers.Dense(embedding_dim)(conv_layer)\n",
    "key = layers.Dense(embedding_dim)(conv_layer)\n",
    "value = layers.Dense(embedding_dim)(conv_layer)\n",
    "print(query.shape)\n",
    "attention_output = layers.MultiHeadAttention(num_heads=num_heads, key_dim=embedding_dim)(query, key, value)\n",
    "attention_output = layers.GlobalAveragePooling1D()(attention_output)\n",
    "\n",
    "# Полносвязный слой и выходной слой\n",
    "dense_layer = layers.Dense(64, activation='relu')(attention_output)\n",
    "output_layer = layers.Dense(num_classes, activation='softmax')(dense_layer)\n",
    "\n",
    "# Создание и компиляция модели\n",
    "model = models.Model(inputs=input_layer, outputs=output_layer)\n",
    "model.compile(loss='categorical_crossentropy', optimizer='adam', metrics=['accuracy'])\n",
    "\n",
    "model.summary()"
   ]
  },
  {
   "cell_type": "code",
   "execution_count": 50,
   "metadata": {},
   "outputs": [
    {
     "name": "stdout",
     "output_type": "stream",
     "text": [
      "You must install pydot (`pip install pydot`) and install graphviz (see instructions at https://graphviz.gitlab.io/download/) for plot_model to work.\n"
     ]
    }
   ],
   "source": [
    "keras.utils.plot_model(model, show_shapes=True)"
   ]
  },
  {
   "cell_type": "code",
   "execution_count": 60,
   "metadata": {},
   "outputs": [],
   "source": [
    "# checkpoint = ModelCheckpoint(filepath='best_attention.h5', save_best_only = True, monitor='val_loss')\n",
    "# lr_scheduler = ReduceLROnPlateau(factor=0.2, patience=2)\n",
    "es_callback = EarlyStopping(patience=10, verbose=1, restore_best_weights=True)"
   ]
  },
  {
   "cell_type": "code",
   "execution_count": null,
   "metadata": {},
   "outputs": [],
   "source": [
    "model.compile(loss='categorical_crossentropy', optimizer=optimizers.RMSprop(), metrics=['acc', AUC()])"
   ]
  },
  {
   "cell_type": "code",
   "execution_count": null,
   "metadata": {},
   "outputs": [],
   "source": [
    "\n",
    "history = model.fit(train_texts, train_targets, epochs=100, validation_split=0.2, batch_size=256, callbacks=[es_callback])\n",
    "model.save('best_attention.h5')"
   ]
  },
  {
   "cell_type": "code",
   "execution_count": 62,
   "metadata": {},
   "outputs": [],
   "source": [
    "model = tf.keras.models.load_model(\"best_attention.h5\")"
   ]
  },
  {
   "cell_type": "code",
   "execution_count": 63,
   "metadata": {},
   "outputs": [
    {
     "name": "stdout",
     "output_type": "stream",
     "text": [
      "313/313 [==============================] - 3s 7ms/step - loss: 0.5119 - acc: 0.8764 - auc_2: 0.9703\n"
     ]
    },
    {
     "data": {
      "text/plain": [
       "[0.5118789076805115, 0.8763999938964844, 0.9703169465065002]"
      ]
     },
     "execution_count": 63,
     "metadata": {},
     "output_type": "execute_result"
    }
   ],
   "source": [
    "model.evaluate(test_texts, test_targets)"
   ]
  },
  {
   "cell_type": "code",
   "execution_count": null,
   "metadata": {},
   "outputs": [],
   "source": []
  },
  {
   "cell_type": "code",
   "execution_count": null,
   "metadata": {},
   "outputs": [],
   "source": []
  }
 ],
 "metadata": {
  "kernelspec": {
   "display_name": "Python 3",
   "language": "python",
   "name": "python3"
  },
  "language_info": {
   "codemirror_mode": {
    "name": "ipython",
    "version": 3
   },
   "file_extension": ".py",
   "mimetype": "text/x-python",
   "name": "python",
   "nbconvert_exporter": "python",
   "pygments_lexer": "ipython3",
   "version": "3.10.9"
  },
  "orig_nbformat": 4
 },
 "nbformat": 4,
 "nbformat_minor": 2
}
