{
 "cells": [
  {
   "cell_type": "code",
   "execution_count": 2,
   "metadata": {},
   "outputs": [],
   "source": [
    "import numpy as np"
   ]
  },
  {
   "cell_type": "code",
   "execution_count": 18,
   "metadata": {},
   "outputs": [
    {
     "name": "stdout",
     "output_type": "stream",
     "text": [
      "[1. 2. 3. 4. 5. 6. 7. 8. 9.]\n",
      "[9. 8. 7. 6. 5. 4. 3. 2. 1.]\n"
     ]
    }
   ],
   "source": [
    "#Создайте массивы a = [1., 2., 3., 4., 5., 6., 7., 8., 9.]\n",
    "#b = [9., 8., 7., 6., 5., 4., 3., 2., 1.] с помощью конструктора np.linspace\n",
    "a = np.linspace(1, 9, 9)\n",
    "b = np.linspace(9, 1, 9)\n",
    "print(a)\n",
    "print(b)"
   ]
  },
  {
   "cell_type": "code",
   "execution_count": 19,
   "metadata": {},
   "outputs": [
    {
     "name": "stdout",
     "output_type": "stream",
     "text": [
      "[ True  True  True  True False False False False False]\n",
      "[False False False False  True False False False False]\n",
      "[False False False False False  True  True  True  True]\n"
     ]
    }
   ],
   "source": [
    "#Сравните массивы между собой (выполните операции <, =, >)\n",
    "print(a < b)\n",
    "print(a == b)\n",
    "print(a > b)"
   ]
  },
  {
   "cell_type": "code",
   "execution_count": 21,
   "metadata": {},
   "outputs": [
    {
     "name": "stdout",
     "output_type": "stream",
     "text": [
      "[ 9. 16. 21. 24. 25. 24. 21. 16.  9.]\n"
     ]
    }
   ],
   "source": [
    "#Выполните поэлементное умножение массивов \n",
    "c = a*b\n",
    "print(c)"
   ]
  },
  {
   "cell_type": "code",
   "execution_count": 23,
   "metadata": {},
   "outputs": [
    {
     "data": {
      "text/plain": [
       "18.333333333333332"
      ]
     },
     "execution_count": 23,
     "metadata": {},
     "output_type": "execute_result"
    }
   ],
   "source": [
    "#Найдите среднее значение массива полученного на шаге 3\n",
    "c.mean()"
   ]
  },
  {
   "cell_type": "code",
   "execution_count": 25,
   "metadata": {},
   "outputs": [
    {
     "name": "stdout",
     "output_type": "stream",
     "text": [
      "[-9.33333333 -2.33333333  2.66666667  5.66666667  6.66666667  5.66666667\n",
      "  2.66666667 -2.33333333 -9.33333333]\n"
     ]
    }
   ],
   "source": [
    "#вычтите полученное среднее на шаге 4 из массива, полученного на шаге 3\n",
    "c -=c.mean()\n",
    "print(c)"
   ]
  },
  {
   "cell_type": "code",
   "execution_count": 26,
   "metadata": {},
   "outputs": [
    {
     "data": {
      "text/plain": [
       "165.0"
      ]
     },
     "execution_count": 26,
     "metadata": {},
     "output_type": "execute_result"
    }
   ],
   "source": [
    "#    найдите скалярное произведение массивов/векторов a и b\n",
    "#подсказка - скалярное произведение можно посчитать так np.dot(a,b)\n",
    "scalar_multiplication = np.dot(a,b)\n",
    "scalar_multiplication"
   ]
  },
  {
   "cell_type": "code",
   "execution_count": 28,
   "metadata": {},
   "outputs": [
    {
     "name": "stdout",
     "output_type": "stream",
     "text": [
      "[[1. 2. 3.]\n",
      " [4. 5. 6.]\n",
      " [7. 8. 9.]]\n",
      "[[9. 8. 7.]\n",
      " [6. 5. 4.]\n",
      " [3. 2. 1.]]\n"
     ]
    }
   ],
   "source": [
    "#преобразуйте массивы a и b в двумерные массивы размером 3х3\n",
    "two_dimensions_array_a = a.reshape((3,3))\n",
    "two_dimensions_array_b = b.reshape((3,3))\n",
    "print(two_dimensions_array_a)\n",
    "print(two_dimensions_array_b)"
   ]
  },
  {
   "cell_type": "code",
   "execution_count": 30,
   "metadata": {},
   "outputs": [
    {
     "data": {
      "text/plain": [
       "array([[ 30.,  24.,  18.],\n",
       "       [ 84.,  69.,  54.],\n",
       "       [138., 114.,  90.]])"
      ]
     },
     "execution_count": 30,
     "metadata": {},
     "output_type": "execute_result"
    }
   ],
   "source": [
    "#примените к полученным на шаге 7 массивам функцию dot. Как вы думаете - что вы получили в результате?\n",
    "scalar_multiplication_two_dimensions_array = np.dot(two_dimensions_array_a,two_dimensions_array_b)\n",
    "scalar_multiplication_two_dimensions_array"
   ]
  },
  {
   "cell_type": "markdown",
   "metadata": {},
   "source": [
    "матричное умножение"
   ]
  },
  {
   "cell_type": "code",
   "execution_count": null,
   "metadata": {},
   "outputs": [],
   "source": []
  },
  {
   "cell_type": "code",
   "execution_count": 40,
   "metadata": {},
   "outputs": [],
   "source": [
    "a =  np.array([55, -10, 14, 458, 33, -21, 5])\n",
    "b =  np.array([89, 15, 9, 45, -22, -8, -18])\n",
    "c =  np.array([42, -70, 38, 1742, 176, -68, -16])"
   ]
  },
  {
   "cell_type": "code",
   "execution_count": 46,
   "metadata": {},
   "outputs": [
    {
     "name": "stdout",
     "output_type": "stream",
     "text": [
      "[ 288   10   46 1006   22  -58  -26]\n"
     ]
    }
   ],
   "source": [
    "#2*(a+b)\n",
    "print(2*(a+b))\n"
   ]
  },
  {
   "cell_type": "code",
   "execution_count": 45,
   "metadata": {},
   "outputs": [
    {
     "name": "stdout",
     "output_type": "stream",
     "text": [
      "338353\n"
     ]
    }
   ],
   "source": [
    "#ac + b(4c)\n",
    "print(np.dot(a, b) + np.dot(b, (4*c)))"
   ]
  },
  {
   "cell_type": "code",
   "execution_count": null,
   "metadata": {},
   "outputs": [],
   "source": []
  }
 ],
 "metadata": {
  "kernelspec": {
   "display_name": "Python 3",
   "language": "python",
   "name": "python3"
  },
  "language_info": {
   "codemirror_mode": {
    "name": "ipython",
    "version": 3
   },
   "file_extension": ".py",
   "mimetype": "text/x-python",
   "name": "python",
   "nbconvert_exporter": "python",
   "pygments_lexer": "ipython3",
   "version": "3.7.4"
  }
 },
 "nbformat": 4,
 "nbformat_minor": 2
}
