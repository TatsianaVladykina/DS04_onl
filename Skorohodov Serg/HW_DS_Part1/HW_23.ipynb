{
 "cells": [
  {
   "cell_type": "markdown",
   "source": [
    "В качестве домашки\n",
    "1. Попробуйте обучить три сети представленные в тетради.\n",
    "(Разморозкой слоев заниматься не надо, разберем разморозку на уроке.)\n",
    "Сохраните модели.\n",
    "\n",
    "2. Напишите функцию принимающую изображение и дающую прогноз (кот /собака) с использованием всех трех моделей."
   ],
   "metadata": {
    "id": "mOh67bvUjr_K"
   },
   "id": "mOh67bvUjr_K"
  },
  {
   "cell_type": "code",
   "source": [
    "from google.colab import drive\n",
    "from google.colab import files"
   ],
   "metadata": {
    "id": "qZS1Q4bqjpgs"
   },
   "id": "qZS1Q4bqjpgs",
   "execution_count": null,
   "outputs": []
  },
  {
   "cell_type": "code",
   "execution_count": null,
   "id": "b4bb5266",
   "metadata": {
    "id": "b4bb5266"
   },
   "outputs": [],
   "source": [
    "!mkdir GD"
   ]
  },
  {
   "cell_type": "code",
   "source": [],
   "metadata": {
    "id": "0Enj8Nt0ck13"
   },
   "id": "0Enj8Nt0ck13",
   "execution_count": null,
   "outputs": []
  },
  {
   "cell_type": "code",
   "execution_count": null,
   "id": "482c9680",
   "metadata": {
    "colab": {
     "base_uri": "https://localhost:8080/"
    },
    "id": "482c9680",
    "outputId": "65144f42-83e3-4ce5-b22a-8c24dd86ab86"
   },
   "outputs": [
    {
     "output_type": "stream",
     "name": "stdout",
     "text": [
      "Mounted at /GD\n"
     ]
    }
   ],
   "source": [
    "drive.mount('/GD',force_remount=True)"
   ]
  },
  {
   "cell_type": "code",
   "execution_count": null,
   "id": "d1a6451a",
   "metadata": {
    "id": "d1a6451a"
   },
   "outputs": [],
   "source": [
    "!cp -r /GD/'My Drive'/\"data\"/PetImages.zip ."
   ]
  },
  {
   "cell_type": "code",
   "source": [
    "!ls /GD/'My Drive'/\"data\"/"
   ],
   "metadata": {
    "colab": {
     "base_uri": "https://localhost:8080/"
    },
    "id": "LMfxFFdrzYEV",
    "outputId": "6a3f4761-e8ae-4ca8-b270-07ee06ca1dab"
   },
   "id": "LMfxFFdrzYEV",
   "execution_count": null,
   "outputs": [
    {
     "output_type": "stream",
     "name": "stdout",
     "text": [
      "PetImages.zip  test_labels.csv\ttrain_labels.csv\n"
     ]
    }
   ]
  },
  {
   "cell_type": "code",
   "source": [
    "!cd  /GD/'My Drive'/\"data\"/"
   ],
   "metadata": {
    "id": "7gaE8EO1jWpt"
   },
   "id": "7gaE8EO1jWpt",
   "execution_count": null,
   "outputs": []
  },
  {
   "cell_type": "code",
   "source": [
    "!unzip PetImages.zip\n"
   ],
   "metadata": {
    "id": "BW562UfLzYOD"
   },
   "id": "BW562UfLzYOD",
   "execution_count": null,
   "outputs": []
  },
  {
   "cell_type": "code",
   "source": [
    "!cd"
   ],
   "metadata": {
    "id": "-rhRVRxwzYQr"
   },
   "id": "-rhRVRxwzYQr",
   "execution_count": null,
   "outputs": []
  },
  {
   "cell_type": "code",
   "execution_count": null,
   "id": "52fdfde1",
   "metadata": {
    "id": "52fdfde1"
   },
   "outputs": [],
   "source": [
    "import tensorflow as tf\n",
    "from tensorflow.keras import models\n",
    "from tensorflow.keras import layers"
   ]
  },
  {
   "cell_type": "code",
   "execution_count": null,
   "id": "4244684a",
   "metadata": {
    "colab": {
     "base_uri": "https://localhost:8080/"
    },
    "id": "4244684a",
    "outputId": "1f7815b4-23d7-4079-8bfc-8b322466a5de"
   },
   "outputs": [
    {
     "output_type": "stream",
     "name": "stdout",
     "text": [
      "GD  PetImages  PetImages.zip  sample_data\n"
     ]
    }
   ],
   "source": [
    "!ls "
   ]
  },
  {
   "cell_type": "code",
   "execution_count": null,
   "id": "7e67aa2d",
   "metadata": {
    "id": "7e67aa2d"
   },
   "outputs": [],
   "source": [
    "!mkdir PetImages/validation_data"
   ]
  },
  {
   "cell_type": "code",
   "execution_count": null,
   "id": "9196e5fd",
   "metadata": {
    "id": "9196e5fd"
   },
   "outputs": [],
   "source": [
    "!mkdir PetImages/validation_data/Dog"
   ]
  },
  {
   "cell_type": "code",
   "execution_count": null,
   "id": "020a93b0",
   "metadata": {
    "id": "020a93b0"
   },
   "outputs": [],
   "source": [
    "!mkdir PetImages/validation_data/Cat"
   ]
  },
  {
   "cell_type": "code",
   "execution_count": null,
   "id": "b0cf9af2",
   "metadata": {
    "colab": {
     "base_uri": "https://localhost:8080/"
    },
    "id": "b0cf9af2",
    "outputId": "f2e82830-56d3-45bd-d489-b7c97086ed6d"
   },
   "outputs": [
    {
     "output_type": "stream",
     "name": "stdout",
     "text": [
      "Cat  Dog\n"
     ]
    }
   ],
   "source": [
    "!ls PetImages/validation_data"
   ]
  },
  {
   "cell_type": "markdown",
   "id": "e8858ab6",
   "metadata": {
    "id": "e8858ab6"
   },
   "source": [
    "## разделение данных на тестовое и обучающее множество"
   ]
  },
  {
   "cell_type": "code",
   "execution_count": null,
   "id": "e17e10ed",
   "metadata": {
    "id": "e17e10ed"
   },
   "outputs": [],
   "source": [
    "import os, shutil\n",
    "import random as rn"
   ]
  },
  {
   "cell_type": "code",
   "execution_count": null,
   "id": "c908be73",
   "metadata": {
    "id": "c908be73"
   },
   "outputs": [],
   "source": [
    "train_dirs = ['PetImages/train/Dog', \n",
    "              'PetImages/train/Cat']\n",
    "\n",
    "test_dirs =  ['PetImages/validation_data/Dog', \n",
    "              'PetImages/validation_data/Cat']"
   ]
  },
  {
   "cell_type": "code",
   "execution_count": null,
   "id": "35173875",
   "metadata": {
    "collapsed": true,
    "id": "35173875"
   },
   "outputs": [],
   "source": [
    "# Страшный код\n",
    "\n",
    "for i in range(len(train_dirs)):\n",
    "    fnames = os.listdir(train_dirs[i])\n",
    "    toCopy = len(fnames)//10\n",
    "\n",
    "    filesToCopy = []\n",
    "    for j in range(toCopy):\n",
    "        filesToCopy.append(rn.choice(fnames))\n",
    "    \n",
    "    # cOPY\n",
    "         \n",
    "    for fi in filesToCopy:\n",
    "        src = os.path.join(train_dirs[i],fi)\n",
    "        dst = os.path.join(test_dirs[i], fi)\n",
    "        shutil.copyfile(src,dst)\n",
    "\n",
    "    \n",
    "    for fi in filesToCopy:\n",
    "        try:\n",
    "            src = os.path.join(train_dirs[i],fi)\n",
    "            os.remove(src)\n",
    "            print(src+' deleted')\n",
    "            #time.sleep(1)\n",
    "        except:\n",
    "            pass\n"
   ]
  },
  {
   "cell_type": "code",
   "execution_count": null,
   "id": "7784821f",
   "metadata": {
    "id": "7784821f"
   },
   "outputs": [],
   "source": [
    "# осмотр получившихся директорий"
   ]
  },
  {
   "cell_type": "code",
   "execution_count": null,
   "id": "e6e85563",
   "metadata": {
    "id": "e6e85563"
   },
   "outputs": [],
   "source": [
    "!ls PetImages/validation_data/Dog"
   ]
  },
  {
   "cell_type": "code",
   "source": [],
   "metadata": {
    "id": "D7iQlVlJgqqS"
   },
   "id": "D7iQlVlJgqqS",
   "execution_count": null,
   "outputs": []
  },
  {
   "cell_type": "code",
   "source": [],
   "metadata": {
    "id": "9W7SbR6egqtq"
   },
   "id": "9W7SbR6egqtq",
   "execution_count": null,
   "outputs": []
  },
  {
   "cell_type": "markdown",
   "id": "790410f7",
   "metadata": {
    "id": "790410f7"
   },
   "source": [
    "## подготовка генераторов"
   ]
  },
  {
   "cell_type": "code",
   "execution_count": null,
   "id": "0eb2cfc2",
   "metadata": {
    "id": "0eb2cfc2"
   },
   "outputs": [],
   "source": [
    "# Воспоминание о генераторах"
   ]
  },
  {
   "cell_type": "code",
   "execution_count": null,
   "id": "ec5e7636",
   "metadata": {
    "id": "ec5e7636"
   },
   "outputs": [],
   "source": [
    "def int_generator ():\n",
    "    i = 0\n",
    "    while True:\n",
    "        yield i\n",
    "        i += 1\n",
    "        "
   ]
  },
  {
   "cell_type": "code",
   "execution_count": null,
   "id": "c9474c4c",
   "metadata": {
    "id": "c9474c4c"
   },
   "outputs": [],
   "source": [
    "j = 0\n",
    "for item in int_generator():\n",
    "    print (item)\n",
    "    j += 1\n",
    "    if j > 10:\n",
    "        break"
   ]
  },
  {
   "cell_type": "code",
   "execution_count": null,
   "id": "d5b31a23",
   "metadata": {
    "id": "d5b31a23"
   },
   "outputs": [],
   "source": []
  },
  {
   "cell_type": "code",
   "execution_count": null,
   "id": "e3dce6ce",
   "metadata": {
    "id": "e3dce6ce"
   },
   "outputs": [],
   "source": [
    "# взрослый генератор"
   ]
  },
  {
   "cell_type": "code",
   "execution_count": null,
   "id": "cdd93a2b",
   "metadata": {
    "id": "cdd93a2b"
   },
   "outputs": [],
   "source": [
    "Pic_Y, Pic_X = 180, 180\n",
    "from tensorflow.keras.preprocessing.image import ImageDataGenerator"
   ]
  },
  {
   "cell_type": "code",
   "execution_count": null,
   "id": "83d2ca3c",
   "metadata": {
    "colab": {
     "base_uri": "https://localhost:8080/"
    },
    "id": "83d2ca3c",
    "outputId": "a584a40c-e1d1-45c0-b65a-5810512c4605"
   },
   "outputs": [
    {
     "output_type": "stream",
     "name": "stdout",
     "text": [
      "Found 18517 images belonging to 2 classes.\n"
     ]
    }
   ],
   "source": [
    "train_datagen = ImageDataGenerator(rescale = 1./255)\n",
    "                            \n",
    "train_generator = train_datagen.flow_from_directory('PetImages/train',\n",
    "                                                   target_size = (Pic_Y, Pic_X),\n",
    "                                                   batch_size = 64,\n",
    "                                                   class_mode = 'binary')"
   ]
  },
  {
   "cell_type": "code",
   "execution_count": null,
   "id": "60e0ca9d",
   "metadata": {
    "colab": {
     "base_uri": "https://localhost:8080/"
    },
    "id": "60e0ca9d",
    "outputId": "82ffaaa2-3d02-4d7a-a8f7-4231b36ee602"
   },
   "outputs": [
    {
     "output_type": "stream",
     "name": "stdout",
     "text": [
      "Found 4542 images belonging to 2 classes.\n"
     ]
    }
   ],
   "source": [
    "test_datagen = ImageDataGenerator(rescale = 1./255)\n",
    "                            \n",
    "test_generator = test_datagen.flow_from_directory('PetImages/test',\n",
    "                                                   target_size = (Pic_Y, Pic_X),\n",
    "                                                   batch_size = 64,\n",
    "                                                   class_mode = 'binary')"
   ]
  },
  {
   "cell_type": "code",
   "execution_count": null,
   "id": "d407a69c",
   "metadata": {
    "id": "d407a69c"
   },
   "outputs": [],
   "source": [
    "# Обучение модели с 0\n",
    "\n",
    "model = models.Sequential()\n",
    "\n",
    "model.add(layers.Conv2D(filters=32, kernel_size=3, activation=\"relu\", input_shape = (Pic_Y, Pic_X, 3)))\n",
    "model.add(layers.MaxPooling2D(pool_size=2))\n",
    "\n",
    "model.add(layers.Conv2D(filters=64, kernel_size=3, activation=\"relu\"))\n",
    "model.add(layers.MaxPooling2D(pool_size=2))\n",
    "\n",
    "model.add(layers.Conv2D(filters=128, kernel_size=3, activation=\"relu\"))\n",
    "model.add(layers.MaxPooling2D(pool_size=2))\n",
    "\n",
    "model.add(layers.Conv2D(filters=256, kernel_size=3, activation=\"relu\"))\n",
    "model.add(layers.MaxPooling2D(pool_size=2))\n",
    "model.add(layers.Conv2D(filters=256, kernel_size=3, activation=\"relu\"))\n",
    "\n",
    "model.add(layers.Flatten())\n",
    "model.add(layers.Dense(1, activation=\"sigmoid\"))\n"
   ]
  },
  {
   "cell_type": "code",
   "source": [
    "model.summary()"
   ],
   "metadata": {
    "id": "fTi_q6v6kQvW",
    "colab": {
     "base_uri": "https://localhost:8080/"
    },
    "outputId": "74e12c2b-6490-4375-8a5b-6de8b952b284"
   },
   "id": "fTi_q6v6kQvW",
   "execution_count": null,
   "outputs": [
    {
     "output_type": "stream",
     "name": "stdout",
     "text": [
      "Model: \"sequential\"\n",
      "_________________________________________________________________\n",
      " Layer (type)                Output Shape              Param #   \n",
      "=================================================================\n",
      " conv2d (Conv2D)             (None, 178, 178, 32)      896       \n",
      "                                                                 \n",
      " max_pooling2d (MaxPooling2D  (None, 89, 89, 32)       0         \n",
      " )                                                               \n",
      "                                                                 \n",
      " conv2d_1 (Conv2D)           (None, 87, 87, 64)        18496     \n",
      "                                                                 \n",
      " max_pooling2d_1 (MaxPooling  (None, 43, 43, 64)       0         \n",
      " 2D)                                                             \n",
      "                                                                 \n",
      " conv2d_2 (Conv2D)           (None, 41, 41, 128)       73856     \n",
      "                                                                 \n",
      " max_pooling2d_2 (MaxPooling  (None, 20, 20, 128)      0         \n",
      " 2D)                                                             \n",
      "                                                                 \n",
      " conv2d_3 (Conv2D)           (None, 18, 18, 256)       295168    \n",
      "                                                                 \n",
      " max_pooling2d_3 (MaxPooling  (None, 9, 9, 256)        0         \n",
      " 2D)                                                             \n",
      "                                                                 \n",
      " conv2d_4 (Conv2D)           (None, 7, 7, 256)         590080    \n",
      "                                                                 \n",
      " flatten (Flatten)           (None, 12544)             0         \n",
      "                                                                 \n",
      " dense (Dense)               (None, 1)                 12545     \n",
      "                                                                 \n",
      "=================================================================\n",
      "Total params: 991,041\n",
      "Trainable params: 991,041\n",
      "Non-trainable params: 0\n",
      "_________________________________________________________________\n"
     ]
    }
   ]
  },
  {
   "cell_type": "code",
   "execution_count": null,
   "id": "33e2a266",
   "metadata": {
    "id": "33e2a266"
   },
   "outputs": [],
   "source": [
    "model.compile(loss=\"binary_crossentropy\",\n",
    "              optimizer=\"rmsprop\",\n",
    "              metrics=[\"accuracy\"])"
   ]
  },
  {
   "cell_type": "code",
   "execution_count": null,
   "id": "1dbf258e",
   "metadata": {
    "id": "1dbf258e"
   },
   "outputs": [],
   "source": [
    "# Новый интересный объект\n",
    "callbacks = [tf.keras.callbacks.ModelCheckpoint(\n",
    "        filepath=\"convnet_from_scratch.h5\",\n",
    "        save_best_only=True,\n",
    "        monitor=\"val_accuracy\")]"
   ]
  },
  {
   "cell_type": "code",
   "execution_count": null,
   "id": "194049f9",
   "metadata": {
    "collapsed": true,
    "id": "194049f9",
    "colab": {
     "base_uri": "https://localhost:8080/"
    },
    "outputId": "6133a124-b825-4c3d-a8f9-ca9f4672a3e7"
   },
   "outputs": [
    {
     "output_type": "stream",
     "name": "stdout",
     "text": [
      "Epoch 1/10\n",
      "290/290 [==============================] - ETA: 0s - loss: 0.6609 - accuracy: 0.5962"
     ]
    },
    {
     "output_type": "stream",
     "name": "stderr",
     "text": [
      "/usr/local/lib/python3.9/dist-packages/PIL/TiffImagePlugin.py:819: UserWarning: Truncated File Read\n",
      "  warnings.warn(str(msg))\n"
     ]
    },
    {
     "output_type": "stream",
     "name": "stdout",
     "text": [
      "\b\b\b\b\b\b\b\b\b\b\b\b\b\b\b\b\b\b\b\b\b\b\b\b\b\b\b\b\b\b\b\b\b\b\b\b\b\b\b\b\b\b\b\b\b\b\b\b\b\b\b\b\b\b\b\b\b\b\b\b\b\b\b\b\b\b\b\b\b\b\b\b\b\b\b\b\b\b\b\b\b\b\b\b\r290/290 [==============================] - 97s 291ms/step - loss: 0.6609 - accuracy: 0.5962 - val_loss: 0.5556 - val_accuracy: 0.7118\n",
      "Epoch 2/10\n",
      "290/290 [==============================] - 82s 284ms/step - loss: 0.5426 - accuracy: 0.7279 - val_loss: 0.4672 - val_accuracy: 0.7823\n",
      "Epoch 3/10\n",
      "290/290 [==============================] - 83s 285ms/step - loss: 0.4542 - accuracy: 0.7892 - val_loss: 0.3917 - val_accuracy: 0.8173\n",
      "Epoch 4/10\n",
      "290/290 [==============================] - 83s 286ms/step - loss: 0.3774 - accuracy: 0.8310 - val_loss: 0.3630 - val_accuracy: 0.8322\n",
      "Epoch 5/10\n",
      "290/290 [==============================] - 88s 302ms/step - loss: 0.3184 - accuracy: 0.8639 - val_loss: 0.3191 - val_accuracy: 0.8589\n",
      "Epoch 6/10\n",
      "290/290 [==============================] - 82s 284ms/step - loss: 0.2657 - accuracy: 0.8868 - val_loss: 0.4309 - val_accuracy: 0.8380\n",
      "Epoch 7/10\n",
      "290/290 [==============================] - 83s 286ms/step - loss: 0.2160 - accuracy: 0.9095 - val_loss: 0.2482 - val_accuracy: 0.8978\n",
      "Epoch 8/10\n",
      "290/290 [==============================] - 83s 285ms/step - loss: 0.1680 - accuracy: 0.9318 - val_loss: 0.3108 - val_accuracy: 0.8875\n",
      "Epoch 9/10\n",
      "290/290 [==============================] - 82s 284ms/step - loss: 0.1357 - accuracy: 0.9469 - val_loss: 0.2787 - val_accuracy: 0.8943\n",
      "Epoch 10/10\n",
      "290/290 [==============================] - 82s 284ms/step - loss: 0.1046 - accuracy: 0.9587 - val_loss: 0.2852 - val_accuracy: 0.9011\n"
     ]
    }
   ],
   "source": [
    "history = model.fit(train_generator, epochs=10, validation_data=test_generator,\n",
    "    callbacks=callbacks)"
   ]
  },
  {
   "cell_type": "code",
   "execution_count": null,
   "id": "9bea5475",
   "metadata": {
    "id": "9bea5475"
   },
   "outputs": [],
   "source": [
    "!ls"
   ]
  },
  {
   "cell_type": "code",
   "source": [
    "# Копирование сохраненой модели на гугл диск.\n",
    "!cp convnet_from_scratch.h5 /GD/'My Drive'/convnet_from_scratch.h5"
   ],
   "metadata": {
    "id": "mrFKVlkvern9"
   },
   "id": "mrFKVlkvern9",
   "execution_count": null,
   "outputs": []
  },
  {
   "cell_type": "code",
   "source": [
    "!ls /GD/'My Drive'/"
   ],
   "metadata": {
    "id": "obZuXRg1erxm",
    "colab": {
     "base_uri": "https://localhost:8080/"
    },
    "outputId": "5f5af94d-e727-45ce-97ad-cba173b0c314"
   },
   "id": "obZuXRg1erxm",
   "execution_count": null,
   "outputs": [
    {
     "output_type": "stream",
     "name": "stdout",
     "text": [
      " 20211031_164435.mp4\t   V5-29-8-2019.skp\n",
      " 20211110_161321.mp4\t   VGG_FIX_model.h5\n",
      " augmentation_model.h5\t  'מסגריה בת ים לוח חשמל001.pdf'\n",
      "'Colab Notebooks'\t  'מסגריה בת ים לוח חשמל002.pdf'\n",
      " convnet_from_scratch.h5  'מסגריה בת ים לוח חשמל003.pdf'\n",
      " data\t\t\t  'מסגריה בת ים לוח חשמל004.pdf'\n",
      " images\t\t\t  'מסגריה בת ים לוח חשמל005.pdf'\n",
      " REKA-light-Layout1.pdf   'מסגריה בת ים לוח חשמל006.pdf'\n",
      " REKA-power-Model.pdf\t  'מסגריה בת ים לוח חשמל007.pdf'\n"
     ]
    }
   ]
  },
  {
   "cell_type": "markdown",
   "id": "5f1f439a",
   "metadata": {
    "id": "5f1f439a"
   },
   "source": [
    "## Добавляем расширение данных "
   ]
  },
  {
   "cell_type": "code",
   "execution_count": null,
   "id": "9b5c0564",
   "metadata": {
    "id": "9b5c0564"
   },
   "outputs": [],
   "source": [
    "model_2 = models.Sequential()\n",
    "\n",
    "model_2.add(layers.Conv2D(filters=32, kernel_size=3, activation=\"relu\", input_shape = (Pic_Y, Pic_X, 3)))\n",
    "model_2.add(layers.MaxPooling2D(pool_size=2))\n",
    "\n",
    "model_2.add(layers.Conv2D(filters=64, kernel_size=3, activation=\"relu\"))\n",
    "model_2.add(layers.MaxPooling2D(pool_size=2))\n",
    "\n",
    "model_2.add(layers.Conv2D(filters=128, kernel_size=3, activation=\"relu\"))\n",
    "model_2.add(layers.MaxPooling2D(pool_size=2))\n",
    "\n",
    "model_2.add(layers.Conv2D(filters=256, kernel_size=3, activation=\"relu\"))\n",
    "model_2.add(layers.MaxPooling2D(pool_size=2))\n",
    "model_2.add(layers.Conv2D(filters=256, kernel_size=3, activation=\"relu\"))\n",
    "\n",
    "model_2.add(layers.Flatten())\n",
    "model_2.add(layers.Dense(1, activation=\"sigmoid\"))\n"
   ]
  },
  {
   "cell_type": "code",
   "execution_count": null,
   "id": "fa8b415f",
   "metadata": {
    "id": "fa8b415f"
   },
   "outputs": [],
   "source": [
    "model_2.compile(loss=\"binary_crossentropy\",\n",
    "              optimizer=\"rmsprop\",\n",
    "              metrics=[\"accuracy\"])"
   ]
  },
  {
   "cell_type": "code",
   "execution_count": null,
   "id": "08576dd3",
   "metadata": {
    "id": "08576dd3"
   },
   "outputs": [],
   "source": [
    "# Новый интересный объект\n",
    "callbacks = [tf.keras.callbacks.ModelCheckpoint(\n",
    "        filepath=\"augmentation_model.h5\",\n",
    "        save_best_only=True,\n",
    "        monitor=\"val_loss\")]"
   ]
  },
  {
   "cell_type": "code",
   "execution_count": null,
   "id": "ed96dd19",
   "metadata": {
    "id": "ed96dd19",
    "outputId": "40c4b513-8db0-4978-af27-5247821eb1fe",
    "colab": {
     "base_uri": "https://localhost:8080/"
    }
   },
   "outputs": [
    {
     "output_type": "stream",
     "name": "stdout",
     "text": [
      "Found 18512 images belonging to 2 classes.\n"
     ]
    }
   ],
   "source": [
    "train_datagen = ImageDataGenerator(rescale = 1./255,\n",
    "                                   rotation_range = 25,\n",
    "                                   shear_range = 0.15,\n",
    "                                   zoom_range = 0.3,\n",
    "                                   fill_mode = 'nearest')\n",
    "                            \n",
    "train_generator = train_datagen.flow_from_directory('PetImages/train',\n",
    "                                                   target_size = (Pic_Y, Pic_X),\n",
    "                                                   batch_size = 64,\n",
    "                                                   class_mode = 'binary')"
   ]
  },
  {
   "cell_type": "code",
   "execution_count": null,
   "id": "aa38c260",
   "metadata": {
    "id": "aa38c260",
    "outputId": "57a84757-c2f4-46e0-d62b-9abeaa8511b1",
    "colab": {
     "base_uri": "https://localhost:8080/"
    }
   },
   "outputs": [
    {
     "output_type": "stream",
     "name": "stdout",
     "text": [
      "Found 4542 images belonging to 2 classes.\n"
     ]
    }
   ],
   "source": [
    "test_datagen = ImageDataGenerator(rescale = 1./255)\n",
    "                            \n",
    "test_generator = test_datagen.flow_from_directory('PetImages/test',\n",
    "                                                   target_size = (Pic_Y, Pic_X),\n",
    "                                                   batch_size = 64,\n",
    "                                                   class_mode = 'binary')"
   ]
  },
  {
   "cell_type": "code",
   "execution_count": null,
   "id": "56148a06",
   "metadata": {
    "collapsed": true,
    "id": "56148a06",
    "outputId": "ee95f193-f856-46cf-8ed6-301c36bb1915",
    "colab": {
     "base_uri": "https://localhost:8080/"
    }
   },
   "outputs": [
    {
     "output_type": "stream",
     "name": "stdout",
     "text": [
      "Epoch 1/10\n",
      "290/290 [==============================] - 199s 680ms/step - loss: 0.6623 - accuracy: 0.5996 - val_loss: 0.6871 - val_accuracy: 0.6513\n",
      "Epoch 2/10\n",
      "290/290 [==============================] - 199s 686ms/step - loss: 0.5773 - accuracy: 0.6973 - val_loss: 0.5054 - val_accuracy: 0.7512\n",
      "Epoch 3/10\n",
      "290/290 [==============================] - 199s 685ms/step - loss: 0.5179 - accuracy: 0.7458 - val_loss: 0.4657 - val_accuracy: 0.7796\n",
      "Epoch 4/10\n",
      "290/290 [==============================] - 202s 697ms/step - loss: 0.4630 - accuracy: 0.7831 - val_loss: 0.4450 - val_accuracy: 0.7922\n",
      "Epoch 5/10\n",
      "290/290 [==============================] - 196s 676ms/step - loss: 0.4201 - accuracy: 0.8051 - val_loss: 0.3782 - val_accuracy: 0.8285\n",
      "Epoch 6/10\n",
      "290/290 [==============================] - 198s 682ms/step - loss: 0.3788 - accuracy: 0.8300 - val_loss: 0.3088 - val_accuracy: 0.8655\n",
      "Epoch 7/10\n",
      "290/290 [==============================] - 196s 677ms/step - loss: 0.3487 - accuracy: 0.8459 - val_loss: 0.3031 - val_accuracy: 0.8668\n",
      "Epoch 8/10\n",
      "290/290 [==============================] - 198s 682ms/step - loss: 0.3134 - accuracy: 0.8605 - val_loss: 0.2552 - val_accuracy: 0.8873\n",
      "Epoch 9/10\n",
      "290/290 [==============================] - 203s 700ms/step - loss: 0.2828 - accuracy: 0.8773 - val_loss: 0.3148 - val_accuracy: 0.8677\n",
      "Epoch 10/10\n",
      "290/290 [==============================] - 196s 677ms/step - loss: 0.2643 - accuracy: 0.8865 - val_loss: 0.2093 - val_accuracy: 0.9130\n"
     ]
    }
   ],
   "source": [
    "history = model_2.fit(train_generator, epochs=10, validation_data=test_generator,\n",
    "    callbacks=callbacks)"
   ]
  },
  {
   "cell_type": "code",
   "source": [
    "# Копирование сохраненой модели на гугл диск.\n",
    "!cp augmentation_model.h5 /GD/'My Drive'/augmentation_model.h5"
   ],
   "metadata": {
    "id": "Dj7uWjmUUcmr"
   },
   "id": "Dj7uWjmUUcmr",
   "execution_count": null,
   "outputs": []
  },
  {
   "cell_type": "code",
   "source": [
    "!ls"
   ],
   "metadata": {
    "colab": {
     "base_uri": "https://localhost:8080/"
    },
    "id": "PcaFrjVZUcqD",
    "outputId": "0d3aac42-419d-4de5-bffb-f4b97bae307c"
   },
   "id": "PcaFrjVZUcqD",
   "execution_count": null,
   "outputs": [
    {
     "output_type": "stream",
     "name": "stdout",
     "text": [
      "augmentation_model.h5\t GD\t    PetImages.zip\n",
      "convnet_from_scratch.h5  PetImages  sample_data\n"
     ]
    }
   ]
  },
  {
   "cell_type": "code",
   "source": [],
   "metadata": {
    "id": "8t6GQICSUcts"
   },
   "id": "8t6GQICSUcts",
   "execution_count": null,
   "outputs": []
  },
  {
   "cell_type": "markdown",
   "id": "f868e22d",
   "metadata": {
    "id": "f868e22d"
   },
   "source": [
    "## Перенос знаний!"
   ]
  },
  {
   "cell_type": "code",
   "execution_count": null,
   "id": "c13b34a1",
   "metadata": {
    "id": "c13b34a1",
    "outputId": "8e8b1074-4ef7-4a85-a5b1-fc6769e628bb",
    "colab": {
     "base_uri": "https://localhost:8080/"
    }
   },
   "outputs": [
    {
     "output_type": "stream",
     "name": "stdout",
     "text": [
      "Downloading data from https://storage.googleapis.com/tensorflow/keras-applications/vgg16/vgg16_weights_tf_dim_ordering_tf_kernels_notop.h5\n",
      "58889256/58889256 [==============================] - 0s 0us/step\n"
     ]
    }
   ],
   "source": [
    "# закгрузка сверточных слоев VGG16\n",
    "\n",
    "conv_base = tf.keras.applications.vgg16.VGG16(\n",
    "    weights=\"imagenet\",\n",
    "    include_top=False,\n",
    "    input_shape=(180, 180, 3))\n"
   ]
  },
  {
   "cell_type": "code",
   "execution_count": null,
   "id": "39287d9c",
   "metadata": {
    "id": "39287d9c"
   },
   "outputs": [],
   "source": [
    "# Заморозка сверточных слоев\n",
    "conv_base.trainable = False"
   ]
  },
  {
   "cell_type": "code",
   "execution_count": null,
   "id": "430dc4fb",
   "metadata": {
    "id": "430dc4fb"
   },
   "outputs": [],
   "source": [
    "# Конструируем модель\n",
    "model_3 = models.Sequential()\n",
    "model_3.add(conv_base)\n",
    "model_3.add(layers.Flatten())\n",
    "model_3.add(layers.Dense(1, activation = 'sigmoid'))"
   ]
  },
  {
   "cell_type": "code",
   "execution_count": null,
   "id": "f10b25d9",
   "metadata": {
    "id": "f10b25d9"
   },
   "outputs": [],
   "source": [
    "model_3.compile(loss=\"binary_crossentropy\",\n",
    "              optimizer=\"rmsprop\",\n",
    "              metrics=[\"accuracy\"])"
   ]
  },
  {
   "cell_type": "code",
   "execution_count": null,
   "id": "721240a3",
   "metadata": {
    "id": "721240a3"
   },
   "outputs": [],
   "source": [
    "callbacks = [tf.keras.callbacks.ModelCheckpoint(\n",
    "        filepath=\"VGG_FIX_model.h5\",\n",
    "        save_best_only=True,\n",
    "        monitor=\"val_loss\")]"
   ]
  },
  {
   "cell_type": "code",
   "execution_count": null,
   "id": "9fbf771d",
   "metadata": {
    "id": "9fbf771d",
    "outputId": "0d78bd09-a61a-4225-e764-0d9ff3d3fe82",
    "colab": {
     "base_uri": "https://localhost:8080/"
    }
   },
   "outputs": [
    {
     "output_type": "stream",
     "name": "stdout",
     "text": [
      "Epoch 1/5\n",
      "290/290 [==============================] - 218s 730ms/step - loss: 0.3946 - accuracy: 0.8177 - val_loss: 0.2023 - val_accuracy: 0.9139\n",
      "Epoch 2/5\n",
      "290/290 [==============================] - 207s 712ms/step - loss: 0.2883 - accuracy: 0.8765 - val_loss: 0.2042 - val_accuracy: 0.9148\n",
      "Epoch 3/5\n",
      "290/290 [==============================] - 207s 713ms/step - loss: 0.2659 - accuracy: 0.8853 - val_loss: 0.1835 - val_accuracy: 0.9234\n",
      "Epoch 4/5\n",
      "290/290 [==============================] - 206s 712ms/step - loss: 0.2553 - accuracy: 0.8922 - val_loss: 0.3271 - val_accuracy: 0.8672\n",
      "Epoch 5/5\n",
      "290/290 [==============================] - 206s 712ms/step - loss: 0.2419 - accuracy: 0.8975 - val_loss: 0.2568 - val_accuracy: 0.8954\n"
     ]
    }
   ],
   "source": [
    "# фитим на тех же генераторах то есть с расширением данных\n",
    "history = model_3.fit(train_generator, epochs=5, validation_data=test_generator, \n",
    "    callbacks=callbacks)"
   ]
  },
  {
   "cell_type": "code",
   "execution_count": null,
   "id": "264f364c",
   "metadata": {
    "id": "264f364c"
   },
   "outputs": [],
   "source": [
    "# Копирование сохраненой модели на гугл диск.\n",
    "!cp VGG_FIX_model.h5 /GD/'My Drive'/VGG_FIX_model.h5"
   ]
  },
  {
   "cell_type": "code",
   "execution_count": null,
   "id": "4b4ce0cd",
   "metadata": {
    "id": "4b4ce0cd"
   },
   "outputs": [],
   "source": []
  },
  {
   "cell_type": "code",
   "execution_count": null,
   "id": "64229dbf",
   "metadata": {
    "id": "64229dbf"
   },
   "outputs": [],
   "source": []
  },
  {
   "cell_type": "code",
   "execution_count": null,
   "id": "fb2e93ce",
   "metadata": {
    "id": "fb2e93ce"
   },
   "outputs": [],
   "source": []
  },
  {
   "cell_type": "code",
   "execution_count": null,
   "id": "84b9c97c",
   "metadata": {
    "id": "84b9c97c"
   },
   "outputs": [],
   "source": [
    "!ls /content/PetImages/validation_data/Dog"
   ]
  },
  {
   "cell_type": "code",
   "source": [],
   "metadata": {
    "id": "-DvdherhmmX4"
   },
   "id": "-DvdherhmmX4",
   "execution_count": null,
   "outputs": []
  },
  {
   "cell_type": "code",
   "source": [],
   "metadata": {
    "id": "qli8SkdPmmbI"
   },
   "id": "qli8SkdPmmbI",
   "execution_count": null,
   "outputs": []
  },
  {
   "cell_type": "code",
   "source": [
    "!ls"
   ],
   "metadata": {
    "colab": {
     "base_uri": "https://localhost:8080/"
    },
    "id": "k3IW48IImmdz",
    "outputId": "fe87e573-daee-48e7-dfde-432328e06e78"
   },
   "id": "k3IW48IImmdz",
   "execution_count": null,
   "outputs": [
    {
     "output_type": "stream",
     "name": "stdout",
     "text": [
      "GD  PetImages  PetImages.zip  sample_data\n"
     ]
    }
   ]
  },
  {
   "cell_type": "code",
   "source": [],
   "metadata": {
    "id": "IbfvkwdHmmg7"
   },
   "id": "IbfvkwdHmmg7",
   "execution_count": null,
   "outputs": []
  },
  {
   "cell_type": "code",
   "source": [
    "from PIL import Image\n",
    "import numpy as np\n",
    "\n",
    "\n",
    "def predict_image(image_path):\n",
    "    # Загрузка изображения и подготовка его для подачи в модели\n",
    "    img = Image.open(image_path)\n",
    "    img = img.resize((Pic_Y, Pic_X)) # изменение размера изображения\n",
    "    img = np.array(img) / 255.0 # нормализация значений пикселей\n",
    "    img = np.expand_dims(img, axis=0) # добавление измерения пакета\n",
    "    \n",
    "    # Загрузка каждой из трех моделей\n",
    "    model1 = tf.keras.models.load_model('/GD/MyDrive/augmentation_model.h5')\n",
    "    model2 = tf.keras.models.load_model('/GD/My Drive/augmentation_model.h5')\n",
    "    model3 = tf.keras.models.load_model('/GD/My Drive/VGG_FIX_model.h5')\n",
    "    \n",
    "    # Предсказание на входном изображении для каждой модели\n",
    "    pred1 = model1.predict(img)\n",
    "    pred2 = model2.predict(img)\n",
    "    pred3 = model3.predict(img)\n",
    "    \n",
    "    # Принятие окончательного решения на основе предсказаний всех трех моделей\n",
    "    final_pred = np.mean([pred1, pred2, pred3], axis=0)\n",
    "    if final_pred > 0.5:\n",
    "        return 'Dog'\n",
    "    else:\n",
    "        return 'Cat'\n"
   ],
   "metadata": {
    "id": "Xwpml0HAmmj0"
   },
   "id": "Xwpml0HAmmj0",
   "execution_count": null,
   "outputs": []
  },
  {
   "cell_type": "code",
   "source": [
    "predict_image('/content/PetImages/validation_data/Dog/3120.jpg')"
   ],
   "metadata": {
    "colab": {
     "base_uri": "https://localhost:8080/",
     "height": 91
    },
    "id": "fxWu8zAummpr",
    "outputId": "e191d19a-8937-4567-f7ee-e687b5f0abce"
   },
   "id": "fxWu8zAummpr",
   "execution_count": null,
   "outputs": [
    {
     "output_type": "stream",
     "name": "stdout",
     "text": [
      "1/1 [==============================] - 0s 187ms/step\n",
      "1/1 [==============================] - 0s 184ms/step\n",
      "1/1 [==============================] - 1s 906ms/step\n"
     ]
    },
    {
     "output_type": "execute_result",
     "data": {
      "text/plain": [
       "'Dog'"
      ],
      "application/vnd.google.colaboratory.intrinsic+json": {
       "type": "string"
      }
     },
     "metadata": {},
     "execution_count": 44
    }
   ]
  },
  {
   "cell_type": "code",
   "source": [],
   "metadata": {
    "id": "5yATEokqmmsi"
   },
   "id": "5yATEokqmmsi",
   "execution_count": null,
   "outputs": []
  }
 ],
 "metadata": {
  "kernelspec": {
   "display_name": "Python 3 (ipykernel)",
   "language": "python",
   "name": "python3"
  },
  "language_info": {
   "codemirror_mode": {
    "name": "ipython",
    "version": 3
   },
   "file_extension": ".py",
   "mimetype": "text/x-python",
   "name": "python",
   "nbconvert_exporter": "python",
   "pygments_lexer": "ipython3",
   "version": "3.9.13"
  },
  "colab": {
   "provenance": [],
   "gpuType": "T4"
  },
  "accelerator": "GPU",
  "gpuClass": "standard"
 },
 "nbformat": 4,
 "nbformat_minor": 5
}
