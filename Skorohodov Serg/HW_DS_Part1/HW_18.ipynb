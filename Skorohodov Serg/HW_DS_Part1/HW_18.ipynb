{
 "cells": [
  {
   "cell_type": "markdown",
   "source": [
    "Привет!\n",
    "Прочитайте данные из файла.\n",
    "Определите оптимальное количество кластеров для прочитанных данных.\n",
    "Постройте оптимальное разбиение на кластеры.\n",
    "Спрогнозируйте классы для векторов\n",
    "[-0.1805, -0.0659, -0.465199, 0.187700, -0.21910998]\n",
    "и\n",
    "[0.2226875, -0.133287, 2.8845, 3.2772081, 2.93884]\n",
    "\n",
    "Постройте график метрики \"силуэт\" в зависимости от количества кластеров.\n"
   ],
   "metadata": {
    "collapsed": false
   }
  },
  {
   "cell_type": "code",
   "execution_count": null,
   "outputs": [],
   "source": [
    "import numpy as np\n",
    "import pandas as pd\n",
    "import matplotlib.pyplot as plt\n",
    "\n",
    "\n",
    "from sklearn.cluster import KMeans\n",
    "\n",
    "sns.set_style(\"darkgrid\")"
   ],
   "metadata": {
    "collapsed": false
   }
  },
  {
   "cell_type": "code",
   "execution_count": null,
   "outputs": [],
   "source": [],
   "metadata": {
    "collapsed": false
   }
  },
  {
   "cell_type": "code",
   "execution_count": 40,
   "outputs": [],
   "source": [
    "data = np.loadtxt('X.csv')"
   ],
   "metadata": {
    "collapsed": false
   }
  },
  {
   "cell_type": "code",
   "execution_count": 45,
   "outputs": [
    {
     "data": {
      "text/plain": "array([[ 0.14901425,  0.09722519, -0.42461122,  0.07514786,  0.10733621],\n       [-0.04147929, -0.11552468, -0.1261936 ,  0.10393446,  0.16823536],\n       [ 0.19430656, -0.2030766 , -0.10281435, -0.20400742,  0.32491537],\n       ...,\n       [ 4.91291764,  5.28029597,  4.70851579,  5.17590921,  5.36250987],\n       [ 5.08021769,  4.58993639,  5.36012417,  5.37148492,  5.30721876],\n       [ 5.09650934,  4.93257038,  4.80293172,  5.00638147,  5.17775808]])"
     },
     "execution_count": 45,
     "metadata": {},
     "output_type": "execute_result"
    }
   ],
   "source": [
    "data"
   ],
   "metadata": {
    "collapsed": false
   }
  },
  {
   "cell_type": "code",
   "execution_count": null,
   "outputs": [],
   "source": [],
   "metadata": {
    "collapsed": false
   }
  },
  {
   "cell_type": "code",
   "execution_count": 42,
   "outputs": [
    {
     "data": {
      "text/plain": "<Figure size 640x480 with 1 Axes>",
      "image/png": "[encoded data removed]"
     },
     "metadata": {},
     "output_type": "display_data"
    }
   ],
   "source": [
    "# Применяем метод локтя для определения оптимального количества кластеров\n",
    "# из графика видно, что оптимальное количество 6 кластеров\n",
    "\n",
    "inertia = []\n",
    "for k in range(1, 8):\n",
    "    kmeans = KMeans(n_clusters=k, random_state=1).fit(data)\n",
    "    inertia.append(np.sqrt(kmeans.inertia_))\n",
    "\n",
    "plt.plot(range(1, 8), inertia, marker='s');\n",
    "plt.xlabel('$k$')\n",
    "plt.ylabel('$J(C_k)$');"
   ],
   "metadata": {
    "collapsed": false
   }
  },
  {
   "cell_type": "code",
   "execution_count": 52,
   "outputs": [],
   "source": [
    "#  обучаем модель исэодя из 6 кластеров\n",
    "kmeans = KMeans(n_clusters=6, random_state=1).fit(data)"
   ],
   "metadata": {
    "collapsed": false
   }
  },
  {
   "cell_type": "code",
   "execution_count": 58,
   "outputs": [
    {
     "data": {
      "text/plain": "array([0], dtype=int32)"
     },
     "execution_count": 58,
     "metadata": {},
     "output_type": "execute_result"
    }
   ],
   "source": [
    "# Проверяем к какому кластеру относятся контрольные векторы\n",
    "X_1 = [[-0.1805, -0.0659, -0.465199, 0.187700, -0.21910998]]\n",
    "kmeans.predict(X_1)"
   ],
   "metadata": {
    "collapsed": false
   }
  },
  {
   "cell_type": "code",
   "execution_count": 59,
   "outputs": [
    {
     "data": {
      "text/plain": "array([1], dtype=int32)"
     },
     "execution_count": 59,
     "metadata": {},
     "output_type": "execute_result"
    }
   ],
   "source": [
    "X_2 = [[0.2226875, -0.133287, 2.8845, 3.2772081, 2.93884]]\n",
    "kmeans.predict(X_2)"
   ],
   "metadata": {
    "collapsed": false
   }
  },
  {
   "cell_type": "code",
   "execution_count": 57,
   "outputs": [
    {
     "data": {
      "text/plain": "0.8122759257111298"
     },
     "execution_count": 57,
     "metadata": {},
     "output_type": "execute_result"
    }
   ],
   "source": [
    "# Метрика Силуэт\n",
    "from sklearn import metrics\n",
    "metrics.silhouette_score(data, kmeans.labels_)"
   ],
   "metadata": {
    "collapsed": false
   }
  },
  {
   "cell_type": "code",
   "execution_count": null,
   "outputs": [],
   "source": [],
   "metadata": {
    "collapsed": false
   }
  },
  {
   "cell_type": "code",
   "execution_count": null,
   "outputs": [],
   "source": [],
   "metadata": {
    "collapsed": false
   }
  }
 ],
 "metadata": {
  "kernelspec": {
   "display_name": "Python 3",
   "language": "python",
   "name": "python3"
  },
  "language_info": {
   "codemirror_mode": {
    "name": "ipython",
    "version": 2
   },
   "file_extension": ".py",
   "mimetype": "text/x-python",
   "name": "python",
   "nbconvert_exporter": "python",
   "pygments_lexer": "ipython2",
   "version": "2.7.6"
  }
 },
 "nbformat": 4,
 "nbformat_minor": 0
}
