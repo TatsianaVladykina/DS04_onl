{
 "cells": [
  {
   "cell_type": "markdown",
   "source": [
    "1. Загрузите данные из файла churn-bigml-80.csv\n",
    "Проведите базовый осмотр данных.\n",
    "сколько строк, сколько столбцов, есть ли пустые значения?\n",
    "\n",
    "определите общее количество абонентов отказавшихся от обслуживания (переменная Churn)\n",
    "\n",
    "Исследуйте зависимость целевой переменной Churn\n",
    "от переменных\n",
    "Voice mail plan\n",
    "International plan\n",
    "Customer service calls\n",
    "\n",
    "\n",
    "\n",
    "Сформулируйте гипотезы о зависимости."
   ],
   "metadata": {
    "collapsed": false
   }
  },
  {
   "cell_type": "code",
   "execution_count": 18,
   "outputs": [
    {
     "name": "stderr",
     "output_type": "stream",
     "text": [
      "UsageError: Line magic function `%` not found.\n"
     ]
    }
   ],
   "source": [
    "import pandas as pd\n",
    "from matplotlib import pyplot as plt\n",
    "import seaborn as sns\n",
    "% matplotlib inline\n",
    "import numpy as np\n"
   ],
   "metadata": {
    "collapsed": false
   }
  },
  {
   "cell_type": "code",
   "execution_count": 19,
   "outputs": [],
   "source": [
    "# Загрузка данных / chunksize=None\n",
    "df = pd.read_csv('churn-bigml-80.csv')"
   ],
   "metadata": {
    "collapsed": false
   }
  },
  {
   "cell_type": "code",
   "execution_count": 31,
   "outputs": [
    {
     "name": "stdout",
     "output_type": "stream",
     "text": [
      "<class 'pandas.core.frame.DataFrame'>\n",
      "RangeIndex: 2666 entries, 0 to 2665\n",
      "Data columns (total 20 columns):\n",
      " #   Column                  Non-Null Count  Dtype  \n",
      "---  ------                  --------------  -----  \n",
      " 0   State                   2666 non-null   object \n",
      " 1   Account length          2666 non-null   int64  \n",
      " 2   Area code               2666 non-null   int64  \n",
      " 3   International plan      2666 non-null   int64  \n",
      " 4   Voice mail plan         2666 non-null   int64  \n",
      " 5   Number vmail messages   2666 non-null   int64  \n",
      " 6   Total day minutes       2666 non-null   float64\n",
      " 7   Total day calls         2666 non-null   int64  \n",
      " 8   Total day charge        2666 non-null   float64\n",
      " 9   Total eve minutes       2666 non-null   float64\n",
      " 10  Total eve calls         2666 non-null   int64  \n",
      " 11  Total eve charge        2666 non-null   float64\n",
      " 12  Total night minutes     2666 non-null   float64\n",
      " 13  Total night calls       2666 non-null   int64  \n",
      " 14  Total night charge      2666 non-null   float64\n",
      " 15  Total intl minutes      2666 non-null   float64\n",
      " 16  Total intl calls        2666 non-null   int64  \n",
      " 17  Total intl charge       2666 non-null   float64\n",
      " 18  Customer service calls  2666 non-null   int64  \n",
      " 19  Churn                   2666 non-null   int64  \n",
      "dtypes: float64(8), int64(11), object(1)\n",
      "memory usage: 416.7+ KB\n"
     ]
    }
   ],
   "source": [
    "df.info()"
   ],
   "metadata": {
    "collapsed": false
   }
  },
  {
   "cell_type": "code",
   "execution_count": 28,
   "outputs": [
    {
     "data": {
      "text/plain": "  State  Account length  Area code International plan Voice mail plan  \\\n0    KS             128        415                 No             Yes   \n1    OH             107        415                 No             Yes   \n2    NJ             137        415                 No              No   \n3    OH              84        408                Yes              No   \n4    OK              75        415                Yes              No   \n\n   Number vmail messages  Total day minutes  Total day calls  \\\n0                     25              265.1              110   \n1                     26              161.6              123   \n2                      0              243.4              114   \n3                      0              299.4               71   \n4                      0              166.7              113   \n\n   Total day charge  Total eve minutes  Total eve calls  Total eve charge  \\\n0             45.07              197.4               99             16.78   \n1             27.47              195.5              103             16.62   \n2             41.38              121.2              110             10.30   \n3             50.90               61.9               88              5.26   \n4             28.34              148.3              122             12.61   \n\n   Total night minutes  Total night calls  Total night charge  \\\n0                244.7                 91               11.01   \n1                254.4                103               11.45   \n2                162.6                104                7.32   \n3                196.9                 89                8.86   \n4                186.9                121                8.41   \n\n   Total intl minutes  Total intl calls  Total intl charge  \\\n0                10.0                 3               2.70   \n1                13.7                 3               3.70   \n2                12.2                 5               3.29   \n3                 6.6                 7               1.78   \n4                10.1                 3               2.73   \n\n   Customer service calls  Churn  \n0                       1      0  \n1                       1      0  \n2                       0      0  \n3                       2      0  \n4                       3      0  ",
      "text/html": "<div>\n<style scoped>\n    .dataframe tbody tr th:only-of-type {\n        vertical-align: middle;\n    }\n\n    .dataframe tbody tr th {\n        vertical-align: top;\n    }\n\n    .dataframe thead th {\n        text-align: right;\n    }\n</style>\n<table border=\"1\" class=\"dataframe\">\n  <thead>\n    <tr style=\"text-align: right;\">\n      <th></th>\n      <th>State</th>\n      <th>Account length</th>\n      <th>Area code</th>\n      <th>International plan</th>\n      <th>Voice mail plan</th>\n      <th>Number vmail messages</th>\n      <th>Total day minutes</th>\n      <th>Total day calls</th>\n      <th>Total day charge</th>\n      <th>Total eve minutes</th>\n      <th>Total eve calls</th>\n      <th>Total eve charge</th>\n      <th>Total night minutes</th>\n      <th>Total night calls</th>\n      <th>Total night charge</th>\n      <th>Total intl minutes</th>\n      <th>Total intl calls</th>\n      <th>Total intl charge</th>\n      <th>Customer service calls</th>\n      <th>Churn</th>\n    </tr>\n  </thead>\n  <tbody>\n    <tr>\n      <th>0</th>\n      <td>KS</td>\n      <td>128</td>\n      <td>415</td>\n      <td>No</td>\n      <td>Yes</td>\n      <td>25</td>\n      <td>265.1</td>\n      <td>110</td>\n      <td>45.07</td>\n      <td>197.4</td>\n      <td>99</td>\n      <td>16.78</td>\n      <td>244.7</td>\n      <td>91</td>\n      <td>11.01</td>\n      <td>10.0</td>\n      <td>3</td>\n      <td>2.70</td>\n      <td>1</td>\n      <td>0</td>\n    </tr>\n    <tr>\n      <th>1</th>\n      <td>OH</td>\n      <td>107</td>\n      <td>415</td>\n      <td>No</td>\n      <td>Yes</td>\n      <td>26</td>\n      <td>161.6</td>\n      <td>123</td>\n      <td>27.47</td>\n      <td>195.5</td>\n      <td>103</td>\n      <td>16.62</td>\n      <td>254.4</td>\n      <td>103</td>\n      <td>11.45</td>\n      <td>13.7</td>\n      <td>3</td>\n      <td>3.70</td>\n      <td>1</td>\n      <td>0</td>\n    </tr>\n    <tr>\n      <th>2</th>\n      <td>NJ</td>\n      <td>137</td>\n      <td>415</td>\n      <td>No</td>\n      <td>No</td>\n      <td>0</td>\n      <td>243.4</td>\n      <td>114</td>\n      <td>41.38</td>\n      <td>121.2</td>\n      <td>110</td>\n      <td>10.30</td>\n      <td>162.6</td>\n      <td>104</td>\n      <td>7.32</td>\n      <td>12.2</td>\n      <td>5</td>\n      <td>3.29</td>\n      <td>0</td>\n      <td>0</td>\n    </tr>\n    <tr>\n      <th>3</th>\n      <td>OH</td>\n      <td>84</td>\n      <td>408</td>\n      <td>Yes</td>\n      <td>No</td>\n      <td>0</td>\n      <td>299.4</td>\n      <td>71</td>\n      <td>50.90</td>\n      <td>61.9</td>\n      <td>88</td>\n      <td>5.26</td>\n      <td>196.9</td>\n      <td>89</td>\n      <td>8.86</td>\n      <td>6.6</td>\n      <td>7</td>\n      <td>1.78</td>\n      <td>2</td>\n      <td>0</td>\n    </tr>\n    <tr>\n      <th>4</th>\n      <td>OK</td>\n      <td>75</td>\n      <td>415</td>\n      <td>Yes</td>\n      <td>No</td>\n      <td>0</td>\n      <td>166.7</td>\n      <td>113</td>\n      <td>28.34</td>\n      <td>148.3</td>\n      <td>122</td>\n      <td>12.61</td>\n      <td>186.9</td>\n      <td>121</td>\n      <td>8.41</td>\n      <td>10.1</td>\n      <td>3</td>\n      <td>2.73</td>\n      <td>3</td>\n      <td>0</td>\n    </tr>\n  </tbody>\n</table>\n</div>"
     },
     "execution_count": 28,
     "metadata": {},
     "output_type": "execute_result"
    }
   ],
   "source": [
    "df.head()"
   ],
   "metadata": {
    "collapsed": false
   }
  },
  {
   "cell_type": "code",
   "execution_count": 20,
   "outputs": [
    {
     "data": {
      "text/plain": "       Account length    Area code  Number vmail messages  Total day minutes  \\\ncount     2666.000000  2666.000000            2666.000000         2666.00000   \nmean       100.620405   437.438860               8.021755          179.48162   \nstd         39.563974    42.521018              13.612277           54.21035   \nmin          1.000000   408.000000               0.000000            0.00000   \n25%         73.000000   408.000000               0.000000          143.40000   \n50%        100.000000   415.000000               0.000000          179.95000   \n75%        127.000000   510.000000              19.000000          215.90000   \nmax        243.000000   510.000000              50.000000          350.80000   \n\n       Total day calls  Total day charge  Total eve minutes  Total eve calls  \\\ncount      2666.000000       2666.000000        2666.000000      2666.000000   \nmean        100.310203         30.512404         200.386159       100.023631   \nstd          19.988162          9.215733          50.951515        20.161445   \nmin           0.000000          0.000000           0.000000         0.000000   \n25%          87.000000         24.380000         165.300000        87.000000   \n50%         101.000000         30.590000         200.900000       100.000000   \n75%         114.000000         36.700000         235.100000       114.000000   \nmax         160.000000         59.640000         363.700000       170.000000   \n\n       Total eve charge  Total night minutes  Total night calls  \\\ncount       2666.000000          2666.000000        2666.000000   \nmean          17.033072           201.168942         100.106152   \nstd            4.330864            50.780323          19.418459   \nmin            0.000000            43.700000          33.000000   \n25%           14.050000           166.925000          87.000000   \n50%           17.080000           201.150000         100.000000   \n75%           19.980000           236.475000         113.000000   \nmax           30.910000           395.000000         166.000000   \n\n       Total night charge  Total intl minutes  Total intl calls  \\\ncount         2666.000000         2666.000000       2666.000000   \nmean             9.052689           10.237022          4.467367   \nstd              2.285120            2.788349          2.456195   \nmin              1.970000            0.000000          0.000000   \n25%              7.512500            8.500000          3.000000   \n50%              9.050000           10.200000          4.000000   \n75%             10.640000           12.100000          6.000000   \nmax             17.770000           20.000000         20.000000   \n\n       Total intl charge  Customer service calls  \ncount        2666.000000             2666.000000  \nmean            2.764490                1.562641  \nstd             0.752812                1.311236  \nmin             0.000000                0.000000  \n25%             2.300000                1.000000  \n50%             2.750000                1.000000  \n75%             3.270000                2.000000  \nmax             5.400000                9.000000  ",
      "text/html": "<div>\n<style scoped>\n    .dataframe tbody tr th:only-of-type {\n        vertical-align: middle;\n    }\n\n    .dataframe tbody tr th {\n        vertical-align: top;\n    }\n\n    .dataframe thead th {\n        text-align: right;\n    }\n</style>\n<table border=\"1\" class=\"dataframe\">\n  <thead>\n    <tr style=\"text-align: right;\">\n      <th></th>\n      <th>Account length</th>\n      <th>Area code</th>\n      <th>Number vmail messages</th>\n      <th>Total day minutes</th>\n      <th>Total day calls</th>\n      <th>Total day charge</th>\n      <th>Total eve minutes</th>\n      <th>Total eve calls</th>\n      <th>Total eve charge</th>\n      <th>Total night minutes</th>\n      <th>Total night calls</th>\n      <th>Total night charge</th>\n      <th>Total intl minutes</th>\n      <th>Total intl calls</th>\n      <th>Total intl charge</th>\n      <th>Customer service calls</th>\n    </tr>\n  </thead>\n  <tbody>\n    <tr>\n      <th>count</th>\n      <td>2666.000000</td>\n      <td>2666.000000</td>\n      <td>2666.000000</td>\n      <td>2666.00000</td>\n      <td>2666.000000</td>\n      <td>2666.000000</td>\n      <td>2666.000000</td>\n      <td>2666.000000</td>\n      <td>2666.000000</td>\n      <td>2666.000000</td>\n      <td>2666.000000</td>\n      <td>2666.000000</td>\n      <td>2666.000000</td>\n      <td>2666.000000</td>\n      <td>2666.000000</td>\n      <td>2666.000000</td>\n    </tr>\n    <tr>\n      <th>mean</th>\n      <td>100.620405</td>\n      <td>437.438860</td>\n      <td>8.021755</td>\n      <td>179.48162</td>\n      <td>100.310203</td>\n      <td>30.512404</td>\n      <td>200.386159</td>\n      <td>100.023631</td>\n      <td>17.033072</td>\n      <td>201.168942</td>\n      <td>100.106152</td>\n      <td>9.052689</td>\n      <td>10.237022</td>\n      <td>4.467367</td>\n      <td>2.764490</td>\n      <td>1.562641</td>\n    </tr>\n    <tr>\n      <th>std</th>\n      <td>39.563974</td>\n      <td>42.521018</td>\n      <td>13.612277</td>\n      <td>54.21035</td>\n      <td>19.988162</td>\n      <td>9.215733</td>\n      <td>50.951515</td>\n      <td>20.161445</td>\n      <td>4.330864</td>\n      <td>50.780323</td>\n      <td>19.418459</td>\n      <td>2.285120</td>\n      <td>2.788349</td>\n      <td>2.456195</td>\n      <td>0.752812</td>\n      <td>1.311236</td>\n    </tr>\n    <tr>\n      <th>min</th>\n      <td>1.000000</td>\n      <td>408.000000</td>\n      <td>0.000000</td>\n      <td>0.00000</td>\n      <td>0.000000</td>\n      <td>0.000000</td>\n      <td>0.000000</td>\n      <td>0.000000</td>\n      <td>0.000000</td>\n      <td>43.700000</td>\n      <td>33.000000</td>\n      <td>1.970000</td>\n      <td>0.000000</td>\n      <td>0.000000</td>\n      <td>0.000000</td>\n      <td>0.000000</td>\n    </tr>\n    <tr>\n      <th>25%</th>\n      <td>73.000000</td>\n      <td>408.000000</td>\n      <td>0.000000</td>\n      <td>143.40000</td>\n      <td>87.000000</td>\n      <td>24.380000</td>\n      <td>165.300000</td>\n      <td>87.000000</td>\n      <td>14.050000</td>\n      <td>166.925000</td>\n      <td>87.000000</td>\n      <td>7.512500</td>\n      <td>8.500000</td>\n      <td>3.000000</td>\n      <td>2.300000</td>\n      <td>1.000000</td>\n    </tr>\n    <tr>\n      <th>50%</th>\n      <td>100.000000</td>\n      <td>415.000000</td>\n      <td>0.000000</td>\n      <td>179.95000</td>\n      <td>101.000000</td>\n      <td>30.590000</td>\n      <td>200.900000</td>\n      <td>100.000000</td>\n      <td>17.080000</td>\n      <td>201.150000</td>\n      <td>100.000000</td>\n      <td>9.050000</td>\n      <td>10.200000</td>\n      <td>4.000000</td>\n      <td>2.750000</td>\n      <td>1.000000</td>\n    </tr>\n    <tr>\n      <th>75%</th>\n      <td>127.000000</td>\n      <td>510.000000</td>\n      <td>19.000000</td>\n      <td>215.90000</td>\n      <td>114.000000</td>\n      <td>36.700000</td>\n      <td>235.100000</td>\n      <td>114.000000</td>\n      <td>19.980000</td>\n      <td>236.475000</td>\n      <td>113.000000</td>\n      <td>10.640000</td>\n      <td>12.100000</td>\n      <td>6.000000</td>\n      <td>3.270000</td>\n      <td>2.000000</td>\n    </tr>\n    <tr>\n      <th>max</th>\n      <td>243.000000</td>\n      <td>510.000000</td>\n      <td>50.000000</td>\n      <td>350.80000</td>\n      <td>160.000000</td>\n      <td>59.640000</td>\n      <td>363.700000</td>\n      <td>170.000000</td>\n      <td>30.910000</td>\n      <td>395.000000</td>\n      <td>166.000000</td>\n      <td>17.770000</td>\n      <td>20.000000</td>\n      <td>20.000000</td>\n      <td>5.400000</td>\n      <td>9.000000</td>\n    </tr>\n  </tbody>\n</table>\n</div>"
     },
     "execution_count": 20,
     "metadata": {},
     "output_type": "execute_result"
    }
   ],
   "source": [
    "df.describe()"
   ],
   "metadata": {
    "collapsed": false
   }
  },
  {
   "cell_type": "code",
   "execution_count": 21,
   "outputs": [
    {
     "data": {
      "text/plain": "(2666, 20)"
     },
     "execution_count": 21,
     "metadata": {},
     "output_type": "execute_result"
    }
   ],
   "source": [
    "df.shape"
   ],
   "metadata": {
    "collapsed": false
   }
  },
  {
   "cell_type": "code",
   "execution_count": 22,
   "outputs": [
    {
     "data": {
      "text/plain": "State                     0\nAccount length            0\nArea code                 0\nInternational plan        0\nVoice mail plan           0\nNumber vmail messages     0\nTotal day minutes         0\nTotal day calls           0\nTotal day charge          0\nTotal eve minutes         0\nTotal eve calls           0\nTotal eve charge          0\nTotal night minutes       0\nTotal night calls         0\nTotal night charge        0\nTotal intl minutes        0\nTotal intl calls          0\nTotal intl charge         0\nCustomer service calls    0\nChurn                     0\ndtype: int64"
     },
     "execution_count": 22,
     "metadata": {},
     "output_type": "execute_result"
    }
   ],
   "source": [
    "df.isnull().sum()"
   ],
   "metadata": {
    "collapsed": false
   }
  },
  {
   "cell_type": "code",
   "execution_count": 23,
   "outputs": [
    {
     "data": {
      "text/plain": "State                     0\nAccount length            0\nArea code                 0\nInternational plan        0\nVoice mail plan           0\nNumber vmail messages     0\nTotal day minutes         0\nTotal day calls           0\nTotal day charge          0\nTotal eve minutes         0\nTotal eve calls           0\nTotal eve charge          0\nTotal night minutes       0\nTotal night calls         0\nTotal night charge        0\nTotal intl minutes        0\nTotal intl calls          0\nTotal intl charge         0\nCustomer service calls    0\nChurn                     0\ndtype: int64"
     },
     "execution_count": 23,
     "metadata": {},
     "output_type": "execute_result"
    }
   ],
   "source": [
    "df.isna().sum()"
   ],
   "metadata": {
    "collapsed": false
   }
  },
  {
   "cell_type": "code",
   "execution_count": 26,
   "outputs": [
    {
     "data": {
      "text/plain": "Index(['State', 'Account length', 'Area code', 'International plan',\n       'Voice mail plan', 'Number vmail messages', 'Total day minutes',\n       'Total day calls', 'Total day charge', 'Total eve minutes',\n       'Total eve calls', 'Total eve charge', 'Total night minutes',\n       'Total night calls', 'Total night charge', 'Total intl minutes',\n       'Total intl calls', 'Total intl charge', 'Customer service calls',\n       'Churn'],\n      dtype='object')"
     },
     "execution_count": 26,
     "metadata": {},
     "output_type": "execute_result"
    }
   ],
   "source": [
    "df.columns"
   ],
   "metadata": {
    "collapsed": false
   }
  },
  {
   "cell_type": "code",
   "execution_count": 27,
   "outputs": [],
   "source": [
    "dic = {False:0, True:1}\n",
    "df['Churn'] = df['Churn'].map(dic)"
   ],
   "metadata": {
    "collapsed": false
   }
  },
  {
   "cell_type": "code",
   "execution_count": 29,
   "outputs": [],
   "source": [
    "dic = {'No':0, 'Yes':1}\n",
    "df['Voice mail plan'] = df['Voice mail plan'].map(dic)"
   ],
   "metadata": {
    "collapsed": false
   }
  },
  {
   "cell_type": "code",
   "execution_count": 30,
   "outputs": [],
   "source": [
    "dic = {'No':0, 'Yes':1}\n",
    "df['International plan'] = df['International plan'].map(dic)"
   ],
   "metadata": {
    "collapsed": false
   }
  },
  {
   "cell_type": "code",
   "execution_count": 32,
   "outputs": [
    {
     "data": {
      "text/plain": "0    2278\n1     388\nName: Churn, dtype: int64"
     },
     "execution_count": 32,
     "metadata": {},
     "output_type": "execute_result"
    }
   ],
   "source": [
    "df['Churn'].value_counts()"
   ],
   "metadata": {
    "collapsed": false
   }
  },
  {
   "cell_type": "code",
   "execution_count": 33,
   "outputs": [
    {
     "data": {
      "text/plain": "Account length            0.017728\nArea code                 0.001019\nInternational plan        0.277489\nVoice mail plan          -0.099291\nNumber vmail messages    -0.086474\nTotal day minutes         0.195688\nTotal day calls           0.018290\nTotal day charge          0.195689\nTotal eve minutes         0.072906\nTotal eve calls          -0.001539\nTotal eve charge          0.072893\nTotal night minutes       0.033639\nTotal night calls         0.012262\nTotal night charge        0.033635\nTotal intl minutes        0.086204\nTotal intl calls         -0.069882\nTotal intl charge         0.086216\nCustomer service calls    0.202590\nChurn                     1.000000\nName: Churn, dtype: float64"
     },
     "execution_count": 33,
     "metadata": {},
     "output_type": "execute_result"
    }
   ],
   "source": [
    "corr_M = df.corr()\n",
    "corr_M['Churn']"
   ],
   "metadata": {
    "collapsed": false
   }
  },
  {
   "cell_type": "markdown",
   "source": [
    "Выводы:\n",
    "1. между признаками International plan, Customer service calls и\n",
    "целелевой переменной наблюдается зависимость. Данные признаки можно\n",
    "считать перспективными с точки зрения исследования.\n",
    "2. Между признаком Voice mail plan и целевой переменной наблюдается слабая обратная зависимость.\n",
    "3. так же можно сделать вывод что между признаками Total day charge и Total day minutes имеется\n",
    "линейная зависимость, поэтому один из этих признаков надо удалить"
   ],
   "metadata": {
    "collapsed": false
   }
  }
 ],
 "metadata": {
  "kernelspec": {
   "display_name": "Python 3",
   "language": "python",
   "name": "python3"
  },
  "language_info": {
   "codemirror_mode": {
    "name": "ipython",
    "version": 2
   },
   "file_extension": ".py",
   "mimetype": "text/x-python",
   "name": "python",
   "nbconvert_exporter": "python",
   "pygments_lexer": "ipython2",
   "version": "2.7.6"
  }
 },
 "nbformat": 4,
 "nbformat_minor": 0
}
