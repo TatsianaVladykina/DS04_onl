{
 "cells": [
  {
   "cell_type": "markdown",
   "id": "a09a77b7",
   "metadata": {},
   "source": [
    "Берем датасет из урока 14\n",
    "\n",
    "для столбцов Age и Balance определите:\n",
    "\n",
    "1.размах вариации\n",
    "\n",
    "2.среднее по выборке\n",
    "\n",
    "3.медиану\n",
    "\n",
    "4.стандартное отклонение\n",
    "\n",
    "Отфильтруйте данные - выберите для анализа записи о клиентах из Германии и расчитайте те же показатели.\n",
    "\n",
    "Сделайте выводы/предположения о содержимом датасета на основе полученных характеристик.\n"
   ]
  },
  {
   "cell_type": "code",
   "execution_count": 1,
   "id": "b2620d22",
   "metadata": {},
   "outputs": [],
   "source": [
    "import pandas as pd\n",
    "from matplotlib import pyplot as plt\n",
    "import seaborn as sns\n",
    "%matplotlib inline\n",
    "import numpy as np"
   ]
  },
  {
   "cell_type": "code",
   "execution_count": 3,
   "id": "6530c167",
   "metadata": {},
   "outputs": [],
   "source": [
    "# Загрузка данных / chunksize=None\n",
    "df = pd.read_csv('Churn_Modelling1.csv', index_col = 'RowNumber') #,chunksize=200"
   ]
  },
  {
   "cell_type": "code",
   "execution_count": null,
   "outputs": [],
   "source": [],
   "metadata": {
    "collapsed": false
   }
  },
  {
   "cell_type": "code",
   "execution_count": 46,
   "outputs": [
    {
     "data": {
      "text/plain": "         CustomerId   CreditScore           Age        Tenure        Balance  \\\ncount  1.000000e+04  10000.000000  10000.000000  10000.000000   10000.000000   \nmean   1.569094e+07    650.528800     38.921800      5.012800   76485.889288   \nstd    7.193619e+04     96.653299     10.487806      2.892174   62397.405202   \nmin    1.556570e+07    350.000000     18.000000      0.000000       0.000000   \n25%    1.562853e+07    584.000000     32.000000      3.000000       0.000000   \n50%    1.569074e+07    652.000000     37.000000      5.000000   97198.540000   \n75%    1.575323e+07    718.000000     44.000000      7.000000  127644.240000   \nmax    1.581569e+07    850.000000     92.000000     10.000000  250898.090000   \n\n       NumOfProducts    HasCrCard  IsActiveMember  EstimatedSalary  \\\ncount   10000.000000  10000.00000    10000.000000     10000.000000   \nmean        1.530200      0.70550        0.515100    100090.239881   \nstd         0.581654      0.45584        0.499797     57510.492818   \nmin         1.000000      0.00000        0.000000        11.580000   \n25%         1.000000      0.00000        0.000000     51002.110000   \n50%         1.000000      1.00000        1.000000    100193.915000   \n75%         2.000000      1.00000        1.000000    149388.247500   \nmax         4.000000      1.00000        1.000000    199992.480000   \n\n             Exited  \ncount  10000.000000  \nmean       0.203700  \nstd        0.402769  \nmin        0.000000  \n25%        0.000000  \n50%        0.000000  \n75%        0.000000  \nmax        1.000000  ",
      "text/html": "<div>\n<style scoped>\n    .dataframe tbody tr th:only-of-type {\n        vertical-align: middle;\n    }\n\n    .dataframe tbody tr th {\n        vertical-align: top;\n    }\n\n    .dataframe thead th {\n        text-align: right;\n    }\n</style>\n<table border=\"1\" class=\"dataframe\">\n  <thead>\n    <tr style=\"text-align: right;\">\n      <th></th>\n      <th>CustomerId</th>\n      <th>CreditScore</th>\n      <th>Age</th>\n      <th>Tenure</th>\n      <th>Balance</th>\n      <th>NumOfProducts</th>\n      <th>HasCrCard</th>\n      <th>IsActiveMember</th>\n      <th>EstimatedSalary</th>\n      <th>Exited</th>\n    </tr>\n  </thead>\n  <tbody>\n    <tr>\n      <th>count</th>\n      <td>1.000000e+04</td>\n      <td>10000.000000</td>\n      <td>10000.000000</td>\n      <td>10000.000000</td>\n      <td>10000.000000</td>\n      <td>10000.000000</td>\n      <td>10000.00000</td>\n      <td>10000.000000</td>\n      <td>10000.000000</td>\n      <td>10000.000000</td>\n    </tr>\n    <tr>\n      <th>mean</th>\n      <td>1.569094e+07</td>\n      <td>650.528800</td>\n      <td>38.921800</td>\n      <td>5.012800</td>\n      <td>76485.889288</td>\n      <td>1.530200</td>\n      <td>0.70550</td>\n      <td>0.515100</td>\n      <td>100090.239881</td>\n      <td>0.203700</td>\n    </tr>\n    <tr>\n      <th>std</th>\n      <td>7.193619e+04</td>\n      <td>96.653299</td>\n      <td>10.487806</td>\n      <td>2.892174</td>\n      <td>62397.405202</td>\n      <td>0.581654</td>\n      <td>0.45584</td>\n      <td>0.499797</td>\n      <td>57510.492818</td>\n      <td>0.402769</td>\n    </tr>\n    <tr>\n      <th>min</th>\n      <td>1.556570e+07</td>\n      <td>350.000000</td>\n      <td>18.000000</td>\n      <td>0.000000</td>\n      <td>0.000000</td>\n      <td>1.000000</td>\n      <td>0.00000</td>\n      <td>0.000000</td>\n      <td>11.580000</td>\n      <td>0.000000</td>\n    </tr>\n    <tr>\n      <th>25%</th>\n      <td>1.562853e+07</td>\n      <td>584.000000</td>\n      <td>32.000000</td>\n      <td>3.000000</td>\n      <td>0.000000</td>\n      <td>1.000000</td>\n      <td>0.00000</td>\n      <td>0.000000</td>\n      <td>51002.110000</td>\n      <td>0.000000</td>\n    </tr>\n    <tr>\n      <th>50%</th>\n      <td>1.569074e+07</td>\n      <td>652.000000</td>\n      <td>37.000000</td>\n      <td>5.000000</td>\n      <td>97198.540000</td>\n      <td>1.000000</td>\n      <td>1.00000</td>\n      <td>1.000000</td>\n      <td>100193.915000</td>\n      <td>0.000000</td>\n    </tr>\n    <tr>\n      <th>75%</th>\n      <td>1.575323e+07</td>\n      <td>718.000000</td>\n      <td>44.000000</td>\n      <td>7.000000</td>\n      <td>127644.240000</td>\n      <td>2.000000</td>\n      <td>1.00000</td>\n      <td>1.000000</td>\n      <td>149388.247500</td>\n      <td>0.000000</td>\n    </tr>\n    <tr>\n      <th>max</th>\n      <td>1.581569e+07</td>\n      <td>850.000000</td>\n      <td>92.000000</td>\n      <td>10.000000</td>\n      <td>250898.090000</td>\n      <td>4.000000</td>\n      <td>1.00000</td>\n      <td>1.000000</td>\n      <td>199992.480000</td>\n      <td>1.000000</td>\n    </tr>\n  </tbody>\n</table>\n</div>"
     },
     "execution_count": 46,
     "metadata": {},
     "output_type": "execute_result"
    }
   ],
   "source": [
    "df.describe()"
   ],
   "metadata": {
    "collapsed": false
   }
  },
  {
   "cell_type": "code",
   "execution_count": 40,
   "outputs": [
    {
     "data": {
      "text/plain": "         CustomerId  CreditScore          Age       Tenure        Balance  \\\ncount  2.509000e+03  2509.000000  2509.000000  2509.000000    2509.000000   \nmean   1.569056e+07   651.453567    39.771622     5.009964  119730.116134   \nstd    7.322843e+04    98.168937    10.519143     2.935154   27022.006157   \nmin    1.556578e+07   350.000000    18.000000     0.000000   27288.430000   \n25%    1.562740e+07   584.000000    32.000000     2.000000  102800.720000   \n50%    1.568989e+07   651.000000    38.000000     5.000000  119703.100000   \n75%    1.575573e+07   722.000000    45.000000     8.000000  137560.380000   \nmax    1.581566e+07   850.000000    84.000000    10.000000  214346.960000   \n\n       NumOfProducts   HasCrCard  IsActiveMember  EstimatedSalary       Exited  \ncount    2509.000000  2509.00000     2509.000000      2509.000000  2509.000000  \nmean        1.519729     0.71383        0.497409    101113.435102     0.324432  \nstd         0.619420     0.45206        0.500093     58263.011501     0.468256  \nmin         1.000000     0.00000        0.000000        11.580000     0.000000  \n25%         1.000000     0.00000        0.000000     51016.020000     0.000000  \n50%         1.000000     1.00000        0.000000    102397.220000     0.000000  \n75%         2.000000     1.00000        1.000000    151083.800000     1.000000  \nmax         4.000000     1.00000        1.000000    199970.740000     1.000000  ",
      "text/html": "<div>\n<style scoped>\n    .dataframe tbody tr th:only-of-type {\n        vertical-align: middle;\n    }\n\n    .dataframe tbody tr th {\n        vertical-align: top;\n    }\n\n    .dataframe thead th {\n        text-align: right;\n    }\n</style>\n<table border=\"1\" class=\"dataframe\">\n  <thead>\n    <tr style=\"text-align: right;\">\n      <th></th>\n      <th>CustomerId</th>\n      <th>CreditScore</th>\n      <th>Age</th>\n      <th>Tenure</th>\n      <th>Balance</th>\n      <th>NumOfProducts</th>\n      <th>HasCrCard</th>\n      <th>IsActiveMember</th>\n      <th>EstimatedSalary</th>\n      <th>Exited</th>\n    </tr>\n  </thead>\n  <tbody>\n    <tr>\n      <th>count</th>\n      <td>2.509000e+03</td>\n      <td>2509.000000</td>\n      <td>2509.000000</td>\n      <td>2509.000000</td>\n      <td>2509.000000</td>\n      <td>2509.000000</td>\n      <td>2509.00000</td>\n      <td>2509.000000</td>\n      <td>2509.000000</td>\n      <td>2509.000000</td>\n    </tr>\n    <tr>\n      <th>mean</th>\n      <td>1.569056e+07</td>\n      <td>651.453567</td>\n      <td>39.771622</td>\n      <td>5.009964</td>\n      <td>119730.116134</td>\n      <td>1.519729</td>\n      <td>0.71383</td>\n      <td>0.497409</td>\n      <td>101113.435102</td>\n      <td>0.324432</td>\n    </tr>\n    <tr>\n      <th>std</th>\n      <td>7.322843e+04</td>\n      <td>98.168937</td>\n      <td>10.519143</td>\n      <td>2.935154</td>\n      <td>27022.006157</td>\n      <td>0.619420</td>\n      <td>0.45206</td>\n      <td>0.500093</td>\n      <td>58263.011501</td>\n      <td>0.468256</td>\n    </tr>\n    <tr>\n      <th>min</th>\n      <td>1.556578e+07</td>\n      <td>350.000000</td>\n      <td>18.000000</td>\n      <td>0.000000</td>\n      <td>27288.430000</td>\n      <td>1.000000</td>\n      <td>0.00000</td>\n      <td>0.000000</td>\n      <td>11.580000</td>\n      <td>0.000000</td>\n    </tr>\n    <tr>\n      <th>25%</th>\n      <td>1.562740e+07</td>\n      <td>584.000000</td>\n      <td>32.000000</td>\n      <td>2.000000</td>\n      <td>102800.720000</td>\n      <td>1.000000</td>\n      <td>0.00000</td>\n      <td>0.000000</td>\n      <td>51016.020000</td>\n      <td>0.000000</td>\n    </tr>\n    <tr>\n      <th>50%</th>\n      <td>1.568989e+07</td>\n      <td>651.000000</td>\n      <td>38.000000</td>\n      <td>5.000000</td>\n      <td>119703.100000</td>\n      <td>1.000000</td>\n      <td>1.00000</td>\n      <td>0.000000</td>\n      <td>102397.220000</td>\n      <td>0.000000</td>\n    </tr>\n    <tr>\n      <th>75%</th>\n      <td>1.575573e+07</td>\n      <td>722.000000</td>\n      <td>45.000000</td>\n      <td>8.000000</td>\n      <td>137560.380000</td>\n      <td>2.000000</td>\n      <td>1.00000</td>\n      <td>1.000000</td>\n      <td>151083.800000</td>\n      <td>1.000000</td>\n    </tr>\n    <tr>\n      <th>max</th>\n      <td>1.581566e+07</td>\n      <td>850.000000</td>\n      <td>84.000000</td>\n      <td>10.000000</td>\n      <td>214346.960000</td>\n      <td>4.000000</td>\n      <td>1.00000</td>\n      <td>1.000000</td>\n      <td>199970.740000</td>\n      <td>1.000000</td>\n    </tr>\n  </tbody>\n</table>\n</div>"
     },
     "execution_count": 40,
     "metadata": {},
     "output_type": "execute_result"
    }
   ],
   "source": [
    "df[(df['Geography'] == 'Germany')].describe()"
   ],
   "metadata": {
    "collapsed": false
   }
  },
  {
   "cell_type": "code",
   "execution_count": 22,
   "outputs": [
    {
     "data": {
      "text/plain": "           CustomerId   Surname  CreditScore Geography  Gender  Age  Tenure  \\\nRowNumber                                                                     \n1            15634602  Hargrave          619    France  Female   42       2   \n2            15647311      Hill          608     Spain  Female   41       1   \n3            15619304      Onio          502    France  Female   42       8   \n4            15701354      Boni          699    France  Female   39       1   \n5            15737888  Mitchell          850     Spain  Female   43       2   \n6            15574012       Chu          645     Spain    Male   44       8   \n7            15592531  Bartlett          822    France    Male   50       7   \n8            15656148    Obinna          376   Germany  Female   29       4   \n9            15792365        He          501    France    Male   44       4   \n10           15592389        H?          684    France    Male   27       2   \n\n             Balance  NumOfProducts  HasCrCard  IsActiveMember  \\\nRowNumber                                                        \n1               0.00              1          1               1   \n2           83807.86              1          0               1   \n3          159660.80              3          1               0   \n4               0.00              2          0               0   \n5          125510.82              1          1               1   \n6          113755.78              2          1               0   \n7               0.00              2          1               1   \n8          115046.74              4          1               0   \n9          142051.07              2          0               1   \n10         134603.88              1          1               1   \n\n           EstimatedSalary  Exited  \nRowNumber                           \n1                101348.88       1  \n2                112542.58       0  \n3                113931.57       1  \n4                 93826.63       0  \n5                 79084.10       0  \n6                149756.71       1  \n7                 10062.80       0  \n8                119346.88       1  \n9                 74940.50       0  \n10                71725.73       0  ",
      "text/html": "<div>\n<style scoped>\n    .dataframe tbody tr th:only-of-type {\n        vertical-align: middle;\n    }\n\n    .dataframe tbody tr th {\n        vertical-align: top;\n    }\n\n    .dataframe thead th {\n        text-align: right;\n    }\n</style>\n<table border=\"1\" class=\"dataframe\">\n  <thead>\n    <tr style=\"text-align: right;\">\n      <th></th>\n      <th>CustomerId</th>\n      <th>Surname</th>\n      <th>CreditScore</th>\n      <th>Geography</th>\n      <th>Gender</th>\n      <th>Age</th>\n      <th>Tenure</th>\n      <th>Balance</th>\n      <th>NumOfProducts</th>\n      <th>HasCrCard</th>\n      <th>IsActiveMember</th>\n      <th>EstimatedSalary</th>\n      <th>Exited</th>\n    </tr>\n    <tr>\n      <th>RowNumber</th>\n      <th></th>\n      <th></th>\n      <th></th>\n      <th></th>\n      <th></th>\n      <th></th>\n      <th></th>\n      <th></th>\n      <th></th>\n      <th></th>\n      <th></th>\n      <th></th>\n      <th></th>\n    </tr>\n  </thead>\n  <tbody>\n    <tr>\n      <th>1</th>\n      <td>15634602</td>\n      <td>Hargrave</td>\n      <td>619</td>\n      <td>France</td>\n      <td>Female</td>\n      <td>42</td>\n      <td>2</td>\n      <td>0.00</td>\n      <td>1</td>\n      <td>1</td>\n      <td>1</td>\n      <td>101348.88</td>\n      <td>1</td>\n    </tr>\n    <tr>\n      <th>2</th>\n      <td>15647311</td>\n      <td>Hill</td>\n      <td>608</td>\n      <td>Spain</td>\n      <td>Female</td>\n      <td>41</td>\n      <td>1</td>\n      <td>83807.86</td>\n      <td>1</td>\n      <td>0</td>\n      <td>1</td>\n      <td>112542.58</td>\n      <td>0</td>\n    </tr>\n    <tr>\n      <th>3</th>\n      <td>15619304</td>\n      <td>Onio</td>\n      <td>502</td>\n      <td>France</td>\n      <td>Female</td>\n      <td>42</td>\n      <td>8</td>\n      <td>159660.80</td>\n      <td>3</td>\n      <td>1</td>\n      <td>0</td>\n      <td>113931.57</td>\n      <td>1</td>\n    </tr>\n    <tr>\n      <th>4</th>\n      <td>15701354</td>\n      <td>Boni</td>\n      <td>699</td>\n      <td>France</td>\n      <td>Female</td>\n      <td>39</td>\n      <td>1</td>\n      <td>0.00</td>\n      <td>2</td>\n      <td>0</td>\n      <td>0</td>\n      <td>93826.63</td>\n      <td>0</td>\n    </tr>\n    <tr>\n      <th>5</th>\n      <td>15737888</td>\n      <td>Mitchell</td>\n      <td>850</td>\n      <td>Spain</td>\n      <td>Female</td>\n      <td>43</td>\n      <td>2</td>\n      <td>125510.82</td>\n      <td>1</td>\n      <td>1</td>\n      <td>1</td>\n      <td>79084.10</td>\n      <td>0</td>\n    </tr>\n    <tr>\n      <th>6</th>\n      <td>15574012</td>\n      <td>Chu</td>\n      <td>645</td>\n      <td>Spain</td>\n      <td>Male</td>\n      <td>44</td>\n      <td>8</td>\n      <td>113755.78</td>\n      <td>2</td>\n      <td>1</td>\n      <td>0</td>\n      <td>149756.71</td>\n      <td>1</td>\n    </tr>\n    <tr>\n      <th>7</th>\n      <td>15592531</td>\n      <td>Bartlett</td>\n      <td>822</td>\n      <td>France</td>\n      <td>Male</td>\n      <td>50</td>\n      <td>7</td>\n      <td>0.00</td>\n      <td>2</td>\n      <td>1</td>\n      <td>1</td>\n      <td>10062.80</td>\n      <td>0</td>\n    </tr>\n    <tr>\n      <th>8</th>\n      <td>15656148</td>\n      <td>Obinna</td>\n      <td>376</td>\n      <td>Germany</td>\n      <td>Female</td>\n      <td>29</td>\n      <td>4</td>\n      <td>115046.74</td>\n      <td>4</td>\n      <td>1</td>\n      <td>0</td>\n      <td>119346.88</td>\n      <td>1</td>\n    </tr>\n    <tr>\n      <th>9</th>\n      <td>15792365</td>\n      <td>He</td>\n      <td>501</td>\n      <td>France</td>\n      <td>Male</td>\n      <td>44</td>\n      <td>4</td>\n      <td>142051.07</td>\n      <td>2</td>\n      <td>0</td>\n      <td>1</td>\n      <td>74940.50</td>\n      <td>0</td>\n    </tr>\n    <tr>\n      <th>10</th>\n      <td>15592389</td>\n      <td>H?</td>\n      <td>684</td>\n      <td>France</td>\n      <td>Male</td>\n      <td>27</td>\n      <td>2</td>\n      <td>134603.88</td>\n      <td>1</td>\n      <td>1</td>\n      <td>1</td>\n      <td>71725.73</td>\n      <td>0</td>\n    </tr>\n  </tbody>\n</table>\n</div>"
     },
     "execution_count": 22,
     "metadata": {},
     "output_type": "execute_result"
    }
   ],
   "source": [
    "df.head(10)"
   ],
   "metadata": {
    "collapsed": false
   }
  },
  {
   "cell_type": "code",
   "execution_count": 5,
   "outputs": [
    {
     "data": {
      "text/plain": "Index(['CustomerId', 'Surname', 'CreditScore', 'Geography', 'Gender', 'Age',\n       'Tenure', 'Balance', 'NumOfProducts', 'HasCrCard', 'IsActiveMember',\n       'EstimatedSalary', 'Exited'],\n      dtype='object')"
     },
     "execution_count": 5,
     "metadata": {},
     "output_type": "execute_result"
    }
   ],
   "source": [
    "df.columns"
   ],
   "metadata": {
    "collapsed": false
   }
  },
  {
   "cell_type": "code",
   "execution_count": 41,
   "id": "fce1571e",
   "metadata": {},
   "outputs": [
    {
     "data": {
      "text/plain": "min       18.000000\nmax       92.000000\nmean      38.921800\nmedian    37.000000\nstd       10.487806\nName: Age, dtype: float64"
     },
     "execution_count": 41,
     "metadata": {},
     "output_type": "execute_result"
    }
   ],
   "source": [
    "df['Age'].agg(['min','max', 'mean', 'median', 'std'])"
   ]
  },
  {
   "cell_type": "code",
   "execution_count": 42,
   "outputs": [
    {
     "data": {
      "text/plain": "min            0.000000\nmax       250898.090000\nmean       76485.889288\nmedian     97198.540000\nstd        62397.405202\nName: Balance, dtype: float64"
     },
     "execution_count": 42,
     "metadata": {},
     "output_type": "execute_result"
    }
   ],
   "source": [
    "df['Balance'].agg(['min','max', 'mean', 'median', 'std'])"
   ],
   "metadata": {
    "collapsed": false
   }
  },
  {
   "cell_type": "code",
   "execution_count": 47,
   "outputs": [],
   "source": [
    "gdf = df[(df['Geography'] == 'Germany')]"
   ],
   "metadata": {
    "collapsed": false
   }
  },
  {
   "cell_type": "code",
   "execution_count": 48,
   "outputs": [
    {
     "data": {
      "text/plain": "min       18.000000\nmax       84.000000\nmean      39.771622\nmedian    38.000000\nstd       10.519143\nName: Age, dtype: float64"
     },
     "execution_count": 48,
     "metadata": {},
     "output_type": "execute_result"
    }
   ],
   "source": [
    "gdf['Age'].agg(['min','max', 'mean', 'median', 'std'])"
   ],
   "metadata": {
    "collapsed": false
   }
  },
  {
   "cell_type": "code",
   "execution_count": 49,
   "outputs": [
    {
     "data": {
      "text/plain": "min        27288.430000\nmax       214346.960000\nmean      119730.116134\nmedian    119703.100000\nstd        27022.006157\nName: Balance, dtype: float64"
     },
     "execution_count": 49,
     "metadata": {},
     "output_type": "execute_result"
    }
   ],
   "source": [
    "gdf['Balance'].agg(['min','max', 'mean', 'median', 'std'])"
   ],
   "metadata": {
    "collapsed": false
   }
  },
  {
   "cell_type": "code",
   "execution_count": null,
   "outputs": [],
   "source": [],
   "metadata": {
    "collapsed": false
   }
  },
  {
   "cell_type": "markdown",
   "source": [
    "Выводы:\n",
    "1. Выборка по Германии по признаку возраст является средней по всей выборке.\n",
    "2. Выборка по Германии по признаку баланс не много отличается от средней по всей выборке,\n",
    "но это скорее всего потому что в общем датасэте есть нулевые значения,\n",
    "что на мой взгляд является странным для баланса.\n",
    "3. Среднеарифметические значения в выборке близко совпадает с мидианными значениями и\n",
    "малое стандартное отклонение , наверное позволяет предположить нормальное распределении данных.\n",
    "\n"
   ],
   "metadata": {
    "collapsed": false
   }
  }
 ],
 "metadata": {
  "kernelspec": {
   "display_name": "Python 3 (ipykernel)",
   "language": "python",
   "name": "python3"
  },
  "language_info": {
   "codemirror_mode": {
    "name": "ipython",
    "version": 3
   },
   "file_extension": ".py",
   "mimetype": "text/x-python",
   "name": "python",
   "nbconvert_exporter": "python",
   "pygments_lexer": "ipython3",
   "version": "3.9.13"
  }
 },
 "nbformat": 4,
 "nbformat_minor": 5
}
