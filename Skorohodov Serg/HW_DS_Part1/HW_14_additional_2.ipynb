{
 "cells": [
  {
   "cell_type": "markdown",
   "source": [
    "Творческая домашка номер один.\n",
    "В архиве картинки. Картинки надо разложить по трем папкам.\n",
    "Нужно понять что это за задача.\n",
    "Написать план решения, с использованием техник машинного обучения.\n",
    "Кто чувствует в себе мощь - может писать решение."
   ],
   "metadata": {
    "collapsed": false
   }
  },
  {
   "cell_type": "code",
   "execution_count": null,
   "outputs": [],
   "source": [],
   "metadata": {
    "collapsed": false
   }
  },
  {
   "cell_type": "code",
   "execution_count": null,
   "outputs": [],
   "source": [
    "import os\n",
    "import numpy as np\n",
    "from tensorflow.keras.preprocessing import image\n",
    "from tensorflow.keras.applications.resnet50 import ResNet50, preprocess_input, decode_predictions\n",
    "\n",
    "# Создание модели ResNet50\n",
    "model = ResNet50(weights='imagenet')\n",
    "\n",
    "# Проход по всем фотографиям в папке\n",
    "for filename in os.listdir('images'):\n",
    "\n",
    "    # Загрузка изображения и изменение размера до 224x224\n",
    "    img_path = os.path.join('images', filename)\n",
    "    img = image.load_img(img_path, target_size=(224, 224))\n",
    "\n",
    "    # Если изображение имеет иной размер, то изменить его размер\n",
    "    if img.size != (224, 224):\n",
    "        img = img.resize((224, 224))\n",
    "\n",
    "    # Преобразование в массив numpy и нормализация\n",
    "    x = image.img_to_array(img)\n",
    "    x = np.expand_dims(x, axis=0)\n",
    "    x = preprocess_input(x)\n",
    "\n",
    "    # Классификация изображения с помощью ResNet50\n",
    "    preds = model.predict(x)\n",
    "    predicted_classes = decode_predictions(preds, top=1)[0]\n",
    "    class_name = predicted_classes[0][1]\n",
    "\n",
    "    # Вывод предсказанного класса в консоль\n",
    "    print('Фотография {} отнесена к классу {}'.format(filename, class_name))"
   ],
   "metadata": {
    "collapsed": false
   }
  },
  {
   "cell_type": "code",
   "execution_count": 3,
   "outputs": [],
   "source": [],
   "metadata": {
    "collapsed": false
   }
  },
  {
   "cell_type": "code",
   "execution_count": null,
   "outputs": [],
   "source": [],
   "metadata": {
    "collapsed": false
   }
  },
  {
   "cell_type": "code",
   "execution_count": null,
   "outputs": [],
   "source": [],
   "metadata": {
    "collapsed": false
   }
  },
  {
   "cell_type": "code",
   "execution_count": 6,
   "outputs": [],
   "source": [
    "import os\n",
    "import numpy as np\n",
    "import pandas as pd\n",
    "import matplotlib.pyplot as plt\n",
    "from tensorflow.keras.preprocessing import image\n",
    "from tensorflow.keras.applications.resnet50 import ResNet50, preprocess_input\n",
    "\n",
    "# Создание модели ResNet50\n",
    "model = ResNet50(weights='imagenet')\n",
    "\n",
    "# Пути к папкам для каждого класса\n",
    "orange_dir = 'orange'\n",
    "apple_dir = 'apple'\n",
    "ball_dir = 'ball'\n",
    "\n",
    "# Создание папок для каждого класса, если они еще не существуют\n",
    "if not os.path.exists(orange_dir):\n",
    "    os.makedirs(orange_dir)\n",
    "if not os.path.exists(apple_dir):\n",
    "    os.makedirs(apple_dir)\n",
    "if not os.path.exists(ball_dir):\n",
    "    os.makedirs(ball_dir)\n",
    "\n",
    "# Проход по всем фотографиям в папке\n",
    "results = []\n",
    "for filename in os.listdir('images'):\n",
    "\n",
    "    # Загрузка изображения и изменение размера до 224x224\n",
    "    img_path = os.path.join('images', filename)\n",
    "    img = image.load_img(img_path, target_size=(224, 224))\n",
    "\n",
    "    # Если изображение имеет иной размер, то изменить его размер\n",
    "    if img.size != (224, 224):\n",
    "        img = img.resize((224, 224))\n",
    "\n",
    "    # Преобразование в массив numpy и нормализация\n",
    "    x = image.img_to_array(img)\n",
    "    x = np.expand_dims(x, axis=0)\n",
    "    x = preprocess_input(x)\n",
    "\n",
    "    # Классификация изображения с помощью ResNet50\n",
    "    preds = model.predict(x)\n",
    "    predicted_class = image.classify_image('imagenet', preds[0])\n",
    "\n",
    "    # Копирование изображения в соответствующую папку\n",
    "    if predicted_class == 'orange':\n",
    "        os.rename(img_path, os.path.join(orange_dir, filename))\n",
    "    elif predicted_class == 'apple':\n",
    "        os.rename(img_path, os.path.join(apple_dir, filename))\n",
    "    elif predicted_class == 'ball':\n",
    "        os.rename(img_path, os.path.join(ball_dir, filename))\n",
    "    else:\n",
    "        results.append({'filename': filename, 'predicted_class': predicted_class})\n",
    "\n",
    "# Вывод результатов классификации\n",
    "df_results = pd.DataFrame(results)\n",
    "if not df_results.empty:\n",
    "    print(df_results)\n",
    "    for _, row in df_results.iterrows():\n",
    "        img = image.load_img(os.path.join('images', row['filename']))\n",
    "        plt.imshow(img)\n",
    "        plt.title(row['predicted_class'])\n",
    "        plt.show()\n"
   ],
   "metadata": {
    "collapsed": false
   }
  }
 ],
 "metadata": {
  "kernelspec": {
   "display_name": "Python 3",
   "language": "python",
   "name": "python3"
  },
  "language_info": {
   "codemirror_mode": {
    "name": "ipython",
    "version": 2
   },
   "file_extension": ".py",
   "mimetype": "text/x-python",
   "name": "python",
   "nbconvert_exporter": "python",
   "pygments_lexer": "ipython2",
   "version": "2.7.6"
  }
 },
 "nbformat": 4,
 "nbformat_minor": 0
}
