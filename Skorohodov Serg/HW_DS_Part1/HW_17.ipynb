{
 "cells": [
  {
   "cell_type": "markdown",
   "metadata": {
    "collapsed": true
   },
   "source": [
    "Перед вами датасет, описывающий поступление детей в колледж.\n",
    "\n",
    "\n",
    "целевая переменная in_college\n",
    "Осмотрите данные.\n",
    "Примените для предобработки пайплайн с прошлого урока.\n",
    "Решите задачу классификации методами:\n",
    "- логистической регрессии\n",
    "- линейной классификации\n",
    "- деревом решений\n",
    "- методом опорных векторов\n",
    "сравните полученные в каждом решении метрики между собой\n",
    "\n",
    "\n",
    "Попробуйте использовать GridSearch для поиска оптимальных гиперпараметров, перечисленных выше алгоритмов.\n"
   ]
  },
  {
   "cell_type": "code",
   "execution_count": 1,
   "metadata": {},
   "outputs": [],
   "source": [
    "import numpy as np\n",
    "import pandas as pd\n",
    "import matplotlib.pyplot as plt\n",
    "import seaborn as sns\n",
    "import re\n",
    "\n",
    "sns.set_style(\"darkgrid\")"
   ]
  },
  {
   "cell_type": "code",
   "execution_count": 2,
   "metadata": {},
   "outputs": [
    {
     "data": {
      "text/plain": "  type_school school_accreditation  gender         interest residence  \\\n0    Academic                    A    Male  Less Interested     Urban   \n1    Academic                    A    Male  Less Interested     Urban   \n2    Academic                    B  Female  Very Interested     Urban   \n\n   parent_age  parent_salary  house_area  average_grades  \\\n0          56        6950000        83.0           84.09   \n1          57        4410000        76.8           86.91   \n2          50        6500000        80.6           87.43   \n\n   parent_was_in_college  in_college  \n0                  False        True  \n1                  False        True  \n2                  False        True  ",
      "text/html": "<div>\n<style scoped>\n    .dataframe tbody tr th:only-of-type {\n        vertical-align: middle;\n    }\n\n    .dataframe tbody tr th {\n        vertical-align: top;\n    }\n\n    .dataframe thead th {\n        text-align: right;\n    }\n</style>\n<table border=\"1\" class=\"dataframe\">\n  <thead>\n    <tr style=\"text-align: right;\">\n      <th></th>\n      <th>type_school</th>\n      <th>school_accreditation</th>\n      <th>gender</th>\n      <th>interest</th>\n      <th>residence</th>\n      <th>parent_age</th>\n      <th>parent_salary</th>\n      <th>house_area</th>\n      <th>average_grades</th>\n      <th>parent_was_in_college</th>\n      <th>in_college</th>\n    </tr>\n  </thead>\n  <tbody>\n    <tr>\n      <th>0</th>\n      <td>Academic</td>\n      <td>A</td>\n      <td>Male</td>\n      <td>Less Interested</td>\n      <td>Urban</td>\n      <td>56</td>\n      <td>6950000</td>\n      <td>83.0</td>\n      <td>84.09</td>\n      <td>False</td>\n      <td>True</td>\n    </tr>\n    <tr>\n      <th>1</th>\n      <td>Academic</td>\n      <td>A</td>\n      <td>Male</td>\n      <td>Less Interested</td>\n      <td>Urban</td>\n      <td>57</td>\n      <td>4410000</td>\n      <td>76.8</td>\n      <td>86.91</td>\n      <td>False</td>\n      <td>True</td>\n    </tr>\n    <tr>\n      <th>2</th>\n      <td>Academic</td>\n      <td>B</td>\n      <td>Female</td>\n      <td>Very Interested</td>\n      <td>Urban</td>\n      <td>50</td>\n      <td>6500000</td>\n      <td>80.6</td>\n      <td>87.43</td>\n      <td>False</td>\n      <td>True</td>\n    </tr>\n  </tbody>\n</table>\n</div>"
     },
     "execution_count": 2,
     "metadata": {},
     "output_type": "execute_result"
    }
   ],
   "source": [
    "df = pd.read_csv(\"data.csv\")\n",
    "df.head(3)"
   ]
  },
  {
   "cell_type": "code",
   "execution_count": 3,
   "metadata": {},
   "outputs": [
    {
     "data": {
      "text/plain": "Index(['type_school', 'school_accreditation', 'gender', 'interest',\n       'residence', 'parent_age', 'parent_salary', 'house_area',\n       'average_grades', 'parent_was_in_college', 'in_college'],\n      dtype='object')"
     },
     "execution_count": 3,
     "metadata": {},
     "output_type": "execute_result"
    }
   ],
   "source": [
    "df.columns"
   ]
  },
  {
   "cell_type": "code",
   "execution_count": 4,
   "metadata": {},
   "outputs": [
    {
     "data": {
      "text/plain": "(1000, 11)"
     },
     "execution_count": 4,
     "metadata": {},
     "output_type": "execute_result"
    }
   ],
   "source": [
    "df.shape"
   ]
  },
  {
   "cell_type": "code",
   "execution_count": 5,
   "metadata": {},
   "outputs": [
    {
     "data": {
      "text/plain": "object     5\nint64      2\nfloat64    2\nbool       2\ndtype: int64"
     },
     "execution_count": 5,
     "metadata": {},
     "output_type": "execute_result"
    }
   ],
   "source": [
    "df.dtypes.value_counts()"
   ]
  },
  {
   "cell_type": "code",
   "execution_count": 5,
   "outputs": [],
   "source": [],
   "metadata": {
    "collapsed": false
   }
  },
  {
   "cell_type": "code",
   "execution_count": 5,
   "outputs": [],
   "source": [],
   "metadata": {
    "collapsed": false
   }
  },
  {
   "cell_type": "code",
   "execution_count": 6,
   "outputs": [],
   "source": [
    "from sklearn.preprocessing import StandardScaler\n",
    "from sklearn.linear_model import LogisticRegression\n",
    "from sklearn.linear_model import SGDClassifier\n",
    "from sklearn.tree import DecisionTreeClassifier\n",
    "from sklearn.svm import SVC, LinearSVC\n",
    "\n",
    "from sklearn.pipeline import Pipeline\n",
    "from sklearn.model_selection import train_test_split\n",
    "\n",
    "from sklearn.compose import ColumnTransformer\n",
    "from sklearn.impute import SimpleImputer\n",
    "from sklearn.preprocessing import StandardScaler, OneHotEncoder\n",
    "\n",
    "from sklearn.metrics import confusion_matrix, precision_score, \\\n",
    "              recall_score, f1_score, precision_recall_curve, roc_curve, roc_auc_score, \\\n",
    "              auc, mean_squared_error\n",
    "\n",
    "from sklearn.model_selection import GridSearchCV"
   ],
   "metadata": {
    "collapsed": false
   }
  },
  {
   "cell_type": "code",
   "execution_count": 7,
   "outputs": [],
   "source": [
    "X = df.drop([\"in_college\"], axis=1)\n",
    "Y = df[\"in_college\"]"
   ],
   "metadata": {
    "collapsed": false
   }
  },
  {
   "cell_type": "code",
   "execution_count": 8,
   "outputs": [],
   "source": [
    "# Create lists of numeric and categorical features\n",
    "numeric_features = X.select_dtypes(include=['int64', 'float64']).columns\n",
    "categorical_features = X.select_dtypes(include=['object', \"bool\"]).columns"
   ],
   "metadata": {
    "collapsed": false
   }
  },
  {
   "cell_type": "code",
   "execution_count": 9,
   "metadata": {},
   "outputs": [],
   "source": [
    "X_train, X_test, y_train, y_test = train_test_split(X, Y, random_state=0)"
   ]
  },
  {
   "cell_type": "code",
   "execution_count": 10,
   "metadata": {},
   "outputs": [],
   "source": [
    "# Create a numeric and categorical transformer to perform preprocessing steps\n",
    "numeric_transformer = Pipeline(steps=[\n",
    "    ('imputer', SimpleImputer(strategy='median')),\n",
    "    ('scaler', StandardScaler())])\n",
    "\n",
    "categorical_transformer = Pipeline(steps=[\n",
    "    ('imputer', SimpleImputer(strategy='constant', fill_value='missing')),\n",
    "    ('onehot', OneHotEncoder(handle_unknown='ignore'))])\n"
   ]
  },
  {
   "cell_type": "code",
   "execution_count": 11,
   "outputs": [],
   "source": [
    "# Use the ColumnTransformer to apply to the correct features\n",
    "preprocessor = ColumnTransformer(\n",
    "    transformers=[\n",
    "        ('num', numeric_transformer, numeric_features),\n",
    "        ('cat', categorical_transformer, categorical_features)])"
   ],
   "metadata": {
    "collapsed": false
   }
  },
  {
   "cell_type": "code",
   "execution_count": 42,
   "outputs": [],
   "source": [
    "# Append SGDClassifier  to the  preprocessor\n",
    "SGD_clf = Pipeline(steps=[('preprocessor', preprocessor),\n",
    "                      ('classifier', SGDClassifier ())])"
   ],
   "metadata": {
    "collapsed": false
   }
  },
  {
   "cell_type": "code",
   "execution_count": 43,
   "outputs": [],
   "source": [
    "# hyperparameter selection\n",
    "param_grid_SGD = {'classifier__penalty': ['l1', 'l2']}\n",
    "SGD_clf_grid = GridSearchCV(SGD_clf, param_grid_SGD, cv = 5, verbose = 0, n_jobs = -1)"
   ],
   "metadata": {
    "collapsed": false
   }
  },
  {
   "cell_type": "code",
   "execution_count": 44,
   "outputs": [
    {
     "name": "stdout",
     "output_type": "stream",
     "text": [
      "0.8 0.819672131147541 0.78125\n"
     ]
    }
   ],
   "source": [
    "# Fit the complete pipeline\n",
    "SGD_clf_grid.fit(X_train, y_train)\n",
    "pred_SGD_clf = SGD_clf_grid.predict(X_test)\n",
    "print(  f1_score(y_test, pred_SGD_clf),\n",
    "        precision_score(y_test, pred_SGD_clf),\n",
    "        recall_score(y_test, pred_SGD_clf))"
   ],
   "metadata": {
    "collapsed": false
   }
  },
  {
   "cell_type": "code",
   "execution_count": 35,
   "outputs": [],
   "source": [
    "# Append logistic regressor to the preprocessor\n",
    "lr = Pipeline(steps=[('preprocessor', preprocessor),\n",
    "                      ('classifier', LogisticRegression())])"
   ],
   "metadata": {
    "collapsed": false
   }
  },
  {
   "cell_type": "code",
   "execution_count": 36,
   "outputs": [],
   "source": [
    "# hyperparameter selection\n",
    "param_grid_lr = {'classifier__C': np.logspace(-4, 4, 50),'classifier__penalty': ['l1', 'l2']}\n",
    "lr_grid = GridSearchCV(lr, param_grid_lr, cv = 5, verbose = 0, n_jobs = -1)\n"
   ],
   "metadata": {
    "collapsed": false
   }
  },
  {
   "cell_type": "code",
   "execution_count": 37,
   "outputs": [
    {
     "name": "stdout",
     "output_type": "stream",
     "text": [
      "0.8505747126436781 0.8345864661654135 0.8671875\n"
     ]
    },
    {
     "name": "stderr",
     "output_type": "stream",
     "text": [
      "/home/sergeys/anaconda3/lib/python3.9/site-packages/sklearn/model_selection/_validation.py:372: FitFailedWarning: \n",
      "250 fits failed out of a total of 500.\n",
      "The score on these train-test partitions for these parameters will be set to nan.\n",
      "If these failures are not expected, you can try to debug them by setting error_score='raise'.\n",
      "\n",
      "Below are more details about the failures:\n",
      "--------------------------------------------------------------------------------\n",
      "250 fits failed with the following error:\n",
      "Traceback (most recent call last):\n",
      "  File \"/home/sergeys/anaconda3/lib/python3.9/site-packages/sklearn/model_selection/_validation.py\", line 680, in _fit_and_score\n",
      "    estimator.fit(X_train, y_train, **fit_params)\n",
      "  File \"/home/sergeys/anaconda3/lib/python3.9/site-packages/sklearn/pipeline.py\", line 394, in fit\n",
      "    self._final_estimator.fit(Xt, y, **fit_params_last_step)\n",
      "  File \"/home/sergeys/anaconda3/lib/python3.9/site-packages/sklearn/linear_model/_logistic.py\", line 1461, in fit\n",
      "    solver = _check_solver(self.solver, self.penalty, self.dual)\n",
      "  File \"/home/sergeys/anaconda3/lib/python3.9/site-packages/sklearn/linear_model/_logistic.py\", line 447, in _check_solver\n",
      "    raise ValueError(\n",
      "ValueError: Solver lbfgs supports only 'l2' or 'none' penalties, got l1 penalty.\n",
      "\n",
      "  warnings.warn(some_fits_failed_message, FitFailedWarning)\n",
      "/home/sergeys/anaconda3/lib/python3.9/site-packages/sklearn/model_selection/_search.py:969: UserWarning: One or more of the test scores are non-finite: [       nan 0.792             nan 0.81866667        nan 0.824\n",
      "        nan 0.828             nan 0.83066667        nan 0.83066667\n",
      "        nan 0.83066667        nan 0.83333333        nan 0.83066667\n",
      "        nan 0.82666667        nan 0.828             nan 0.83333333\n",
      "        nan 0.83866667        nan 0.83866667        nan 0.84\n",
      "        nan 0.84533333        nan 0.848             nan 0.85066667\n",
      "        nan 0.85733333        nan 0.85733333        nan 0.85866667\n",
      "        nan 0.86133333        nan 0.86              nan 0.86133333\n",
      "        nan 0.86133333        nan 0.86266667        nan 0.864\n",
      "        nan 0.86533333        nan 0.86533333        nan 0.86533333\n",
      "        nan 0.864             nan 0.864             nan 0.86533333\n",
      "        nan 0.86533333        nan 0.86533333        nan 0.86533333\n",
      "        nan 0.864             nan 0.86533333        nan 0.86533333\n",
      "        nan 0.86533333        nan 0.86533333        nan 0.86533333\n",
      "        nan 0.86533333        nan 0.86533333        nan 0.86533333\n",
      "        nan 0.86533333        nan 0.86533333        nan 0.86533333\n",
      "        nan 0.86533333        nan 0.86533333]\n",
      "  warnings.warn(\n"
     ]
    }
   ],
   "source": [
    "# Fit the complete pipeline\n",
    "lr_grid.fit(X_train, y_train)\n",
    "pred_lr = lr_grid.predict(X_test)\n",
    "print(  f1_score(y_test, pred_lr),\n",
    "        precision_score(y_test, pred_lr),\n",
    "        recall_score(y_test, pred_lr))"
   ],
   "metadata": {
    "collapsed": false
   }
  },
  {
   "cell_type": "code",
   "execution_count": 32,
   "outputs": [],
   "source": [
    "# Append Tree Classifier to the preprocessor\n",
    "tree_clf = Pipeline(steps=[('preprocessor', preprocessor),\n",
    "                      ('classifier', DecisionTreeClassifier())])"
   ],
   "metadata": {
    "collapsed": false
   }
  },
  {
   "cell_type": "code",
   "execution_count": 33,
   "outputs": [],
   "source": [
    "param_grid_tree = {'classifier__max_depth': range(1,11), 'classifier__max_features': range(3,19)}\n",
    "tree_clf_grid = GridSearchCV(tree_clf, param_grid_tree, cv = 5, verbose = 0, n_jobs = -1)"
   ],
   "metadata": {
    "collapsed": false
   }
  },
  {
   "cell_type": "code",
   "execution_count": 34,
   "outputs": [
    {
     "name": "stdout",
     "output_type": "stream",
     "text": [
      "0.8319999999999999 0.8524590163934426 0.8125\n"
     ]
    }
   ],
   "source": [
    "# Fit the complete pipeline\n",
    "tree_clf_grid.fit(X_train, y_train)\n",
    "pred_Tree_clf = tree_clf_grid.predict(X_test)\n",
    "print(  f1_score(y_test, pred_Tree_clf),\n",
    "        precision_score(y_test, pred_Tree_clf),\n",
    "        recall_score(y_test, pred_Tree_clf))"
   ],
   "metadata": {
    "collapsed": false
   }
  },
  {
   "cell_type": "code",
   "execution_count": 39,
   "outputs": [],
   "source": [
    "# Append Tree Classifier to the preprocessor\n",
    "SV_clf = Pipeline(steps=[('preprocessor', preprocessor),\n",
    "                      ('classifier', SVC())])"
   ],
   "metadata": {
    "collapsed": false
   }
  },
  {
   "cell_type": "code",
   "execution_count": 40,
   "outputs": [],
   "source": [
    "param_grid_SV_clf= {'classifier__kernel': ['linear', 'poly', 'rbf', 'sigmoid', 'precomputed']}\n",
    "SV_clf_grid = GridSearchCV(SV_clf, param_grid_SV_clf, cv = 5, verbose = 0, n_jobs = -1)"
   ],
   "metadata": {
    "collapsed": false
   }
  },
  {
   "cell_type": "code",
   "execution_count": 41,
   "outputs": [
    {
     "name": "stdout",
     "output_type": "stream",
     "text": [
      "0.897338403041825 0.8740740740740741 0.921875\n"
     ]
    },
    {
     "name": "stderr",
     "output_type": "stream",
     "text": [
      "/home/sergeys/anaconda3/lib/python3.9/site-packages/sklearn/model_selection/_validation.py:372: FitFailedWarning: \n",
      "5 fits failed out of a total of 25.\n",
      "The score on these train-test partitions for these parameters will be set to nan.\n",
      "If these failures are not expected, you can try to debug them by setting error_score='raise'.\n",
      "\n",
      "Below are more details about the failures:\n",
      "--------------------------------------------------------------------------------\n",
      "5 fits failed with the following error:\n",
      "Traceback (most recent call last):\n",
      "  File \"/home/sergeys/anaconda3/lib/python3.9/site-packages/sklearn/model_selection/_validation.py\", line 680, in _fit_and_score\n",
      "    estimator.fit(X_train, y_train, **fit_params)\n",
      "  File \"/home/sergeys/anaconda3/lib/python3.9/site-packages/sklearn/pipeline.py\", line 394, in fit\n",
      "    self._final_estimator.fit(Xt, y, **fit_params_last_step)\n",
      "  File \"/home/sergeys/anaconda3/lib/python3.9/site-packages/sklearn/svm/_base.py\", line 215, in fit\n",
      "    raise ValueError(\n",
      "ValueError: Precomputed matrix must be a square matrix. Input is a 600x19 matrix.\n",
      "\n",
      "  warnings.warn(some_fits_failed_message, FitFailedWarning)\n",
      "/home/sergeys/anaconda3/lib/python3.9/site-packages/sklearn/model_selection/_search.py:969: UserWarning: One or more of the test scores are non-finite: [0.86533333 0.908      0.908      0.744             nan]\n",
      "  warnings.warn(\n"
     ]
    }
   ],
   "source": [
    "# Fit the complete pipeline\n",
    "SV_clf_grid.fit(X_train, y_train)\n",
    "pred_SV_clf = SV_clf_grid.predict(X_test)\n",
    "print(  f1_score(y_test, pred_SV_clf),\n",
    "        precision_score(y_test, pred_SV_clf),\n",
    "        recall_score(y_test, pred_SV_clf))"
   ],
   "metadata": {
    "collapsed": false
   }
  },
  {
   "cell_type": "code",
   "execution_count": 38,
   "outputs": [],
   "source": [],
   "metadata": {
    "collapsed": false
   }
  },
  {
   "cell_type": "code",
   "execution_count": 57,
   "outputs": [],
   "source": [],
   "metadata": {
    "collapsed": false
   }
  },
  {
   "cell_type": "code",
   "execution_count": null,
   "outputs": [],
   "source": [],
   "metadata": {
    "collapsed": false
   }
  },
  {
   "cell_type": "code",
   "execution_count": null,
   "outputs": [],
   "source": [],
   "metadata": {
    "collapsed": false
   }
  },
  {
   "cell_type": "code",
   "execution_count": null,
   "metadata": {},
   "outputs": [],
   "source": []
  }
 ],
 "metadata": {
  "kernelspec": {
   "display_name": "Python 3",
   "language": "python",
   "name": "python3"
  },
  "language_info": {
   "codemirror_mode": {
    "name": "ipython",
    "version": 3
   },
   "file_extension": ".py",
   "mimetype": "text/x-python",
   "name": "python",
   "nbconvert_exporter": "python",
   "pygments_lexer": "ipython3",
   "version": "3.7.4"
  }
 },
 "nbformat": 4,
 "nbformat_minor": 1
}
