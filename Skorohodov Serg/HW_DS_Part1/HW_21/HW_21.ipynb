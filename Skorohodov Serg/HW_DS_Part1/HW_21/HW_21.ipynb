{
 "cells": [
  {
   "cell_type": "markdown",
   "source": [
    "Возьмите датасет с отключением клиентов от телефонной компании.\n",
    "\n",
    "Подготовьте данные для решения задачи.\n",
    "\n",
    "Решите задачу с помощью нейронной сети, используя слои Dense как мы делали на уроке.\n",
    "\n",
    "Ваша задача правильно написать “голову” сети и подобрать правильно loss функцию.\n"
   ],
   "metadata": {
    "collapsed": false
   }
  },
  {
   "cell_type": "code",
   "execution_count": 68,
   "outputs": [],
   "source": [
    "import numpy as np\n",
    "import pandas as pd\n",
    "import matplotlib.pyplot as plt\n",
    "import seaborn as sns\n",
    "import re\n",
    "\n",
    "from sklearn.compose import ColumnTransformer\n",
    "from sklearn.pipeline import Pipeline\n",
    "from sklearn.impute import SimpleImputer\n",
    "from sklearn.preprocessing import StandardScaler, OneHotEncoder\n",
    "\n",
    "from sklearn.metrics import  precision_score, recall_score, f1_score\n",
    "from sklearn.metrics import confusion_matrix, classification_report\n",
    "\n",
    "sns.set_style(\"darkgrid\")"
   ],
   "metadata": {
    "collapsed": false
   }
  },
  {
   "cell_type": "code",
   "execution_count": null,
   "outputs": [],
   "source": [],
   "metadata": {
    "collapsed": false
   }
  },
  {
   "cell_type": "code",
   "execution_count": 54,
   "outputs": [],
   "source": [
    "# Архитектура и модель\n",
    "from tensorflow.keras import models\n",
    "from tensorflow.keras import layers\n",
    "\n",
    "model = models.Sequential()\n",
    "\n",
    "model.add(layers.Dense(100, activation=\"relu\", input_shape = (20,)))\n",
    "model.add(layers.Dense(1, activation=\"sigmoid\"))\n"
   ],
   "metadata": {
    "collapsed": false
   }
  },
  {
   "cell_type": "code",
   "execution_count": 55,
   "outputs": [],
   "source": [
    "# Компиляция модели\n",
    "model.compile(optimizer=\"adam\",\n",
    "              loss=\"binary_crossentropy\",\n",
    "              metrics=[\"accuracy\"])"
   ],
   "metadata": {
    "collapsed": false
   }
  },
  {
   "cell_type": "code",
   "execution_count": 56,
   "outputs": [
    {
     "name": "stdout",
     "output_type": "stream",
     "text": [
      "Model: \"sequential_4\"\n",
      "_________________________________________________________________\n",
      " Layer (type)                Output Shape              Param #   \n",
      "=================================================================\n",
      " dense_8 (Dense)             (None, 100)               2100      \n",
      "                                                                 \n",
      " dense_9 (Dense)             (None, 1)                 101       \n",
      "                                                                 \n",
      "=================================================================\n",
      "Total params: 2,201\n",
      "Trainable params: 2,201\n",
      "Non-trainable params: 0\n",
      "_________________________________________________________________\n"
     ]
    }
   ],
   "source": [
    "model.summary()"
   ],
   "metadata": {
    "collapsed": false
   }
  },
  {
   "cell_type": "code",
   "execution_count": 18,
   "outputs": [
    {
     "data": {
      "text/plain": "  State  Account length  Area code International plan Voice mail plan  \\\n0    KS             128        415                 No             Yes   \n1    OH             107        415                 No             Yes   \n2    NJ             137        415                 No              No   \n\n   Number vmail messages  Total day minutes  Total day calls  \\\n0                     25              265.1              110   \n1                     26              161.6              123   \n2                      0              243.4              114   \n\n   Total day charge  Total eve minutes  Total eve calls  Total eve charge  \\\n0             45.07              197.4               99             16.78   \n1             27.47              195.5              103             16.62   \n2             41.38              121.2              110             10.30   \n\n   Total night minutes  Total night calls  Total night charge  \\\n0                244.7                 91               11.01   \n1                254.4                103               11.45   \n2                162.6                104                7.32   \n\n   Total intl minutes  Total intl calls  Total intl charge  \\\n0                10.0                 3               2.70   \n1                13.7                 3               3.70   \n2                12.2                 5               3.29   \n\n   Customer service calls  Churn  \n0                       1  False  \n1                       1  False  \n2                       0  False  ",
      "text/html": "<div>\n<style scoped>\n    .dataframe tbody tr th:only-of-type {\n        vertical-align: middle;\n    }\n\n    .dataframe tbody tr th {\n        vertical-align: top;\n    }\n\n    .dataframe thead th {\n        text-align: right;\n    }\n</style>\n<table border=\"1\" class=\"dataframe\">\n  <thead>\n    <tr style=\"text-align: right;\">\n      <th></th>\n      <th>State</th>\n      <th>Account length</th>\n      <th>Area code</th>\n      <th>International plan</th>\n      <th>Voice mail plan</th>\n      <th>Number vmail messages</th>\n      <th>Total day minutes</th>\n      <th>Total day calls</th>\n      <th>Total day charge</th>\n      <th>Total eve minutes</th>\n      <th>Total eve calls</th>\n      <th>Total eve charge</th>\n      <th>Total night minutes</th>\n      <th>Total night calls</th>\n      <th>Total night charge</th>\n      <th>Total intl minutes</th>\n      <th>Total intl calls</th>\n      <th>Total intl charge</th>\n      <th>Customer service calls</th>\n      <th>Churn</th>\n    </tr>\n  </thead>\n  <tbody>\n    <tr>\n      <th>0</th>\n      <td>KS</td>\n      <td>128</td>\n      <td>415</td>\n      <td>No</td>\n      <td>Yes</td>\n      <td>25</td>\n      <td>265.1</td>\n      <td>110</td>\n      <td>45.07</td>\n      <td>197.4</td>\n      <td>99</td>\n      <td>16.78</td>\n      <td>244.7</td>\n      <td>91</td>\n      <td>11.01</td>\n      <td>10.0</td>\n      <td>3</td>\n      <td>2.70</td>\n      <td>1</td>\n      <td>False</td>\n    </tr>\n    <tr>\n      <th>1</th>\n      <td>OH</td>\n      <td>107</td>\n      <td>415</td>\n      <td>No</td>\n      <td>Yes</td>\n      <td>26</td>\n      <td>161.6</td>\n      <td>123</td>\n      <td>27.47</td>\n      <td>195.5</td>\n      <td>103</td>\n      <td>16.62</td>\n      <td>254.4</td>\n      <td>103</td>\n      <td>11.45</td>\n      <td>13.7</td>\n      <td>3</td>\n      <td>3.70</td>\n      <td>1</td>\n      <td>False</td>\n    </tr>\n    <tr>\n      <th>2</th>\n      <td>NJ</td>\n      <td>137</td>\n      <td>415</td>\n      <td>No</td>\n      <td>No</td>\n      <td>0</td>\n      <td>243.4</td>\n      <td>114</td>\n      <td>41.38</td>\n      <td>121.2</td>\n      <td>110</td>\n      <td>10.30</td>\n      <td>162.6</td>\n      <td>104</td>\n      <td>7.32</td>\n      <td>12.2</td>\n      <td>5</td>\n      <td>3.29</td>\n      <td>0</td>\n      <td>False</td>\n    </tr>\n  </tbody>\n</table>\n</div>"
     },
     "execution_count": 18,
     "metadata": {},
     "output_type": "execute_result"
    }
   ],
   "source": [
    "df = pd.read_csv(\"churn-bigml-80.csv\")\n",
    "df.head(3)"
   ],
   "metadata": {
    "collapsed": false
   }
  },
  {
   "cell_type": "code",
   "execution_count": 19,
   "outputs": [
    {
     "data": {
      "text/plain": "  State  Account length  Area code International plan Voice mail plan  \\\n0    LA             117        408                 No              No   \n1    IN              65        415                 No              No   \n2    NY             161        415                 No              No   \n\n   Number vmail messages  Total day minutes  Total day calls  \\\n0                      0              184.5               97   \n1                      0              129.1              137   \n2                      0              332.9               67   \n\n   Total day charge  Total eve minutes  Total eve calls  Total eve charge  \\\n0             31.37              351.6               80             29.89   \n1             21.95              228.5               83             19.42   \n2             56.59              317.8               97             27.01   \n\n   Total night minutes  Total night calls  Total night charge  \\\n0                215.8                 90                9.71   \n1                208.8                111                9.40   \n2                160.6                128                7.23   \n\n   Total intl minutes  Total intl calls  Total intl charge  \\\n0                 8.7                 4               2.35   \n1                12.7                 6               3.43   \n2                 5.4                 9               1.46   \n\n   Customer service calls  Churn  \n0                       1  False  \n1                       4   True  \n2                       4   True  ",
      "text/html": "<div>\n<style scoped>\n    .dataframe tbody tr th:only-of-type {\n        vertical-align: middle;\n    }\n\n    .dataframe tbody tr th {\n        vertical-align: top;\n    }\n\n    .dataframe thead th {\n        text-align: right;\n    }\n</style>\n<table border=\"1\" class=\"dataframe\">\n  <thead>\n    <tr style=\"text-align: right;\">\n      <th></th>\n      <th>State</th>\n      <th>Account length</th>\n      <th>Area code</th>\n      <th>International plan</th>\n      <th>Voice mail plan</th>\n      <th>Number vmail messages</th>\n      <th>Total day minutes</th>\n      <th>Total day calls</th>\n      <th>Total day charge</th>\n      <th>Total eve minutes</th>\n      <th>Total eve calls</th>\n      <th>Total eve charge</th>\n      <th>Total night minutes</th>\n      <th>Total night calls</th>\n      <th>Total night charge</th>\n      <th>Total intl minutes</th>\n      <th>Total intl calls</th>\n      <th>Total intl charge</th>\n      <th>Customer service calls</th>\n      <th>Churn</th>\n    </tr>\n  </thead>\n  <tbody>\n    <tr>\n      <th>0</th>\n      <td>LA</td>\n      <td>117</td>\n      <td>408</td>\n      <td>No</td>\n      <td>No</td>\n      <td>0</td>\n      <td>184.5</td>\n      <td>97</td>\n      <td>31.37</td>\n      <td>351.6</td>\n      <td>80</td>\n      <td>29.89</td>\n      <td>215.8</td>\n      <td>90</td>\n      <td>9.71</td>\n      <td>8.7</td>\n      <td>4</td>\n      <td>2.35</td>\n      <td>1</td>\n      <td>False</td>\n    </tr>\n    <tr>\n      <th>1</th>\n      <td>IN</td>\n      <td>65</td>\n      <td>415</td>\n      <td>No</td>\n      <td>No</td>\n      <td>0</td>\n      <td>129.1</td>\n      <td>137</td>\n      <td>21.95</td>\n      <td>228.5</td>\n      <td>83</td>\n      <td>19.42</td>\n      <td>208.8</td>\n      <td>111</td>\n      <td>9.40</td>\n      <td>12.7</td>\n      <td>6</td>\n      <td>3.43</td>\n      <td>4</td>\n      <td>True</td>\n    </tr>\n    <tr>\n      <th>2</th>\n      <td>NY</td>\n      <td>161</td>\n      <td>415</td>\n      <td>No</td>\n      <td>No</td>\n      <td>0</td>\n      <td>332.9</td>\n      <td>67</td>\n      <td>56.59</td>\n      <td>317.8</td>\n      <td>97</td>\n      <td>27.01</td>\n      <td>160.6</td>\n      <td>128</td>\n      <td>7.23</td>\n      <td>5.4</td>\n      <td>9</td>\n      <td>1.46</td>\n      <td>4</td>\n      <td>True</td>\n    </tr>\n  </tbody>\n</table>\n</div>"
     },
     "execution_count": 19,
     "metadata": {},
     "output_type": "execute_result"
    }
   ],
   "source": [
    "df_test = pd.read_csv(\"churn-bigml-20.csv\")\n",
    "df_test.head(3)"
   ],
   "metadata": {
    "collapsed": false
   }
  },
  {
   "cell_type": "code",
   "execution_count": 9,
   "outputs": [
    {
     "data": {
      "text/plain": "Index(['state', 'account_length', 'area_code', 'international_plan',\n       'voice_mail_plan', 'number_vmail_messages', 'total_day_minutes',\n       'total_day_calls', 'total_day_charge', 'total_eve_minutes',\n       'total_eve_calls', 'total_eve_charge', 'total_night_minutes',\n       'total_night_calls', 'total_night_charge', 'total_intl_minutes',\n       'total_intl_calls', 'total_intl_charge', 'customer_service_calls',\n       'churn'],\n      dtype='object')"
     },
     "execution_count": 9,
     "metadata": {},
     "output_type": "execute_result"
    }
   ],
   "source": [
    "df.columns"
   ],
   "metadata": {
    "collapsed": false
   }
  },
  {
   "cell_type": "code",
   "execution_count": 25,
   "outputs": [],
   "source": [
    "df.rename(columns=lambda x: x.lower().replace(' ', '_'), inplace=True)\n",
    "df_test.rename(columns=lambda x: x.lower().replace(' ', '_'), inplace=True)\n"
   ],
   "metadata": {
    "collapsed": false
   }
  },
  {
   "cell_type": "code",
   "execution_count": 26,
   "outputs": [
    {
     "data": {
      "text/plain": "((2666, 20), (667, 20))"
     },
     "execution_count": 26,
     "metadata": {},
     "output_type": "execute_result"
    }
   ],
   "source": [
    "df.shape, df_test.shape\n"
   ],
   "metadata": {
    "collapsed": false
   }
  },
  {
   "cell_type": "code",
   "execution_count": 27,
   "outputs": [
    {
     "data": {
      "text/plain": "int64      8\nfloat64    8\nobject     3\nbool       1\ndtype: int64"
     },
     "execution_count": 27,
     "metadata": {},
     "output_type": "execute_result"
    }
   ],
   "source": [
    "df.dtypes.value_counts()"
   ],
   "metadata": {
    "collapsed": false
   }
  },
  {
   "cell_type": "code",
   "execution_count": 28,
   "outputs": [
    {
     "data": {
      "text/plain": "     state international_plan voice_mail_plan\n0       KS                 No             Yes\n1       OH                 No             Yes\n2       NJ                 No              No\n3       OH                Yes              No\n4       OK                Yes              No\n...    ...                ...             ...\n2661    SC                 No              No\n2662    AZ                 No             Yes\n2663    WV                 No              No\n2664    RI                 No              No\n2665    TN                 No             Yes\n\n[2666 rows x 3 columns]",
      "text/html": "<div>\n<style scoped>\n    .dataframe tbody tr th:only-of-type {\n        vertical-align: middle;\n    }\n\n    .dataframe tbody tr th {\n        vertical-align: top;\n    }\n\n    .dataframe thead th {\n        text-align: right;\n    }\n</style>\n<table border=\"1\" class=\"dataframe\">\n  <thead>\n    <tr style=\"text-align: right;\">\n      <th></th>\n      <th>state</th>\n      <th>international_plan</th>\n      <th>voice_mail_plan</th>\n    </tr>\n  </thead>\n  <tbody>\n    <tr>\n      <th>0</th>\n      <td>KS</td>\n      <td>No</td>\n      <td>Yes</td>\n    </tr>\n    <tr>\n      <th>1</th>\n      <td>OH</td>\n      <td>No</td>\n      <td>Yes</td>\n    </tr>\n    <tr>\n      <th>2</th>\n      <td>NJ</td>\n      <td>No</td>\n      <td>No</td>\n    </tr>\n    <tr>\n      <th>3</th>\n      <td>OH</td>\n      <td>Yes</td>\n      <td>No</td>\n    </tr>\n    <tr>\n      <th>4</th>\n      <td>OK</td>\n      <td>Yes</td>\n      <td>No</td>\n    </tr>\n    <tr>\n      <th>...</th>\n      <td>...</td>\n      <td>...</td>\n      <td>...</td>\n    </tr>\n    <tr>\n      <th>2661</th>\n      <td>SC</td>\n      <td>No</td>\n      <td>No</td>\n    </tr>\n    <tr>\n      <th>2662</th>\n      <td>AZ</td>\n      <td>No</td>\n      <td>Yes</td>\n    </tr>\n    <tr>\n      <th>2663</th>\n      <td>WV</td>\n      <td>No</td>\n      <td>No</td>\n    </tr>\n    <tr>\n      <th>2664</th>\n      <td>RI</td>\n      <td>No</td>\n      <td>No</td>\n    </tr>\n    <tr>\n      <th>2665</th>\n      <td>TN</td>\n      <td>No</td>\n      <td>Yes</td>\n    </tr>\n  </tbody>\n</table>\n<p>2666 rows × 3 columns</p>\n</div>"
     },
     "execution_count": 28,
     "metadata": {},
     "output_type": "execute_result"
    }
   ],
   "source": [
    "# выборка только столбцов с строковыми данными\n",
    "df.select_dtypes(include=[\"O\"])"
   ],
   "metadata": {
    "collapsed": false
   }
  },
  {
   "cell_type": "code",
   "execution_count": 29,
   "outputs": [],
   "source": [
    "x_train = df.drop(['state', 'churn'], axis = 1)\n",
    "y_train = df['churn']\n",
    "x_test = df_test.drop(['state', 'churn'], axis = 1)\n",
    "y_test = df_test['churn']"
   ],
   "metadata": {
    "collapsed": false
   }
  },
  {
   "cell_type": "code",
   "execution_count": 30,
   "outputs": [],
   "source": [
    "# Create lists of numeric and categorical features\n",
    "numeric_features = x_train.select_dtypes(include=['int64', 'float64']).columns\n",
    "categorical_features = x_train.select_dtypes(include=['object']).columns"
   ],
   "metadata": {
    "collapsed": false
   }
  },
  {
   "cell_type": "code",
   "execution_count": 33,
   "outputs": [],
   "source": [
    "# Create a numeric and categorical transformer to perform preprocessing steps\n",
    "numeric_transformer = Pipeline(steps=[\n",
    "    ('imputer', SimpleImputer(strategy='median')),\n",
    "    ('scaler', StandardScaler())])\n",
    "\n",
    "categorical_transformer = Pipeline(steps=[\n",
    "    ('imputer', SimpleImputer(strategy='constant', fill_value='missing')),\n",
    "    ('onehot', OneHotEncoder(handle_unknown='ignore'))])\n"
   ],
   "metadata": {
    "collapsed": false
   }
  },
  {
   "cell_type": "code",
   "execution_count": 36,
   "outputs": [],
   "source": [
    "# Use the ColumnTransformer to apply to the correct features\n",
    "preprocessor = ColumnTransformer(\n",
    "    transformers=[\n",
    "        ('num', numeric_transformer, numeric_features),\n",
    "        ('cat', categorical_transformer, categorical_features)])"
   ],
   "metadata": {
    "collapsed": false
   }
  },
  {
   "cell_type": "code",
   "execution_count": 37,
   "outputs": [],
   "source": [
    "x_train = preprocessor.fit_transform(x_train)\n",
    "x_test = preprocessor.transform(x_test)"
   ],
   "metadata": {
    "collapsed": false
   }
  },
  {
   "cell_type": "code",
   "execution_count": 62,
   "outputs": [
    {
     "name": "stdout",
     "output_type": "stream",
     "text": [
      "Epoch 1/200\n",
      "6/6 [==============================] - 0s 9ms/step - loss: 0.1819 - accuracy: 0.9407 - val_loss: 0.2029 - val_accuracy: 0.9250\n",
      "Epoch 2/200\n",
      "6/6 [==============================] - 0s 4ms/step - loss: 0.1814 - accuracy: 0.9419 - val_loss: 0.2029 - val_accuracy: 0.9235\n",
      "Epoch 3/200\n",
      "6/6 [==============================] - 0s 4ms/step - loss: 0.1811 - accuracy: 0.9419 - val_loss: 0.2036 - val_accuracy: 0.9220\n",
      "Epoch 4/200\n",
      "6/6 [==============================] - 0s 4ms/step - loss: 0.1809 - accuracy: 0.9415 - val_loss: 0.2040 - val_accuracy: 0.9205\n",
      "Epoch 5/200\n",
      "6/6 [==============================] - 0s 4ms/step - loss: 0.1806 - accuracy: 0.9419 - val_loss: 0.2034 - val_accuracy: 0.9220\n",
      "Epoch 6/200\n",
      "6/6 [==============================] - 0s 4ms/step - loss: 0.1802 - accuracy: 0.9426 - val_loss: 0.2027 - val_accuracy: 0.9220\n",
      "Epoch 7/200\n",
      "6/6 [==============================] - 0s 4ms/step - loss: 0.1798 - accuracy: 0.9426 - val_loss: 0.2023 - val_accuracy: 0.9220\n",
      "Epoch 8/200\n",
      "6/6 [==============================] - 0s 4ms/step - loss: 0.1796 - accuracy: 0.9407 - val_loss: 0.2021 - val_accuracy: 0.9205\n",
      "Epoch 9/200\n",
      "6/6 [==============================] - 0s 4ms/step - loss: 0.1792 - accuracy: 0.9415 - val_loss: 0.2020 - val_accuracy: 0.9220\n",
      "Epoch 10/200\n",
      "6/6 [==============================] - 0s 4ms/step - loss: 0.1789 - accuracy: 0.9422 - val_loss: 0.2017 - val_accuracy: 0.9220\n",
      "Epoch 11/200\n",
      "6/6 [==============================] - 0s 4ms/step - loss: 0.1785 - accuracy: 0.9430 - val_loss: 0.2021 - val_accuracy: 0.9250\n",
      "Epoch 12/200\n",
      "6/6 [==============================] - 0s 4ms/step - loss: 0.1782 - accuracy: 0.9430 - val_loss: 0.2016 - val_accuracy: 0.9250\n",
      "Epoch 13/200\n",
      "6/6 [==============================] - 0s 4ms/step - loss: 0.1780 - accuracy: 0.9441 - val_loss: 0.2025 - val_accuracy: 0.9265\n",
      "Epoch 14/200\n",
      "6/6 [==============================] - 0s 4ms/step - loss: 0.1780 - accuracy: 0.9456 - val_loss: 0.2021 - val_accuracy: 0.9265\n",
      "Epoch 15/200\n",
      "6/6 [==============================] - 0s 4ms/step - loss: 0.1773 - accuracy: 0.9434 - val_loss: 0.2009 - val_accuracy: 0.9265\n",
      "Epoch 16/200\n",
      "6/6 [==============================] - 0s 4ms/step - loss: 0.1769 - accuracy: 0.9422 - val_loss: 0.2001 - val_accuracy: 0.9265\n",
      "Epoch 17/200\n",
      "6/6 [==============================] - 0s 4ms/step - loss: 0.1766 - accuracy: 0.9426 - val_loss: 0.1997 - val_accuracy: 0.9280\n",
      "Epoch 18/200\n",
      "6/6 [==============================] - 0s 4ms/step - loss: 0.1761 - accuracy: 0.9441 - val_loss: 0.1994 - val_accuracy: 0.9265\n",
      "Epoch 19/200\n",
      "6/6 [==============================] - 0s 4ms/step - loss: 0.1757 - accuracy: 0.9441 - val_loss: 0.1997 - val_accuracy: 0.9265\n",
      "Epoch 20/200\n",
      "6/6 [==============================] - 0s 4ms/step - loss: 0.1755 - accuracy: 0.9441 - val_loss: 0.2005 - val_accuracy: 0.9265\n",
      "Epoch 21/200\n",
      "6/6 [==============================] - 0s 4ms/step - loss: 0.1751 - accuracy: 0.9437 - val_loss: 0.2006 - val_accuracy: 0.9295\n",
      "Epoch 22/200\n",
      "6/6 [==============================] - 0s 4ms/step - loss: 0.1748 - accuracy: 0.9452 - val_loss: 0.2005 - val_accuracy: 0.9295\n",
      "Epoch 23/200\n",
      "6/6 [==============================] - 0s 4ms/step - loss: 0.1745 - accuracy: 0.9456 - val_loss: 0.1999 - val_accuracy: 0.9295\n",
      "Epoch 24/200\n",
      "6/6 [==============================] - 0s 4ms/step - loss: 0.1742 - accuracy: 0.9452 - val_loss: 0.1996 - val_accuracy: 0.9295\n",
      "Epoch 25/200\n",
      "6/6 [==============================] - 0s 4ms/step - loss: 0.1740 - accuracy: 0.9441 - val_loss: 0.1987 - val_accuracy: 0.9265\n",
      "Epoch 26/200\n",
      "6/6 [==============================] - 0s 4ms/step - loss: 0.1737 - accuracy: 0.9445 - val_loss: 0.1978 - val_accuracy: 0.9250\n",
      "Epoch 27/200\n",
      "6/6 [==============================] - 0s 4ms/step - loss: 0.1733 - accuracy: 0.9445 - val_loss: 0.1973 - val_accuracy: 0.9280\n",
      "Epoch 28/200\n",
      "6/6 [==============================] - 0s 4ms/step - loss: 0.1731 - accuracy: 0.9449 - val_loss: 0.1974 - val_accuracy: 0.9250\n",
      "Epoch 29/200\n",
      "6/6 [==============================] - 0s 4ms/step - loss: 0.1729 - accuracy: 0.9452 - val_loss: 0.1979 - val_accuracy: 0.9265\n",
      "Epoch 30/200\n",
      "6/6 [==============================] - 0s 4ms/step - loss: 0.1725 - accuracy: 0.9456 - val_loss: 0.1979 - val_accuracy: 0.9265\n",
      "Epoch 31/200\n",
      "6/6 [==============================] - 0s 4ms/step - loss: 0.1723 - accuracy: 0.9464 - val_loss: 0.1980 - val_accuracy: 0.9280\n",
      "Epoch 32/200\n",
      "6/6 [==============================] - 0s 4ms/step - loss: 0.1721 - accuracy: 0.9464 - val_loss: 0.1981 - val_accuracy: 0.9265\n",
      "Epoch 33/200\n",
      "6/6 [==============================] - 0s 4ms/step - loss: 0.1715 - accuracy: 0.9475 - val_loss: 0.1981 - val_accuracy: 0.9265\n",
      "Epoch 34/200\n",
      "6/6 [==============================] - 0s 4ms/step - loss: 0.1712 - accuracy: 0.9464 - val_loss: 0.1978 - val_accuracy: 0.9280\n",
      "Epoch 35/200\n",
      "6/6 [==============================] - 0s 4ms/step - loss: 0.1710 - accuracy: 0.9464 - val_loss: 0.1974 - val_accuracy: 0.9265\n",
      "Epoch 36/200\n",
      "6/6 [==============================] - 0s 4ms/step - loss: 0.1705 - accuracy: 0.9467 - val_loss: 0.1972 - val_accuracy: 0.9295\n",
      "Epoch 37/200\n",
      "6/6 [==============================] - 0s 4ms/step - loss: 0.1702 - accuracy: 0.9471 - val_loss: 0.1969 - val_accuracy: 0.9280\n",
      "Epoch 38/200\n",
      "6/6 [==============================] - 0s 4ms/step - loss: 0.1701 - accuracy: 0.9467 - val_loss: 0.1965 - val_accuracy: 0.9280\n",
      "Epoch 39/200\n",
      "6/6 [==============================] - 0s 4ms/step - loss: 0.1700 - accuracy: 0.9464 - val_loss: 0.1963 - val_accuracy: 0.9280\n",
      "Epoch 40/200\n",
      "6/6 [==============================] - 0s 4ms/step - loss: 0.1696 - accuracy: 0.9460 - val_loss: 0.1967 - val_accuracy: 0.9250\n",
      "Epoch 41/200\n",
      "6/6 [==============================] - 0s 4ms/step - loss: 0.1690 - accuracy: 0.9475 - val_loss: 0.1973 - val_accuracy: 0.9280\n",
      "Epoch 42/200\n",
      "6/6 [==============================] - 0s 4ms/step - loss: 0.1689 - accuracy: 0.9482 - val_loss: 0.1984 - val_accuracy: 0.9265\n",
      "Epoch 43/200\n",
      "6/6 [==============================] - 0s 4ms/step - loss: 0.1686 - accuracy: 0.9479 - val_loss: 0.1984 - val_accuracy: 0.9280\n",
      "Epoch 44/200\n",
      "6/6 [==============================] - 0s 4ms/step - loss: 0.1686 - accuracy: 0.9471 - val_loss: 0.1978 - val_accuracy: 0.9280\n",
      "Epoch 45/200\n",
      "6/6 [==============================] - 0s 4ms/step - loss: 0.1681 - accuracy: 0.9475 - val_loss: 0.1976 - val_accuracy: 0.9280\n",
      "Epoch 46/200\n",
      "6/6 [==============================] - 0s 4ms/step - loss: 0.1676 - accuracy: 0.9479 - val_loss: 0.1969 - val_accuracy: 0.9280\n",
      "Epoch 47/200\n",
      "6/6 [==============================] - 0s 5ms/step - loss: 0.1673 - accuracy: 0.9482 - val_loss: 0.1969 - val_accuracy: 0.9280\n",
      "Epoch 48/200\n",
      "6/6 [==============================] - 0s 4ms/step - loss: 0.1669 - accuracy: 0.9479 - val_loss: 0.1967 - val_accuracy: 0.9280\n",
      "Epoch 49/200\n",
      "6/6 [==============================] - 0s 4ms/step - loss: 0.1668 - accuracy: 0.9471 - val_loss: 0.1967 - val_accuracy: 0.9265\n",
      "Epoch 50/200\n",
      "6/6 [==============================] - 0s 4ms/step - loss: 0.1664 - accuracy: 0.9482 - val_loss: 0.1963 - val_accuracy: 0.9250\n",
      "Epoch 51/200\n",
      "6/6 [==============================] - 0s 4ms/step - loss: 0.1660 - accuracy: 0.9486 - val_loss: 0.1962 - val_accuracy: 0.9265\n",
      "Epoch 52/200\n",
      "6/6 [==============================] - 0s 4ms/step - loss: 0.1657 - accuracy: 0.9486 - val_loss: 0.1964 - val_accuracy: 0.9265\n",
      "Epoch 53/200\n",
      "6/6 [==============================] - 0s 4ms/step - loss: 0.1654 - accuracy: 0.9494 - val_loss: 0.1961 - val_accuracy: 0.9265\n",
      "Epoch 54/200\n",
      "6/6 [==============================] - 0s 4ms/step - loss: 0.1652 - accuracy: 0.9490 - val_loss: 0.1960 - val_accuracy: 0.9235\n",
      "Epoch 55/200\n",
      "6/6 [==============================] - 0s 4ms/step - loss: 0.1650 - accuracy: 0.9479 - val_loss: 0.1948 - val_accuracy: 0.9265\n",
      "Epoch 56/200\n",
      "6/6 [==============================] - 0s 4ms/step - loss: 0.1646 - accuracy: 0.9486 - val_loss: 0.1947 - val_accuracy: 0.9265\n",
      "Epoch 57/200\n",
      "6/6 [==============================] - 0s 4ms/step - loss: 0.1644 - accuracy: 0.9490 - val_loss: 0.1953 - val_accuracy: 0.9280\n",
      "Epoch 58/200\n",
      "6/6 [==============================] - 0s 4ms/step - loss: 0.1641 - accuracy: 0.9490 - val_loss: 0.1954 - val_accuracy: 0.9265\n",
      "Epoch 59/200\n",
      "6/6 [==============================] - 0s 5ms/step - loss: 0.1638 - accuracy: 0.9501 - val_loss: 0.1945 - val_accuracy: 0.9250\n",
      "Epoch 60/200\n",
      "6/6 [==============================] - 0s 4ms/step - loss: 0.1634 - accuracy: 0.9497 - val_loss: 0.1945 - val_accuracy: 0.9265\n",
      "Epoch 61/200\n",
      "6/6 [==============================] - 0s 4ms/step - loss: 0.1632 - accuracy: 0.9501 - val_loss: 0.1944 - val_accuracy: 0.9265\n",
      "Epoch 62/200\n",
      "6/6 [==============================] - 0s 4ms/step - loss: 0.1629 - accuracy: 0.9501 - val_loss: 0.1943 - val_accuracy: 0.9250\n",
      "Epoch 63/200\n",
      "6/6 [==============================] - 0s 3ms/step - loss: 0.1626 - accuracy: 0.9494 - val_loss: 0.1945 - val_accuracy: 0.9250\n",
      "Epoch 64/200\n",
      "6/6 [==============================] - 0s 4ms/step - loss: 0.1622 - accuracy: 0.9494 - val_loss: 0.1946 - val_accuracy: 0.9250\n",
      "Epoch 65/200\n",
      "6/6 [==============================] - 0s 4ms/step - loss: 0.1620 - accuracy: 0.9501 - val_loss: 0.1955 - val_accuracy: 0.9265\n",
      "Epoch 66/200\n",
      "6/6 [==============================] - 0s 3ms/step - loss: 0.1618 - accuracy: 0.9497 - val_loss: 0.1955 - val_accuracy: 0.9280\n",
      "Epoch 67/200\n",
      "6/6 [==============================] - 0s 4ms/step - loss: 0.1613 - accuracy: 0.9501 - val_loss: 0.1953 - val_accuracy: 0.9280\n",
      "Epoch 68/200\n",
      "6/6 [==============================] - 0s 4ms/step - loss: 0.1610 - accuracy: 0.9497 - val_loss: 0.1946 - val_accuracy: 0.9280\n",
      "Epoch 69/200\n",
      "6/6 [==============================] - 0s 3ms/step - loss: 0.1608 - accuracy: 0.9497 - val_loss: 0.1938 - val_accuracy: 0.9265\n",
      "Epoch 70/200\n",
      "6/6 [==============================] - 0s 3ms/step - loss: 0.1605 - accuracy: 0.9501 - val_loss: 0.1930 - val_accuracy: 0.9265\n",
      "Epoch 71/200\n",
      "6/6 [==============================] - 0s 4ms/step - loss: 0.1603 - accuracy: 0.9512 - val_loss: 0.1925 - val_accuracy: 0.9265\n",
      "Epoch 72/200\n",
      "6/6 [==============================] - 0s 3ms/step - loss: 0.1600 - accuracy: 0.9512 - val_loss: 0.1925 - val_accuracy: 0.9280\n",
      "Epoch 73/200\n",
      "6/6 [==============================] - 0s 3ms/step - loss: 0.1598 - accuracy: 0.9516 - val_loss: 0.1933 - val_accuracy: 0.9280\n",
      "Epoch 74/200\n",
      "6/6 [==============================] - 0s 4ms/step - loss: 0.1595 - accuracy: 0.9524 - val_loss: 0.1940 - val_accuracy: 0.9265\n",
      "Epoch 75/200\n",
      "6/6 [==============================] - 0s 3ms/step - loss: 0.1593 - accuracy: 0.9524 - val_loss: 0.1941 - val_accuracy: 0.9250\n",
      "Epoch 76/200\n",
      "6/6 [==============================] - 0s 3ms/step - loss: 0.1591 - accuracy: 0.9520 - val_loss: 0.1933 - val_accuracy: 0.9265\n",
      "Epoch 77/200\n",
      "6/6 [==============================] - 0s 3ms/step - loss: 0.1585 - accuracy: 0.9520 - val_loss: 0.1927 - val_accuracy: 0.9265\n",
      "Epoch 78/200\n",
      "6/6 [==============================] - 0s 3ms/step - loss: 0.1583 - accuracy: 0.9527 - val_loss: 0.1923 - val_accuracy: 0.9250\n",
      "Epoch 79/200\n",
      "6/6 [==============================] - 0s 4ms/step - loss: 0.1581 - accuracy: 0.9512 - val_loss: 0.1916 - val_accuracy: 0.9265\n",
      "Epoch 80/200\n",
      "6/6 [==============================] - 0s 3ms/step - loss: 0.1577 - accuracy: 0.9520 - val_loss: 0.1909 - val_accuracy: 0.9280\n",
      "Epoch 81/200\n",
      "6/6 [==============================] - 0s 3ms/step - loss: 0.1577 - accuracy: 0.9512 - val_loss: 0.1911 - val_accuracy: 0.9265\n",
      "Epoch 82/200\n",
      "6/6 [==============================] - 0s 4ms/step - loss: 0.1573 - accuracy: 0.9520 - val_loss: 0.1910 - val_accuracy: 0.9220\n",
      "Epoch 83/200\n",
      "6/6 [==============================] - 0s 4ms/step - loss: 0.1569 - accuracy: 0.9524 - val_loss: 0.1912 - val_accuracy: 0.9250\n",
      "Epoch 84/200\n",
      "6/6 [==============================] - 0s 4ms/step - loss: 0.1566 - accuracy: 0.9527 - val_loss: 0.1914 - val_accuracy: 0.9295\n",
      "Epoch 85/200\n",
      "6/6 [==============================] - 0s 3ms/step - loss: 0.1563 - accuracy: 0.9527 - val_loss: 0.1913 - val_accuracy: 0.9280\n",
      "Epoch 86/200\n",
      "6/6 [==============================] - 0s 4ms/step - loss: 0.1561 - accuracy: 0.9516 - val_loss: 0.1907 - val_accuracy: 0.9280\n",
      "Epoch 87/200\n",
      "6/6 [==============================] - 0s 4ms/step - loss: 0.1556 - accuracy: 0.9539 - val_loss: 0.1902 - val_accuracy: 0.9265\n",
      "Epoch 88/200\n",
      "6/6 [==============================] - 0s 3ms/step - loss: 0.1556 - accuracy: 0.9539 - val_loss: 0.1907 - val_accuracy: 0.9265\n",
      "Epoch 89/200\n",
      "6/6 [==============================] - 0s 4ms/step - loss: 0.1552 - accuracy: 0.9527 - val_loss: 0.1905 - val_accuracy: 0.9265\n",
      "Epoch 90/200\n",
      "6/6 [==============================] - 0s 4ms/step - loss: 0.1548 - accuracy: 0.9527 - val_loss: 0.1901 - val_accuracy: 0.9265\n",
      "Epoch 91/200\n",
      "6/6 [==============================] - 0s 3ms/step - loss: 0.1545 - accuracy: 0.9527 - val_loss: 0.1899 - val_accuracy: 0.9235\n",
      "Epoch 92/200\n",
      "6/6 [==============================] - 0s 3ms/step - loss: 0.1544 - accuracy: 0.9527 - val_loss: 0.1907 - val_accuracy: 0.9220\n",
      "Epoch 93/200\n",
      "6/6 [==============================] - 0s 4ms/step - loss: 0.1541 - accuracy: 0.9527 - val_loss: 0.1906 - val_accuracy: 0.9220\n",
      "Epoch 94/200\n",
      "6/6 [==============================] - 0s 4ms/step - loss: 0.1538 - accuracy: 0.9520 - val_loss: 0.1907 - val_accuracy: 0.9250\n",
      "Epoch 95/200\n",
      "6/6 [==============================] - 0s 4ms/step - loss: 0.1537 - accuracy: 0.9531 - val_loss: 0.1907 - val_accuracy: 0.9235\n",
      "Epoch 96/200\n",
      "6/6 [==============================] - 0s 4ms/step - loss: 0.1534 - accuracy: 0.9535 - val_loss: 0.1907 - val_accuracy: 0.9235\n",
      "Epoch 97/200\n",
      "6/6 [==============================] - 0s 4ms/step - loss: 0.1531 - accuracy: 0.9542 - val_loss: 0.1904 - val_accuracy: 0.9235\n",
      "Epoch 98/200\n",
      "6/6 [==============================] - 0s 4ms/step - loss: 0.1528 - accuracy: 0.9539 - val_loss: 0.1903 - val_accuracy: 0.9265\n",
      "Epoch 99/200\n",
      "6/6 [==============================] - 0s 4ms/step - loss: 0.1525 - accuracy: 0.9535 - val_loss: 0.1908 - val_accuracy: 0.9250\n",
      "Epoch 100/200\n",
      "6/6 [==============================] - 0s 4ms/step - loss: 0.1523 - accuracy: 0.9542 - val_loss: 0.1906 - val_accuracy: 0.9235\n",
      "Epoch 101/200\n",
      "6/6 [==============================] - 0s 5ms/step - loss: 0.1519 - accuracy: 0.9546 - val_loss: 0.1901 - val_accuracy: 0.9220\n",
      "Epoch 102/200\n",
      "6/6 [==============================] - 0s 4ms/step - loss: 0.1516 - accuracy: 0.9554 - val_loss: 0.1893 - val_accuracy: 0.9235\n",
      "Epoch 103/200\n",
      "6/6 [==============================] - 0s 4ms/step - loss: 0.1515 - accuracy: 0.9546 - val_loss: 0.1886 - val_accuracy: 0.9280\n",
      "Epoch 104/200\n",
      "6/6 [==============================] - 0s 5ms/step - loss: 0.1511 - accuracy: 0.9546 - val_loss: 0.1882 - val_accuracy: 0.9250\n",
      "Epoch 105/200\n",
      "6/6 [==============================] - 0s 4ms/step - loss: 0.1510 - accuracy: 0.9546 - val_loss: 0.1875 - val_accuracy: 0.9280\n",
      "Epoch 106/200\n",
      "6/6 [==============================] - 0s 4ms/step - loss: 0.1508 - accuracy: 0.9546 - val_loss: 0.1873 - val_accuracy: 0.9295\n",
      "Epoch 107/200\n",
      "6/6 [==============================] - 0s 4ms/step - loss: 0.1505 - accuracy: 0.9561 - val_loss: 0.1870 - val_accuracy: 0.9295\n",
      "Epoch 108/200\n",
      "6/6 [==============================] - 0s 4ms/step - loss: 0.1502 - accuracy: 0.9561 - val_loss: 0.1867 - val_accuracy: 0.9295\n",
      "Epoch 109/200\n",
      "6/6 [==============================] - 0s 4ms/step - loss: 0.1500 - accuracy: 0.9550 - val_loss: 0.1868 - val_accuracy: 0.9295\n",
      "Epoch 110/200\n",
      "6/6 [==============================] - 0s 4ms/step - loss: 0.1497 - accuracy: 0.9554 - val_loss: 0.1875 - val_accuracy: 0.9265\n",
      "Epoch 111/200\n",
      "6/6 [==============================] - 0s 4ms/step - loss: 0.1495 - accuracy: 0.9554 - val_loss: 0.1880 - val_accuracy: 0.9265\n",
      "Epoch 112/200\n",
      "6/6 [==============================] - 0s 4ms/step - loss: 0.1491 - accuracy: 0.9542 - val_loss: 0.1878 - val_accuracy: 0.9265\n",
      "Epoch 113/200\n",
      "6/6 [==============================] - 0s 4ms/step - loss: 0.1489 - accuracy: 0.9546 - val_loss: 0.1876 - val_accuracy: 0.9265\n",
      "Epoch 114/200\n",
      "6/6 [==============================] - 0s 4ms/step - loss: 0.1489 - accuracy: 0.9542 - val_loss: 0.1870 - val_accuracy: 0.9265\n",
      "Epoch 115/200\n",
      "6/6 [==============================] - 0s 4ms/step - loss: 0.1484 - accuracy: 0.9542 - val_loss: 0.1867 - val_accuracy: 0.9265\n",
      "Epoch 116/200\n",
      "6/6 [==============================] - 0s 4ms/step - loss: 0.1485 - accuracy: 0.9542 - val_loss: 0.1863 - val_accuracy: 0.9250\n",
      "Epoch 117/200\n",
      "6/6 [==============================] - 0s 4ms/step - loss: 0.1482 - accuracy: 0.9539 - val_loss: 0.1863 - val_accuracy: 0.9265\n",
      "Epoch 118/200\n",
      "6/6 [==============================] - 0s 4ms/step - loss: 0.1475 - accuracy: 0.9557 - val_loss: 0.1855 - val_accuracy: 0.9265\n",
      "Epoch 119/200\n",
      "6/6 [==============================] - 0s 4ms/step - loss: 0.1475 - accuracy: 0.9569 - val_loss: 0.1848 - val_accuracy: 0.9280\n",
      "Epoch 120/200\n",
      "6/6 [==============================] - 0s 4ms/step - loss: 0.1472 - accuracy: 0.9572 - val_loss: 0.1847 - val_accuracy: 0.9295\n",
      "Epoch 121/200\n",
      "6/6 [==============================] - 0s 4ms/step - loss: 0.1469 - accuracy: 0.9580 - val_loss: 0.1852 - val_accuracy: 0.9280\n",
      "Epoch 122/200\n",
      "6/6 [==============================] - 0s 4ms/step - loss: 0.1465 - accuracy: 0.9565 - val_loss: 0.1856 - val_accuracy: 0.9280\n",
      "Epoch 123/200\n",
      "6/6 [==============================] - 0s 5ms/step - loss: 0.1465 - accuracy: 0.9580 - val_loss: 0.1860 - val_accuracy: 0.9280\n",
      "Epoch 124/200\n",
      "6/6 [==============================] - 0s 4ms/step - loss: 0.1465 - accuracy: 0.9580 - val_loss: 0.1866 - val_accuracy: 0.9280\n",
      "Epoch 125/200\n",
      "6/6 [==============================] - 0s 4ms/step - loss: 0.1464 - accuracy: 0.9572 - val_loss: 0.1868 - val_accuracy: 0.9280\n",
      "Epoch 126/200\n",
      "6/6 [==============================] - 0s 4ms/step - loss: 0.1457 - accuracy: 0.9569 - val_loss: 0.1863 - val_accuracy: 0.9265\n",
      "Epoch 127/200\n",
      "6/6 [==============================] - 0s 4ms/step - loss: 0.1455 - accuracy: 0.9569 - val_loss: 0.1864 - val_accuracy: 0.9250\n",
      "Epoch 128/200\n",
      "6/6 [==============================] - 0s 4ms/step - loss: 0.1455 - accuracy: 0.9565 - val_loss: 0.1861 - val_accuracy: 0.9235\n",
      "Epoch 129/200\n",
      "6/6 [==============================] - 0s 4ms/step - loss: 0.1451 - accuracy: 0.9561 - val_loss: 0.1858 - val_accuracy: 0.9265\n",
      "Epoch 130/200\n",
      "6/6 [==============================] - 0s 4ms/step - loss: 0.1445 - accuracy: 0.9565 - val_loss: 0.1856 - val_accuracy: 0.9235\n",
      "Epoch 131/200\n",
      "6/6 [==============================] - 0s 4ms/step - loss: 0.1445 - accuracy: 0.9576 - val_loss: 0.1860 - val_accuracy: 0.9220\n",
      "Epoch 132/200\n",
      "6/6 [==============================] - 0s 4ms/step - loss: 0.1445 - accuracy: 0.9587 - val_loss: 0.1850 - val_accuracy: 0.9265\n",
      "Epoch 133/200\n",
      "6/6 [==============================] - 0s 4ms/step - loss: 0.1441 - accuracy: 0.9587 - val_loss: 0.1842 - val_accuracy: 0.9280\n",
      "Epoch 134/200\n",
      "6/6 [==============================] - 0s 4ms/step - loss: 0.1438 - accuracy: 0.9595 - val_loss: 0.1835 - val_accuracy: 0.9250\n",
      "Epoch 135/200\n",
      "6/6 [==============================] - 0s 4ms/step - loss: 0.1436 - accuracy: 0.9580 - val_loss: 0.1835 - val_accuracy: 0.9280\n",
      "Epoch 136/200\n",
      "6/6 [==============================] - 0s 4ms/step - loss: 0.1435 - accuracy: 0.9584 - val_loss: 0.1836 - val_accuracy: 0.9250\n",
      "Epoch 137/200\n",
      "6/6 [==============================] - 0s 4ms/step - loss: 0.1432 - accuracy: 0.9584 - val_loss: 0.1831 - val_accuracy: 0.9250\n",
      "Epoch 138/200\n",
      "6/6 [==============================] - 0s 4ms/step - loss: 0.1429 - accuracy: 0.9584 - val_loss: 0.1830 - val_accuracy: 0.9280\n",
      "Epoch 139/200\n",
      "6/6 [==============================] - 0s 4ms/step - loss: 0.1427 - accuracy: 0.9576 - val_loss: 0.1837 - val_accuracy: 0.9295\n",
      "Epoch 140/200\n",
      "6/6 [==============================] - 0s 4ms/step - loss: 0.1426 - accuracy: 0.9576 - val_loss: 0.1840 - val_accuracy: 0.9235\n",
      "Epoch 141/200\n",
      "6/6 [==============================] - 0s 4ms/step - loss: 0.1422 - accuracy: 0.9584 - val_loss: 0.1835 - val_accuracy: 0.9265\n",
      "Epoch 142/200\n",
      "6/6 [==============================] - 0s 4ms/step - loss: 0.1419 - accuracy: 0.9595 - val_loss: 0.1829 - val_accuracy: 0.9280\n",
      "Epoch 143/200\n",
      "6/6 [==============================] - 0s 4ms/step - loss: 0.1418 - accuracy: 0.9584 - val_loss: 0.1826 - val_accuracy: 0.9265\n",
      "Epoch 144/200\n",
      "6/6 [==============================] - 0s 4ms/step - loss: 0.1415 - accuracy: 0.9584 - val_loss: 0.1832 - val_accuracy: 0.9265\n",
      "Epoch 145/200\n",
      "6/6 [==============================] - 0s 4ms/step - loss: 0.1413 - accuracy: 0.9584 - val_loss: 0.1839 - val_accuracy: 0.9250\n",
      "Epoch 146/200\n",
      "6/6 [==============================] - 0s 4ms/step - loss: 0.1411 - accuracy: 0.9591 - val_loss: 0.1841 - val_accuracy: 0.9265\n",
      "Epoch 147/200\n",
      "6/6 [==============================] - 0s 4ms/step - loss: 0.1408 - accuracy: 0.9595 - val_loss: 0.1844 - val_accuracy: 0.9250\n",
      "Epoch 148/200\n",
      "6/6 [==============================] - 0s 4ms/step - loss: 0.1406 - accuracy: 0.9599 - val_loss: 0.1844 - val_accuracy: 0.9250\n",
      "Epoch 149/200\n",
      "6/6 [==============================] - 0s 4ms/step - loss: 0.1404 - accuracy: 0.9599 - val_loss: 0.1836 - val_accuracy: 0.9280\n",
      "Epoch 150/200\n",
      "6/6 [==============================] - 0s 4ms/step - loss: 0.1400 - accuracy: 0.9584 - val_loss: 0.1826 - val_accuracy: 0.9265\n",
      "Epoch 151/200\n",
      "6/6 [==============================] - 0s 4ms/step - loss: 0.1400 - accuracy: 0.9591 - val_loss: 0.1827 - val_accuracy: 0.9310\n",
      "Epoch 152/200\n",
      "6/6 [==============================] - 0s 4ms/step - loss: 0.1397 - accuracy: 0.9584 - val_loss: 0.1837 - val_accuracy: 0.9250\n",
      "Epoch 153/200\n",
      "6/6 [==============================] - 0s 4ms/step - loss: 0.1393 - accuracy: 0.9587 - val_loss: 0.1844 - val_accuracy: 0.9235\n",
      "Epoch 154/200\n",
      "6/6 [==============================] - 0s 4ms/step - loss: 0.1396 - accuracy: 0.9587 - val_loss: 0.1847 - val_accuracy: 0.9235\n",
      "Epoch 155/200\n",
      "6/6 [==============================] - 0s 4ms/step - loss: 0.1394 - accuracy: 0.9584 - val_loss: 0.1844 - val_accuracy: 0.9250\n",
      "Epoch 156/200\n",
      "6/6 [==============================] - 0s 4ms/step - loss: 0.1387 - accuracy: 0.9587 - val_loss: 0.1833 - val_accuracy: 0.9250\n",
      "Epoch 157/200\n",
      "6/6 [==============================] - 0s 4ms/step - loss: 0.1386 - accuracy: 0.9599 - val_loss: 0.1833 - val_accuracy: 0.9265\n",
      "Epoch 158/200\n",
      "6/6 [==============================] - 0s 4ms/step - loss: 0.1386 - accuracy: 0.9602 - val_loss: 0.1832 - val_accuracy: 0.9280\n",
      "Epoch 159/200\n",
      "6/6 [==============================] - 0s 4ms/step - loss: 0.1383 - accuracy: 0.9599 - val_loss: 0.1837 - val_accuracy: 0.9265\n",
      "Epoch 160/200\n",
      "6/6 [==============================] - 0s 4ms/step - loss: 0.1380 - accuracy: 0.9595 - val_loss: 0.1839 - val_accuracy: 0.9265\n",
      "Epoch 161/200\n",
      "6/6 [==============================] - 0s 4ms/step - loss: 0.1376 - accuracy: 0.9595 - val_loss: 0.1838 - val_accuracy: 0.9280\n",
      "Epoch 162/200\n",
      "6/6 [==============================] - 0s 4ms/step - loss: 0.1373 - accuracy: 0.9595 - val_loss: 0.1835 - val_accuracy: 0.9265\n",
      "Epoch 163/200\n",
      "6/6 [==============================] - 0s 4ms/step - loss: 0.1371 - accuracy: 0.9591 - val_loss: 0.1834 - val_accuracy: 0.9280\n",
      "Epoch 164/200\n",
      "6/6 [==============================] - 0s 4ms/step - loss: 0.1369 - accuracy: 0.9606 - val_loss: 0.1827 - val_accuracy: 0.9265\n",
      "Epoch 165/200\n",
      "6/6 [==============================] - 0s 4ms/step - loss: 0.1371 - accuracy: 0.9606 - val_loss: 0.1830 - val_accuracy: 0.9265\n",
      "Epoch 166/200\n",
      "6/6 [==============================] - 0s 4ms/step - loss: 0.1369 - accuracy: 0.9595 - val_loss: 0.1828 - val_accuracy: 0.9265\n",
      "Epoch 167/200\n",
      "6/6 [==============================] - 0s 4ms/step - loss: 0.1366 - accuracy: 0.9602 - val_loss: 0.1831 - val_accuracy: 0.9265\n",
      "Epoch 168/200\n",
      "6/6 [==============================] - 0s 4ms/step - loss: 0.1363 - accuracy: 0.9606 - val_loss: 0.1828 - val_accuracy: 0.9295\n",
      "Epoch 169/200\n",
      "6/6 [==============================] - 0s 4ms/step - loss: 0.1359 - accuracy: 0.9610 - val_loss: 0.1829 - val_accuracy: 0.9310\n",
      "Epoch 170/200\n",
      "6/6 [==============================] - 0s 4ms/step - loss: 0.1357 - accuracy: 0.9614 - val_loss: 0.1826 - val_accuracy: 0.9310\n",
      "Epoch 171/200\n",
      "6/6 [==============================] - 0s 4ms/step - loss: 0.1355 - accuracy: 0.9621 - val_loss: 0.1826 - val_accuracy: 0.9310\n",
      "Epoch 172/200\n",
      "6/6 [==============================] - 0s 4ms/step - loss: 0.1354 - accuracy: 0.9621 - val_loss: 0.1840 - val_accuracy: 0.9250\n",
      "Epoch 173/200\n",
      "6/6 [==============================] - 0s 4ms/step - loss: 0.1355 - accuracy: 0.9617 - val_loss: 0.1840 - val_accuracy: 0.9280\n",
      "Epoch 174/200\n",
      "6/6 [==============================] - 0s 4ms/step - loss: 0.1351 - accuracy: 0.9610 - val_loss: 0.1835 - val_accuracy: 0.9295\n",
      "Epoch 175/200\n",
      "6/6 [==============================] - 0s 4ms/step - loss: 0.1349 - accuracy: 0.9610 - val_loss: 0.1837 - val_accuracy: 0.9295\n",
      "Epoch 176/200\n",
      "6/6 [==============================] - 0s 4ms/step - loss: 0.1348 - accuracy: 0.9606 - val_loss: 0.1832 - val_accuracy: 0.9280\n",
      "Epoch 177/200\n",
      "6/6 [==============================] - 0s 4ms/step - loss: 0.1348 - accuracy: 0.9602 - val_loss: 0.1826 - val_accuracy: 0.9295\n",
      "Epoch 178/200\n",
      "6/6 [==============================] - 0s 4ms/step - loss: 0.1343 - accuracy: 0.9610 - val_loss: 0.1821 - val_accuracy: 0.9310\n",
      "Epoch 179/200\n",
      "6/6 [==============================] - 0s 4ms/step - loss: 0.1341 - accuracy: 0.9621 - val_loss: 0.1828 - val_accuracy: 0.9280\n",
      "Epoch 180/200\n",
      "6/6 [==============================] - 0s 4ms/step - loss: 0.1338 - accuracy: 0.9614 - val_loss: 0.1833 - val_accuracy: 0.9280\n",
      "Epoch 181/200\n",
      "6/6 [==============================] - 0s 4ms/step - loss: 0.1337 - accuracy: 0.9617 - val_loss: 0.1833 - val_accuracy: 0.9295\n",
      "Epoch 182/200\n",
      "6/6 [==============================] - 0s 4ms/step - loss: 0.1333 - accuracy: 0.9614 - val_loss: 0.1834 - val_accuracy: 0.9265\n",
      "Epoch 183/200\n",
      "6/6 [==============================] - 0s 4ms/step - loss: 0.1331 - accuracy: 0.9614 - val_loss: 0.1841 - val_accuracy: 0.9250\n",
      "Epoch 184/200\n",
      "6/6 [==============================] - 0s 4ms/step - loss: 0.1335 - accuracy: 0.9617 - val_loss: 0.1829 - val_accuracy: 0.9280\n",
      "Epoch 185/200\n",
      "6/6 [==============================] - 0s 4ms/step - loss: 0.1334 - accuracy: 0.9614 - val_loss: 0.1828 - val_accuracy: 0.9265\n",
      "Epoch 186/200\n",
      "6/6 [==============================] - 0s 4ms/step - loss: 0.1329 - accuracy: 0.9614 - val_loss: 0.1821 - val_accuracy: 0.9235\n",
      "Epoch 187/200\n",
      "6/6 [==============================] - 0s 4ms/step - loss: 0.1326 - accuracy: 0.9621 - val_loss: 0.1821 - val_accuracy: 0.9265\n",
      "Epoch 188/200\n",
      "6/6 [==============================] - 0s 4ms/step - loss: 0.1321 - accuracy: 0.9632 - val_loss: 0.1818 - val_accuracy: 0.9265\n",
      "Epoch 189/200\n",
      "6/6 [==============================] - 0s 4ms/step - loss: 0.1320 - accuracy: 0.9629 - val_loss: 0.1819 - val_accuracy: 0.9250\n",
      "Epoch 190/200\n",
      "6/6 [==============================] - 0s 4ms/step - loss: 0.1317 - accuracy: 0.9629 - val_loss: 0.1818 - val_accuracy: 0.9265\n",
      "Epoch 191/200\n",
      "6/6 [==============================] - 0s 4ms/step - loss: 0.1316 - accuracy: 0.9625 - val_loss: 0.1814 - val_accuracy: 0.9295\n",
      "Epoch 192/200\n",
      "6/6 [==============================] - 0s 4ms/step - loss: 0.1316 - accuracy: 0.9617 - val_loss: 0.1823 - val_accuracy: 0.9280\n",
      "Epoch 193/200\n",
      "6/6 [==============================] - 0s 4ms/step - loss: 0.1312 - accuracy: 0.9617 - val_loss: 0.1813 - val_accuracy: 0.9325\n",
      "Epoch 194/200\n",
      "6/6 [==============================] - 0s 4ms/step - loss: 0.1309 - accuracy: 0.9621 - val_loss: 0.1810 - val_accuracy: 0.9310\n",
      "Epoch 195/200\n",
      "6/6 [==============================] - 0s 4ms/step - loss: 0.1310 - accuracy: 0.9614 - val_loss: 0.1809 - val_accuracy: 0.9340\n",
      "Epoch 196/200\n",
      "6/6 [==============================] - 0s 4ms/step - loss: 0.1304 - accuracy: 0.9617 - val_loss: 0.1821 - val_accuracy: 0.9280\n",
      "Epoch 197/200\n",
      "6/6 [==============================] - 0s 4ms/step - loss: 0.1302 - accuracy: 0.9629 - val_loss: 0.1826 - val_accuracy: 0.9280\n",
      "Epoch 198/200\n",
      "6/6 [==============================] - 0s 4ms/step - loss: 0.1303 - accuracy: 0.9621 - val_loss: 0.1816 - val_accuracy: 0.9280\n",
      "Epoch 199/200\n",
      "6/6 [==============================] - 0s 4ms/step - loss: 0.1299 - accuracy: 0.9629 - val_loss: 0.1818 - val_accuracy: 0.9295\n",
      "Epoch 200/200\n",
      "6/6 [==============================] - 0s 4ms/step - loss: 0.1298 - accuracy: 0.9617 - val_loss: 0.1820 - val_accuracy: 0.9280\n"
     ]
    }
   ],
   "source": [
    "history = model.fit(x_train, y_train, validation_data = (x_test, y_test), epochs=200, batch_size=512)"
   ],
   "metadata": {
    "collapsed": false
   }
  },
  {
   "cell_type": "code",
   "execution_count": 63,
   "outputs": [
    {
     "data": {
      "text/plain": "<Figure size 640x480 with 1 Axes>",
      "image/png": "[encoded data removed]"
     },
     "metadata": {},
     "output_type": "display_data"
    },
    {
     "data": {
      "text/plain": "<Figure size 640x480 with 1 Axes>",
      "image/png": "[encoded data removed]"
     },
     "metadata": {},
     "output_type": "display_data"
    }
   ],
   "source": [
    "\n",
    "# графики\n",
    "acc = history.history['accuracy']\n",
    "val_acc = history.history['val_accuracy']\n",
    "loss = history.history['loss']\n",
    "val_loss = history.history['val_loss']\n",
    "\n",
    "epochs = range(1, len(acc)+1)\n",
    "plt.plot(epochs, acc, 'bo', label = 'Training acc')\n",
    "plt.plot(epochs, val_acc, 'b', label = 'Validation acc')\n",
    "plt.title('Training and Validation accuracy')\n",
    "plt.legend()\n",
    "\n",
    "plt.figure()\n",
    "\n",
    "plt.plot(epochs, loss, 'bo', label = 'Training loss')\n",
    "plt.plot(epochs, val_loss, 'b', label = 'Validation loss')\n",
    "plt.title('Training and Validation loss')\n",
    "plt.legend()\n",
    "\n",
    "plt.show()\n"
   ],
   "metadata": {
    "collapsed": false
   }
  },
  {
   "cell_type": "code",
   "execution_count": null,
   "outputs": [],
   "source": [],
   "metadata": {
    "collapsed": false
   }
  },
  {
   "cell_type": "code",
   "execution_count": 77,
   "outputs": [
    {
     "name": "stdout",
     "output_type": "stream",
     "text": [
      "21/21 [==============================] - 0s 403us/step\n"
     ]
    }
   ],
   "source": [
    "# Получаем прогнозы модели на тестовых данных\n",
    "y_pred = model.predict(x_test)\n",
    "\n",
    "# Округляем прогнозы до 0 или 1, чтобы получить бинарные предсказания\n",
    "y_pred_binary = (y_pred > 0.5).astype(int)"
   ],
   "metadata": {
    "collapsed": false
   }
  },
  {
   "cell_type": "code",
   "execution_count": 78,
   "outputs": [
    {
     "name": "stdout",
     "output_type": "stream",
     "text": [
      "              precision    recall  f1-score   support\n",
      "\n",
      "       False       0.94      0.97      0.96       572\n",
      "        True       0.81      0.65      0.72        95\n",
      "\n",
      "    accuracy                           0.93       667\n",
      "   macro avg       0.87      0.81      0.84       667\n",
      "weighted avg       0.92      0.93      0.92       667\n",
      "\n"
     ]
    }
   ],
   "source": [
    "print(classification_report(y_test, y_pred_binary))"
   ],
   "metadata": {
    "collapsed": false
   }
  },
  {
   "cell_type": "code",
   "execution_count": null,
   "outputs": [],
   "source": [],
   "metadata": {
    "collapsed": false
   }
  }
 ],
 "metadata": {
  "kernelspec": {
   "display_name": "Python 3",
   "language": "python",
   "name": "python3"
  },
  "language_info": {
   "codemirror_mode": {
    "name": "ipython",
    "version": 2
   },
   "file_extension": ".py",
   "mimetype": "text/x-python",
   "name": "python",
   "nbconvert_exporter": "python",
   "pygments_lexer": "ipython2",
   "version": "2.7.6"
  }
 },
 "nbformat": 4,
 "nbformat_minor": 0
}
