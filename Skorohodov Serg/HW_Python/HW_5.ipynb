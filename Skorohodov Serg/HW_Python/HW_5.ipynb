{
 "nbformat": 4,
 "nbformat_minor": 0,
 "metadata": {
  "colab": {
   "provenance": []
  },
  "kernelspec": {
   "name": "python3",
   "display_name": "Python 3"
  },
  "language_info": {
   "name": "python"
  }
 },
 "cells": [
  {
   "cell_type": "markdown",
   "source": [
    "Fn = Fn-1 + Fn-2"
   ],
   "metadata": {
    "id": "_HgLn6NZltAV"
   }
  },
  {
   "cell_type": "code",
   "source": [
    "def fabinachi(num):\n",
    "  if num<= 1:\n",
    "    return 1\n",
    "  return fabinachi(num -1) + fabinachi(num-2)"
   ],
   "metadata": {
    "id": "GlaacyGdoftM"
   },
   "execution_count": 1,
   "outputs": []
  },
  {
   "cell_type": "code",
   "source": [
    "fabinachi(6)"
   ],
   "metadata": {
    "colab": {
     "base_uri": "https://localhost:8080/"
    },
    "id": "G2rHxxyapMC4",
    "outputId": "384a25f1-3b12-44eb-c320-a47f53e4f0ab"
   },
   "execution_count": 2,
   "outputs": [
    {
     "data": {
      "text/plain": "13"
     },
     "execution_count": 2,
     "metadata": {},
     "output_type": "execute_result"
    }
   ]
  },
  {
   "cell_type": "code",
   "source": [],
   "metadata": {
    "id": "jPCCOshAqDp7"
   },
   "execution_count": null,
   "outputs": []
  },
  {
   "cell_type": "markdown",
   "source": [
    "Задание: Банковский вклад. Пользователь делает вклад в размере a рублей сроком на years лет под 10% годовых (каждый год размер его вклада увеличивается на 10%. Эти деньги прибавляются к сумме вклада, и на них в следующем году тоже будут проценты).\n",
    "\n",
    "Написать программу bank, принимающая аргументы a и years, и возвращающую сумму, которая будет на счету пользователя."
   ],
   "metadata": {
    "id": "5CKyKk9FqD07"
   }
  },
  {
   "cell_type": "code",
   "source": [
    "def bank(a: float, years: int):\n",
    "  for i in range(1, years+1):\n",
    "    a = a +0.1*a\n",
    "    print(a)\n",
    "  return round(a, 2)"
   ],
   "metadata": {
    "id": "_QBUfTblqF-b"
   },
   "execution_count": null,
   "outputs": []
  },
  {
   "cell_type": "code",
   "source": [
    "bank(10, 5)"
   ],
   "metadata": {
    "colab": {
     "base_uri": "https://localhost:8080/"
    },
    "id": "Ocm68tGCraFq",
    "outputId": "64518333-89b1-4f57-e627-85831c3b18f6"
   },
   "execution_count": null,
   "outputs": [
    {
     "output_type": "stream",
     "name": "stdout",
     "text": [
      "11.0\n",
      "12.1\n",
      "13.309999999999999\n",
      "14.640999999999998\n",
      "16.105099999999997\n"
     ]
    },
    {
     "output_type": "execute_result",
     "data": {
      "text/plain": [
       "16.11"
      ]
     },
     "metadata": {},
     "execution_count": 25
    }
   ]
  },
  {
   "cell_type": "code",
   "source": [],
   "metadata": {
    "id": "ynb0-dOXsTbO"
   },
   "execution_count": null,
   "outputs": []
  },
  {
   "cell_type": "markdown",
   "source": [
    "Наибольший простой фактор\n",
    "\n",
    "Простые множители 13195: 5, 7, 13 и 29.\n",
    "\n",
    "Какой самый большой простой делитель числа 600851475143?"
   ],
   "metadata": {
    "id": "HNhdgWc9sTkG"
   }
  },
  {
   "cell_type": "code",
   "source": [
    "\n",
    "def prostoe_num(num):\n",
    "  result = True  \n",
    "  num_chek = int(round(num, 0))\n",
    "  for i in range(2, num_chek) :\n",
    "    if num%i == 0 :\n",
    "      result = False\n",
    "      break\n",
    "  return result \n",
    "\n",
    "def chek_num(num):\n",
    " # num_chek = int(round((num/2), 0))+1   \n",
    "  for i in range(2, num):\n",
    "    if num%i == 0:\n",
    "      if prostoe_num(num/i):\n",
    "        result = int(num/i)\n",
    "        break\n",
    "  return result\n",
    " "
   ],
   "metadata": {
    "id": "2pQQ4JEvyBxr"
   },
   "execution_count": null,
   "outputs": []
  },
  {
   "cell_type": "code",
   "source": [
    "chek_num(600851475143)"
   ],
   "metadata": {
    "colab": {
     "base_uri": "https://localhost:8080/"
    },
    "id": "uislsbdnkj8a",
    "outputId": "2da51d1f-96cc-44f1-d675-c1307218f729"
   },
   "execution_count": null,
   "outputs": [
    {
     "output_type": "execute_result",
     "data": {
      "text/plain": [
       "6857"
      ]
     },
     "metadata": {},
     "execution_count": 7
    }
   ]
  },
  {
   "cell_type": "code",
   "source": [],
   "metadata": {
    "id": "-jqzwVnWhUrN"
   },
   "execution_count": null,
   "outputs": []
  },
  {
   "cell_type": "markdown",
   "source": [
    "Наименьшее кратное\n",
    "\n",
    "2520 - это наименьшее число, которое можно разделить на каждое из чисел от 1 до 10 без остатка.\n",
    "\n",
    "Какое наименьшее положительное число делится без остатка на все числа от 1 до 20?"
   ],
   "metadata": {
    "id": "4gf6WgmOYnJP"
   }
  },
  {
   "cell_type": "code",
   "source": [
    "def chek_division(num_1, num_2, chek_num):\n",
    "  result = True\n",
    "  for i in range(num_1, num_2+1):\n",
    "    if not chek_num%i==0:\n",
    "      result = False\n",
    "  return result\n",
    "\n",
    "\n",
    "def min_mult(num_1, num_2):\n",
    "  flag = True\n",
    "  result = num_2*(num_2+1)\n",
    "  while flag:\n",
    "    if chek_division(num_1, num_2, result):\n",
    "      flag = False\n",
    "    else:\n",
    "      result+=1\n",
    "  return result\n"
   ],
   "metadata": {
    "id": "mgAcB0vlYlzP"
   },
   "execution_count": null,
   "outputs": []
  },
  {
   "cell_type": "code",
   "source": [
    "min_mult(1, 20)"
   ],
   "metadata": {
    "colab": {
     "base_uri": "https://localhost:8080/"
    },
    "id": "3C21UfWLk7QA",
    "outputId": "119a2874-8570-4ef4-ae23-d49bd103902d"
   },
   "execution_count": null,
   "outputs": [
    {
     "output_type": "execute_result",
     "data": {
      "text/plain": [
       "232792560"
      ]
     },
     "metadata": {},
     "execution_count": 15
    }
   ]
  },
  {
   "cell_type": "markdown",
   "source": [
    "Сумма квадратов разницы\n",
    "\n",
    "Сумма квадратов первых десяти натуральных чисел равна,\n",
    "\n",
    "1**2 + 2**2 + ... + 10**2 = 385\n",
    "\n",
    "Квадрат суммы первых десяти натуральных чисел равен,\n",
    "\n",
    "(1 + 2 + ... + 10)**2 = 55**2 = 3025\n",
    "\n",
    "Следовательно, разница между суммой квадратов первых десяти натуральных чисел и квадратом суммы равна .\n",
    "\n",
    "Найдите разницу между суммой квадратов первых ста натуральных чисел и квадратом суммы."
   ],
   "metadata": {
    "id": "LutOhwORl0qJ"
   }
  },
  {
   "cell_type": "code",
   "source": [],
   "metadata": {
    "id": "urlqDadknvVw"
   },
   "execution_count": null,
   "outputs": []
  },
  {
   "cell_type": "code",
   "source": [
    "def sum_squared(num_1, num_2):\n",
    "  return (sum(range(num_1, num_2+1)))**2\n",
    "\n",
    "\n",
    "def sum_of_squares(num_1, num_2):\n",
    "  return sum([i**2 for i in range(num_1, num_2+1)])\n",
    "\n",
    "\n",
    "def difference(num_1, num_2):\n",
    "  return sum_squared(num_1, num_2)-sum_of_squares(num_1, num_2) "
   ],
   "metadata": {
    "id": "9PjRrpIrxl6l"
   },
   "execution_count": null,
   "outputs": []
  },
  {
   "cell_type": "code",
   "source": [
    "difference(1, 20)"
   ],
   "metadata": {
    "colab": {
     "base_uri": "https://localhost:8080/"
    },
    "id": "GY42EVXtyukH",
    "outputId": "b1fda2a8-aa40-4f66-84d2-ced409f3393f"
   },
   "execution_count": null,
   "outputs": [
    {
     "output_type": "execute_result",
     "data": {
      "text/plain": [
       "41230"
      ]
     },
     "metadata": {},
     "execution_count": 44
    }
   ]
  },
  {
   "cell_type": "code",
   "source": [],
   "metadata": {
    "id": "LRksOEnazwMJ"
   },
   "execution_count": null,
   "outputs": []
  },
  {
   "cell_type": "markdown",
   "source": [
    "Перечислив первые шесть простых чисел: 2, 3, 5, 7, 11 и 13, мы видим, что 6-е простое число равно 13.\n",
    "\n",
    "Какое 10 001-е простое число?"
   ],
   "metadata": {
    "id": "Ot094D6-zwZI"
   }
  },
  {
   "cell_type": "code",
   "source": [
    "def prime_number(num):\n",
    "  result = True  \n",
    "  for i in range(2, num) :\n",
    "    if num%i == 0 :\n",
    "      result = False\n",
    "      break\n",
    "  return result \n",
    "\n",
    "def counting_prime_numbers(amount_of_numbers):\n",
    "  counter_num = amount_of_numbers\n",
    "  chek_number = 1\n",
    "  while counter_num:\n",
    "    chek_number +=1\n",
    "    if prime_number(chek_number): \n",
    "     counter_num -=1\n",
    "  return chek_number"
   ],
   "metadata": {
    "id": "pXPrl6v_z2dA"
   },
   "execution_count": null,
   "outputs": []
  },
  {
   "cell_type": "code",
   "source": [
    "counting_prime_numbers(10001)"
   ],
   "metadata": {
    "colab": {
     "base_uri": "https://localhost:8080/"
    },
    "id": "rp-AfkEa20y-",
    "outputId": "18986141-a95e-42ee-8aea-1fcecd5dd709"
   },
   "execution_count": null,
   "outputs": [
    {
     "output_type": "execute_result",
     "data": {
      "text/plain": [
       "104743"
      ]
     },
     "metadata": {},
     "execution_count": 51
    }
   ]
  },
  {
   "cell_type": "code",
   "source": [],
   "metadata": {
    "id": "a8K6mWbj3N_c"
   },
   "execution_count": null,
   "outputs": []
  },
  {
   "cell_type": "markdown",
   "source": [
    "Task_30 **\n",
    "Самая длинная последовательность Коллатца\n",
    "\n",
    "Следующая итерационная последовательность определена для набора натуральных чисел:\n",
    "\n",
    "Если n чётное n = n/2 Если n нечётное n = n*3 + 1\n",
    "\n",
    "Используя приведенное выше правило и начиная с 13, мы генерируем следующую последовательность:\n",
    "\n",
    "13 -> 40 -> 20 -> 10 -> 5 -> 16 -> 8 -> 4 -> 2 -> 1\n",
    "\n",
    "Видно, что эта последовательность (начиная с 13 и заканчивая 1) содержит 10 терминов. Хотя это еще не доказано (задача Коллатца), считается, что все стартовые номера заканчиваются на 1.\n",
    "\n",
    "Какое начальное число, меньшее миллиона, дает самую длинную цепочку?\n",
    "\n",
    "ПРИМЕЧАНИЕ: Как только цепочка начинается, термины могут превышать один миллион.\n",
    "\n",
    "Дополнительное условие:\n",
    "Максимальная скорсть работы программы среди всех слушателей.\n"
   ],
   "metadata": {
    "id": "ImUe3WUu3OSc"
   }
  },
  {
   "cell_type": "code",
   "source": [
    "\n",
    "def iteration_count(chek_num, dict_iter):\n",
    "  flag = True\n",
    "  iter = 1\n",
    "  num = chek_num\n",
    "  while chek_num != 1 and flag:\n",
    "    \n",
    "    if chek_num in dict_iter.keys():\n",
    "      iter = iter + dict_iter.get(chek_num) - 1    \n",
    "      flag = False\n",
    "      \n",
    "    else:\n",
    "      if chek_num%2 == 0:\n",
    "        chek_num = chek_num/2\n",
    "        iter+=1\n",
    "      else:\n",
    "        chek_num = chek_num*3+1\n",
    "        iter+=1\n",
    "    \n",
    "  return dict_iter.update({num:iter})\n",
    "\n",
    "\n",
    "def maximum_number_of_iterations(num): \n",
    "  dict_iter = {}\n",
    "  for i in range(1,num):\n",
    "     iteration_count(i, dict_iter)\n",
    "    \n",
    "  result = list(sorted(dict_iter.items(), key=lambda item: item[1]))\n",
    "  return print(result[-1])"
   ],
   "metadata": {
    "id": "_xoudVXj6-qG"
   },
   "execution_count": null,
   "outputs": []
  },
  {
   "cell_type": "code",
   "source": [
    "\n"
   ],
   "metadata": {
    "id": "WuM8QqB3FM6R"
   },
   "execution_count": null,
   "outputs": []
  },
  {
   "cell_type": "code",
   "source": [
    "maximum_number_of_iterations(1000000)"
   ],
   "metadata": {
    "colab": {
     "base_uri": "https://localhost:8080/"
    },
    "id": "q5jJwriDIokt",
    "outputId": "213aa673-0726-450c-87fc-ea8854b7186e"
   },
   "execution_count": null,
   "outputs": [
    {
     "output_type": "stream",
     "name": "stdout",
     "text": [
      "(837799, 525)\n"
     ]
    }
   ]
  }
 ]
}
