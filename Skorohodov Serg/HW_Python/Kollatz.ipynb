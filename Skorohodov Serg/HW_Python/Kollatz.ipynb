{
 "nbformat": 4,
 "nbformat_minor": 0,
 "metadata": {
  "colab": {
   "provenance": []
  },
  "kernelspec": {
   "name": "python3",
   "display_name": "Python 3"
  },
  "language_info": {
   "name": "python"
  }
 },
 "cells": [
  {
   "cell_type": "code",
   "execution_count": null,
   "metadata": {
    "id": "ew0Wx75Vflr9"
   },
   "outputs": [],
   "source": [
    "def iteration_count(chek_num, dict_iter):\n",
    "  flag = True\n",
    "  iter = 1\n",
    "  num = chek_num\n",
    "  while chek_num != 1 and flag:\n",
    "    \n",
    "    if chek_num in dict_iter.keys():\n",
    "      iter = iter + dict_iter.get(chek_num) - 1    \n",
    "      flag = False\n",
    "      \n",
    "    else:\n",
    "      if chek_num%2 == 0:\n",
    "        chek_num = chek_num/2\n",
    "        iter+=1\n",
    "      else:\n",
    "        chek_num = chek_num*3+1\n",
    "        iter+=1\n",
    "    \n",
    "  return dict_iter.update({num:iter})\n",
    "\n",
    "\n",
    "def maximum_number_of_iterations(num): \n",
    "  dict_iter = {}\n",
    "  for i in range(1,num):\n",
    "     iteration_count(i, dict_iter)\n",
    "    \n",
    "  result = list(sorted(dict_iter.items(), key=lambda item: item[1]))\n",
    "  return print(result[-1])"
   ]
  }
 ]
}
