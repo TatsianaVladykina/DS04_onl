{
 "cells": [
  {
   "cell_type": "code",
   "execution_count": 20,
   "metadata": {
    "executionInfo": {
     "elapsed": 462,
     "status": "ok",
     "timestamp": 1673780525505,
     "user": {
      "displayName": "Sergej Skorohodov",
      "userId": "15609542599609981868"
     },
     "user_tz": -120
    },
    "id": "X6upig9YFoMn"
   },
   "outputs": [],
   "source": [
    "import os\n",
    "\n",
    "os.chdir('/content/drive/MyDrive/Colab Notebooks/data/books')"
   ]
  },
  {
   "cell_type": "code",
   "execution_count": 22,
   "metadata": {
    "colab": {
     "base_uri": "https://localhost:8080/"
    },
    "executionInfo": {
     "elapsed": 10035,
     "status": "ok",
     "timestamp": 1673781104650,
     "user": {
      "displayName": "Sergej Skorohodov",
      "userId": "15609542599609981868"
     },
     "user_tz": -120
    },
    "id": "obU0_Xe2GA7L",
    "outputId": "6922f187-25e3-499b-bcfc-ebafad882b5d"
   },
   "outputs": [
    {
     "name": "stdout",
     "output_type": "stream",
     "text": [
      "Chekhov__Ostrov_Sakhalin.txt\n",
      "Ertel'__Zapiski_Stepnyaka.txt\n",
      "Leskov__Ocharovannyj_strannik.txt\n",
      "Mamin-Sibiryak__Cherty_iz_zhizni_Pepko.txt\n",
      "Goncharov__Obyknovennaya_istoriya.txt\n",
      "Goncharov__Fregat_'Pallada'.txt\n",
      "Mamin-Sibiryak__Bojtsy.txt\n",
      "Grigorovich__Bobyl'.txt\n",
      "Mamin-Sibiryak__Privalovskie_milliony.txt\n",
      "Pomyalovskij__Ocherki_bursy.txt\n",
      "Tolstoj_LN__Rubka_lesa_(Rasskaz_yunkera).txt\n",
      "Error\n",
      "11\n"
     ]
    }
   ],
   "source": [
    "\n",
    "word = \"Азия\"\n",
    "n=0\n",
    "for i in os.listdir():\n",
    "  with open(i, 'r', encoding=\"Windows-1251\") as book:\n",
    "    try:\n",
    "      book_read = book.read()\n",
    "      if word in book_read:\n",
    "        print(i)\n",
    "        n+=1\n",
    "    except UnicodeDecodeError:\n",
    "      print('Error')\n",
    "print(n)\n",
    "\n"
   ]
  }
 ],
 "metadata": {
  "colab": {
   "authorship_tag": "ABX9TyNkznvL75QuToSm+AjmcBwD",
   "mount_file_id": "1xOOE6Gq4U8Kdcyrc5IKObOR7j3fePwk_",
   "provenance": []
  },
  "kernelspec": {
   "display_name": "Python 3 (ipykernel)",
   "language": "python",
   "name": "python3"
  },
  "language_info": {
   "codemirror_mode": {
    "name": "ipython",
    "version": 3
   },
   "file_extension": ".py",
   "mimetype": "text/x-python",
   "name": "python",
   "nbconvert_exporter": "python",
   "pygments_lexer": "ipython3",
   "version": "3.9.13"
  }
 },
 "nbformat": 4,
 "nbformat_minor": 1
}
