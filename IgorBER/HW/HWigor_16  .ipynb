{
 "cells": [
  {
   "cell_type": "markdown",
   "id": "8ed88aff",
   "metadata": {},
   "source": [
    "Многоклассовая классификация\n",
    "\n",
    "1.загрузите из sklearn датасет с цифрами (каждый элемент кодирует изображение цифры размером 8х8)\n",
    "\n",
    "(подсказка from sklearn.datasets import load_digits)\n",
    "\n",
    "Осмотрите данные и метки.\n",
    "\n",
    "попробуйте отобразить любое единичное изображение из набора с помощью matplotlib.\n",
    "\n",
    "Примените тетрадку с прошлого урока к загруженному датасету в части многоклассовой классификации. \n",
    "\n",
    "Рассмотрите матрицу неточностей, сделайте выводы какие цифры классификатор принимает за другие наиболее часто.\n",
    "\n",
    "Сравните качество стратегий OvR и OvO.\n"
   ]
  },
  {
   "cell_type": "code",
   "execution_count": 13,
   "id": "6f81e8fb",
   "metadata": {},
   "outputs": [],
   "source": [
    "from sklearn.datasets import load_digits\n",
    "import matplotlib.pyplot as plt\n",
    "import seaborn as sns\n",
    "import numpy as np\n",
    "import math\n",
    "import pandas as pd\n",
    "from sklearn.metrics import confusion_matrix, precision_score, \\\n",
    "              recall_score, f1_score, precision_recall_curve, roc_curve, roc_auc_score, \\\n",
    "              auc, mean_squared_error, accuracy_score\n",
    "from sklearn.metrics import classification_report\n",
    "import seaborn as sns"
   ]
  },
  {
   "cell_type": "code",
   "execution_count": 14,
   "id": "4c420e2f",
   "metadata": {},
   "outputs": [
    {
     "data": {
      "text/plain": [
       "<function sklearn.datasets._base.load_digits(*, n_class=10, return_X_y=False, as_frame=False)>"
      ]
     },
     "execution_count": 14,
     "metadata": {},
     "output_type": "execute_result"
    }
   ],
   "source": [
    "load_digits"
   ]
  },
  {
   "cell_type": "code",
   "execution_count": 15,
   "id": "a9038f7a",
   "metadata": {},
   "outputs": [],
   "source": [
    "X_nu, y_nu = load_digits(return_X_y = True)"
   ]
  },
  {
   "cell_type": "code",
   "execution_count": 37,
   "id": "74b9b542",
   "metadata": {},
   "outputs": [
    {
     "data": {
      "text/plain": [
       "7"
      ]
     },
     "execution_count": 37,
     "metadata": {},
     "output_type": "execute_result"
    }
   ],
   "source": [
    "y[560]"
   ]
  },
  {
   "cell_type": "code",
   "execution_count": 35,
   "id": "430dda85",
   "metadata": {},
   "outputs": [],
   "source": [
    "n = 560\n",
    "x_show = X_nu[n]\n",
    "x_show = x_show.reshape(8,8)\n"
   ]
  },
  {
   "cell_type": "code",
   "execution_count": 36,
   "id": "cd5de8d7",
   "metadata": {},
   "outputs": [
    {
     "data": {
      "image/png": "[encoded data removed]",
      "text/plain": [
       "<Figure size 480x480 with 1 Axes>"
      ]
     },
     "metadata": {},
     "output_type": "display_data"
    }
   ],
   "source": [
    "\n",
    "plt.matshow(x_show)\n",
    "plt.gray()\n",
    "plt.show()"
   ]
  },
  {
   "cell_type": "code",
   "execution_count": 31,
   "id": "6d13025b",
   "metadata": {},
   "outputs": [
    {
     "data": {
      "text/html": [
       "<div>\n",
       "<style scoped>\n",
       "    .dataframe tbody tr th:only-of-type {\n",
       "        vertical-align: middle;\n",
       "    }\n",
       "\n",
       "    .dataframe tbody tr th {\n",
       "        vertical-align: top;\n",
       "    }\n",
       "\n",
       "    .dataframe thead th {\n",
       "        text-align: right;\n",
       "    }\n",
       "</style>\n",
       "<table border=\"1\" class=\"dataframe\">\n",
       "  <thead>\n",
       "    <tr style=\"text-align: right;\">\n",
       "      <th></th>\n",
       "      <th>pixel_0_0</th>\n",
       "      <th>pixel_0_1</th>\n",
       "      <th>pixel_0_2</th>\n",
       "      <th>pixel_0_3</th>\n",
       "      <th>pixel_0_4</th>\n",
       "      <th>pixel_0_5</th>\n",
       "      <th>pixel_0_6</th>\n",
       "      <th>pixel_0_7</th>\n",
       "      <th>pixel_1_0</th>\n",
       "      <th>pixel_1_1</th>\n",
       "      <th>...</th>\n",
       "      <th>pixel_6_6</th>\n",
       "      <th>pixel_6_7</th>\n",
       "      <th>pixel_7_0</th>\n",
       "      <th>pixel_7_1</th>\n",
       "      <th>pixel_7_2</th>\n",
       "      <th>pixel_7_3</th>\n",
       "      <th>pixel_7_4</th>\n",
       "      <th>pixel_7_5</th>\n",
       "      <th>pixel_7_6</th>\n",
       "      <th>pixel_7_7</th>\n",
       "    </tr>\n",
       "  </thead>\n",
       "  <tbody>\n",
       "    <tr>\n",
       "      <th>0</th>\n",
       "      <td>0.0</td>\n",
       "      <td>0.0</td>\n",
       "      <td>5.0</td>\n",
       "      <td>13.0</td>\n",
       "      <td>9.0</td>\n",
       "      <td>1.0</td>\n",
       "      <td>0.0</td>\n",
       "      <td>0.0</td>\n",
       "      <td>0.0</td>\n",
       "      <td>0.0</td>\n",
       "      <td>...</td>\n",
       "      <td>0.0</td>\n",
       "      <td>0.0</td>\n",
       "      <td>0.0</td>\n",
       "      <td>0.0</td>\n",
       "      <td>6.0</td>\n",
       "      <td>13.0</td>\n",
       "      <td>10.0</td>\n",
       "      <td>0.0</td>\n",
       "      <td>0.0</td>\n",
       "      <td>0.0</td>\n",
       "    </tr>\n",
       "    <tr>\n",
       "      <th>1</th>\n",
       "      <td>0.0</td>\n",
       "      <td>0.0</td>\n",
       "      <td>0.0</td>\n",
       "      <td>12.0</td>\n",
       "      <td>13.0</td>\n",
       "      <td>5.0</td>\n",
       "      <td>0.0</td>\n",
       "      <td>0.0</td>\n",
       "      <td>0.0</td>\n",
       "      <td>0.0</td>\n",
       "      <td>...</td>\n",
       "      <td>0.0</td>\n",
       "      <td>0.0</td>\n",
       "      <td>0.0</td>\n",
       "      <td>0.0</td>\n",
       "      <td>0.0</td>\n",
       "      <td>11.0</td>\n",
       "      <td>16.0</td>\n",
       "      <td>10.0</td>\n",
       "      <td>0.0</td>\n",
       "      <td>0.0</td>\n",
       "    </tr>\n",
       "    <tr>\n",
       "      <th>2</th>\n",
       "      <td>0.0</td>\n",
       "      <td>0.0</td>\n",
       "      <td>0.0</td>\n",
       "      <td>4.0</td>\n",
       "      <td>15.0</td>\n",
       "      <td>12.0</td>\n",
       "      <td>0.0</td>\n",
       "      <td>0.0</td>\n",
       "      <td>0.0</td>\n",
       "      <td>0.0</td>\n",
       "      <td>...</td>\n",
       "      <td>5.0</td>\n",
       "      <td>0.0</td>\n",
       "      <td>0.0</td>\n",
       "      <td>0.0</td>\n",
       "      <td>0.0</td>\n",
       "      <td>3.0</td>\n",
       "      <td>11.0</td>\n",
       "      <td>16.0</td>\n",
       "      <td>9.0</td>\n",
       "      <td>0.0</td>\n",
       "    </tr>\n",
       "    <tr>\n",
       "      <th>3</th>\n",
       "      <td>0.0</td>\n",
       "      <td>0.0</td>\n",
       "      <td>7.0</td>\n",
       "      <td>15.0</td>\n",
       "      <td>13.0</td>\n",
       "      <td>1.0</td>\n",
       "      <td>0.0</td>\n",
       "      <td>0.0</td>\n",
       "      <td>0.0</td>\n",
       "      <td>8.0</td>\n",
       "      <td>...</td>\n",
       "      <td>9.0</td>\n",
       "      <td>0.0</td>\n",
       "      <td>0.0</td>\n",
       "      <td>0.0</td>\n",
       "      <td>7.0</td>\n",
       "      <td>13.0</td>\n",
       "      <td>13.0</td>\n",
       "      <td>9.0</td>\n",
       "      <td>0.0</td>\n",
       "      <td>0.0</td>\n",
       "    </tr>\n",
       "    <tr>\n",
       "      <th>4</th>\n",
       "      <td>0.0</td>\n",
       "      <td>0.0</td>\n",
       "      <td>0.0</td>\n",
       "      <td>1.0</td>\n",
       "      <td>11.0</td>\n",
       "      <td>0.0</td>\n",
       "      <td>0.0</td>\n",
       "      <td>0.0</td>\n",
       "      <td>0.0</td>\n",
       "      <td>0.0</td>\n",
       "      <td>...</td>\n",
       "      <td>0.0</td>\n",
       "      <td>0.0</td>\n",
       "      <td>0.0</td>\n",
       "      <td>0.0</td>\n",
       "      <td>0.0</td>\n",
       "      <td>2.0</td>\n",
       "      <td>16.0</td>\n",
       "      <td>4.0</td>\n",
       "      <td>0.0</td>\n",
       "      <td>0.0</td>\n",
       "    </tr>\n",
       "    <tr>\n",
       "      <th>...</th>\n",
       "      <td>...</td>\n",
       "      <td>...</td>\n",
       "      <td>...</td>\n",
       "      <td>...</td>\n",
       "      <td>...</td>\n",
       "      <td>...</td>\n",
       "      <td>...</td>\n",
       "      <td>...</td>\n",
       "      <td>...</td>\n",
       "      <td>...</td>\n",
       "      <td>...</td>\n",
       "      <td>...</td>\n",
       "      <td>...</td>\n",
       "      <td>...</td>\n",
       "      <td>...</td>\n",
       "      <td>...</td>\n",
       "      <td>...</td>\n",
       "      <td>...</td>\n",
       "      <td>...</td>\n",
       "      <td>...</td>\n",
       "      <td>...</td>\n",
       "    </tr>\n",
       "    <tr>\n",
       "      <th>1792</th>\n",
       "      <td>0.0</td>\n",
       "      <td>0.0</td>\n",
       "      <td>4.0</td>\n",
       "      <td>10.0</td>\n",
       "      <td>13.0</td>\n",
       "      <td>6.0</td>\n",
       "      <td>0.0</td>\n",
       "      <td>0.0</td>\n",
       "      <td>0.0</td>\n",
       "      <td>1.0</td>\n",
       "      <td>...</td>\n",
       "      <td>4.0</td>\n",
       "      <td>0.0</td>\n",
       "      <td>0.0</td>\n",
       "      <td>0.0</td>\n",
       "      <td>2.0</td>\n",
       "      <td>14.0</td>\n",
       "      <td>15.0</td>\n",
       "      <td>9.0</td>\n",
       "      <td>0.0</td>\n",
       "      <td>0.0</td>\n",
       "    </tr>\n",
       "    <tr>\n",
       "      <th>1793</th>\n",
       "      <td>0.0</td>\n",
       "      <td>0.0</td>\n",
       "      <td>6.0</td>\n",
       "      <td>16.0</td>\n",
       "      <td>13.0</td>\n",
       "      <td>11.0</td>\n",
       "      <td>1.0</td>\n",
       "      <td>0.0</td>\n",
       "      <td>0.0</td>\n",
       "      <td>0.0</td>\n",
       "      <td>...</td>\n",
       "      <td>1.0</td>\n",
       "      <td>0.0</td>\n",
       "      <td>0.0</td>\n",
       "      <td>0.0</td>\n",
       "      <td>6.0</td>\n",
       "      <td>16.0</td>\n",
       "      <td>14.0</td>\n",
       "      <td>6.0</td>\n",
       "      <td>0.0</td>\n",
       "      <td>0.0</td>\n",
       "    </tr>\n",
       "    <tr>\n",
       "      <th>1794</th>\n",
       "      <td>0.0</td>\n",
       "      <td>0.0</td>\n",
       "      <td>1.0</td>\n",
       "      <td>11.0</td>\n",
       "      <td>15.0</td>\n",
       "      <td>1.0</td>\n",
       "      <td>0.0</td>\n",
       "      <td>0.0</td>\n",
       "      <td>0.0</td>\n",
       "      <td>0.0</td>\n",
       "      <td>...</td>\n",
       "      <td>0.0</td>\n",
       "      <td>0.0</td>\n",
       "      <td>0.0</td>\n",
       "      <td>0.0</td>\n",
       "      <td>2.0</td>\n",
       "      <td>9.0</td>\n",
       "      <td>13.0</td>\n",
       "      <td>6.0</td>\n",
       "      <td>0.0</td>\n",
       "      <td>0.0</td>\n",
       "    </tr>\n",
       "    <tr>\n",
       "      <th>1795</th>\n",
       "      <td>0.0</td>\n",
       "      <td>0.0</td>\n",
       "      <td>2.0</td>\n",
       "      <td>10.0</td>\n",
       "      <td>7.0</td>\n",
       "      <td>0.0</td>\n",
       "      <td>0.0</td>\n",
       "      <td>0.0</td>\n",
       "      <td>0.0</td>\n",
       "      <td>0.0</td>\n",
       "      <td>...</td>\n",
       "      <td>2.0</td>\n",
       "      <td>0.0</td>\n",
       "      <td>0.0</td>\n",
       "      <td>0.0</td>\n",
       "      <td>5.0</td>\n",
       "      <td>12.0</td>\n",
       "      <td>16.0</td>\n",
       "      <td>12.0</td>\n",
       "      <td>0.0</td>\n",
       "      <td>0.0</td>\n",
       "    </tr>\n",
       "    <tr>\n",
       "      <th>1796</th>\n",
       "      <td>0.0</td>\n",
       "      <td>0.0</td>\n",
       "      <td>10.0</td>\n",
       "      <td>14.0</td>\n",
       "      <td>8.0</td>\n",
       "      <td>1.0</td>\n",
       "      <td>0.0</td>\n",
       "      <td>0.0</td>\n",
       "      <td>0.0</td>\n",
       "      <td>2.0</td>\n",
       "      <td>...</td>\n",
       "      <td>8.0</td>\n",
       "      <td>0.0</td>\n",
       "      <td>0.0</td>\n",
       "      <td>1.0</td>\n",
       "      <td>8.0</td>\n",
       "      <td>12.0</td>\n",
       "      <td>14.0</td>\n",
       "      <td>12.0</td>\n",
       "      <td>1.0</td>\n",
       "      <td>0.0</td>\n",
       "    </tr>\n",
       "  </tbody>\n",
       "</table>\n",
       "<p>1797 rows × 64 columns</p>\n",
       "</div>"
      ],
      "text/plain": [
       "      pixel_0_0  pixel_0_1  pixel_0_2  pixel_0_3  pixel_0_4  pixel_0_5  \\\n",
       "0           0.0        0.0        5.0       13.0        9.0        1.0   \n",
       "1           0.0        0.0        0.0       12.0       13.0        5.0   \n",
       "2           0.0        0.0        0.0        4.0       15.0       12.0   \n",
       "3           0.0        0.0        7.0       15.0       13.0        1.0   \n",
       "4           0.0        0.0        0.0        1.0       11.0        0.0   \n",
       "...         ...        ...        ...        ...        ...        ...   \n",
       "1792        0.0        0.0        4.0       10.0       13.0        6.0   \n",
       "1793        0.0        0.0        6.0       16.0       13.0       11.0   \n",
       "1794        0.0        0.0        1.0       11.0       15.0        1.0   \n",
       "1795        0.0        0.0        2.0       10.0        7.0        0.0   \n",
       "1796        0.0        0.0       10.0       14.0        8.0        1.0   \n",
       "\n",
       "      pixel_0_6  pixel_0_7  pixel_1_0  pixel_1_1  ...  pixel_6_6  pixel_6_7  \\\n",
       "0           0.0        0.0        0.0        0.0  ...        0.0        0.0   \n",
       "1           0.0        0.0        0.0        0.0  ...        0.0        0.0   \n",
       "2           0.0        0.0        0.0        0.0  ...        5.0        0.0   \n",
       "3           0.0        0.0        0.0        8.0  ...        9.0        0.0   \n",
       "4           0.0        0.0        0.0        0.0  ...        0.0        0.0   \n",
       "...         ...        ...        ...        ...  ...        ...        ...   \n",
       "1792        0.0        0.0        0.0        1.0  ...        4.0        0.0   \n",
       "1793        1.0        0.0        0.0        0.0  ...        1.0        0.0   \n",
       "1794        0.0        0.0        0.0        0.0  ...        0.0        0.0   \n",
       "1795        0.0        0.0        0.0        0.0  ...        2.0        0.0   \n",
       "1796        0.0        0.0        0.0        2.0  ...        8.0        0.0   \n",
       "\n",
       "      pixel_7_0  pixel_7_1  pixel_7_2  pixel_7_3  pixel_7_4  pixel_7_5  \\\n",
       "0           0.0        0.0        6.0       13.0       10.0        0.0   \n",
       "1           0.0        0.0        0.0       11.0       16.0       10.0   \n",
       "2           0.0        0.0        0.0        3.0       11.0       16.0   \n",
       "3           0.0        0.0        7.0       13.0       13.0        9.0   \n",
       "4           0.0        0.0        0.0        2.0       16.0        4.0   \n",
       "...         ...        ...        ...        ...        ...        ...   \n",
       "1792        0.0        0.0        2.0       14.0       15.0        9.0   \n",
       "1793        0.0        0.0        6.0       16.0       14.0        6.0   \n",
       "1794        0.0        0.0        2.0        9.0       13.0        6.0   \n",
       "1795        0.0        0.0        5.0       12.0       16.0       12.0   \n",
       "1796        0.0        1.0        8.0       12.0       14.0       12.0   \n",
       "\n",
       "      pixel_7_6  pixel_7_7  \n",
       "0           0.0        0.0  \n",
       "1           0.0        0.0  \n",
       "2           9.0        0.0  \n",
       "3           0.0        0.0  \n",
       "4           0.0        0.0  \n",
       "...         ...        ...  \n",
       "1792        0.0        0.0  \n",
       "1793        0.0        0.0  \n",
       "1794        0.0        0.0  \n",
       "1795        0.0        0.0  \n",
       "1796        1.0        0.0  \n",
       "\n",
       "[1797 rows x 64 columns]"
      ]
     },
     "execution_count": 31,
     "metadata": {},
     "output_type": "execute_result"
    }
   ],
   "source": [
    "X, y = load_digits(return_X_y = True, as_frame = True)\n",
    "X"
   ]
  },
  {
   "cell_type": "code",
   "execution_count": 19,
   "id": "58db62ee",
   "metadata": {},
   "outputs": [
    {
     "data": {
      "text/plain": [
       "0       0\n",
       "1       1\n",
       "2       2\n",
       "3       3\n",
       "4       4\n",
       "       ..\n",
       "1792    9\n",
       "1793    0\n",
       "1794    8\n",
       "1795    9\n",
       "1796    8\n",
       "Name: target, Length: 1797, dtype: int32"
      ]
     },
     "execution_count": 19,
     "metadata": {},
     "output_type": "execute_result"
    }
   ],
   "source": [
    "y"
   ]
  },
  {
   "cell_type": "code",
   "execution_count": null,
   "id": "5cd1ffc9",
   "metadata": {},
   "outputs": [],
   "source": []
  },
  {
   "cell_type": "code",
   "execution_count": 21,
   "id": "b5f95c5e",
   "metadata": {},
   "outputs": [],
   "source": [
    "from sklearn.linear_model import SGDClassifier\n",
    "SGDclf = SGDClassifier (random_state = 42)"
   ]
  },
  {
   "cell_type": "code",
   "execution_count": 32,
   "id": "10cc24f8",
   "metadata": {},
   "outputs": [
    {
     "data": {
      "text/plain": [
       "SGDClassifier(random_state=42)"
      ]
     },
     "execution_count": 32,
     "metadata": {},
     "output_type": "execute_result"
    }
   ],
   "source": [
    "SGDclf.fit(X,y)"
   ]
  },
  {
   "cell_type": "code",
   "execution_count": 33,
   "id": "c6dcd158",
   "metadata": {},
   "outputs": [
    {
     "data": {
      "text/plain": [
       "0.9699499165275459"
      ]
     },
     "execution_count": 33,
     "metadata": {},
     "output_type": "execute_result"
    }
   ],
   "source": [
    "SGDclf.score(X,y)"
   ]
  },
  {
   "cell_type": "code",
   "execution_count": 38,
   "id": "49d93ac1",
   "metadata": {},
   "outputs": [],
   "source": [
    "pred = SGDclf.predict(X)"
   ]
  },
  {
   "cell_type": "code",
   "execution_count": 12,
   "id": "bbc02c0d",
   "metadata": {},
   "outputs": [
    {
     "data": {
      "image/png": "[encoded data removed]",
      "text/plain": [
       "<Figure size 640x480 with 1 Axes>"
      ]
     },
     "metadata": {},
     "output_type": "display_data"
    }
   ],
   "source": [
    "y_y = pd.Series(y).value_counts()\n",
    "sns.barplot(x=y_y.index, y=y_y.values);"
   ]
  },
  {
   "cell_type": "markdown",
   "id": "feb81365",
   "metadata": {},
   "source": [
    "Ввиду практически  идеального баланса классов, метрика micro avg является выбором\n",
    "\n"
   ]
  },
  {
   "cell_type": "code",
   "execution_count": 39,
   "id": "36bf4f93",
   "metadata": {
    "scrolled": true
   },
   "outputs": [
    {
     "name": "stdout",
     "output_type": "stream",
     "text": [
      "              precision    recall  f1-score   support\n",
      "\n",
      "           0       1.00      1.00      1.00       178\n",
      "           1       0.99      0.90      0.94       182\n",
      "           2       0.99      0.99      0.99       177\n",
      "           3       0.99      0.91      0.95       183\n",
      "           4       1.00      0.96      0.98       181\n",
      "           5       0.97      0.99      0.98       182\n",
      "           6       0.99      0.99      0.99       181\n",
      "           7       0.99      0.98      0.98       179\n",
      "           8       0.85      0.99      0.92       174\n",
      "           9       0.94      0.98      0.96       180\n",
      "\n",
      "    accuracy                           0.97      1797\n",
      "   macro avg       0.97      0.97      0.97      1797\n",
      "weighted avg       0.97      0.97      0.97      1797\n",
      " [[178   0   0   0   0   0   0   0   0   0]\n",
      " [  0 164   1   1   0   0   0   0  14   2]\n",
      " [  0   0 176   0   0   0   0   0   1   0]\n",
      " [  0   0   0 166   0   5   0   1   8   3]\n",
      " [  0   1   0   0 174   1   1   1   1   2]\n",
      " [  0   0   0   0   0 180   0   0   1   1]\n",
      " [  0   0   0   0   0   0 180   0   1   0]\n",
      " [  0   0   0   0   0   0   0 175   1   3]\n",
      " [  0   1   0   0   0   0   0   0 173   0]\n",
      " [  0   0   0   0   0   0   0   0   3 177]]\n"
     ]
    }
   ],
   "source": [
    "cm = confusion_matrix(y, pred)\n",
    "print(classification_report(y, pred), cm)"
   ]
  },
  {
   "cell_type": "markdown",
   "id": "88e59991",
   "metadata": {},
   "source": [
    "## неплохая точность, хотя судить еще нельзя "
   ]
  },
  {
   "cell_type": "code",
   "execution_count": 40,
   "id": "54996b5c",
   "metadata": {},
   "outputs": [],
   "source": [
    "from sklearn.multiclass import OneVsOneClassifier "
   ]
  },
  {
   "cell_type": "code",
   "execution_count": 50,
   "id": "d534ae99",
   "metadata": {},
   "outputs": [
    {
     "data": {
      "text/plain": [
       "OneVsOneClassifier(estimator=SGDClassifier(random_state=42))"
      ]
     },
     "execution_count": 50,
     "metadata": {},
     "output_type": "execute_result"
    }
   ],
   "source": [
    "ovoSGD = OneVsOneClassifier(SGDClassifier(random_state = 42))\n",
    "ovoSGD.fit(X,y) "
   ]
  },
  {
   "cell_type": "code",
   "execution_count": 51,
   "id": "e9e76ba1",
   "metadata": {},
   "outputs": [],
   "source": [
    "pred_new1 = ovoSGD.predict(X)\n",
    "cm_new1 = confusion_matrix(y, pred_new1)"
   ]
  },
  {
   "cell_type": "code",
   "execution_count": 52,
   "id": "9d2adcee",
   "metadata": {},
   "outputs": [
    {
     "name": "stdout",
     "output_type": "stream",
     "text": [
      "              precision    recall  f1-score   support\n",
      "\n",
      "           0       1.00      1.00      1.00       178\n",
      "           1       1.00      1.00      1.00       182\n",
      "           2       1.00      1.00      1.00       177\n",
      "           3       1.00      1.00      1.00       183\n",
      "           4       1.00      1.00      1.00       181\n",
      "           5       1.00      1.00      1.00       182\n",
      "           6       1.00      1.00      1.00       181\n",
      "           7       1.00      1.00      1.00       179\n",
      "           8       1.00      1.00      1.00       174\n",
      "           9       1.00      1.00      1.00       180\n",
      "\n",
      "    accuracy                           1.00      1797\n",
      "   macro avg       1.00      1.00      1.00      1797\n",
      "weighted avg       1.00      1.00      1.00      1797\n",
      " [[178   0   0   0   0   0   0   0   0   0]\n",
      " [  0 182   0   0   0   0   0   0   0   0]\n",
      " [  0   0 177   0   0   0   0   0   0   0]\n",
      " [  0   0   0 183   0   0   0   0   0   0]\n",
      " [  0   0   0   0 181   0   0   0   0   0]\n",
      " [  0   0   0   0   0 182   0   0   0   0]\n",
      " [  0   0   0   0   0   0 181   0   0   0]\n",
      " [  0   0   0   0   0   0   0 179   0   0]\n",
      " [  0   0   0   0   0   0   0   0 174   0]\n",
      " [  0   0   0   0   0   0   0   0   0 180]]\n"
     ]
    }
   ],
   "source": [
    "print(classification_report(y, pred_new1), cm_new1)"
   ]
  },
  {
   "cell_type": "code",
   "execution_count": null,
   "id": "ba11b071",
   "metadata": {},
   "outputs": [],
   "source": []
  },
  {
   "cell_type": "markdown",
   "id": "95b31d4c",
   "metadata": {},
   "source": [
    "## Подозрительно хорошо \n",
    "# проверим"
   ]
  },
  {
   "cell_type": "code",
   "execution_count": 53,
   "id": "7ed57a67",
   "metadata": {},
   "outputs": [],
   "source": [
    "X_train = X.iloc[:1500] \n",
    "y_train = y.iloc[:1500]\n",
    "X_pred = X.iloc[1500:]\n",
    "y_pred = y.iloc[1500:]"
   ]
  },
  {
   "cell_type": "code",
   "execution_count": 56,
   "id": "1d43ecfd",
   "metadata": {},
   "outputs": [
    {
     "data": {
      "text/plain": [
       "OneVsOneClassifier(estimator=SGDClassifier(random_state=42))"
      ]
     },
     "execution_count": 56,
     "metadata": {},
     "output_type": "execute_result"
    }
   ],
   "source": [
    "newovoSGD = OneVsOneClassifier(SGDClassifier(random_state = 42))\n",
    "newovoSGD.fit(X_train,y_train)"
   ]
  },
  {
   "cell_type": "code",
   "execution_count": 57,
   "id": "cbfa1da9",
   "metadata": {},
   "outputs": [],
   "source": [
    "pred_new_pred1 = newovoSGD.predict(X_pred)\n",
    "cm_new_pred = confusion_matrix(y_pred, pred_new_pred1)\n"
   ]
  },
  {
   "cell_type": "code",
   "execution_count": 58,
   "id": "fb418f49",
   "metadata": {},
   "outputs": [
    {
     "name": "stdout",
     "output_type": "stream",
     "text": [
      "              precision    recall  f1-score   support\n",
      "\n",
      "           0       1.00      0.93      0.96        27\n",
      "           1       0.89      1.00      0.94        31\n",
      "           2       1.00      1.00      1.00        27\n",
      "           3       0.96      0.83      0.89        30\n",
      "           4       0.97      0.91      0.94        33\n",
      "           5       0.97      1.00      0.98        30\n",
      "           6       0.97      0.97      0.97        30\n",
      "           7       0.96      0.90      0.93        30\n",
      "           8       0.84      0.93      0.88        28\n",
      "           9       0.88      0.94      0.91        31\n",
      "\n",
      "    accuracy                           0.94       297\n",
      "   macro avg       0.94      0.94      0.94       297\n",
      "weighted avg       0.94      0.94      0.94       297\n",
      " [[25  0  0  0  1  0  1  0  0  0]\n",
      " [ 0 31  0  0  0  0  0  0  0  0]\n",
      " [ 0  0 27  0  0  0  0  0  0  0]\n",
      " [ 0  1  0 25  0  1  0  1  2  0]\n",
      " [ 0  0  0  0 30  0  0  0  0  3]\n",
      " [ 0  0  0  0  0 30  0  0  0  0]\n",
      " [ 0  1  0  0  0  0 29  0  0  0]\n",
      " [ 0  0  0  0  0  0  0 27  3  0]\n",
      " [ 0  1  0  0  0  0  0  0 26  1]\n",
      " [ 0  1  0  1  0  0  0  0  0 29]]\n"
     ]
    }
   ],
   "source": [
    "print(classification_report(y_pred, pred_new_pred1),cm_new_pred)"
   ]
  },
  {
   "cell_type": "markdown",
   "id": "439d91da",
   "metadata": {},
   "source": [
    "## проверим градиентный спуск "
   ]
  },
  {
   "cell_type": "code",
   "execution_count": 60,
   "id": "3ad49edd",
   "metadata": {},
   "outputs": [
    {
     "data": {
      "text/plain": [
       "SGDClassifier(random_state=42)"
      ]
     },
     "execution_count": 60,
     "metadata": {},
     "output_type": "execute_result"
    }
   ],
   "source": [
    "newSGDclf = SGDClassifier (random_state = 42)\n",
    "newSGDclf.fit(X_train,y_train)"
   ]
  },
  {
   "cell_type": "code",
   "execution_count": 61,
   "id": "3e3eaeea",
   "metadata": {},
   "outputs": [],
   "source": [
    "new_pred = newSGDclf.predict(X_pred)\n",
    "matr_conf = cm = confusion_matrix(y_pred, new_pred)"
   ]
  },
  {
   "cell_type": "code",
   "execution_count": 63,
   "id": "29262612",
   "metadata": {},
   "outputs": [
    {
     "name": "stdout",
     "output_type": "stream",
     "text": [
      "              precision    recall  f1-score   support\n",
      "\n",
      "           0       1.00      0.93      0.96        27\n",
      "           1       0.81      0.94      0.87        31\n",
      "           2       1.00      1.00      1.00        27\n",
      "           3       0.71      0.67      0.69        30\n",
      "           4       0.94      0.91      0.92        33\n",
      "           5       0.91      1.00      0.95        30\n",
      "           6       0.97      1.00      0.98        30\n",
      "           7       0.90      0.93      0.92        30\n",
      "           8       0.78      0.89      0.83        28\n",
      "           9       0.86      0.61      0.72        31\n",
      "\n",
      "    accuracy                           0.89       297\n",
      "   macro avg       0.89      0.89      0.88       297\n",
      "weighted avg       0.89      0.89      0.88       297\n",
      " [[25  0  0  0  1  0  1  0  0  0]\n",
      " [ 0 29  0  2  0  0  0  0  0  0]\n",
      " [ 0  0 27  0  0  0  0  0  0  0]\n",
      " [ 0  1  0 20  0  3  0  2  4  0]\n",
      " [ 0  0  0  0 30  0  0  0  0  3]\n",
      " [ 0  0  0  0  0 30  0  0  0  0]\n",
      " [ 0  0  0  0  0  0 30  0  0  0]\n",
      " [ 0  1  0  0  0  0  0 28  1  0]\n",
      " [ 0  2  0  0  1  0  0  0 25  0]\n",
      " [ 0  3  0  6  0  0  0  1  2 19]]\n"
     ]
    }
   ],
   "source": [
    "print(classification_report(y_pred, new_pred), matr_conf)"
   ]
  },
  {
   "cell_type": "markdown",
   "id": "81998129",
   "metadata": {},
   "source": [
    "## OVO справился получше , чем SGD и DecisionTreeClassifier\n",
    "\n",
    "\n",
    "#   SGD  9 принимает за другие цифры  \n",
    "\n",
    "# c 3 такая же беда "
   ]
  },
  {
   "cell_type": "code",
   "execution_count": 65,
   "id": "b6da8aeb",
   "metadata": {},
   "outputs": [
    {
     "data": {
      "text/plain": [
       "DecisionTreeClassifier(random_state=42)"
      ]
     },
     "execution_count": 65,
     "metadata": {},
     "output_type": "execute_result"
    }
   ],
   "source": [
    "from sklearn.tree import DecisionTreeClassifier\n",
    "clf = DecisionTreeClassifier(random_state=42)\n",
    "clf.fit(X_train,y_train)"
   ]
  },
  {
   "cell_type": "code",
   "execution_count": 66,
   "id": "4dcb8b60",
   "metadata": {},
   "outputs": [],
   "source": [
    "clf_pred = clf.predict(X_pred)"
   ]
  },
  {
   "cell_type": "code",
   "execution_count": 67,
   "id": "9a8af32c",
   "metadata": {},
   "outputs": [],
   "source": [
    "conf_matr = confusion_matrix(y_pred, clf_pred)"
   ]
  },
  {
   "cell_type": "code",
   "execution_count": 68,
   "id": "10f4cce2",
   "metadata": {},
   "outputs": [
    {
     "name": "stdout",
     "output_type": "stream",
     "text": [
      "              precision    recall  f1-score   support\n",
      "\n",
      "           0       0.90      0.96      0.93        27\n",
      "           1       0.77      0.65      0.70        31\n",
      "           2       0.74      0.74      0.74        27\n",
      "           3       0.60      0.50      0.55        30\n",
      "           4       0.85      0.85      0.85        33\n",
      "           5       0.70      0.87      0.78        30\n",
      "           6       0.93      0.83      0.88        30\n",
      "           7       0.64      0.83      0.72        30\n",
      "           8       0.56      0.50      0.53        28\n",
      "           9       0.79      0.74      0.77        31\n",
      "\n",
      "    accuracy                           0.75       297\n",
      "   macro avg       0.75      0.75      0.74       297\n",
      "weighted avg       0.75      0.75      0.74       297\n",
      " [[26  0  0  0  0  0  0  1  0  0]\n",
      " [ 0 20  3  1  1  0  0  0  5  1]\n",
      " [ 2  0 20  2  0  0  0  2  1  0]\n",
      " [ 0  2  1 15  1  3  0  6  2  0]\n",
      " [ 0  0  0  0 28  0  1  2  0  2]\n",
      " [ 0  0  1  1  0 26  1  0  0  1]\n",
      " [ 0  0  1  0  1  1 25  0  2  0]\n",
      " [ 0  0  0  3  0  1  0 25  0  1]\n",
      " [ 1  2  1  2  2  4  0  1 14  1]\n",
      " [ 0  2  0  1  0  2  0  2  1 23]]\n"
     ]
    }
   ],
   "source": [
    "print(classification_report(y_pred, clf_pred), conf_matr)"
   ]
  },
  {
   "cell_type": "markdown",
   "id": "2047ebf1",
   "metadata": {},
   "source": [
    "# Было интересно, как справится дерево, дерево вообще не справилось\n"
   ]
  },
  {
   "cell_type": "code",
   "execution_count": null,
   "id": "e8de8e02",
   "metadata": {},
   "outputs": [],
   "source": []
  },
  {
   "cell_type": "code",
   "execution_count": null,
   "id": "04443df2",
   "metadata": {},
   "outputs": [],
   "source": []
  }
 ],
 "metadata": {
  "kernelspec": {
   "display_name": "Python 3 (ipykernel)",
   "language": "python",
   "name": "python3"
  },
  "language_info": {
   "codemirror_mode": {
    "name": "ipython",
    "version": 3
   },
   "file_extension": ".py",
   "mimetype": "text/x-python",
   "name": "python",
   "nbconvert_exporter": "python",
   "pygments_lexer": "ipython3",
   "version": "3.9.13"
  }
 },
 "nbformat": 4,
 "nbformat_minor": 5
}
