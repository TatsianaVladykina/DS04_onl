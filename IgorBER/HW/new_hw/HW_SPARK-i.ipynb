{
 "cells": [
  {
   "cell_type": "code",
   "execution_count": 62,
   "metadata": {},
   "outputs": [
    {
     "name": "stdout",
     "output_type": "stream",
     "text": [
      "Untitled-1.ipynb    cardiovascular.txt:Zone.Identifier  output.csv\n",
      "cardiovascular.txt  \u001b[0m\u001b[01;34mminiconda3\u001b[0m/\n"
     ]
    }
   ],
   "source": [
    "ls"
   ]
  },
  {
   "cell_type": "code",
   "execution_count": 139,
   "metadata": {},
   "outputs": [],
   "source": [
    "from pyspark.sql import SparkSession"
   ]
  },
  {
   "cell_type": "code",
   "execution_count": 246,
   "metadata": {},
   "outputs": [],
   "source": [
    "spark = SparkSession.builder.master('local').appName('PySpark_HW').getOrCreate()"
   ]
  },
  {
   "cell_type": "code",
   "execution_count": 247,
   "metadata": {},
   "outputs": [],
   "source": [
    "from pyspark.pandas import read_csv\n"
   ]
  },
  {
   "cell_type": "code",
   "execution_count": 248,
   "metadata": {},
   "outputs": [
    {
     "name": "stdout",
     "output_type": "stream",
     "text": [
      "root\n",
      " |-- _c0: integer (nullable = true)\n",
      " |-- ind: integer (nullable = true)\n",
      " |-- sbp: integer (nullable = true)\n",
      " |-- tobacco: double (nullable = true)\n",
      " |-- ldl: double (nullable = true)\n",
      " |-- adiposity: double (nullable = true)\n",
      " |-- famhist: string (nullable = true)\n",
      " |-- typea: integer (nullable = true)\n",
      " |-- obesity: double (nullable = true)\n",
      " |-- alcohol: double (nullable = true)\n",
      " |-- age: integer (nullable = true)\n",
      " |-- chd: integer (nullable = true)\n",
      "\n"
     ]
    }
   ],
   "source": [
    "\n",
    "df = spark.read.csv('output.csv', header = True, inferSchema = True)\n",
    "df.printSchema()"
   ]
  },
  {
   "cell_type": "code",
   "execution_count": 249,
   "metadata": {},
   "outputs": [],
   "source": [
    "df = df.drop(\"_c0\")\n"
   ]
  },
  {
   "cell_type": "code",
   "execution_count": 250,
   "metadata": {},
   "outputs": [
    {
     "name": "stdout",
     "output_type": "stream",
     "text": [
      "+---+---+-------+----+---------+-------+-----+-------+-------+---+---+\n",
      "|ind|sbp|tobacco| ldl|adiposity|famhist|typea|obesity|alcohol|age|chd|\n",
      "+---+---+-------+----+---------+-------+-----+-------+-------+---+---+\n",
      "|  1|160|   12.0|5.73|    23.11|Present|   49|   25.3|   97.2| 52|  1|\n",
      "|  2|144|   0.01|4.41|    28.61| Absent|   55|  28.87|   2.06| 63|  1|\n",
      "+---+---+-------+----+---------+-------+-----+-------+-------+---+---+\n",
      "only showing top 2 rows\n",
      "\n"
     ]
    }
   ],
   "source": [
    "df.show(2)"
   ]
  },
  {
   "cell_type": "code",
   "execution_count": 251,
   "metadata": {},
   "outputs": [],
   "source": [
    "import pyspark.sql.functions as F"
   ]
  },
  {
   "cell_type": "code",
   "execution_count": 252,
   "metadata": {},
   "outputs": [
    {
     "name": "stdout",
     "output_type": "stream",
     "text": [
      "c курением в анамнезе - 108\n",
      " без курения в анамнезе - 354\n"
     ]
    }
   ],
   "source": [
    "smo = df.filter(F.col('tobacco')<= 0.01).count()\n",
    "nosmo = df.filter(F.col('tobacco')> 0.01).count()\n",
    "print(f'c курением в анамнезе - {smo}\\n без курения в анамнезе - {nosmo}')"
   ]
  },
  {
   "cell_type": "code",
   "execution_count": 253,
   "metadata": {},
   "outputs": [],
   "source": [
    "df = df.withColumn(\"tob/year\", F.col('tobacco') / F.col('age'))\n"
   ]
  },
  {
   "cell_type": "code",
   "execution_count": 254,
   "metadata": {},
   "outputs": [
    {
     "name": "stdout",
     "output_type": "stream",
     "text": [
      "+---+---+-------+----+---------+-------+-----+-------+-------+---+---+--------------------+\n",
      "|ind|sbp|tobacco| ldl|adiposity|famhist|typea|obesity|alcohol|age|chd|            tob/year|\n",
      "+---+---+-------+----+---------+-------+-----+-------+-------+---+---+--------------------+\n",
      "|  1|160|   12.0|5.73|    23.11|Present|   49|   25.3|   97.2| 52|  1| 0.23076923076923078|\n",
      "|  2|144|   0.01|4.41|    28.61| Absent|   55|  28.87|   2.06| 63|  1|1.587301587301587...|\n",
      "|  3|118|   0.08|3.48|    32.28|Present|   52|  29.14|   3.81| 46|  0|0.001739130434782...|\n",
      "+---+---+-------+----+---------+-------+-----+-------+-------+---+---+--------------------+\n",
      "only showing top 3 rows\n",
      "\n"
     ]
    }
   ],
   "source": [
    "df.show(3)"
   ]
  },
  {
   "cell_type": "code",
   "execution_count": 255,
   "metadata": {},
   "outputs": [],
   "source": [
    "from pyspark.ml.feature import StringIndexer, VectorAssembler\n"
   ]
  },
  {
   "cell_type": "code",
   "execution_count": 256,
   "metadata": {},
   "outputs": [
    {
     "name": "stdout",
     "output_type": "stream",
     "text": [
      "+---+---+-------+----+---------+-------+-----+-------+-------+---+---+--------------------+---------+\n",
      "|ind|sbp|tobacco| ldl|adiposity|famhist|typea|obesity|alcohol|age|chd|            tob/year|famehist2|\n",
      "+---+---+-------+----+---------+-------+-----+-------+-------+---+---+--------------------+---------+\n",
      "|  1|160|   12.0|5.73|    23.11|Present|   49|   25.3|   97.2| 52|  1| 0.23076923076923078|      1.0|\n",
      "|  2|144|   0.01|4.41|    28.61| Absent|   55|  28.87|   2.06| 63|  1|1.587301587301587...|      0.0|\n",
      "|  3|118|   0.08|3.48|    32.28|Present|   52|  29.14|   3.81| 46|  0|0.001739130434782...|      1.0|\n",
      "|  4|170|    7.5|6.41|    38.03|Present|   51|  31.99|  24.26| 58|  1| 0.12931034482758622|      1.0|\n",
      "|  5|134|   13.6| 3.5|    27.78|Present|   60|  25.99|  57.34| 49|  1| 0.27755102040816326|      1.0|\n",
      "+---+---+-------+----+---------+-------+-----+-------+-------+---+---+--------------------+---------+\n",
      "only showing top 5 rows\n",
      "\n"
     ]
    }
   ],
   "source": [
    "label_stringIdx = StringIndexer(inputCol = 'famhist', outputCol = 'famehist2')\n",
    "df = label_stringIdx.fit(df).transform(df)\n",
    "df.show(5)"
   ]
  },
  {
   "cell_type": "code",
   "execution_count": 257,
   "metadata": {},
   "outputs": [
    {
     "name": "stdout",
     "output_type": "stream",
     "text": [
      "+---+---+-------+----+---------+-------+-----+-------+-------+---+---+--------------------+---------+--------------------+\n",
      "|ind|sbp|tobacco| ldl|adiposity|famhist|typea|obesity|alcohol|age|chd|            tob/year|famehist2|            features|\n",
      "+---+---+-------+----+---------+-------+-----+-------+-------+---+---+--------------------+---------+--------------------+\n",
      "|  1|160|   12.0|5.73|    23.11|Present|   49|   25.3|   97.2| 52|  1| 0.23076923076923078|      1.0|[160.0,12.0,5.73,...|\n",
      "|  2|144|   0.01|4.41|    28.61| Absent|   55|  28.87|   2.06| 63|  1|1.587301587301587...|      0.0|[144.0,0.01,4.41,...|\n",
      "|  3|118|   0.08|3.48|    32.28|Present|   52|  29.14|   3.81| 46|  0|0.001739130434782...|      1.0|[118.0,0.08,3.48,...|\n",
      "|  4|170|    7.5|6.41|    38.03|Present|   51|  31.99|  24.26| 58|  1| 0.12931034482758622|      1.0|[170.0,7.5,6.41,3...|\n",
      "|  5|134|   13.6| 3.5|    27.78|Present|   60|  25.99|  57.34| 49|  1| 0.27755102040816326|      1.0|[134.0,13.6,3.5,2...|\n",
      "+---+---+-------+----+---------+-------+-----+-------+-------+---+---+--------------------+---------+--------------------+\n",
      "only showing top 5 rows\n",
      "\n"
     ]
    }
   ],
   "source": [
    "numericCols = ['sbp', 'tobacco', 'ldl', 'adiposity','famehist2','typea','obesity','alcohol','age','tob/year']\n",
    "assembler = VectorAssembler(inputCols=numericCols, outputCol=\"features\")\n",
    "df = assembler.transform(df)\n",
    "df.show(5)"
   ]
  },
  {
   "cell_type": "code",
   "execution_count": 258,
   "metadata": {},
   "outputs": [],
   "source": [
    "train, test = df.randomSplit([0.8, 0.2], seed = 20)"
   ]
  },
  {
   "cell_type": "code",
   "execution_count": 259,
   "metadata": {},
   "outputs": [],
   "source": [
    "from pyspark.ml.evaluation import MulticlassClassificationEvaluator"
   ]
  },
  {
   "cell_type": "code",
   "execution_count": 260,
   "metadata": {},
   "outputs": [
    {
     "name": "stdout",
     "output_type": "stream",
     "text": [
      "accuracy = 0.7016666666666668%\n"
     ]
    }
   ],
   "source": [
    "from pyspark.ml.classification import RandomForestClassifier\n",
    "rf = RandomForestClassifier(featuresCol = 'features', labelCol = 'chd')\n",
    "rfModel = rf.fit(train)\n",
    "predictions = rfModel.transform(test)\n",
    "evaluator = MulticlassClassificationEvaluator(labelCol=\"chd\", predictionCol=\"prediction\")\n",
    "accuracy = evaluator.evaluate(predictions)\n",
    "print(f'accuracy = {accuracy}%')"
   ]
  },
  {
   "cell_type": "code",
   "execution_count": null,
   "metadata": {},
   "outputs": [],
   "source": []
  },
  {
   "cell_type": "code",
   "execution_count": null,
   "metadata": {},
   "outputs": [],
   "source": []
  },
  {
   "cell_type": "code",
   "execution_count": null,
   "metadata": {},
   "outputs": [],
   "source": []
  }
 ],
 "metadata": {
  "kernelspec": {
   "display_name": "spark",
   "language": "python",
   "name": "python3"
  },
  "language_info": {
   "codemirror_mode": {
    "name": "ipython",
    "version": 3
   },
   "file_extension": ".py",
   "mimetype": "text/x-python",
   "name": "python",
   "nbconvert_exporter": "python",
   "pygments_lexer": "ipython3",
   "version": "3.10.12"
  },
  "orig_nbformat": 4
 },
 "nbformat": 4,
 "nbformat_minor": 2
}
