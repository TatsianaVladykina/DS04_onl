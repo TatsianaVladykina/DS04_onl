{
 "cells": [
  {
   "cell_type": "markdown",
   "id": "87942096",
   "metadata": {},
   "source": [
    "В приложенном файле хранятся обучающий набор для модели линейной регресии\n",
    "последний столбец файла содернжит значения целевой фкнкции.\n",
    "1. Прочитайте данные из файла в nympy-массив с помощью функции np.loadtxt('linreg_4.txt')\n",
    "2. Отделите независимые переменные от целевой переменной\n",
    "3. адаптируйте написанный на уроке код градиентного спуска для нахождения коэффициентов линейной модели\n",
    "вида y = h0 + h1*x1 + h2*x2 + h3*x3\n",
    "4. Найдите коэффициенты h методом градиентного спуска.\n"
   ]
  },
  {
   "cell_type": "code",
   "execution_count": 55,
   "id": "f922a6ed",
   "metadata": {},
   "outputs": [],
   "source": [
    "import numpy as np\n",
    "import numpy as np\n",
    "from matplotlib import pyplot as plt\n",
    "import math\n",
    "\n",
    "data = np.loadtxt('linreg_4.txt')"
   ]
  },
  {
   "cell_type": "code",
   "execution_count": 56,
   "id": "188098c2",
   "metadata": {},
   "outputs": [],
   "source": [
    "data\n",
    "#y = h0 + h1x1 + h2x2 + h3*x3\n",
    "y = data[:,3]\n",
    "x1 = data[:,0]\n",
    "x2 = data[:,1]\n",
    "x3 = data[:,2]\n",
    "#print(f'\\n\\t{y} \\n\\t{x1}\\n\\t{x2}\\n\\t{x3}')"
   ]
  },
  {
   "cell_type": "code",
   "execution_count": 58,
   "id": "5bb183a8",
   "metadata": {},
   "outputs": [],
   "source": [
    "x1 = x1.reshape(100,1)\n",
    "x2 = x2.reshape(100,1)\n",
    "x3 = x3.reshape(100,1)\n",
    "y = y.reshape(100,1)"
   ]
  },
  {
   "cell_type": "code",
   "execution_count": 60,
   "id": "6af11700",
   "metadata": {},
   "outputs": [
    {
     "data": {
      "text/plain": [
       "(100, 4)"
      ]
     },
     "execution_count": 60,
     "metadata": {},
     "output_type": "execute_result"
    }
   ],
   "source": [
    "X_b = np.c_[np.ones((100,1)),x1,x2,x3] \n",
    "X_b.shape\n"
   ]
  },
  {
   "cell_type": "code",
   "execution_count": 63,
   "id": "ee5c4d1a",
   "metadata": {},
   "outputs": [],
   "source": [
    "lr = 0.001 # скорость обучения\n",
    "iters = 1000\n",
    "m = 100\n",
    "\n",
    "h = np.random.randn(4,1) # инициализация\n",
    "\n",
    "# поиск\n",
    "for i in range(iters):\n",
    "    gradient = (2/m)*X_b.T @ (X_b @ h - y)\n",
    "    h = h - lr * gradient"
   ]
  },
  {
   "cell_type": "code",
   "execution_count": 64,
   "id": "ab1c0a54",
   "metadata": {},
   "outputs": [
    {
     "data": {
      "text/plain": [
       "array([[ 2.45388438],\n",
       "       [ 2.60820979],\n",
       "       [-0.07135754],\n",
       "       [ 3.21980625]])"
      ]
     },
     "execution_count": 64,
     "metadata": {},
     "output_type": "execute_result"
    }
   ],
   "source": [
    "h"
   ]
  },
  {
   "cell_type": "code",
   "execution_count": null,
   "id": "ea416843",
   "metadata": {},
   "outputs": [],
   "source": []
  }
 ],
 "metadata": {
  "kernelspec": {
   "display_name": "Python 3 (ipykernel)",
   "language": "python",
   "name": "python3"
  },
  "language_info": {
   "codemirror_mode": {
    "name": "ipython",
    "version": 3
   },
   "file_extension": ".py",
   "mimetype": "text/x-python",
   "name": "python",
   "nbconvert_exporter": "python",
   "pygments_lexer": "ipython3",
   "version": "3.9.13"
  }
 },
 "nbformat": 4,
 "nbformat_minor": 5
}
